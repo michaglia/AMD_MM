{
  "cells": [
    {
      "cell_type": "markdown",
      "metadata": {
        "id": "Cgu5sXFOyeXQ"
      },
      "source": [
        "# Algorithms for Massive Data\n",
        "\n",
        "\n",
        "Project Finding Similar Items\n",
        "\n",
        "\n",
        "Michela Mazzaglia academic year 2023/2024"
      ]
    },
    {
      "cell_type": "markdown",
      "metadata": {
        "id": "3UYT36l9zKaM"
      },
      "source": [
        "## Importing libraries"
      ]
    },
    {
      "cell_type": "code",
      "execution_count": null,
      "metadata": {
        "colab": {
          "base_uri": "https://localhost:8080/"
        },
        "id": "1Y3WDvffms6L",
        "outputId": "642aae7f-e913-4d02-e8e1-a905c4936565"
      },
      "outputs": [
        {
          "output_type": "stream",
          "name": "stdout",
          "text": [
            "Collecting pyspark\n",
            "  Downloading pyspark-3.5.1.tar.gz (317.0 MB)\n",
            "\u001b[2K     \u001b[90m━━━━━━━━━━━━━━━━━━━━━━━━━━━━━━━━━━━━━━━━\u001b[0m \u001b[32m317.0/317.0 MB\u001b[0m \u001b[31m3.8 MB/s\u001b[0m eta \u001b[36m0:00:00\u001b[0m\n",
            "\u001b[?25h  Preparing metadata (setup.py) ... \u001b[?25l\u001b[?25hdone\n",
            "Requirement already satisfied: py4j==0.10.9.7 in /usr/local/lib/python3.10/dist-packages (from pyspark) (0.10.9.7)\n",
            "Building wheels for collected packages: pyspark\n",
            "  Building wheel for pyspark (setup.py) ... \u001b[?25l\u001b[?25hdone\n",
            "  Created wheel for pyspark: filename=pyspark-3.5.1-py2.py3-none-any.whl size=317488491 sha256=feb75d9b66993a85e2f14c37b4cbe6bef5bf469b3c0801b8e0825e0d94451e4c\n",
            "  Stored in directory: /root/.cache/pip/wheels/80/1d/60/2c256ed38dddce2fdd93be545214a63e02fbd8d74fb0b7f3a6\n",
            "Successfully built pyspark\n",
            "Installing collected packages: pyspark\n",
            "Successfully installed pyspark-3.5.1\n"
          ]
        }
      ],
      "source": [
        "pip install pyspark"
      ]
    },
    {
      "cell_type": "code",
      "execution_count": null,
      "metadata": {
        "colab": {
          "base_uri": "https://localhost:8080/"
        },
        "id": "L53ps9OZrfbA",
        "outputId": "55d2f222-832b-435e-dcf1-ffd3e1357515"
      },
      "outputs": [
        {
          "output_type": "stream",
          "name": "stdout",
          "text": [
            "Collecting findspark\n",
            "  Downloading findspark-2.0.1-py2.py3-none-any.whl (4.4 kB)\n",
            "Installing collected packages: findspark\n",
            "Successfully installed findspark-2.0.1\n"
          ]
        }
      ],
      "source": [
        "pip install findspark"
      ]
    },
    {
      "cell_type": "code",
      "execution_count": null,
      "metadata": {
        "colab": {
          "base_uri": "https://localhost:8080/",
          "height": 221
        },
        "id": "DnZBxBhbiMtE",
        "outputId": "c7bd4c94-6e52-4a24-90e7-79f2ea8325a6"
      },
      "outputs": [
        {
          "output_type": "execute_result",
          "data": {
            "text/plain": [
              "<pyspark.sql.session.SparkSession at 0x7b9a79ee47c0>"
            ],
            "text/html": [
              "\n",
              "            <div>\n",
              "                <p><b>SparkSession - in-memory</b></p>\n",
              "                \n",
              "        <div>\n",
              "            <p><b>SparkContext</b></p>\n",
              "\n",
              "            <p><a href=\"http://13630838827d:4040\">Spark UI</a></p>\n",
              "\n",
              "            <dl>\n",
              "              <dt>Version</dt>\n",
              "                <dd><code>v3.5.1</code></dd>\n",
              "              <dt>Master</dt>\n",
              "                <dd><code>local[*]</code></dd>\n",
              "              <dt>AppName</dt>\n",
              "                <dd><code>pyspark-shell</code></dd>\n",
              "            </dl>\n",
              "        </div>\n",
              "        \n",
              "            </div>\n",
              "        "
            ]
          },
          "metadata": {},
          "execution_count": 3
        }
      ],
      "source": [
        "import pyspark\n",
        "import findspark\n",
        "from pyspark.sql import SparkSession\n",
        "\n",
        "spark = SparkSession.builder.master(\"local[*]\").getOrCreate()\n",
        "spark"
      ]
    },
    {
      "cell_type": "code",
      "execution_count": null,
      "metadata": {
        "id": "_fctGHFInO8p"
      },
      "outputs": [],
      "source": [
        "! pip install -q kaggle"
      ]
    },
    {
      "cell_type": "code",
      "execution_count": null,
      "metadata": {
        "colab": {
          "base_uri": "https://localhost:8080/"
        },
        "id": "a7mx96DnAv4V",
        "outputId": "50be44ec-4620-44ac-f895-e6d807da112a"
      },
      "outputs": [
        {
          "output_type": "stream",
          "name": "stdout",
          "text": [
            "Requirement already satisfied: pyspark in /usr/local/lib/python3.10/dist-packages (3.5.1)\n",
            "Requirement already satisfied: nltk in /usr/local/lib/python3.10/dist-packages (3.8.1)\n",
            "Requirement already satisfied: py4j==0.10.9.7 in /usr/local/lib/python3.10/dist-packages (from pyspark) (0.10.9.7)\n",
            "Requirement already satisfied: click in /usr/local/lib/python3.10/dist-packages (from nltk) (8.1.7)\n",
            "Requirement already satisfied: joblib in /usr/local/lib/python3.10/dist-packages (from nltk) (1.4.2)\n",
            "Requirement already satisfied: regex>=2021.8.3 in /usr/local/lib/python3.10/dist-packages (from nltk) (2024.5.15)\n",
            "Requirement already satisfied: tqdm in /usr/local/lib/python3.10/dist-packages (from nltk) (4.66.4)\n"
          ]
        }
      ],
      "source": [
        "pip install pyspark nltk"
      ]
    },
    {
      "cell_type": "code",
      "execution_count": null,
      "metadata": {
        "id": "_Vg5_SZQBTo-"
      },
      "outputs": [],
      "source": [
        "import numpy as np\n",
        "import pandas as pd\n",
        "import re, math\n",
        "import nltk\n",
        "from pyspark.sql.functions import udf, length, expr, regexp_extract, collect_list\n",
        "from pyspark.sql.types import StructType, StructField, StringType, LongType\n",
        "from pyspark.sql.functions import monotonically_increasing_id, regexp_replace, col, split, size, concat_ws\n",
        "from pyspark.ml.linalg import Vectors, DenseVector, VectorUDT\n",
        "from pyspark.ml.feature import MinHashLSH, HashingTF\n",
        "import random\n",
        "from sympy import nextprime"
      ]
    },
    {
      "cell_type": "markdown",
      "metadata": {
        "id": "sw6iadABzV9V"
      },
      "source": [
        "## Uploading the dataset"
      ]
    },
    {
      "cell_type": "code",
      "execution_count": null,
      "metadata": {
        "id": "0tffiZwBnuiG"
      },
      "outputs": [],
      "source": [
        "from google.colab import files\n",
        "\n",
        "files.upload() # upload your kaggle api key"
      ]
    },
    {
      "cell_type": "code",
      "execution_count": null,
      "metadata": {
        "id": "MTmTZw7inE3T"
      },
      "outputs": [],
      "source": [
        "! mkdir ~/.kaggle\n",
        "\n",
        "! cp kaggle.json ~/.kaggle/"
      ]
    },
    {
      "cell_type": "code",
      "execution_count": null,
      "metadata": {
        "id": "QIHxIdY-n4oY"
      },
      "outputs": [],
      "source": [
        "! chmod 600 ~/.kaggle/kaggle.json"
      ]
    },
    {
      "cell_type": "code",
      "execution_count": null,
      "metadata": {
        "colab": {
          "base_uri": "https://localhost:8080/"
        },
        "id": "auoJ04U-n7Ok",
        "outputId": "890e2bf2-2598-4645-c9bd-6802c852d9a2"
      },
      "outputs": [
        {
          "output_type": "stream",
          "name": "stdout",
          "text": [
            "Dataset URL: https://www.kaggle.com/datasets/asaniczka/1-3m-linkedin-jobs-and-skills-2024\n",
            "License(s): ODC Attribution License (ODC-By)\n",
            "Downloading 1-3m-linkedin-jobs-and-skills-2024.zip to /content\n",
            "100% 1.87G/1.88G [00:30<00:00, 87.5MB/s]\n",
            "100% 1.88G/1.88G [00:30<00:00, 65.4MB/s]\n"
          ]
        }
      ],
      "source": [
        "!kaggle datasets download -d asaniczka/1-3m-linkedin-jobs-and-skills-2024"
      ]
    },
    {
      "cell_type": "code",
      "execution_count": null,
      "metadata": {
        "id": "CcXCQbsXzgkL"
      },
      "outputs": [],
      "source": [
        "!unzip -q ./1-3m-linkedin-jobs-and-skills-2024.zip -d ."
      ]
    },
    {
      "cell_type": "code",
      "execution_count": null,
      "metadata": {
        "id": "s3tlOwX9Oqq-"
      },
      "outputs": [],
      "source": [
        "sc = spark.sparkContext"
      ]
    },
    {
      "cell_type": "markdown",
      "metadata": {
        "id": "Wz7htdabyaZ6"
      },
      "source": [
        "## Data Cleaning & Preprocessing"
      ]
    },
    {
      "cell_type": "code",
      "execution_count": null,
      "metadata": {
        "id": "Lb00f_bHMwvL"
      },
      "outputs": [],
      "source": [
        "df_0 = pd.read_csv('/content/job_summary.csv')"
      ]
    },
    {
      "cell_type": "code",
      "execution_count": null,
      "metadata": {
        "colab": {
          "base_uri": "https://localhost:8080/",
          "height": 424
        },
        "id": "KFTppokKNeVa",
        "outputId": "30a0617c-e77c-427f-e99e-3c3cf5f171a2"
      },
      "outputs": [
        {
          "output_type": "execute_result",
          "data": {
            "text/plain": [
              "                                                  job_link  \\\n",
              "0        https://www.linkedin.com/jobs/view/restaurant-...   \n",
              "1        https://www.linkedin.com/jobs/view/med-surg-re...   \n",
              "2        https://www.linkedin.com/jobs/view/registered-...   \n",
              "3        https://uk.linkedin.com/jobs/view/commercial-a...   \n",
              "4        https://www.linkedin.com/jobs/view/store-manag...   \n",
              "...                                                    ...   \n",
              "1297327  https://www.linkedin.com/jobs/view/roofing-sup...   \n",
              "1297328  https://www.linkedin.com/jobs/view/service-cen...   \n",
              "1297329  https://www.linkedin.com/jobs/view/flight-qual...   \n",
              "1297330  https://www.linkedin.com/jobs/view/global-sour...   \n",
              "1297331  https://www.linkedin.com/jobs/view/research-as...   \n",
              "\n",
              "                                               job_summary  \n",
              "0        Rock N Roll Sushi is hiring a Restaurant Manag...  \n",
              "1        Schedule\\n: PRN is required minimum 12 hours p...  \n",
              "2        Description\\nIntroduction\\nAre you looking for...  \n",
              "3        Commercial account executive\\nSheffield\\nFull ...  \n",
              "4        Address:\\nUSA-CT-Newington-44 Fenn Road\\nStore...  \n",
              "...                                                    ...  \n",
              "1297327  We are currently seeking experienced commercia...  \n",
              "1297328  Overview\\nStable and growing organization\\nCom...  \n",
              "1297329  Rôle et responsabilités\\nJob Description:\\nFli...  \n",
              "1297330  Job Description\\nAre You Ready to Make It Happ...  \n",
              "1297331  Current Employees:\\nIf you are a current Staff...  \n",
              "\n",
              "[1297332 rows x 2 columns]"
            ],
            "text/html": [
              "\n",
              "  <div id=\"df-ad461f17-c7bc-48e7-8504-dfb758e58ca3\" class=\"colab-df-container\">\n",
              "    <div>\n",
              "<style scoped>\n",
              "    .dataframe tbody tr th:only-of-type {\n",
              "        vertical-align: middle;\n",
              "    }\n",
              "\n",
              "    .dataframe tbody tr th {\n",
              "        vertical-align: top;\n",
              "    }\n",
              "\n",
              "    .dataframe thead th {\n",
              "        text-align: right;\n",
              "    }\n",
              "</style>\n",
              "<table border=\"1\" class=\"dataframe\">\n",
              "  <thead>\n",
              "    <tr style=\"text-align: right;\">\n",
              "      <th></th>\n",
              "      <th>job_link</th>\n",
              "      <th>job_summary</th>\n",
              "    </tr>\n",
              "  </thead>\n",
              "  <tbody>\n",
              "    <tr>\n",
              "      <th>0</th>\n",
              "      <td>https://www.linkedin.com/jobs/view/restaurant-...</td>\n",
              "      <td>Rock N Roll Sushi is hiring a Restaurant Manag...</td>\n",
              "    </tr>\n",
              "    <tr>\n",
              "      <th>1</th>\n",
              "      <td>https://www.linkedin.com/jobs/view/med-surg-re...</td>\n",
              "      <td>Schedule\\n: PRN is required minimum 12 hours p...</td>\n",
              "    </tr>\n",
              "    <tr>\n",
              "      <th>2</th>\n",
              "      <td>https://www.linkedin.com/jobs/view/registered-...</td>\n",
              "      <td>Description\\nIntroduction\\nAre you looking for...</td>\n",
              "    </tr>\n",
              "    <tr>\n",
              "      <th>3</th>\n",
              "      <td>https://uk.linkedin.com/jobs/view/commercial-a...</td>\n",
              "      <td>Commercial account executive\\nSheffield\\nFull ...</td>\n",
              "    </tr>\n",
              "    <tr>\n",
              "      <th>4</th>\n",
              "      <td>https://www.linkedin.com/jobs/view/store-manag...</td>\n",
              "      <td>Address:\\nUSA-CT-Newington-44 Fenn Road\\nStore...</td>\n",
              "    </tr>\n",
              "    <tr>\n",
              "      <th>...</th>\n",
              "      <td>...</td>\n",
              "      <td>...</td>\n",
              "    </tr>\n",
              "    <tr>\n",
              "      <th>1297327</th>\n",
              "      <td>https://www.linkedin.com/jobs/view/roofing-sup...</td>\n",
              "      <td>We are currently seeking experienced commercia...</td>\n",
              "    </tr>\n",
              "    <tr>\n",
              "      <th>1297328</th>\n",
              "      <td>https://www.linkedin.com/jobs/view/service-cen...</td>\n",
              "      <td>Overview\\nStable and growing organization\\nCom...</td>\n",
              "    </tr>\n",
              "    <tr>\n",
              "      <th>1297329</th>\n",
              "      <td>https://www.linkedin.com/jobs/view/flight-qual...</td>\n",
              "      <td>Rôle et responsabilités\\nJob Description:\\nFli...</td>\n",
              "    </tr>\n",
              "    <tr>\n",
              "      <th>1297330</th>\n",
              "      <td>https://www.linkedin.com/jobs/view/global-sour...</td>\n",
              "      <td>Job Description\\nAre You Ready to Make It Happ...</td>\n",
              "    </tr>\n",
              "    <tr>\n",
              "      <th>1297331</th>\n",
              "      <td>https://www.linkedin.com/jobs/view/research-as...</td>\n",
              "      <td>Current Employees:\\nIf you are a current Staff...</td>\n",
              "    </tr>\n",
              "  </tbody>\n",
              "</table>\n",
              "<p>1297332 rows × 2 columns</p>\n",
              "</div>\n",
              "    <div class=\"colab-df-buttons\">\n",
              "\n",
              "  <div class=\"colab-df-container\">\n",
              "    <button class=\"colab-df-convert\" onclick=\"convertToInteractive('df-ad461f17-c7bc-48e7-8504-dfb758e58ca3')\"\n",
              "            title=\"Convert this dataframe to an interactive table.\"\n",
              "            style=\"display:none;\">\n",
              "\n",
              "  <svg xmlns=\"http://www.w3.org/2000/svg\" height=\"24px\" viewBox=\"0 -960 960 960\">\n",
              "    <path d=\"M120-120v-720h720v720H120Zm60-500h600v-160H180v160Zm220 220h160v-160H400v160Zm0 220h160v-160H400v160ZM180-400h160v-160H180v160Zm440 0h160v-160H620v160ZM180-180h160v-160H180v160Zm440 0h160v-160H620v160Z\"/>\n",
              "  </svg>\n",
              "    </button>\n",
              "\n",
              "  <style>\n",
              "    .colab-df-container {\n",
              "      display:flex;\n",
              "      gap: 12px;\n",
              "    }\n",
              "\n",
              "    .colab-df-convert {\n",
              "      background-color: #E8F0FE;\n",
              "      border: none;\n",
              "      border-radius: 50%;\n",
              "      cursor: pointer;\n",
              "      display: none;\n",
              "      fill: #1967D2;\n",
              "      height: 32px;\n",
              "      padding: 0 0 0 0;\n",
              "      width: 32px;\n",
              "    }\n",
              "\n",
              "    .colab-df-convert:hover {\n",
              "      background-color: #E2EBFA;\n",
              "      box-shadow: 0px 1px 2px rgba(60, 64, 67, 0.3), 0px 1px 3px 1px rgba(60, 64, 67, 0.15);\n",
              "      fill: #174EA6;\n",
              "    }\n",
              "\n",
              "    .colab-df-buttons div {\n",
              "      margin-bottom: 4px;\n",
              "    }\n",
              "\n",
              "    [theme=dark] .colab-df-convert {\n",
              "      background-color: #3B4455;\n",
              "      fill: #D2E3FC;\n",
              "    }\n",
              "\n",
              "    [theme=dark] .colab-df-convert:hover {\n",
              "      background-color: #434B5C;\n",
              "      box-shadow: 0px 1px 3px 1px rgba(0, 0, 0, 0.15);\n",
              "      filter: drop-shadow(0px 1px 2px rgba(0, 0, 0, 0.3));\n",
              "      fill: #FFFFFF;\n",
              "    }\n",
              "  </style>\n",
              "\n",
              "    <script>\n",
              "      const buttonEl =\n",
              "        document.querySelector('#df-ad461f17-c7bc-48e7-8504-dfb758e58ca3 button.colab-df-convert');\n",
              "      buttonEl.style.display =\n",
              "        google.colab.kernel.accessAllowed ? 'block' : 'none';\n",
              "\n",
              "      async function convertToInteractive(key) {\n",
              "        const element = document.querySelector('#df-ad461f17-c7bc-48e7-8504-dfb758e58ca3');\n",
              "        const dataTable =\n",
              "          await google.colab.kernel.invokeFunction('convertToInteractive',\n",
              "                                                    [key], {});\n",
              "        if (!dataTable) return;\n",
              "\n",
              "        const docLinkHtml = 'Like what you see? Visit the ' +\n",
              "          '<a target=\"_blank\" href=https://colab.research.google.com/notebooks/data_table.ipynb>data table notebook</a>'\n",
              "          + ' to learn more about interactive tables.';\n",
              "        element.innerHTML = '';\n",
              "        dataTable['output_type'] = 'display_data';\n",
              "        await google.colab.output.renderOutput(dataTable, element);\n",
              "        const docLink = document.createElement('div');\n",
              "        docLink.innerHTML = docLinkHtml;\n",
              "        element.appendChild(docLink);\n",
              "      }\n",
              "    </script>\n",
              "  </div>\n",
              "\n",
              "\n",
              "<div id=\"df-d291d2a2-edba-4024-951d-f93e67a853f3\">\n",
              "  <button class=\"colab-df-quickchart\" onclick=\"quickchart('df-d291d2a2-edba-4024-951d-f93e67a853f3')\"\n",
              "            title=\"Suggest charts\"\n",
              "            style=\"display:none;\">\n",
              "\n",
              "<svg xmlns=\"http://www.w3.org/2000/svg\" height=\"24px\"viewBox=\"0 0 24 24\"\n",
              "     width=\"24px\">\n",
              "    <g>\n",
              "        <path d=\"M19 3H5c-1.1 0-2 .9-2 2v14c0 1.1.9 2 2 2h14c1.1 0 2-.9 2-2V5c0-1.1-.9-2-2-2zM9 17H7v-7h2v7zm4 0h-2V7h2v10zm4 0h-2v-4h2v4z\"/>\n",
              "    </g>\n",
              "</svg>\n",
              "  </button>\n",
              "\n",
              "<style>\n",
              "  .colab-df-quickchart {\n",
              "      --bg-color: #E8F0FE;\n",
              "      --fill-color: #1967D2;\n",
              "      --hover-bg-color: #E2EBFA;\n",
              "      --hover-fill-color: #174EA6;\n",
              "      --disabled-fill-color: #AAA;\n",
              "      --disabled-bg-color: #DDD;\n",
              "  }\n",
              "\n",
              "  [theme=dark] .colab-df-quickchart {\n",
              "      --bg-color: #3B4455;\n",
              "      --fill-color: #D2E3FC;\n",
              "      --hover-bg-color: #434B5C;\n",
              "      --hover-fill-color: #FFFFFF;\n",
              "      --disabled-bg-color: #3B4455;\n",
              "      --disabled-fill-color: #666;\n",
              "  }\n",
              "\n",
              "  .colab-df-quickchart {\n",
              "    background-color: var(--bg-color);\n",
              "    border: none;\n",
              "    border-radius: 50%;\n",
              "    cursor: pointer;\n",
              "    display: none;\n",
              "    fill: var(--fill-color);\n",
              "    height: 32px;\n",
              "    padding: 0;\n",
              "    width: 32px;\n",
              "  }\n",
              "\n",
              "  .colab-df-quickchart:hover {\n",
              "    background-color: var(--hover-bg-color);\n",
              "    box-shadow: 0 1px 2px rgba(60, 64, 67, 0.3), 0 1px 3px 1px rgba(60, 64, 67, 0.15);\n",
              "    fill: var(--button-hover-fill-color);\n",
              "  }\n",
              "\n",
              "  .colab-df-quickchart-complete:disabled,\n",
              "  .colab-df-quickchart-complete:disabled:hover {\n",
              "    background-color: var(--disabled-bg-color);\n",
              "    fill: var(--disabled-fill-color);\n",
              "    box-shadow: none;\n",
              "  }\n",
              "\n",
              "  .colab-df-spinner {\n",
              "    border: 2px solid var(--fill-color);\n",
              "    border-color: transparent;\n",
              "    border-bottom-color: var(--fill-color);\n",
              "    animation:\n",
              "      spin 1s steps(1) infinite;\n",
              "  }\n",
              "\n",
              "  @keyframes spin {\n",
              "    0% {\n",
              "      border-color: transparent;\n",
              "      border-bottom-color: var(--fill-color);\n",
              "      border-left-color: var(--fill-color);\n",
              "    }\n",
              "    20% {\n",
              "      border-color: transparent;\n",
              "      border-left-color: var(--fill-color);\n",
              "      border-top-color: var(--fill-color);\n",
              "    }\n",
              "    30% {\n",
              "      border-color: transparent;\n",
              "      border-left-color: var(--fill-color);\n",
              "      border-top-color: var(--fill-color);\n",
              "      border-right-color: var(--fill-color);\n",
              "    }\n",
              "    40% {\n",
              "      border-color: transparent;\n",
              "      border-right-color: var(--fill-color);\n",
              "      border-top-color: var(--fill-color);\n",
              "    }\n",
              "    60% {\n",
              "      border-color: transparent;\n",
              "      border-right-color: var(--fill-color);\n",
              "    }\n",
              "    80% {\n",
              "      border-color: transparent;\n",
              "      border-right-color: var(--fill-color);\n",
              "      border-bottom-color: var(--fill-color);\n",
              "    }\n",
              "    90% {\n",
              "      border-color: transparent;\n",
              "      border-bottom-color: var(--fill-color);\n",
              "    }\n",
              "  }\n",
              "</style>\n",
              "\n",
              "  <script>\n",
              "    async function quickchart(key) {\n",
              "      const quickchartButtonEl =\n",
              "        document.querySelector('#' + key + ' button');\n",
              "      quickchartButtonEl.disabled = true;  // To prevent multiple clicks.\n",
              "      quickchartButtonEl.classList.add('colab-df-spinner');\n",
              "      try {\n",
              "        const charts = await google.colab.kernel.invokeFunction(\n",
              "            'suggestCharts', [key], {});\n",
              "      } catch (error) {\n",
              "        console.error('Error during call to suggestCharts:', error);\n",
              "      }\n",
              "      quickchartButtonEl.classList.remove('colab-df-spinner');\n",
              "      quickchartButtonEl.classList.add('colab-df-quickchart-complete');\n",
              "    }\n",
              "    (() => {\n",
              "      let quickchartButtonEl =\n",
              "        document.querySelector('#df-d291d2a2-edba-4024-951d-f93e67a853f3 button');\n",
              "      quickchartButtonEl.style.display =\n",
              "        google.colab.kernel.accessAllowed ? 'block' : 'none';\n",
              "    })();\n",
              "  </script>\n",
              "</div>\n",
              "    </div>\n",
              "  </div>\n"
            ],
            "application/vnd.google.colaboratory.intrinsic+json": {
              "type": "dataframe",
              "variable_name": "df_0"
            }
          },
          "metadata": {},
          "execution_count": 168
        }
      ],
      "source": [
        "df_0"
      ]
    },
    {
      "cell_type": "code",
      "execution_count": null,
      "metadata": {
        "colab": {
          "base_uri": "https://localhost:8080/",
          "height": 143
        },
        "id": "iFWYETU_N9sx",
        "outputId": "e997407e-120c-4e99-8938-515248cc6662"
      },
      "outputs": [
        {
          "output_type": "execute_result",
          "data": {
            "text/plain": [
              "'Description\\nIntroduction\\nAre you looking for a place to deliver excellent care patients deserve? At StoneSprings Hospital Center we support our colleagues in their positions. Join our Team as a(an) Registered Nurse Cath Lab and access programs to assist with every stage of your career.\\nBenefits\\nStoneSprings Hospital Center, offers a total rewards package that supports the health, life, career and retirement of our colleagues. The available plans and programs include:\\nComprehensive medical coverage that covers many common services at no cost or for a low copay. Plans include prescription drug and behavioral health coverage as well as free telemedicine services and free AirMed medical transportation.\\nAdditional options for dental and vision benefits, life and disability coverage, flexible spending accounts, supplemental health protection plans (accident, critical illness, hospital indemnity), auto and home insurance, identity theft protection, legal counseling, long-term care coverage, moving assistance, pet insurance and more.\\nFree counseling services and resources for emotional, physical and financial wellbeing\\n401(k) Plan with a 100% match on 3% to 9% of pay (based on years of service)\\nEmployee Stock Purchase Plan with 10% off HCA Healthcare stock\\nFamily support through fertility and family building benefits with Progyny and adoption assistance.\\nReferral services for child, elder and pet care, home and auto repair, event planning and more\\nConsumer discounts through Abenity and Consumer Discounts\\nRetirement readiness, rollover assistance services and preferred banking partnerships\\nEducation assistance (tuition, student loan, certification support, dependent scholarships)\\nColleague recognition program\\nTime Away From Work Program (paid time off, paid family leave, long- and short-term disability coverage and leaves of absence)\\nEmployee Health Assistance Fund that offers free employee-only coverage to full-time and part-time colleagues based on income.\\nLearn More About Employee Benefits\\nNote: Eligibility for benefits may vary by location.\\nAre you a continuous learner? With more than 94,000 nurses throughout HCA Healthcare, we are one of the largest employers of nurses in the United States. Education is key to excellence! As a majority owner of Galen College of Nursing, which joins Research College of Nursing and Mercy School of Nursing as educational facilities within the HCA Healthcare family, we make it easier and more affordable to gain certifications and job skills. Apply today for our Registered Nurse Cath Lab opening and continue to learn!\\nAs a Registered Nurse (RN) in the Cardiac Catheterization Lab, we see about Cath lab and Intentional Radiology patients. We provide the highest level of care from the onset of symptoms through diagnosis and treatment. Our team provides care for patients providing information, assisting with complications, administering medication, guidance and hands-on care.\\nAs a member of our team your will be responsible for assessing, planning, implementing, evaluating and documenting all aspects of patient care.\\nYou will work closely with all health care providers to facilitate and coordinate efficient, effective, quality health care including patient discharge.\\nOur team interprets patient information and makes decisions about necessary actions.\\nAs a member of our team, you will coordinate a patient’s discharge planning needs with members of the healthcare team.\\nAdvanced Cardiac Life Spt must be obtained within 90 days of employment start date\\nBasic Cardiac Life Support must be obtained within 30 days of employment start date\\nRegistered Nurse\\nRegistered Nurse Diploma\\nStoneSprings Hospital Center\\nhas provided quality healthcare services since 2015. We give patient\\'s access to trained physicians and advanced technology. Our\\n120+ bed hospital\\nis one of the region\\'s leading acute care facilities in Loudoun County. Our medical services includes a full-service 24/7 Emergency Department, orthopedics, advanced heart and vascular care, extensive diagnostic imaging and interventional radiology capabilities, minimally invasive robotic surgery and maternal/child health.\\nAt StoneSprings Hospital Center, our care like family culture extends to our patients, our people and our community. We are committed to each other because when we join together, our patients are cared for in the safest and most compassionate way.\\nHCA Healthcare has been recognized as one of the World’s Most Ethical Companies® by the Ethisphere Institute more than ten times. In recent years, HCA Healthcare spent an estimated $3.7 billion in cost for the delivery of charitable care, uninsured discounts, and other uncompensated expenses.\\n\"Good people beget good people.\"- Dr. Thomas Frist, Sr.\\nHCA Healthcare Co-Founder\\nIf growth and continued learning is important to you, we encourage you to apply for our Registered Nurse Cath Lab opening. Our team will promptly review your application. Highly qualified candidates will be contacted for interviews.\\nUnlock the possibilities apply today!\\nWe are an equal opportunity employer and value diversity at our company. We do not discriminate on the basis of race, religion, color, national origin, gender, sexual orientation, age, marital status, veteran status, or disability status.\\nShow more\\nShow less'"
            ],
            "application/vnd.google.colaboratory.intrinsic+json": {
              "type": "string"
            }
          },
          "metadata": {},
          "execution_count": 169
        }
      ],
      "source": [
        "df_0['job_summary'][2]"
      ]
    },
    {
      "cell_type": "markdown",
      "metadata": {
        "id": "hcKVFRUogUo5"
      },
      "source": [
        "Spark"
      ]
    },
    {
      "cell_type": "code",
      "execution_count": null,
      "metadata": {
        "id": "LnW9eu9yboFk"
      },
      "outputs": [],
      "source": [
        "schema = StructType([\n",
        "    StructField(\"job_link\", StringType(), True),\n",
        "    StructField(\"job_summary\", StringType(), True)\n",
        "])"
      ]
    },
    {
      "cell_type": "code",
      "execution_count": null,
      "metadata": {
        "colab": {
          "base_uri": "https://localhost:8080/"
        },
        "id": "XiQeoI4RZLSs",
        "outputId": "a7fb1e11-b91e-4973-b6c4-1af2777a16a7"
      },
      "outputs": [
        {
          "output_type": "stream",
          "name": "stdout",
          "text": [
            "+--------------------+--------------------+\n",
            "|            job_link|         job_summary|\n",
            "+--------------------+--------------------+\n",
            "|https://www.linke...|Rock N Roll Sushi...|\n",
            "|https://www.linke...|Schedule\\n: PRN i...|\n",
            "|https://www.linke...|\"Description\\nInt...|\n",
            "|HCA Healthcare Co...|                NULL|\n",
            "|If growth and con...| we encourage you...|\n",
            "|Unlock the possib...|                NULL|\n",
            "|We are an equal o...|            religion|\n",
            "|           Show more|                NULL|\n",
            "|          Show less\"|                NULL|\n",
            "|https://uk.linked...|Commercial accoun...|\n",
            "|https://www.linke...|Address:\\nUSA-CT-...|\n",
            "|https://www.linke...|Description\\nOur\\...|\n",
            "|https://www.linke...|Company Descripti...|\n",
            "|https://uk.linked...|An exciting oppor...|\n",
            "|https://www.linke...|Job Details:\\nJob...|\n",
            "|https://www.linke...|Our\\nRestaurant T...|\n",
            "|https://www.linke...|Our General Manag...|\n",
            "|https://www.linke...|Earning potential...|\n",
            "|https://www.linke...|Dollar General Co...|\n",
            "|https://au.linked...|Restaurant Descri...|\n",
            "+--------------------+--------------------+\n",
            "only showing top 20 rows\n",
            "\n",
            "root\n",
            " |-- job_link: string (nullable = true)\n",
            " |-- job_summary: string (nullable = true)\n",
            "\n"
          ]
        }
      ],
      "source": [
        "spark_df = spark.read.csv(\n",
        "    '/content/job_summary.csv',\n",
        "    header=True,\n",
        "    schema=schema,\n",
        "    sep=',',       # Specify the delimiter\n",
        "    quote='\"',     # Handle quotes properly\n",
        "    escape='\\\\',   # Handle escape characters\n",
        "    multiLine=True # Handle multiline fields\n",
        ")\n",
        "\n",
        "spark_df.show()\n",
        "spark_df.printSchema()"
      ]
    },
    {
      "cell_type": "code",
      "execution_count": null,
      "metadata": {
        "id": "jxvBd1A-Dt9I"
      },
      "outputs": [],
      "source": [
        "spark_df = spark_df.dropna(subset=['job_summary'])"
      ]
    },
    {
      "cell_type": "code",
      "execution_count": null,
      "metadata": {
        "id": "Lfb7K5fCsdS3"
      },
      "outputs": [],
      "source": [
        "spark_df = spark_df.withColumn('job_summary', regexp_replace(col('job_summary'), '\\n', ' '))"
      ]
    },
    {
      "cell_type": "code",
      "execution_count": null,
      "metadata": {
        "id": "KI-CWbRBVMfp"
      },
      "outputs": [],
      "source": [
        "spark_df = spark_df.withColumn('job_words', split(col('job_summary'), ' '))"
      ]
    },
    {
      "cell_type": "code",
      "execution_count": null,
      "metadata": {
        "id": "7X8NZ_yzVqFW"
      },
      "outputs": [],
      "source": [
        "spark_df = spark_df.filter(size(col('job_words')) > 4)"
      ]
    },
    {
      "cell_type": "code",
      "execution_count": null,
      "metadata": {
        "id": "8MbV-I6nTJrZ"
      },
      "outputs": [],
      "source": [
        "spark_df = spark_df.select('job_words').withColumn('doc_id', monotonically_increasing_id())"
      ]
    },
    {
      "cell_type": "code",
      "execution_count": null,
      "metadata": {
        "colab": {
          "base_uri": "https://localhost:8080/"
        },
        "id": "LJ-orygPGehM",
        "outputId": "f8612842-f639-4c20-a827-100d6f23b938"
      },
      "outputs": [
        {
          "output_type": "stream",
          "name": "stdout",
          "text": [
            "+--------------------+------+\n",
            "|           job_words|doc_id|\n",
            "+--------------------+------+\n",
            "|[Rock, N, Roll, S...|     0|\n",
            "|[Schedule, :, PRN...|     1|\n",
            "|[\"Description, In...|     2|\n",
            "|[, we, encourage,...|     3|\n",
            "|[Commercial, acco...|     4|\n",
            "|[Address:, USA-CT...|     5|\n",
            "|[Description, Our...|     6|\n",
            "|[Company, Descrip...|     7|\n",
            "|[An, exciting, op...|     8|\n",
            "|[Job, Details:, J...|     9|\n",
            "|[Our, Restaurant,...|    10|\n",
            "|[Our, General, Ma...|    11|\n",
            "|[Earning, potenti...|    12|\n",
            "|[Dollar, General,...|    13|\n",
            "|[Restaurant, Desc...|    14|\n",
            "|[Who, We, Are, We...|    15|\n",
            "|[A, Place, Where,...|    16|\n",
            "|[Description, The...|    17|\n",
            "|[\"Overview, Descr...|    18|\n",
            "|[, seat, them, at...|    19|\n",
            "+--------------------+------+\n",
            "only showing top 20 rows\n",
            "\n"
          ]
        }
      ],
      "source": [
        "spark_df.show()"
      ]
    },
    {
      "cell_type": "code",
      "execution_count": null,
      "metadata": {
        "id": "SQMVPstdKvOH"
      },
      "outputs": [],
      "source": [
        "df_scaled = spark_df.sample(withReplacement=True, fraction=0.00002, seed=42)"
      ]
    },
    {
      "cell_type": "code",
      "execution_count": null,
      "metadata": {
        "id": "X_VDhAnG6hJT"
      },
      "outputs": [],
      "source": [
        "df_scaled = df_scaled.limit(2000)"
      ]
    },
    {
      "cell_type": "code",
      "execution_count": null,
      "metadata": {
        "id": "Sx-fS2_q4put"
      },
      "outputs": [],
      "source": [
        "df_scaled = df_scaled.withColumn('job_words', concat_ws(' ', col('job_words')))"
      ]
    },
    {
      "cell_type": "markdown",
      "metadata": {
        "id": "9KXcnOmb99XU"
      },
      "source": [
        "## Preprocessing"
      ]
    },
    {
      "cell_type": "code",
      "execution_count": null,
      "metadata": {
        "colab": {
          "base_uri": "https://localhost:8080/"
        },
        "id": "2GUReuVb9-zT",
        "outputId": "8615f972-50aa-4734-83de-c7594283b053"
      },
      "outputs": [
        {
          "output_type": "stream",
          "name": "stderr",
          "text": [
            "[nltk_data] Downloading package stopwords to /root/nltk_data...\n",
            "[nltk_data]   Unzipping corpora/stopwords.zip.\n",
            "[nltk_data] Downloading package punkt to /root/nltk_data...\n",
            "[nltk_data]   Unzipping tokenizers/punkt.zip.\n"
          ]
        }
      ],
      "source": [
        "nltk.download('stopwords')\n",
        "nltk.download('punkt')\n",
        "stopwords = set(nltk.corpus.stopwords.words('english'))"
      ]
    },
    {
      "cell_type": "code",
      "execution_count": null,
      "metadata": {
        "id": "yvUMW6t3yF7t"
      },
      "outputs": [],
      "source": [
        "def preprocess_text(text):\n",
        "    text = text.lower()\n",
        "    text = re.sub(r'\\s+', ' ', text)  # Remove extra whitespace\n",
        "    text = re.sub(r'[^\\w\\s]', '', text)  # Remove punctuation\n",
        "    tokens = nltk.word_tokenize(text)\n",
        "    tokens = [word for word in tokens if word not in stopwords]  # Remove stopwords\n",
        "    return ' '.join(tokens)"
      ]
    },
    {
      "cell_type": "code",
      "execution_count": null,
      "metadata": {
        "id": "ZhAAxaGSR9T_"
      },
      "outputs": [],
      "source": [
        "df_udf = udf(preprocess_text, StringType())"
      ]
    },
    {
      "cell_type": "code",
      "execution_count": null,
      "metadata": {
        "id": "-rTkieEf3Me4"
      },
      "outputs": [],
      "source": [
        "rdd = df_scaled.select('doc_id', 'job_words').rdd.map(lambda row: (row['doc_id'], preprocess_text(row['job_words'])))"
      ]
    },
    {
      "cell_type": "code",
      "execution_count": null,
      "metadata": {
        "colab": {
          "base_uri": "https://localhost:8080/"
        },
        "id": "BmGP1aP71AkS",
        "outputId": "a45e49cf-2900-4a22-8ca4-8b8a5e00e08a"
      },
      "outputs": [
        {
          "output_type": "stream",
          "name": "stdout",
          "text": [
            "+------+--------------------+\n",
            "|    _1|                  _2|\n",
            "+------+--------------------+\n",
            "| 13395|grass greener sec...|\n",
            "| 34993|client childrens ...|\n",
            "| 47677|possess valid cla...|\n",
            "|104317|details signon bo...|\n",
            "|143336|parttime intermit...|\n",
            "|152380|conference center...|\n",
            "|218886|northern tier hig...|\n",
            "|242951|experience corps ...|\n",
            "|278072|win sport school ...|\n",
            "|455372|immediate start e...|\n",
            "|459748|northrop grumman ...|\n",
            "|464892|5000 sign bonus e...|\n",
            "|525916|job summary irb c...|\n",
            "|544349|45 pounds heavy c...|\n",
            "|584862|sensitive compart...|\n",
            "|608814|llcs development ...|\n",
            "|684947|looking derivativ...|\n",
            "|756249|overview job summ...|\n",
            "|898066|focus remains fir...|\n",
            "|912495|position features...|\n",
            "+------+--------------------+\n",
            "only showing top 20 rows\n",
            "\n"
          ]
        }
      ],
      "source": [
        "rdd.toDF().show()"
      ]
    },
    {
      "cell_type": "markdown",
      "metadata": {
        "id": "uvKyO6IMqLf9"
      },
      "source": [
        "### Shingles"
      ]
    },
    {
      "cell_type": "code",
      "execution_count": null,
      "metadata": {
        "id": "cePlX4IqH_bY"
      },
      "outputs": [],
      "source": [
        "import binascii"
      ]
    },
    {
      "cell_type": "code",
      "execution_count": null,
      "metadata": {
        "id": "A7UmQnbeRQBm"
      },
      "outputs": [],
      "source": [
        "k = 3"
      ]
    },
    {
      "cell_type": "code",
      "execution_count": null,
      "metadata": {
        "id": "svTA8WKw8qbg"
      },
      "outputs": [],
      "source": [
        "shingles_rdd = rdd.flatMap(lambda doc: [(doc[0], doc[1][i:i+k]) for i in range(len(doc[1]) - k + 1)])"
      ]
    },
    {
      "cell_type": "code",
      "execution_count": null,
      "metadata": {
        "colab": {
          "base_uri": "https://localhost:8080/"
        },
        "id": "6tDAxu5Z4NwU",
        "outputId": "2ac48395-a6fc-4d2e-d917-39683ae7c8d3"
      },
      "outputs": [
        {
          "output_type": "execute_result",
          "data": {
            "text/plain": [
              "[(13395, 'gra'),\n",
              " (13395, 'ras'),\n",
              " (13395, 'ass'),\n",
              " (13395, 'ss '),\n",
              " (13395, 's g'),\n",
              " (13395, ' gr'),\n",
              " (13395, 'gre')]"
            ]
          },
          "metadata": {},
          "execution_count": 36
        }
      ],
      "source": [
        "shingles_rdd.take(7)"
      ]
    },
    {
      "cell_type": "code",
      "source": [
        "shingles_list = (rdd\n",
        "                 .groupByKey()\n",
        "                 .map(lambda x: (x[0], list(x[1]))))"
      ],
      "metadata": {
        "id": "7tdlA5tBPbQD"
      },
      "execution_count": null,
      "outputs": []
    },
    {
      "cell_type": "code",
      "source": [
        "shingles_list.toDF().show()"
      ],
      "metadata": {
        "colab": {
          "base_uri": "https://localhost:8080/"
        },
        "id": "ZpD_HHsAP-Sh",
        "outputId": "d406d519-5c04-43a1-88ad-ba3458d5d8f0"
      },
      "execution_count": null,
      "outputs": [
        {
          "output_type": "stream",
          "name": "stdout",
          "text": [
            "+------+--------------------+\n",
            "|    _1|                  _2|\n",
            "+------+--------------------+\n",
            "| 13395|[grass greener se...|\n",
            "| 34993|[client childrens...|\n",
            "| 47677|[possess valid cl...|\n",
            "|104317|[details signon b...|\n",
            "|143336|[parttime intermi...|\n",
            "|152380|[conference cente...|\n",
            "|218886|[northern tier hi...|\n",
            "|242951|[experience corps...|\n",
            "|278072|[win sport school...|\n",
            "|455372|[immediate start ...|\n",
            "|459748|[northrop grumman...|\n",
            "|464892|[5000 sign bonus ...|\n",
            "|525916|[job summary irb ...|\n",
            "|544349|[45 pounds heavy ...|\n",
            "|584862|[sensitive compar...|\n",
            "|608814|[llcs development...|\n",
            "|684947|[looking derivati...|\n",
            "|756249|[overview job sum...|\n",
            "|898066|[focus remains fi...|\n",
            "|912495|[position feature...|\n",
            "+------+--------------------+\n",
            "only showing top 20 rows\n",
            "\n"
          ]
        }
      ]
    },
    {
      "cell_type": "markdown",
      "metadata": {
        "id": "ArUDoulEzcKv"
      },
      "source": [
        "Characteristic matrix"
      ]
    },
    {
      "cell_type": "code",
      "execution_count": null,
      "metadata": {
        "id": "lvnTGerHIK36"
      },
      "outputs": [],
      "source": [
        "def hash_shingle(shingle):\n",
        "  return binascii.crc32(shingle.encode('utf-8')) & 0xffffffff"
      ]
    },
    {
      "cell_type": "code",
      "source": [
        "hash_rdd = shingles_rdd.mapValues(hash_shingle).distinct()"
      ],
      "metadata": {
        "id": "odgpuusm73_h"
      },
      "execution_count": null,
      "outputs": []
    },
    {
      "cell_type": "code",
      "source": [
        "hash_rdd.take(7)"
      ],
      "metadata": {
        "colab": {
          "base_uri": "https://localhost:8080/"
        },
        "id": "fSCC-jd68AyV",
        "outputId": "cf9d396c-0334-47b4-9c53-7fea7fd579e1"
      },
      "execution_count": null,
      "outputs": [
        {
          "output_type": "execute_result",
          "data": {
            "text/plain": [
              "[(13395, 2506444301),\n",
              " (13395, 501096268),\n",
              " (13395, 2068476598),\n",
              " (13395, 2525627878),\n",
              " (13395, 4020559682),\n",
              " (13395, 1404793474),\n",
              " (13395, 2450033172)]"
            ]
          },
          "metadata": {},
          "execution_count": 44
        }
      ]
    },
    {
      "cell_type": "code",
      "source": [
        "df = hash_rdd.toDF([\"doc_id\", \"hashed_shingle\"]) \\\n",
        "    .groupBy(\"doc_id\") \\\n",
        "    .agg(collect_list(\"hashed_shingle\").alias(\"hashed_shingles\"))"
      ],
      "metadata": {
        "id": "hJcxmjRomPEE"
      },
      "execution_count": null,
      "outputs": []
    },
    {
      "cell_type": "code",
      "source": [
        "df.show()"
      ],
      "metadata": {
        "colab": {
          "base_uri": "https://localhost:8080/"
        },
        "id": "UCYKJbqvmRES",
        "outputId": "c4360036-6001-42c7-bd25-5a4e3a7d9dcf"
      },
      "execution_count": null,
      "outputs": [
        {
          "output_type": "stream",
          "name": "stdout",
          "text": [
            "+-------+--------------------+\n",
            "| doc_id|     hashed_shingles|\n",
            "+-------+--------------------+\n",
            "| 608814|[2743074591, 9616...|\n",
            "|1663266|[210272711, 33932...|\n",
            "|1152253|[2189397276, 1432...|\n",
            "| 218886|[3781580864, 4138...|\n",
            "| 684947|[2179260663, 2228...|\n",
            "|1388218|[4006809354, 4168...|\n",
            "| 898066|[2244290826, 3530...|\n",
            "|  47677|[2161764012, 1909...|\n",
            "| 525916|[4225294584, 3496...|\n",
            "|1749766|[2103224315, 1335...|\n",
            "|1087080|[1689700070, 1016...|\n",
            "| 104317|[4286418985, 3233...|\n",
            "| 455372|[1528242610, 1388...|\n",
            "| 756249|[4168556200, 1633...|\n",
            "| 544349|[1165784608, 4089...|\n",
            "|  34993|[1224102204, 9298...|\n",
            "|  13395|[2506444301, 5010...|\n",
            "|1090315|[2041764424, 3846...|\n",
            "|1199836|[822850575, 13000...|\n",
            "| 950765|[2179260663, 2228...|\n",
            "+-------+--------------------+\n",
            "only showing top 20 rows\n",
            "\n"
          ]
        }
      ]
    },
    {
      "cell_type": "code",
      "source": [
        "def collect_shingles(a, b):\n",
        "    return a + b"
      ],
      "metadata": {
        "id": "rCs7BkQHo3pk"
      },
      "execution_count": null,
      "outputs": []
    },
    {
      "cell_type": "code",
      "source": [
        "hashed_shingles_rdd = hash_rdd.map(lambda x: (x[0], [x[1]])).reduceByKey(collect_shingles)"
      ],
      "metadata": {
        "id": "9-a8b564ohJT"
      },
      "execution_count": null,
      "outputs": []
    },
    {
      "cell_type": "code",
      "source": [
        "hashed_shingles_rdd.take(7)"
      ],
      "metadata": {
        "collapsed": true,
        "id": "RCfPTaN3o-Ep"
      },
      "execution_count": null,
      "outputs": []
    },
    {
      "cell_type": "code",
      "source": [
        "hashed_shingles_list = hashed_shingles_rdd.flatMap(lambda x: x[1]).collect()"
      ],
      "metadata": {
        "id": "UACwaMLIrLc9"
      },
      "execution_count": null,
      "outputs": []
    },
    {
      "cell_type": "markdown",
      "metadata": {
        "id": "aiJPcd7BxnS-"
      },
      "source": [
        "### MinHash\n",
        "\n",
        "\n",
        "---\n",
        "Fast approximation to the Jaccard Similarity Coefficient between any two finite sets\n",
        "\n",
        "\n"
      ]
    },
    {
      "cell_type": "code",
      "execution_count": null,
      "metadata": {
        "id": "vb56l_PsYxiF"
      },
      "outputs": [],
      "source": [
        "h_functions = 120\n",
        "b_bands = 10"
      ]
    },
    {
      "cell_type": "code",
      "execution_count": null,
      "metadata": {
        "id": "jUanRJ0Xc1m-"
      },
      "outputs": [],
      "source": [
        "def multiple(x, a, b, c):\n",
        "    return (a * x + b) % c"
      ]
    },
    {
      "cell_type": "code",
      "execution_count": null,
      "metadata": {
        "colab": {
          "base_uri": "https://localhost:8080/"
        },
        "id": "O3GW6a5PgAU7",
        "outputId": "e6293997-6385-4458-d259-d9ed5f0c92d2"
      },
      "outputs": [
        {
          "output_type": "execute_result",
          "data": {
            "text/plain": [
              "[{'a': 678, 'b': 3428, 'c': 3433},\n",
              " {'a': 6255, 'b': 6918, 'c': 6947},\n",
              " {'a': 600, 'b': 3255, 'c': 3257},\n",
              " {'a': 5671, 'b': 7048, 'c': 7057},\n",
              " {'a': 2205, 'b': 2909, 'c': 2917},\n",
              " {'a': 4262, 'b': 9938, 'c': 9941},\n",
              " {'a': 2792, 'b': 7510, 'c': 7517}]"
            ]
          },
          "metadata": {},
          "execution_count": 47
        }
      ],
      "source": [
        "params =[]\n",
        "\n",
        "for _ in range(h_functions):\n",
        "  a = random.randint(1, 10000)\n",
        "  b = random.randint(1, 10000)\n",
        "  max_ab = max(a, b)\n",
        "  c = nextprime(max_ab + 1)\n",
        "  params.append({\"a\": a, \"b\": b, \"c\": c})\n",
        "\n",
        "params[:7]"
      ]
    },
    {
      "cell_type": "code",
      "source": [
        "def enum_shingles(e, hhashed_shingles_list):\n",
        "    doc_id, shingle = e\n",
        "    return [((doc_id), (h), (hashed_shingles_list)) for h in range(h_functions)]"
      ],
      "metadata": {
        "id": "MR6CWvI9oBm9"
      },
      "execution_count": null,
      "outputs": []
    },
    {
      "cell_type": "code",
      "source": [
        "minhash_matrix = hash_rdd.flatMap(lambda e: enum_shingles(e, hashed_shingles_list))"
      ],
      "metadata": {
        "id": "hkC5sMnWn7rd"
      },
      "execution_count": null,
      "outputs": []
    },
    {
      "cell_type": "code",
      "source": [
        "minhash_matrix.toDF().show()"
      ],
      "metadata": {
        "colab": {
          "base_uri": "https://localhost:8080/"
        },
        "id": "7XwQfotins3t",
        "outputId": "ef63a958-732c-4509-fabd-72df23647f3c"
      },
      "execution_count": null,
      "outputs": [
        {
          "output_type": "stream",
          "name": "stdout",
          "text": [
            "+-----+---+--------------------+\n",
            "|   _1| _2|                  _3|\n",
            "+-----+---+--------------------+\n",
            "|13395|  0|[2506444301, 5010...|\n",
            "|13395|  1|[2506444301, 5010...|\n",
            "|13395|  2|[2506444301, 5010...|\n",
            "|13395|  3|[2506444301, 5010...|\n",
            "|13395|  4|[2506444301, 5010...|\n",
            "|13395|  5|[2506444301, 5010...|\n",
            "|13395|  6|[2506444301, 5010...|\n",
            "|13395|  7|[2506444301, 5010...|\n",
            "|13395|  8|[2506444301, 5010...|\n",
            "|13395|  9|[2506444301, 5010...|\n",
            "|13395| 10|[2506444301, 5010...|\n",
            "|13395| 11|[2506444301, 5010...|\n",
            "|13395| 12|[2506444301, 5010...|\n",
            "|13395| 13|[2506444301, 5010...|\n",
            "|13395| 14|[2506444301, 5010...|\n",
            "|13395| 15|[2506444301, 5010...|\n",
            "|13395| 16|[2506444301, 5010...|\n",
            "|13395| 17|[2506444301, 5010...|\n",
            "|13395| 18|[2506444301, 5010...|\n",
            "|13395| 19|[2506444301, 5010...|\n",
            "+-----+---+--------------------+\n",
            "only showing top 20 rows\n",
            "\n"
          ]
        }
      ]
    },
    {
      "cell_type": "code",
      "source": [
        "def minhash_map(docId_hashedShingles):\n",
        "    doc_id, hashed_shingles = docId_hashedShingles\n",
        "    minhashes = []\n",
        "    for h in range(h_functions):\n",
        "        min_h = math.inf\n",
        "        for shingle in hashed_shingles:\n",
        "            hash_value = multiple(shingle, **params[h])\n",
        "            if hash_value < min_h:\n",
        "                min_h = hash_value\n",
        "        minhashes.append(min_h)\n",
        "    return (doc_id, minhashes)"
      ],
      "metadata": {
        "id": "n40hisSLusL3"
      },
      "execution_count": null,
      "outputs": []
    },
    {
      "cell_type": "code",
      "source": [
        "sig_matrix_rdd = hashed_shingles_rdd.map(minhash_map)"
      ],
      "metadata": {
        "id": "R0SiK_V0utUB"
      },
      "execution_count": null,
      "outputs": []
    },
    {
      "cell_type": "code",
      "source": [
        "signature_df = sig_matrix_rdd.toDF([\"doc_id\", \"minhashes\"])"
      ],
      "metadata": {
        "id": "dSP3Sg5iuyVZ"
      },
      "execution_count": null,
      "outputs": []
    },
    {
      "cell_type": "code",
      "source": [
        "signature_df.show()"
      ],
      "metadata": {
        "colab": {
          "base_uri": "https://localhost:8080/"
        },
        "id": "QXHn9xpmvF8Y",
        "outputId": "c8404856-616f-4f80-d07d-496848628be8"
      },
      "execution_count": null,
      "outputs": [
        {
          "output_type": "stream",
          "name": "stdout",
          "text": [
            "+------+--------------------+\n",
            "|doc_id|           minhashes|\n",
            "+------+--------------------+\n",
            "| 13395|[2, 7, 1, 10, 6, ...|\n",
            "| 34993|[2, 7, 4, 10, 11,...|\n",
            "| 47677|[4, 84, 11, 55, 6...|\n",
            "|104317|[2, 7, 1, 2, 5, 4...|\n",
            "|143336|[72, 80, 7, 256, ...|\n",
            "|152380|[102, 164, 160, 2...|\n",
            "|218886|[4, 7, 1, 16, 1, ...|\n",
            "|242951|[4, 84, 6, 1, 20,...|\n",
            "|278072|[4, 4, 14, 2, 9, ...|\n",
            "|455372|[0, 23, 4, 20, 5,...|\n",
            "|459748|[0, 2, 1, 1, 5, 2...|\n",
            "|464892|[2, 7, 4, 20, 28,...|\n",
            "|525916|[2, 7, 0, 10, 6, ...|\n",
            "|544349|[24, 449, 413, 27...|\n",
            "|584862|[45, 80, 83, 225,...|\n",
            "|608814|[4, 45, 6, 29, 89...|\n",
            "|684947|[0, 12, 4, 1, 11,...|\n",
            "|756249|[2, 24, 1, 10, 13...|\n",
            "|898066|[9, 102, 4, 20, 1...|\n",
            "|912495|[2, 2, 0, 10, 5, ...|\n",
            "+------+--------------------+\n",
            "only showing top 20 rows\n",
            "\n"
          ]
        }
      ]
    },
    {
      "cell_type": "markdown",
      "metadata": {
        "id": "pWm4fiLnp1Id"
      },
      "source": [
        "### Locality-Sensitive Hashing"
      ]
    },
    {
      "cell_type": "markdown",
      "metadata": {
        "id": "ENN-QqCSn61_"
      },
      "source": [
        "Define the threshold"
      ]
    },
    {
      "cell_type": "code",
      "execution_count": null,
      "metadata": {
        "id": "x-QyErWnRVSq"
      },
      "outputs": [],
      "source": [
        "# having h_functions = 100 and b_bands = 10\n",
        "n_per_bands = h_functions // b_bands\n",
        "threshold = (1/b_bands) ** (1/n_per_bands)"
      ]
    },
    {
      "cell_type": "code",
      "execution_count": null,
      "metadata": {
        "colab": {
          "base_uri": "https://localhost:8080/"
        },
        "id": "DpSWyycesvhN",
        "outputId": "84c4b58b-1b46-4d54-cff8-42ec11c86345"
      },
      "outputs": [
        {
          "metadata": {
            "tags": null
          },
          "name": "stdout",
          "output_type": "stream",
          "text": [
            "Threshold for candidate pairs:  0.8254041852680184\n"
          ]
        }
      ],
      "source": [
        "print(\"Threshold for candidate pairs: \", threshold)"
      ]
    },
    {
      "cell_type": "markdown",
      "source": [
        "Using the MinHashLSH provided by Pyspark"
      ],
      "metadata": {
        "id": "erjK23cWbW0_"
      }
    },
    {
      "cell_type": "code",
      "source": [
        "array_to_vector_udf = udf(lambda x: DenseVector(x), VectorUDT())\n",
        "signature_df = signature_df.withColumn(\"minhash_vector\", array_to_vector_udf(col(\"minhashes\"))) # converted with dense vector"
      ],
      "metadata": {
        "id": "w4wIQpg4vgUD"
      },
      "execution_count": null,
      "outputs": []
    },
    {
      "cell_type": "code",
      "source": [
        "signature_df = signature_df.drop(\"minhashes\")"
      ],
      "metadata": {
        "id": "9lC89QrCwk3l"
      },
      "execution_count": null,
      "outputs": []
    },
    {
      "cell_type": "code",
      "source": [
        "mh = MinHashLSH(inputCol=\"minhash_vector\", outputCol=\"hashes\", numHashTables=b_bands*n_per_bands, seed=56)"
      ],
      "metadata": {
        "id": "fKNATTBWv1Bz"
      },
      "execution_count": null,
      "outputs": []
    },
    {
      "cell_type": "code",
      "source": [
        "model = mh.fit(signature_df)"
      ],
      "metadata": {
        "id": "8tFKABjijpBk"
      },
      "execution_count": null,
      "outputs": []
    },
    {
      "cell_type": "code",
      "source": [
        "lsh_df = model.transform(signature_df)"
      ],
      "metadata": {
        "id": "hteHWzFLxdMW"
      },
      "execution_count": null,
      "outputs": []
    },
    {
      "cell_type": "markdown",
      "metadata": {
        "id": "Z5BIkIysMGlP"
      },
      "source": [
        "## Finding similar jobs"
      ]
    },
    {
      "cell_type": "code",
      "source": [
        "def find_similar_jobs(lsh_df, model, threshold):\n",
        "    # Perform self-join to find all pairs\n",
        "    similar_items = model.approxSimilarityJoin(lsh_df, lsh_df, threshold, distCol=\"JaccardDistance\")\n",
        "\n",
        "    # Filter out pairs with the same doc_id and JaccardDistance above the threshold\n",
        "    similar_pairs = (similar_items\n",
        "                     .select(\n",
        "                         col(\"datasetA.doc_id\").alias(\"doc_id_A\"),\n",
        "                         col(\"datasetB.doc_id\").alias(\"doc_id_B\"),\n",
        "                         col(\"JaccardDistance\"))\n",
        "                     .filter(col(\"doc_id_A\") < col(\"doc_id_B\"))\n",
        "                     .filter(col(\"JaccardDistance\") <= threshold)\n",
        "                     .rdd\n",
        "                     .map(lambda row: (row[\"doc_id_A\"], row[\"doc_id_B\"], row[\"JaccardDistance\"]))\n",
        "                     .collect())\n",
        "\n",
        "    return similar_pairs"
      ],
      "metadata": {
        "id": "Hfy_bTRYyhEd"
      },
      "execution_count": null,
      "outputs": []
    },
    {
      "cell_type": "code",
      "source": [
        "similar_pairs = find_similar_jobs(lsh_df, model, threshold)"
      ],
      "metadata": {
        "id": "kbLUgUgEy4B6"
      },
      "execution_count": null,
      "outputs": []
    },
    {
      "cell_type": "code",
      "execution_count": null,
      "metadata": {
        "id": "631sYFaegg3S",
        "colab": {
          "base_uri": "https://localhost:8080/"
        },
        "collapsed": true,
        "outputId": "c8e2de47-020f-49c2-b4e6-6bf6c37264d5"
      },
      "outputs": [
        {
          "output_type": "execute_result",
          "data": {
            "text/plain": [
              "[(544349, 1553707, 0.15000000000000002),\n",
              " (1199836, 1663266, 0.2542372881355932),\n",
              " (1331267, 1388218, 0.10169491525423724),\n",
              " (13395, 1749766, 0.12871287128712872),\n",
              " (47677, 544349, 0.008333333333333304),\n",
              " (455372, 1259945, 0.21818181818181814),\n",
              " (464892, 544349, 0.10833333333333328),\n",
              " (1152253, 1432904, 0.17307692307692313),\n",
              " (584862, 1388218, 0.07692307692307687),\n",
              " (143336, 242951, 0.06779661016949157),\n",
              " (950765, 1331267, 0.18644067796610164),\n",
              " (143336, 1331267, 0.050420168067226934),\n",
              " (104317, 684947, 0.1875),\n",
              " (278072, 1090315, 0.1834862385321101),\n",
              " (684947, 1199836, 0.15000000000000002),\n",
              " (34993, 1090315, 0.14423076923076927),\n",
              " (104317, 1388218, 0.1428571428571429),\n",
              " (143336, 1259945, 0.22881355932203384),\n",
              " (544349, 1749766, 0.19999999999999996),\n",
              " (1087080, 1749766, 0.16822429906542058),\n",
              " (34993, 47677, 0.19166666666666665),\n",
              " (34993, 152380, 0.18333333333333335),\n",
              " (152380, 1259945, 0.2416666666666667),\n",
              " (525916, 898066, 0.15000000000000002),\n",
              " (1432904, 1750168, 0.20869565217391306),\n",
              " (242951, 756249, 0.12068965517241381),\n",
              " (684947, 1331267, 0.11206896551724133),\n",
              " (1087080, 1750168, 0.15652173913043477),\n",
              " (34993, 1259945, 0.16504854368932043),\n",
              " (218886, 1432904, 0.18095238095238098),\n",
              " (756249, 898066, 0.09999999999999998),\n",
              " (1331267, 1553707, 0.13793103448275867),\n",
              " (13395, 464892, 0.1651376146788991),\n",
              " (13395, 608814, 0.19298245614035092),\n",
              " (34993, 242951, 0.12612612612612617),\n",
              " (143336, 525916, 0.13559322033898302),\n",
              " (459748, 544349, 0.21666666666666667),\n",
              " (525916, 756249, 0.09090909090909094),\n",
              " (104317, 1371266, 0.1428571428571429),\n",
              " (152380, 608814, 0.05833333333333335),\n",
              " (152380, 1371266, 0.19166666666666665),\n",
              " (459748, 756249, 0.1636363636363637),\n",
              " (950765, 1388218, 0.1415929203539823),\n",
              " (1259945, 1388218, 0.18918918918918914),\n",
              " (34993, 1152253, 0.11650485436893199),\n",
              " (218886, 1388218, 0.16814159292035402),\n",
              " (218886, 1663266, 0.26168224299065423),\n",
              " (459748, 1087080, 0.13461538461538458),\n",
              " (584862, 1371266, 0.1724137931034483),\n",
              " (34993, 1432904, 0.13592233009708743),\n",
              " (278072, 1331267, 0.1610169491525424),\n",
              " (1087080, 1152253, 0.18518518518518523),\n",
              " (1090315, 1259945, 0.17647058823529416),\n",
              " (1152253, 1199836, 0.17948717948717952),\n",
              " (104317, 242951, 0.10909090909090913),\n",
              " (143336, 1553707, 0.13559322033898302),\n",
              " (278072, 459748, 0.19266055045871555),\n",
              " (584862, 898066, 0.04166666666666663),\n",
              " (1090315, 1371266, 0.13592233009708743),\n",
              " (104317, 1259945, 0.16504854368932043),\n",
              " (143336, 1663266, 0.2457627118644068),\n",
              " (459748, 1259945, 0.13131313131313127),\n",
              " (47677, 1152253, 0.20833333333333337),\n",
              " (459748, 464892, 0.18918918918918914),\n",
              " (459748, 1199836, 0.211864406779661),\n",
              " (464892, 1331267, 0.1271186440677966),\n",
              " (1199836, 1749766, 0.2100840336134454),\n",
              " (242951, 464892, 0.11304347826086958),\n",
              " (1388218, 1750168, 0.10256410256410253),\n",
              " (34993, 218886, 0.125),\n",
              " (34993, 1388218, 0.1428571428571429),\n",
              " (143336, 1199836, 0.04166666666666663),\n",
              " (464892, 1553707, 0.1504424778761062),\n",
              " (242951, 1388218, 0.10344827586206895),\n",
              " (608814, 1259945, 0.21052631578947367),\n",
              " (684947, 950765, 0.1696428571428571),\n",
              " (152380, 459748, 0.21666666666666667),\n",
              " (152380, 1663266, 0.2583333333333333),\n",
              " (525916, 1663266, 0.19811320754716977),\n",
              " (143336, 459748, 0.2033898305084746),\n",
              " (459748, 584862, 0.19827586206896552),\n",
              " (1087080, 1259945, 0.1456310679611651),\n",
              " (143336, 464892, 0.09322033898305082),\n",
              " (459748, 912495, 0.12871287128712872),\n",
              " (459748, 1371266, 0.1456310679611651),\n",
              " (459748, 1749766, 0.13725490196078427),\n",
              " (684947, 1087080, 0.1696428571428571),\n",
              " (13395, 152380, 0.22499999999999998),\n",
              " (13395, 1259945, 0.12244897959183676),\n",
              " (152380, 1388218, 0.08333333333333337),\n",
              " (455372, 464892, 0.14035087719298245),\n",
              " (455372, 912495, 0.18181818181818177),\n",
              " (608814, 1553707, 0.13043478260869568),\n",
              " (950765, 1087080, 0.19819819819819817),\n",
              " (1553707, 1663266, 0.19811320754716977),\n",
              " (756249, 1749766, 0.19469026548672563),\n",
              " (1388218, 1432904, 0.16216216216216217),\n",
              " (13395, 1090315, 0.1568627450980392),\n",
              " (47677, 459748, 0.2100840336134454),\n",
              " (104317, 464892, 0.13636363636363635),\n",
              " (584862, 1432904, 0.19827586206896552),\n",
              " (34993, 459748, 0.13592233009708743),\n",
              " (898066, 1259945, 0.2416666666666667),\n",
              " (898066, 1750168, 0.06666666666666665),\n",
              " (152380, 1553707, 0.15000000000000002),\n",
              " (1663266, 1749766, 0.18627450980392157),\n",
              " (13395, 525916, 0.10679611650485432),\n",
              " (13395, 912495, 0.101010101010101),\n",
              " (104317, 218886, 0.21100917431192656),\n",
              " (459748, 608814, 0.1842105263157895),\n",
              " (684947, 1371266, 0.1636363636363637),\n",
              " (1152253, 1331267, 0.18965517241379315),\n",
              " (242951, 525916, 0.15652173913043477),\n",
              " (459748, 898066, 0.21666666666666667),\n",
              " (143336, 1388218, 0.08403361344537819),\n",
              " (152380, 218886, 0.19166666666666665),\n",
              " (455372, 1371266, 0.1964285714285714),\n",
              " (544349, 1152253, 0.19999999999999996),\n",
              " (898066, 1432904, 0.21666666666666667),\n",
              " (152380, 1152253, 0.19999999999999996),\n",
              " (544349, 1432904, 0.21666666666666667),\n",
              " (756249, 1663266, 0.2410714285714286),\n",
              " (1331267, 1750168, 0.0847457627118644),\n",
              " (152380, 912495, 0.20833333333333337),\n",
              " (756249, 912495, 0.15454545454545454),\n",
              " (1432904, 1749766, 0.1188118811881188),\n",
              " (13395, 756249, 0.15596330275229353),\n",
              " (1152253, 1371266, 0.10784313725490191),\n",
              " (13395, 898066, 0.22499999999999998),\n",
              " (1199836, 1553707, 0.14406779661016944),\n",
              " (1371266, 1432904, 0.12745098039215685),\n",
              " (218886, 1199836, 0.18644067796610164),\n",
              " (1663266, 1750168, 0.25217391304347825),\n",
              " (278072, 1388218, 0.13157894736842102),\n",
              " (47677, 608814, 0.06666666666666665),\n",
              " (455372, 459748, 0.19090909090909092),\n",
              " (34993, 1331267, 0.15652173913043477),\n",
              " (525916, 1371266, 0.10476190476190472),\n",
              " (912495, 1199836, 0.2033898305084746),\n",
              " (1371266, 1749766, 0.16190476190476188),\n",
              " (34993, 455372, 0.1875),\n",
              " (278072, 1553707, 0.1696428571428571),\n",
              " (756249, 1750168, 0.13559322033898302),\n",
              " (455372, 1432904, 0.2232142857142857),\n",
              " (464892, 898066, 0.10833333333333328),\n",
              " (684947, 1388218, 0.13043478260869568),\n",
              " (1152253, 1553707, 0.14953271028037385),\n",
              " (104317, 584862, 0.14782608695652177),\n",
              " (464892, 1388218, 0.07964601769911506),\n",
              " (464892, 1259945, 0.19999999999999996),\n",
              " (464892, 608814, 0.10344827586206895),\n",
              " (525916, 608814, 0.14655172413793105),\n",
              " (1090315, 1663266, 0.17821782178217827),\n",
              " (13395, 1371266, 0.1188118811881188),\n",
              " (34993, 1371266, 0.06930693069306926),\n",
              " (104317, 756249, 0.14414414414414412),\n",
              " (898066, 1199836, 0.025000000000000022),\n",
              " (912495, 1432904, 0.1470588235294118),\n",
              " (152380, 756249, 0.09999999999999998),\n",
              " (684947, 1090315, 0.19819819819819817),\n",
              " (684947, 1663266, 0.25225225225225223),\n",
              " (47677, 1553707, 0.1428571428571429),\n",
              " (104317, 1432904, 0.13592233009708743),\n",
              " (1199836, 1331267, 0.07499999999999996),\n",
              " (13395, 455372, 0.19999999999999996),\n",
              " (455372, 756249, 0.13157894736842102),\n",
              " (1090315, 1749766, 0.16346153846153844),\n",
              " (104317, 1199836, 0.17796610169491522),\n",
              " (455372, 1553707, 0.1842105263157895),\n",
              " (544349, 756249, 0.09999999999999998),\n",
              " (544349, 898066, 0.0),\n",
              " (13395, 1663266, 0.19801980198019797),\n",
              " (34993, 1553707, 0.13084112149532712),\n",
              " (152380, 1087080, 0.16666666666666663),\n",
              " (464892, 1750168, 0.07894736842105265),\n",
              " (13395, 1432904, 0.11111111111111116),\n",
              " (34993, 756249, 0.14414414414414412),\n",
              " (242951, 584862, 0.06034482758620685),\n",
              " (1152253, 1259945, 0.18446601941747576),\n",
              " (1259945, 1331267, 0.23275862068965514),\n",
              " (104317, 1087080, 0.09615384615384615),\n",
              " (218886, 1553707, 0.2072072072072072),\n",
              " (47677, 950765, 0.17500000000000004),\n",
              " (218886, 756249, 0.18584070796460173),\n",
              " (1371266, 1388218, 0.1517857142857143),\n",
              " (34993, 278072, 0.18918918918918914),\n",
              " (143336, 756249, 0.0847457627118644),\n",
              " (455372, 608814, 0.1367521367521367),\n",
              " (584862, 950765, 0.14655172413793105),\n",
              " (1259945, 1553707, 0.14423076923076927),\n",
              " (278072, 898066, 0.14166666666666672),\n",
              " (13395, 143336, 0.211864406779661),\n",
              " (13395, 1087080, 0.12621359223300976),\n",
              " (104317, 608814, 0.14912280701754388),\n",
              " (756249, 1371266, 0.15315315315315314),\n",
              " (912495, 1663266, 0.16000000000000003),\n",
              " (898066, 1331267, 0.050000000000000044),\n",
              " (950765, 1090315, 0.17757009345794394),\n",
              " (455372, 1087080, 0.20175438596491224),\n",
              " (143336, 1090315, 0.19491525423728817),\n",
              " (242951, 684947, 0.0803571428571429),\n",
              " (608814, 1750168, 0.10924369747899154),\n",
              " (242951, 455372, 0.13043478260869568),\n",
              " (544349, 912495, 0.20833333333333337),\n",
              " (1371266, 1553707, 0.15740740740740744),\n",
              " (242951, 1371266, 0.1517857142857143),\n",
              " (455372, 1090315, 0.19819819819819817),\n",
              " (218886, 584862, 0.18803418803418803),\n",
              " (684947, 1749766, 0.18918918918918914),\n",
              " (47677, 1090315, 0.2016806722689075),\n",
              " (34993, 1199836, 0.17796610169491522),\n",
              " (218886, 1152253, 0.17924528301886788),\n",
              " (525916, 912495, 0.14150943396226412),\n",
              " (525916, 1199836, 0.14406779661016944),\n",
              " (47677, 1371266, 0.19999999999999996),\n",
              " (104317, 950765, 0.14953271028037385),\n",
              " (455372, 1750168, 0.1293103448275862),\n",
              " (525916, 1388218, 0.1071428571428571),\n",
              " (525916, 1749766, 0.13207547169811318),\n",
              " (278072, 684947, 0.19130434782608696),\n",
              " (455372, 584862, 0.11965811965811968),\n",
              " (584862, 684947, 0.11965811965811968),\n",
              " (608814, 684947, 0.1367521367521367),\n",
              " (1199836, 1750168, 0.07563025210084029),\n",
              " (544349, 1750168, 0.06666666666666665),\n",
              " (756249, 1090315, 0.1875),\n",
              " (950765, 1749766, 0.18518518518518523),\n",
              " (242951, 950765, 0.1415929203539823),\n",
              " (608814, 950765, 0.14782608695652177),\n",
              " (104317, 1331267, 0.15652173913043477),\n",
              " (455372, 1388218, 0.14655172413793105),\n",
              " (608814, 1087080, 0.13157894736842102),\n",
              " (47677, 152380, 0.008333333333333304),\n",
              " (104317, 912495, 0.12621359223300976),\n",
              " (218886, 1371266, 0.1523809523809524),\n",
              " (459748, 525916, 0.1333333333333333),\n",
              " (455372, 1749766, 0.22123893805309736),\n",
              " (13395, 242951, 0.1875),\n",
              " (143336, 1432904, 0.2033898305084746),\n",
              " (912495, 1090315, 0.1188118811881188),\n",
              " (1331267, 1371266, 0.19658119658119655),\n",
              " (34993, 525916, 0.09523809523809523),\n",
              " (242951, 898066, 0.08333333333333337),\n",
              " (278072, 1152253, 0.19090909090909092),\n",
              " (455372, 1199836, 0.15000000000000002),\n",
              " (152380, 464892, 0.10833333333333328),\n",
              " (1388218, 1749766, 0.17699115044247793),\n",
              " (242951, 1331267, 0.06896551724137934),\n",
              " (242951, 1749766, 0.17699115044247793),\n",
              " (584862, 1331267, 0.05932203389830504),\n",
              " (13395, 1199836, 0.22033898305084743),\n",
              " (13395, 1388218, 0.1711711711711712),\n",
              " (152380, 950765, 0.16666666666666663),\n",
              " (455372, 544349, 0.125),\n",
              " (525916, 1152253, 0.11428571428571432),\n",
              " (242951, 1663266, 0.19090909090909092),\n",
              " (278072, 455372, 0.17543859649122806),\n",
              " (47677, 898066, 0.008333333333333304),\n",
              " (152380, 1750168, 0.06666666666666665),\n",
              " (756249, 950765, 0.15929203539823011),\n",
              " (912495, 1331267, 0.18260869565217386),\n",
              " (218886, 242951, 0.16814159292035402),\n",
              " (584862, 1152253, 0.18103448275862066),\n",
              " (950765, 1259945, 0.19811320754716977),\n",
              " (912495, 1371266, 0.13592233009708743),\n",
              " (13395, 950765, 0.19626168224299068),\n",
              " (912495, 1388218, 0.15315315315315314),\n",
              " (34993, 1663266, 0.18446601941747576),\n",
              " (756249, 1388218, 0.08771929824561409),\n",
              " (1090315, 1331267, 0.18260869565217386),\n",
              " (1152253, 1750168, 0.2068965517241379),\n",
              " (47677, 242951, 0.09166666666666667),\n",
              " (1087080, 1331267, 0.13913043478260867),\n",
              " (218886, 1331267, 0.18103448275862066),\n",
              " (525916, 584862, 0.1293103448275862),\n",
              " (544349, 608814, 0.05833333333333335),\n",
              " (608814, 756249, 0.09482758620689657),\n",
              " (756249, 1152253, 0.12844036697247707),\n",
              " (1199836, 1388218, 0.07627118644067798),\n",
              " (1199836, 1432904, 0.211864406779661),\n",
              " (756249, 1259945, 0.19090909090909092),\n",
              " (242951, 1553707, 0.12389380530973448),\n",
              " (464892, 525916, 0.1339285714285714),\n",
              " (584862, 1749766, 0.19658119658119655),\n",
              " (950765, 1199836, 0.1610169491525424),\n",
              " (104317, 1750168, 0.1578947368421053),\n",
              " (898066, 1087080, 0.16666666666666663),\n",
              " (104317, 459748, 0.15384615384615385),\n",
              " (584862, 1199836, 0.06666666666666665),\n",
              " (756249, 1432904, 0.18018018018018023),\n",
              " (242951, 1152253, 0.17699115044247793),\n",
              " (464892, 912495, 0.1636363636363637),\n",
              " (584862, 1750168, 0.05982905982905984),\n",
              " (756249, 1199836, 0.09322033898305082),\n",
              " (104317, 278072, 0.13888888888888884),\n",
              " (278072, 584862, 0.12068965517241381),\n",
              " (544349, 1663266, 0.2583333333333333),\n",
              " (898066, 1553707, 0.15000000000000002),\n",
              " (152380, 544349, 0.0),\n",
              " (242951, 1087080, 0.10810810810810811),\n",
              " (608814, 1432904, 0.1842105263157895),\n",
              " (912495, 950765, 0.21100917431192656),\n",
              " (13395, 544349, 0.22499999999999998),\n",
              " (104317, 1749766, 0.1523809523809524),\n",
              " (1090315, 1750168, 0.1842105263157895),\n",
              " (34993, 544349, 0.18333333333333335),\n",
              " (1331267, 1663266, 0.23478260869565215),\n",
              " (13395, 684947, 0.19999999999999996),\n",
              " (47677, 1199836, 0.033333333333333326),\n",
              " (104317, 1663266, 0.14851485148514854),\n",
              " (278072, 544349, 0.14166666666666672),\n",
              " (1749766, 1750168, 0.19130434782608696),\n",
              " (47677, 104317, 0.19166666666666665),\n",
              " (459748, 1750168, 0.20869565217391306),\n",
              " (608814, 1371266, 0.18965517241379315),\n",
              " (278072, 1432904, 0.17592592592592593),\n",
              " (455372, 1663266, 0.23636363636363633),\n",
              " (525916, 684947, 0.16814159292035402),\n",
              " (242951, 1750168, 0.10256410256410253),\n",
              " (278072, 525916, 0.1696428571428571),\n",
              " (278072, 1259945, 0.1869158878504673),\n",
              " (525916, 544349, 0.15000000000000002),\n",
              " (608814, 1663266, 0.21238938053097345),\n",
              " (13395, 278072, 0.16822429906542058),\n",
              " (278072, 464892, 0.1415929203539823),\n",
              " (459748, 950765, 0.20370370370370372),\n",
              " (13395, 1750168, 0.18584070796460173),\n",
              " (104317, 898066, 0.18333333333333335),\n",
              " (898066, 1152253, 0.19999999999999996),\n",
              " (950765, 1553707, 0.1636363636363637),\n",
              " (34993, 143336, 0.1694915254237288),\n",
              " (464892, 1199836, 0.0854700854700855),\n",
              " (278072, 1663266, 0.15384615384615385),\n",
              " (104317, 455372, 0.1875),\n",
              " (242951, 1199836, 0.10833333333333328),\n",
              " (34993, 912495, 0.10784313725490191),\n",
              " (143336, 912495, 0.19491525423728817),\n",
              " (459748, 1331267, 0.2068965517241379),\n",
              " (143336, 1087080, 0.15254237288135597),\n",
              " (143336, 1371266, 0.17796610169491522),\n",
              " (152380, 455372, 0.125),\n",
              " (544349, 1388218, 0.08333333333333337),\n",
              " (1090315, 1199836, 0.2033898305084746),\n",
              " (13395, 218886, 0.17307692307692313),\n",
              " (34993, 1749766, 0.11650485436893199),\n",
              " (455372, 684947, 0.1415929203539823),\n",
              " (459748, 684947, 0.19090909090909092),\n",
              " (608814, 1331267, 0.07627118644067798),\n",
              " (898066, 950765, 0.16666666666666663),\n",
              " (455372, 898066, 0.125),\n",
              " (464892, 1663266, 0.21818181818181814),\n",
              " (152380, 1090315, 0.20833333333333337),\n",
              " (218886, 898066, 0.19166666666666665),\n",
              " (464892, 1432904, 0.18918918918918914),\n",
              " (218886, 1749766, 0.19626168224299068),\n",
              " (464892, 1371266, 0.16216216216216217),\n",
              " (608814, 1152253, 0.16666666666666663),\n",
              " (898066, 1388218, 0.08333333333333337),\n",
              " (1090315, 1388218, 0.20175438596491224),\n",
              " (1152253, 1663266, 0.18627450980392157),\n",
              " (1259945, 1432904, 0.11224489795918369),\n",
              " (1371266, 1663266, 0.21153846153846156),\n",
              " (47677, 218886, 0.19999999999999996),\n",
              " (278072, 608814, 0.10526315789473684),\n",
              " (544349, 1199836, 0.025000000000000022),\n",
              " (13395, 1553707, 0.17757009345794394),\n",
              " (34993, 464892, 0.15315315315315314),\n",
              " (34993, 1087080, 0.11428571428571432),\n",
              " (152380, 584862, 0.04166666666666663),\n",
              " (152380, 1331267, 0.050000000000000044),\n",
              " (584862, 1553707, 0.1293103448275862),\n",
              " (898066, 1371266, 0.19166666666666665),\n",
              " (47677, 1749766, 0.19327731092436973),\n",
              " (1259945, 1663266, 0.18181818181818177),\n",
              " (152380, 1199836, 0.025000000000000022),\n",
              " (898066, 1090315, 0.20833333333333337),\n",
              " (13395, 584862, 0.19130434782608696),\n",
              " (47677, 525916, 0.15833333333333333),\n",
              " (242951, 1432904, 0.19469026548672563),\n",
              " (525916, 1090315, 0.2090909090909091),\n",
              " (13395, 34993, 0.08999999999999997),\n",
              " (104317, 1090315, 0.10784313725490191),\n",
              " (912495, 1749766, 0.1456310679611651),\n",
              " (1087080, 1388218, 0.1415929203539823),\n",
              " (242951, 459748, 0.19469026548672563),\n",
              " (242951, 544349, 0.08333333333333337),\n",
              " (1199836, 1259945, 0.2222222222222222),\n",
              " (47677, 684947, 0.1333333333333333),\n",
              " (218886, 912495, 0.18867924528301883),\n",
              " (1087080, 1371266, 0.12380952380952381),\n",
              " (218886, 278072, 0.2142857142857143),\n",
              " (464892, 756249, 0.0803571428571429),\n",
              " (684947, 1750168, 0.1610169491525424),\n",
              " (950765, 1750168, 0.1724137931034483),\n",
              " (1432904, 1663266, 0.22330097087378642),\n",
              " (278072, 756249, 0.14912280701754388),\n",
              " (278072, 950765, 0.15454545454545454),\n",
              " (544349, 684947, 0.125),\n",
              " (912495, 1259945, 0.12121212121212122),\n",
              " (218886, 525916, 0.17431192660550454),\n",
              " (544349, 1371266, 0.19166666666666665),\n",
              " (684947, 1553707, 0.1517857142857143),\n",
              " (1553707, 1750168, 0.18644067796610164),\n",
              " (34993, 104317, 0.1333333333333333),\n",
              " (47677, 1259945, 0.23529411764705888),\n",
              " (47677, 1750168, 0.07499999999999996),\n",
              " (152380, 1749766, 0.19999999999999996),\n",
              " (1259945, 1749766, 0.13),\n",
              " (525916, 950765, 0.1636363636363637),\n",
              " (104317, 1553707, 0.14814814814814814),\n",
              " (684947, 912495, 0.18181818181818177),\n",
              " (34993, 1750168, 0.1578947368421053),\n",
              " (47677, 912495, 0.21666666666666667),\n",
              " (756249, 1553707, 0.10810810810810811),\n",
              " (13395, 1331267, 0.2155172413793104),\n",
              " (459748, 1663266, 0.20588235294117652),\n",
              " (584862, 1259945, 0.22413793103448276),\n",
              " (525916, 1553707, 0.12844036697247707),\n",
              " (544349, 1259945, 0.2416666666666667),\n",
              " (1259945, 1371266, 0.1923076923076923),\n",
              " (34993, 950765, 0.21621621621621623),\n",
              " (152380, 1432904, 0.21666666666666667),\n",
              " (242951, 278072, 0.14782608695652177),\n",
              " (464892, 950765, 0.16814159292035402),\n",
              " (608814, 1090315, 0.19130434782608696),\n",
              " (684947, 898066, 0.125),\n",
              " (1259945, 1750168, 0.23478260869565215),\n",
              " (47677, 464892, 0.1166666666666667),\n",
              " (218886, 464892, 0.1785714285714286),\n",
              " (34993, 584862, 0.1637931034482759),\n",
              " (459748, 1388218, 0.16216216216216217),\n",
              " (464892, 1749766, 0.20353982300884954),\n",
              " (608814, 898066, 0.05833333333333335),\n",
              " (34993, 684947, 0.15454545454545454),\n",
              " (104317, 152380, 0.18333333333333335),\n",
              " (464892, 1152253, 0.15454545454545454),\n",
              " (1371266, 1750168, 0.16666666666666663),\n",
              " (218886, 455372, 0.21238938053097345),\n",
              " (459748, 1432904, 0.12),\n",
              " (1331267, 1749766, 0.17391304347826086),\n",
              " (47677, 584862, 0.050000000000000044),\n",
              " (544349, 1087080, 0.16666666666666663),\n",
              " (47677, 756249, 0.10833333333333328),\n",
              " (242951, 912495, 0.15315315315315314),\n",
              " (464892, 1090315, 0.18018018018018023),\n",
              " (47677, 1663266, 0.2666666666666667),\n",
              " (143336, 950765, 0.15254237288135597),\n",
              " (143336, 1152253, 0.18644067796610164),\n",
              " (218886, 1750168, 0.16666666666666663),\n",
              " (459748, 1152253, 0.15533980582524276),\n",
              " (584862, 912495, 0.17391304347826086),\n",
              " (756249, 1087080, 0.1428571428571429),\n",
              " (47677, 278072, 0.15000000000000002),\n",
              " (278072, 1749766, 0.19090909090909092),\n",
              " (143336, 544349, 0.01666666666666672),\n",
              " (584862, 1087080, 0.13043478260869568),\n",
              " (608814, 1199836, 0.0672268907563025),\n",
              " (218886, 950765, 0.19266055045871555),\n",
              " (525916, 1750168, 0.15517241379310343),\n",
              " (278072, 912495, 0.1834862385321101),\n",
              " (950765, 1152253, 0.16822429906542058),\n",
              " (1087080, 1663266, 0.1826923076923077),\n",
              " (278072, 1087080, 0.13761467889908252),\n",
              " (912495, 1750168, 0.16814159292035402),\n",
              " (1090315, 1553707, 0.15887850467289721),\n",
              " (684947, 1259945, 0.23423423423423428),\n",
              " (1090315, 1432904, 0.16504854368932043),\n",
              " (143336, 1750168, 0.0672268907563025),\n",
              " (242951, 608814, 0.09401709401709402),\n",
              " (525916, 1087080, 0.14678899082568808),\n",
              " (684947, 1152253, 0.15596330275229353),\n",
              " (1087080, 1553707, 0.14678899082568808),\n",
              " (278072, 1199836, 0.1512605042016807),\n",
              " (455372, 950765, 0.18584070796460173),\n",
              " (1087080, 1090315, 0.1428571428571429),\n",
              " (218886, 544349, 0.19166666666666665),\n",
              " (242951, 1259945, 0.22123893805309736),\n",
              " (912495, 1152253, 0.12745098039215685),\n",
              " (1087080, 1199836, 0.1610169491525424),\n",
              " (1087080, 1432904, 0.13461538461538458),\n",
              " (1553707, 1749766, 0.13207547169811318),\n",
              " (143336, 584862, 0.025423728813559365),\n",
              " (143336, 1749766, 0.18644067796610164),\n",
              " (584862, 756249, 0.09401709401709402),\n",
              " (143336, 455372, 0.11016949152542377),\n",
              " (143336, 608814, 0.0423728813559322),\n",
              " (278072, 1750168, 0.17796610169491522),\n",
              " (455372, 1152253, 0.22123893805309736),\n",
              " (47677, 1432904, 0.2100840336134454),\n",
              " (152380, 898066, 0.0),\n",
              " (525916, 1331267, 0.1694915254237288),\n",
              " (608814, 912495, 0.17543859649122806),\n",
              " (1152253, 1749766, 0.18867924528301883),\n",
              " (47677, 1331267, 0.05833333333333335),\n",
              " (152380, 242951, 0.08333333333333337),\n",
              " (455372, 1331267, 0.15966386554621848),\n",
              " (898066, 1749766, 0.19999999999999996),\n",
              " (34993, 608814, 0.16521739130434787),\n",
              " (455372, 525916, 0.1842105263157895),\n",
              " (464892, 684947, 0.1724137931034483),\n",
              " (152380, 278072, 0.14166666666666672),\n",
              " (218886, 1087080, 0.17592592592592593),\n",
              " (13395, 459748, 0.09183673469387754),\n",
              " (152380, 684947, 0.125),\n",
              " (1432904, 1553707, 0.15094339622641506),\n",
              " (143336, 898066, 0.01666666666666672),\n",
              " (278072, 1371266, 0.18181818181818177),\n",
              " (525916, 1432904, 0.1333333333333333),\n",
              " (584862, 608814, 0.05128205128205132),\n",
              " (47677, 1087080, 0.17500000000000004),\n",
              " (584862, 1090315, 0.18965517241379315),\n",
              " (608814, 1749766, 0.18260869565217386),\n",
              " (1388218, 1663266, 0.23893805309734517),\n",
              " (218886, 459748, 0.18095238095238098),\n",
              " (242951, 1090315, 0.13636363636363635),\n",
              " (47677, 1388218, 0.09166666666666667),\n",
              " (143336, 152380, 0.01666666666666672),\n",
              " (898066, 912495, 0.20833333333333337),\n",
              " (912495, 1553707, 0.15887850467289721),\n",
              " (104317, 525916, 0.1651376146788991),\n",
              " (584862, 1663266, 0.22608695652173916),\n",
              " (525916, 1259945, 0.14423076923076927),\n",
              " (13395, 104317, 0.1456310679611651),\n",
              " (1199836, 1371266, 0.18644067796610164),\n",
              " (218886, 1259945, 0.2264150943396226),\n",
              " (1152253, 1388218, 0.14414414414414412),\n",
              " (47677, 455372, 0.1333333333333333),\n",
              " (152380, 525916, 0.15000000000000002),\n",
              " (464892, 584862, 0.06956521739130439),\n",
              " (464892, 1087080, 0.1351351351351351),\n",
              " (684947, 756249, 0.1637931034482759),\n",
              " (684947, 1432904, 0.2072072072072072),\n",
              " (459748, 1090315, 0.1470588235294118),\n",
              " (544349, 584862, 0.04166666666666663),\n",
              " (950765, 1432904, 0.20370370370370372),\n",
              " (13395, 47677, 0.23333333333333328),\n",
              " (34993, 898066, 0.18333333333333335),\n",
              " (47677, 143336, 0.025000000000000022),\n",
              " (608814, 1388218, 0.07758620689655171),\n",
              " (912495, 1087080, 0.10679611650485432),\n",
              " (544349, 1331267, 0.050000000000000044),\n",
              " (950765, 1663266, 0.1826923076923077),\n",
              " (1090315, 1152253, 0.16346153846153844),\n",
              " (1331267, 1432904, 0.2068965517241379),\n",
              " (1388218, 1553707, 0.12389380530973448),\n",
              " (143336, 278072, 0.1271186440677966),\n",
              " (218886, 1090315, 0.2222222222222222),\n",
              " (104317, 143336, 0.1694915254237288),\n",
              " (104317, 544349, 0.18333333333333335),\n",
              " (143336, 218886, 0.17796610169491522),\n",
              " (104317, 1152253, 0.16981132075471694),\n",
              " (218886, 608814, 0.17391304347826086),\n",
              " (544349, 950765, 0.16666666666666663),\n",
              " (950765, 1371266, 0.2090909090909091),\n",
              " (218886, 684947, 0.14678899082568808),\n",
              " (756249, 1331267, 0.134453781512605),\n",
              " (898066, 1663266, 0.2583333333333333),\n",
              " (13395, 1152253, 0.12871287128712872),\n",
              " (143336, 684947, 0.11016949152542377),\n",
              " (459748, 1553707, 0.16822429906542058),\n",
              " (544349, 1090315, 0.20833333333333337)]"
            ]
          },
          "metadata": {},
          "execution_count": 156
        }
      ],
      "source": [
        "similar_pairs"
      ]
    },
    {
      "cell_type": "markdown",
      "metadata": {
        "id": "u_INUr8HhOgU"
      },
      "source": [
        "### Some results"
      ]
    },
    {
      "cell_type": "code",
      "source": [
        "similar_df = pd.DataFrame(similar_pairs, columns=['doc_id1', 'doc_id2', 'jaccard_sim'])"
      ],
      "metadata": {
        "id": "3yRBc_C40WOw"
      },
      "execution_count": null,
      "outputs": []
    },
    {
      "cell_type": "code",
      "source": [
        "similar_df"
      ],
      "metadata": {
        "colab": {
          "base_uri": "https://localhost:8080/",
          "height": 424
        },
        "id": "MNDDJaZD1R-v",
        "outputId": "0fae48c0-1292-4c9b-b8dc-efab53744d65"
      },
      "execution_count": null,
      "outputs": [
        {
          "output_type": "execute_result",
          "data": {
            "text/plain": [
              "     doc_id1  doc_id2  jaccard_sim\n",
              "0     544349  1553707     0.150000\n",
              "1    1199836  1663266     0.254237\n",
              "2    1331267  1388218     0.101695\n",
              "3      13395  1749766     0.128713\n",
              "4      47677   544349     0.008333\n",
              "..       ...      ...          ...\n",
              "556   898066  1663266     0.258333\n",
              "557    13395  1152253     0.128713\n",
              "558   143336   684947     0.110169\n",
              "559   459748  1553707     0.168224\n",
              "560   544349  1090315     0.208333\n",
              "\n",
              "[561 rows x 3 columns]"
            ],
            "text/html": [
              "\n",
              "  <div id=\"df-cc6e5d34-e28c-4b56-b6c1-23253866b874\" class=\"colab-df-container\">\n",
              "    <div>\n",
              "<style scoped>\n",
              "    .dataframe tbody tr th:only-of-type {\n",
              "        vertical-align: middle;\n",
              "    }\n",
              "\n",
              "    .dataframe tbody tr th {\n",
              "        vertical-align: top;\n",
              "    }\n",
              "\n",
              "    .dataframe thead th {\n",
              "        text-align: right;\n",
              "    }\n",
              "</style>\n",
              "<table border=\"1\" class=\"dataframe\">\n",
              "  <thead>\n",
              "    <tr style=\"text-align: right;\">\n",
              "      <th></th>\n",
              "      <th>doc_id1</th>\n",
              "      <th>doc_id2</th>\n",
              "      <th>jaccard_sim</th>\n",
              "    </tr>\n",
              "  </thead>\n",
              "  <tbody>\n",
              "    <tr>\n",
              "      <th>0</th>\n",
              "      <td>544349</td>\n",
              "      <td>1553707</td>\n",
              "      <td>0.150000</td>\n",
              "    </tr>\n",
              "    <tr>\n",
              "      <th>1</th>\n",
              "      <td>1199836</td>\n",
              "      <td>1663266</td>\n",
              "      <td>0.254237</td>\n",
              "    </tr>\n",
              "    <tr>\n",
              "      <th>2</th>\n",
              "      <td>1331267</td>\n",
              "      <td>1388218</td>\n",
              "      <td>0.101695</td>\n",
              "    </tr>\n",
              "    <tr>\n",
              "      <th>3</th>\n",
              "      <td>13395</td>\n",
              "      <td>1749766</td>\n",
              "      <td>0.128713</td>\n",
              "    </tr>\n",
              "    <tr>\n",
              "      <th>4</th>\n",
              "      <td>47677</td>\n",
              "      <td>544349</td>\n",
              "      <td>0.008333</td>\n",
              "    </tr>\n",
              "    <tr>\n",
              "      <th>...</th>\n",
              "      <td>...</td>\n",
              "      <td>...</td>\n",
              "      <td>...</td>\n",
              "    </tr>\n",
              "    <tr>\n",
              "      <th>556</th>\n",
              "      <td>898066</td>\n",
              "      <td>1663266</td>\n",
              "      <td>0.258333</td>\n",
              "    </tr>\n",
              "    <tr>\n",
              "      <th>557</th>\n",
              "      <td>13395</td>\n",
              "      <td>1152253</td>\n",
              "      <td>0.128713</td>\n",
              "    </tr>\n",
              "    <tr>\n",
              "      <th>558</th>\n",
              "      <td>143336</td>\n",
              "      <td>684947</td>\n",
              "      <td>0.110169</td>\n",
              "    </tr>\n",
              "    <tr>\n",
              "      <th>559</th>\n",
              "      <td>459748</td>\n",
              "      <td>1553707</td>\n",
              "      <td>0.168224</td>\n",
              "    </tr>\n",
              "    <tr>\n",
              "      <th>560</th>\n",
              "      <td>544349</td>\n",
              "      <td>1090315</td>\n",
              "      <td>0.208333</td>\n",
              "    </tr>\n",
              "  </tbody>\n",
              "</table>\n",
              "<p>561 rows × 3 columns</p>\n",
              "</div>\n",
              "    <div class=\"colab-df-buttons\">\n",
              "\n",
              "  <div class=\"colab-df-container\">\n",
              "    <button class=\"colab-df-convert\" onclick=\"convertToInteractive('df-cc6e5d34-e28c-4b56-b6c1-23253866b874')\"\n",
              "            title=\"Convert this dataframe to an interactive table.\"\n",
              "            style=\"display:none;\">\n",
              "\n",
              "  <svg xmlns=\"http://www.w3.org/2000/svg\" height=\"24px\" viewBox=\"0 -960 960 960\">\n",
              "    <path d=\"M120-120v-720h720v720H120Zm60-500h600v-160H180v160Zm220 220h160v-160H400v160Zm0 220h160v-160H400v160ZM180-400h160v-160H180v160Zm440 0h160v-160H620v160ZM180-180h160v-160H180v160Zm440 0h160v-160H620v160Z\"/>\n",
              "  </svg>\n",
              "    </button>\n",
              "\n",
              "  <style>\n",
              "    .colab-df-container {\n",
              "      display:flex;\n",
              "      gap: 12px;\n",
              "    }\n",
              "\n",
              "    .colab-df-convert {\n",
              "      background-color: #E8F0FE;\n",
              "      border: none;\n",
              "      border-radius: 50%;\n",
              "      cursor: pointer;\n",
              "      display: none;\n",
              "      fill: #1967D2;\n",
              "      height: 32px;\n",
              "      padding: 0 0 0 0;\n",
              "      width: 32px;\n",
              "    }\n",
              "\n",
              "    .colab-df-convert:hover {\n",
              "      background-color: #E2EBFA;\n",
              "      box-shadow: 0px 1px 2px rgba(60, 64, 67, 0.3), 0px 1px 3px 1px rgba(60, 64, 67, 0.15);\n",
              "      fill: #174EA6;\n",
              "    }\n",
              "\n",
              "    .colab-df-buttons div {\n",
              "      margin-bottom: 4px;\n",
              "    }\n",
              "\n",
              "    [theme=dark] .colab-df-convert {\n",
              "      background-color: #3B4455;\n",
              "      fill: #D2E3FC;\n",
              "    }\n",
              "\n",
              "    [theme=dark] .colab-df-convert:hover {\n",
              "      background-color: #434B5C;\n",
              "      box-shadow: 0px 1px 3px 1px rgba(0, 0, 0, 0.15);\n",
              "      filter: drop-shadow(0px 1px 2px rgba(0, 0, 0, 0.3));\n",
              "      fill: #FFFFFF;\n",
              "    }\n",
              "  </style>\n",
              "\n",
              "    <script>\n",
              "      const buttonEl =\n",
              "        document.querySelector('#df-cc6e5d34-e28c-4b56-b6c1-23253866b874 button.colab-df-convert');\n",
              "      buttonEl.style.display =\n",
              "        google.colab.kernel.accessAllowed ? 'block' : 'none';\n",
              "\n",
              "      async function convertToInteractive(key) {\n",
              "        const element = document.querySelector('#df-cc6e5d34-e28c-4b56-b6c1-23253866b874');\n",
              "        const dataTable =\n",
              "          await google.colab.kernel.invokeFunction('convertToInteractive',\n",
              "                                                    [key], {});\n",
              "        if (!dataTable) return;\n",
              "\n",
              "        const docLinkHtml = 'Like what you see? Visit the ' +\n",
              "          '<a target=\"_blank\" href=https://colab.research.google.com/notebooks/data_table.ipynb>data table notebook</a>'\n",
              "          + ' to learn more about interactive tables.';\n",
              "        element.innerHTML = '';\n",
              "        dataTable['output_type'] = 'display_data';\n",
              "        await google.colab.output.renderOutput(dataTable, element);\n",
              "        const docLink = document.createElement('div');\n",
              "        docLink.innerHTML = docLinkHtml;\n",
              "        element.appendChild(docLink);\n",
              "      }\n",
              "    </script>\n",
              "  </div>\n",
              "\n",
              "\n",
              "<div id=\"df-8aebf95a-bc94-4a6e-9227-1eeb13b70c8b\">\n",
              "  <button class=\"colab-df-quickchart\" onclick=\"quickchart('df-8aebf95a-bc94-4a6e-9227-1eeb13b70c8b')\"\n",
              "            title=\"Suggest charts\"\n",
              "            style=\"display:none;\">\n",
              "\n",
              "<svg xmlns=\"http://www.w3.org/2000/svg\" height=\"24px\"viewBox=\"0 0 24 24\"\n",
              "     width=\"24px\">\n",
              "    <g>\n",
              "        <path d=\"M19 3H5c-1.1 0-2 .9-2 2v14c0 1.1.9 2 2 2h14c1.1 0 2-.9 2-2V5c0-1.1-.9-2-2-2zM9 17H7v-7h2v7zm4 0h-2V7h2v10zm4 0h-2v-4h2v4z\"/>\n",
              "    </g>\n",
              "</svg>\n",
              "  </button>\n",
              "\n",
              "<style>\n",
              "  .colab-df-quickchart {\n",
              "      --bg-color: #E8F0FE;\n",
              "      --fill-color: #1967D2;\n",
              "      --hover-bg-color: #E2EBFA;\n",
              "      --hover-fill-color: #174EA6;\n",
              "      --disabled-fill-color: #AAA;\n",
              "      --disabled-bg-color: #DDD;\n",
              "  }\n",
              "\n",
              "  [theme=dark] .colab-df-quickchart {\n",
              "      --bg-color: #3B4455;\n",
              "      --fill-color: #D2E3FC;\n",
              "      --hover-bg-color: #434B5C;\n",
              "      --hover-fill-color: #FFFFFF;\n",
              "      --disabled-bg-color: #3B4455;\n",
              "      --disabled-fill-color: #666;\n",
              "  }\n",
              "\n",
              "  .colab-df-quickchart {\n",
              "    background-color: var(--bg-color);\n",
              "    border: none;\n",
              "    border-radius: 50%;\n",
              "    cursor: pointer;\n",
              "    display: none;\n",
              "    fill: var(--fill-color);\n",
              "    height: 32px;\n",
              "    padding: 0;\n",
              "    width: 32px;\n",
              "  }\n",
              "\n",
              "  .colab-df-quickchart:hover {\n",
              "    background-color: var(--hover-bg-color);\n",
              "    box-shadow: 0 1px 2px rgba(60, 64, 67, 0.3), 0 1px 3px 1px rgba(60, 64, 67, 0.15);\n",
              "    fill: var(--button-hover-fill-color);\n",
              "  }\n",
              "\n",
              "  .colab-df-quickchart-complete:disabled,\n",
              "  .colab-df-quickchart-complete:disabled:hover {\n",
              "    background-color: var(--disabled-bg-color);\n",
              "    fill: var(--disabled-fill-color);\n",
              "    box-shadow: none;\n",
              "  }\n",
              "\n",
              "  .colab-df-spinner {\n",
              "    border: 2px solid var(--fill-color);\n",
              "    border-color: transparent;\n",
              "    border-bottom-color: var(--fill-color);\n",
              "    animation:\n",
              "      spin 1s steps(1) infinite;\n",
              "  }\n",
              "\n",
              "  @keyframes spin {\n",
              "    0% {\n",
              "      border-color: transparent;\n",
              "      border-bottom-color: var(--fill-color);\n",
              "      border-left-color: var(--fill-color);\n",
              "    }\n",
              "    20% {\n",
              "      border-color: transparent;\n",
              "      border-left-color: var(--fill-color);\n",
              "      border-top-color: var(--fill-color);\n",
              "    }\n",
              "    30% {\n",
              "      border-color: transparent;\n",
              "      border-left-color: var(--fill-color);\n",
              "      border-top-color: var(--fill-color);\n",
              "      border-right-color: var(--fill-color);\n",
              "    }\n",
              "    40% {\n",
              "      border-color: transparent;\n",
              "      border-right-color: var(--fill-color);\n",
              "      border-top-color: var(--fill-color);\n",
              "    }\n",
              "    60% {\n",
              "      border-color: transparent;\n",
              "      border-right-color: var(--fill-color);\n",
              "    }\n",
              "    80% {\n",
              "      border-color: transparent;\n",
              "      border-right-color: var(--fill-color);\n",
              "      border-bottom-color: var(--fill-color);\n",
              "    }\n",
              "    90% {\n",
              "      border-color: transparent;\n",
              "      border-bottom-color: var(--fill-color);\n",
              "    }\n",
              "  }\n",
              "</style>\n",
              "\n",
              "  <script>\n",
              "    async function quickchart(key) {\n",
              "      const quickchartButtonEl =\n",
              "        document.querySelector('#' + key + ' button');\n",
              "      quickchartButtonEl.disabled = true;  // To prevent multiple clicks.\n",
              "      quickchartButtonEl.classList.add('colab-df-spinner');\n",
              "      try {\n",
              "        const charts = await google.colab.kernel.invokeFunction(\n",
              "            'suggestCharts', [key], {});\n",
              "      } catch (error) {\n",
              "        console.error('Error during call to suggestCharts:', error);\n",
              "      }\n",
              "      quickchartButtonEl.classList.remove('colab-df-spinner');\n",
              "      quickchartButtonEl.classList.add('colab-df-quickchart-complete');\n",
              "    }\n",
              "    (() => {\n",
              "      let quickchartButtonEl =\n",
              "        document.querySelector('#df-8aebf95a-bc94-4a6e-9227-1eeb13b70c8b button');\n",
              "      quickchartButtonEl.style.display =\n",
              "        google.colab.kernel.accessAllowed ? 'block' : 'none';\n",
              "    })();\n",
              "  </script>\n",
              "</div>\n",
              "    </div>\n",
              "  </div>\n"
            ],
            "application/vnd.google.colaboratory.intrinsic+json": {
              "type": "dataframe",
              "variable_name": "similar_df",
              "summary": "{\n  \"name\": \"similar_df\",\n  \"rows\": 561,\n  \"fields\": [\n    {\n      \"column\": \"doc_id1\",\n      \"properties\": {\n        \"dtype\": \"number\",\n        \"std\": 407341,\n        \"min\": 13395,\n        \"max\": 1749766,\n        \"num_unique_values\": 33,\n        \"samples\": [\n          912495,\n          1087080,\n          608814\n        ],\n        \"semantic_type\": \"\",\n        \"description\": \"\"\n      }\n    },\n    {\n      \"column\": \"doc_id2\",\n      \"properties\": {\n        \"dtype\": \"number\",\n        \"std\": 457243,\n        \"min\": 34993,\n        \"max\": 1750168,\n        \"num_unique_values\": 33,\n        \"samples\": [\n          104317,\n          1750168,\n          584862\n        ],\n        \"semantic_type\": \"\",\n        \"description\": \"\"\n      }\n    },\n    {\n      \"column\": \"jaccard_sim\",\n      \"properties\": {\n        \"dtype\": \"number\",\n        \"std\": 0.05064463790871617,\n        \"min\": 0.0,\n        \"max\": 0.2666666666666667,\n        \"num_unique_values\": 256,\n        \"samples\": [\n          0.15533980582524276,\n          0.10833333333333328,\n          0.19819819819819817\n        ],\n        \"semantic_type\": \"\",\n        \"description\": \"\"\n      }\n    }\n  ]\n}"
            }
          },
          "metadata": {},
          "execution_count": 161
        }
      ]
    },
    {
      "cell_type": "code",
      "source": [
        "for pair in similar_pairs[:2]:\n",
        "    doc1 = pair[0]\n",
        "    doc2 = pair[1]\n",
        "\n",
        "    # Filter DataFrame to retrieve text for doc1 and doc2\n",
        "    doc1_text = df_scaled.filter(col('doc_id') == doc1).select('job_words').first()[0]\n",
        "    doc2_text = df_scaled.filter(col('doc_id') == doc2).select('job_words').first()[0]\n",
        "\n",
        "    # Display job summaries for doc1 and doc2\n",
        "    print(\"Document 1:\")\n",
        "    print(doc1_text)\n",
        "    print(\"\\nDocument 2:\")\n",
        "    print(doc2_text)\n",
        "    print(\"\\n---\")"
      ],
      "metadata": {
        "colab": {
          "base_uri": "https://localhost:8080/"
        },
        "id": "6ZEWjHv45bs6",
        "outputId": "9508bfc4-f37a-47d0-f948-9ec081360bb0"
      },
      "execution_count": null,
      "outputs": [
        {
          "output_type": "stream",
          "name": "stdout",
          "text": [
            "Document 1:\n",
            " 45 pounds and over; heavy carrying\n",
            "\n",
            "Document 2:\n",
            "As a Unit Supply Specialist for the Army National Guard, you will ensure that your Unit and fellow Soldiers are well supplied and equipped for any mission. In this role, your keen eye and management ability will keep warehouse functions running smoothly. You will oversee the shipping, storage, and supply of Army National Guard equipment. This includes receiving, inspecting, invoicing, storing, and delivering supplies. You will: ensure that all documents are prepared and organized; maintain automated systems; secure and control weapons and ammunition; and schedule and provide maintenance for weapons. Job Duties Issue and receive small arms. Secure and control weapons and ammunition in security areas Schedule and perform preventive and organizational maintenance on weapons Operate unit level computers Some Of The Skills You’ll Learn Procedures for handling medical and food supplies Helpful Skills Interest in mathematics, bookkeeping, accounting, business administration and/or typing Ability to keep accurate records Enjoy physical work Interest in operating forklifts and other warehouse equipment Through your training, you will develop the skills and experience to enjoy a civilian career as a stock control clerk, parts clerk, or storekeeper with factories, repair shops, department stores or government warehouses and stockrooms. Earn While You Learn Instead of paying to learn these skills, get paid to train. In the Army National Guard, you will learn these valuable job skills while earning a regular paycheck and qualifying for tuition assistance. Job training requires 10 weeks of Basic Training, where you learn basic Soldiering skills. Then you will attend eight weeks Advanced Individual Training (AIT), which consists of six weeks of additional training. Part of this time is spent in a classroom and part in the field under simulated combat conditions. Show more Show less\n",
            "\n",
            "---\n",
            "Document 1:\n",
            " empowering clients to comprehend complex financial situations and make business decisions with unwavering confidence.\n",
            "\n",
            "Document 2:\n",
            "Hotel Lexington Embassy Suites Bar Manager Full time Pay range: $18.00-20.00 Availability: second shift, weekends required Primary Purpose The primary purpose of the Restaurant Supervisor is to provide guests with an excellent restaurant experience. Work Performed The Restaurant Supervisor will be tasked with the following duties, responsibilities, and assignments: Supervise, direct, schedule, and train food and beverage Associates; Exceed guest expectations throughout their restaurant and hotel experience; Work quickly and independently to resolve operational and/or guest concerns, ensuring follow through with appropriate manager(s); Ensure all opening and closing side work is completed accurately on a daily basis; Assist Restaurant Associates as well as other restaurant associates with their job duties as necessary; Observe Health Department guidelines for food handling and sanitation so that guests and employees will not be in risk of cross-contamination, keeping compartment sinks, side boards, and refrigerators clean and sanitized; Follow all company safety and security policies and procedures, including reporting accidents, injuries and unsafe work conditions to management; and Any and all other work as required to complete the primary purpose of the position. Qualifications Required Prior Experience: Two (2) years of prior server experience At least one year lead and/or supervisory experience Preferred Education High school diploma or equivalent Required Licenses/ Certification Food Safety Training certified or become certified within first 60 days of employment. Alcohol Awareness certified or become certified within first 60 days of employment Physical Able to lift 50lbs occasionally Able to bend and squat repeatedly; Able to walk and stand for duration of scheduled shift Other Meet state minimum age requirement to serve alcoholic beverages Ability to read and comprehend instructions, both written and oral Flexible to work day shifts, early mornings, evenings, nights, weekends and holidays __________________________________________________ Benefits When you’re an Atrium Associate, you’re a part of a crucial workforce providing the ultimate ‘Home Away From Home’ for our guests. We know that it takes a lot of time and effort to provide these exceptional experiences, so we reward your efforts with a competitive compensation plan and other benefits and perks that allow you to offer your best to our guests. These benefits include: Daily Pay Significant Travel Discounts on Marriott and/or Hilton properties 401k Plans Medical Insurance Other property specific benefits Plus, we make sure you can grow your career the way you want to through Internship programs, training and development and over 80 hotels that offer incredible opportunities for career driven associates. _____________________________________________ Actual compensation packages are based on a wide array of factors unique to each candidate, including but not limited to skill set, years & depth of experience, certifications and specific office location. This may differ in other locations due to cost of labor considerations. Atrium Hospitality provides equal employment opportunities to all employees and applicants for employment and prohibits discrimination and harassment of any type without regard to race, color, religion, age, sex, national origin, disability status, genetics, protected veteran status, sexual orientation, gender identity or expression, or any other characteristic protected by federal, state or local laws. This policy applies to all terms and conditions of employment, including recruiting, hiring, placement, promotion, termination, layoff, recall, transfer, leaves of absence, compensation and training. Atrium Hospitality brinda igualdad de oportunidades de empleo a todos los empleados y aplicantes de empleo y prohíbe la discriminación y el acoso de cualquier tipo sin distinción de raza, color, religión, edad, sexo, origen nacional, estado de discapacidad, genética, estado de veterano protegido, orientación sexual, género de identidad o expresión, o cualquier otra característica protegida por las leyes federales, estatales o locales. Esta política se aplica a todos los términos y condiciones de empleo, incluido el reclutamiento, la contratación, la colocación, la promoción, la terminación, el despido, el retiro, la transferencia, las licencias, la compensación y la capacitación. Notice of candidate Privacy Rights: https://atriumhospitality.com/privacy-policy/ Show more Show less\n",
            "\n",
            "---\n"
          ]
        }
      ]
    }
  ],
  "metadata": {
    "colab": {
      "provenance": []
    },
    "kernelspec": {
      "display_name": "Python 3",
      "name": "python3"
    },
    "language_info": {
      "name": "python"
    }
  },
  "nbformat": 4,
  "nbformat_minor": 0
}
