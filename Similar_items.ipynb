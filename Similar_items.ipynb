{
  "cells": [
    {
      "cell_type": "markdown",
      "metadata": {
        "id": "Cgu5sXFOyeXQ"
      },
      "source": [
        "# Algorithms for Massive Data\n",
        "\n",
        "\n",
        "Project Finding Similar Items\n",
        "\n",
        "\n",
        "Michela Mazzaglia academic year 2023/2024"
      ]
    },
    {
      "cell_type": "markdown",
      "metadata": {
        "id": "3UYT36l9zKaM"
      },
      "source": [
        "## Importing libraries"
      ]
    },
    {
      "cell_type": "code",
      "execution_count": 1,
      "metadata": {
        "colab": {
          "base_uri": "https://localhost:8080/"
        },
        "id": "1Y3WDvffms6L",
        "outputId": "29a012ff-5fa6-46bc-d15b-830dc7044d21"
      },
      "outputs": [
        {
          "output_type": "stream",
          "name": "stdout",
          "text": [
            "Requirement already satisfied: pyspark in /usr/local/lib/python3.10/dist-packages (3.5.1)\n",
            "Requirement already satisfied: py4j==0.10.9.7 in /usr/local/lib/python3.10/dist-packages (from pyspark) (0.10.9.7)\n"
          ]
        }
      ],
      "source": [
        "pip install pyspark"
      ]
    },
    {
      "cell_type": "code",
      "execution_count": 2,
      "metadata": {
        "colab": {
          "base_uri": "https://localhost:8080/"
        },
        "id": "L53ps9OZrfbA",
        "outputId": "c38a5dd3-bc6c-4691-dd9a-c9ac8fa11adc"
      },
      "outputs": [
        {
          "output_type": "stream",
          "name": "stdout",
          "text": [
            "Requirement already satisfied: findspark in /usr/local/lib/python3.10/dist-packages (2.0.1)\n"
          ]
        }
      ],
      "source": [
        "pip install findspark"
      ]
    },
    {
      "cell_type": "code",
      "execution_count": 3,
      "metadata": {
        "colab": {
          "base_uri": "https://localhost:8080/",
          "height": 221
        },
        "id": "DnZBxBhbiMtE",
        "outputId": "a109dff5-d6f7-4780-9037-0c1073a6f204"
      },
      "outputs": [
        {
          "output_type": "execute_result",
          "data": {
            "text/plain": [
              "<pyspark.sql.session.SparkSession at 0x793ad89eca30>"
            ],
            "text/html": [
              "\n",
              "            <div>\n",
              "                <p><b>SparkSession - in-memory</b></p>\n",
              "                \n",
              "        <div>\n",
              "            <p><b>SparkContext</b></p>\n",
              "\n",
              "            <p><a href=\"http://ad006276bca2:4040\">Spark UI</a></p>\n",
              "\n",
              "            <dl>\n",
              "              <dt>Version</dt>\n",
              "                <dd><code>v3.5.1</code></dd>\n",
              "              <dt>Master</dt>\n",
              "                <dd><code>local[*]</code></dd>\n",
              "              <dt>AppName</dt>\n",
              "                <dd><code>pyspark-shell</code></dd>\n",
              "            </dl>\n",
              "        </div>\n",
              "        \n",
              "            </div>\n",
              "        "
            ]
          },
          "metadata": {},
          "execution_count": 3
        }
      ],
      "source": [
        "import pyspark\n",
        "import findspark\n",
        "from pyspark.sql import SparkSession\n",
        "\n",
        "spark = SparkSession.builder.master(\"local[*]\").getOrCreate()\n",
        "spark"
      ]
    },
    {
      "cell_type": "code",
      "execution_count": 4,
      "metadata": {
        "id": "_fctGHFInO8p"
      },
      "outputs": [],
      "source": [
        "! pip install -q kaggle"
      ]
    },
    {
      "cell_type": "code",
      "execution_count": 5,
      "metadata": {
        "colab": {
          "base_uri": "https://localhost:8080/"
        },
        "id": "a7mx96DnAv4V",
        "outputId": "ccbb814e-0222-4f31-8f92-3e39836389c6"
      },
      "outputs": [
        {
          "output_type": "stream",
          "name": "stdout",
          "text": [
            "Requirement already satisfied: pyspark in /usr/local/lib/python3.10/dist-packages (3.5.1)\n",
            "Requirement already satisfied: nltk in /usr/local/lib/python3.10/dist-packages (3.8.1)\n",
            "Requirement already satisfied: py4j==0.10.9.7 in /usr/local/lib/python3.10/dist-packages (from pyspark) (0.10.9.7)\n",
            "Requirement already satisfied: click in /usr/local/lib/python3.10/dist-packages (from nltk) (8.1.7)\n",
            "Requirement already satisfied: joblib in /usr/local/lib/python3.10/dist-packages (from nltk) (1.4.2)\n",
            "Requirement already satisfied: regex>=2021.8.3 in /usr/local/lib/python3.10/dist-packages (from nltk) (2024.5.15)\n",
            "Requirement already satisfied: tqdm in /usr/local/lib/python3.10/dist-packages (from nltk) (4.66.4)\n"
          ]
        }
      ],
      "source": [
        "pip install pyspark nltk"
      ]
    },
    {
      "cell_type": "code",
      "execution_count": 6,
      "metadata": {
        "id": "_Vg5_SZQBTo-"
      },
      "outputs": [],
      "source": [
        "import numpy as np\n",
        "import pandas as pd\n",
        "import re, math\n",
        "import nltk\n",
        "from pyspark.sql.functions import udf, length, expr, regexp_extract, collect_list\n",
        "from pyspark.sql.types import StructType, StructField, StringType, LongType\n",
        "from pyspark.sql.functions import monotonically_increasing_id, regexp_replace, col, split, size, concat_ws\n",
        "from pyspark.ml.linalg import Vectors, DenseVector, VectorUDT\n",
        "from pyspark.ml.feature import MinHashLSH, HashingTF\n",
        "import random\n",
        "from sympy import nextprime"
      ]
    },
    {
      "cell_type": "markdown",
      "metadata": {
        "id": "sw6iadABzV9V"
      },
      "source": [
        "## Uploading the dataset"
      ]
    },
    {
      "cell_type": "code",
      "execution_count": null,
      "metadata": {
        "collapsed": true,
        "id": "0tffiZwBnuiG"
      },
      "outputs": [],
      "source": [
        "from google.colab import files\n",
        "\n",
        "files.upload() # upload your kaggle api key"
      ]
    },
    {
      "cell_type": "code",
      "execution_count": null,
      "metadata": {
        "id": "MTmTZw7inE3T"
      },
      "outputs": [],
      "source": [
        "! mkdir ~/.kaggle\n",
        "\n",
        "! cp kaggle.json ~/.kaggle/"
      ]
    },
    {
      "cell_type": "code",
      "execution_count": 9,
      "metadata": {
        "id": "QIHxIdY-n4oY"
      },
      "outputs": [],
      "source": [
        "! chmod 600 ~/.kaggle/kaggle.json"
      ]
    },
    {
      "cell_type": "code",
      "execution_count": 10,
      "metadata": {
        "colab": {
          "base_uri": "https://localhost:8080/"
        },
        "id": "auoJ04U-n7Ok",
        "outputId": "6c144dc4-3952-41cc-a961-12f1531cd2ab"
      },
      "outputs": [
        {
          "output_type": "stream",
          "name": "stdout",
          "text": [
            "Dataset URL: https://www.kaggle.com/datasets/asaniczka/1-3m-linkedin-jobs-and-skills-2024\n",
            "License(s): ODC Attribution License (ODC-By)\n",
            "1-3m-linkedin-jobs-and-skills-2024.zip: Skipping, found more recently modified local copy (use --force to force download)\n"
          ]
        }
      ],
      "source": [
        "!kaggle datasets download -d asaniczka/1-3m-linkedin-jobs-and-skills-2024"
      ]
    },
    {
      "cell_type": "code",
      "execution_count": null,
      "metadata": {
        "id": "CcXCQbsXzgkL"
      },
      "outputs": [],
      "source": [
        "!unzip -q ./1-3m-linkedin-jobs-and-skills-2024.zip -d ."
      ]
    },
    {
      "cell_type": "code",
      "execution_count": 12,
      "metadata": {
        "id": "s3tlOwX9Oqq-"
      },
      "outputs": [],
      "source": [
        "sc = spark.sparkContext"
      ]
    },
    {
      "cell_type": "markdown",
      "metadata": {
        "id": "Wz7htdabyaZ6"
      },
      "source": [
        "## Data Cleaning & Preprocessing"
      ]
    },
    {
      "cell_type": "code",
      "execution_count": null,
      "metadata": {
        "id": "Lb00f_bHMwvL"
      },
      "outputs": [],
      "source": [
        "df_0 = pd.read_csv('/content/job_summary.csv')"
      ]
    },
    {
      "cell_type": "code",
      "execution_count": null,
      "metadata": {
        "colab": {
          "base_uri": "https://localhost:8080/",
          "height": 424
        },
        "id": "KFTppokKNeVa",
        "outputId": "30a0617c-e77c-427f-e99e-3c3cf5f171a2"
      },
      "outputs": [
        {
          "output_type": "execute_result",
          "data": {
            "text/plain": [
              "                                                  job_link  \\\n",
              "0        https://www.linkedin.com/jobs/view/restaurant-...   \n",
              "1        https://www.linkedin.com/jobs/view/med-surg-re...   \n",
              "2        https://www.linkedin.com/jobs/view/registered-...   \n",
              "3        https://uk.linkedin.com/jobs/view/commercial-a...   \n",
              "4        https://www.linkedin.com/jobs/view/store-manag...   \n",
              "...                                                    ...   \n",
              "1297327  https://www.linkedin.com/jobs/view/roofing-sup...   \n",
              "1297328  https://www.linkedin.com/jobs/view/service-cen...   \n",
              "1297329  https://www.linkedin.com/jobs/view/flight-qual...   \n",
              "1297330  https://www.linkedin.com/jobs/view/global-sour...   \n",
              "1297331  https://www.linkedin.com/jobs/view/research-as...   \n",
              "\n",
              "                                               job_summary  \n",
              "0        Rock N Roll Sushi is hiring a Restaurant Manag...  \n",
              "1        Schedule\\n: PRN is required minimum 12 hours p...  \n",
              "2        Description\\nIntroduction\\nAre you looking for...  \n",
              "3        Commercial account executive\\nSheffield\\nFull ...  \n",
              "4        Address:\\nUSA-CT-Newington-44 Fenn Road\\nStore...  \n",
              "...                                                    ...  \n",
              "1297327  We are currently seeking experienced commercia...  \n",
              "1297328  Overview\\nStable and growing organization\\nCom...  \n",
              "1297329  Rôle et responsabilités\\nJob Description:\\nFli...  \n",
              "1297330  Job Description\\nAre You Ready to Make It Happ...  \n",
              "1297331  Current Employees:\\nIf you are a current Staff...  \n",
              "\n",
              "[1297332 rows x 2 columns]"
            ],
            "text/html": [
              "\n",
              "  <div id=\"df-ad461f17-c7bc-48e7-8504-dfb758e58ca3\" class=\"colab-df-container\">\n",
              "    <div>\n",
              "<style scoped>\n",
              "    .dataframe tbody tr th:only-of-type {\n",
              "        vertical-align: middle;\n",
              "    }\n",
              "\n",
              "    .dataframe tbody tr th {\n",
              "        vertical-align: top;\n",
              "    }\n",
              "\n",
              "    .dataframe thead th {\n",
              "        text-align: right;\n",
              "    }\n",
              "</style>\n",
              "<table border=\"1\" class=\"dataframe\">\n",
              "  <thead>\n",
              "    <tr style=\"text-align: right;\">\n",
              "      <th></th>\n",
              "      <th>job_link</th>\n",
              "      <th>job_summary</th>\n",
              "    </tr>\n",
              "  </thead>\n",
              "  <tbody>\n",
              "    <tr>\n",
              "      <th>0</th>\n",
              "      <td>https://www.linkedin.com/jobs/view/restaurant-...</td>\n",
              "      <td>Rock N Roll Sushi is hiring a Restaurant Manag...</td>\n",
              "    </tr>\n",
              "    <tr>\n",
              "      <th>1</th>\n",
              "      <td>https://www.linkedin.com/jobs/view/med-surg-re...</td>\n",
              "      <td>Schedule\\n: PRN is required minimum 12 hours p...</td>\n",
              "    </tr>\n",
              "    <tr>\n",
              "      <th>2</th>\n",
              "      <td>https://www.linkedin.com/jobs/view/registered-...</td>\n",
              "      <td>Description\\nIntroduction\\nAre you looking for...</td>\n",
              "    </tr>\n",
              "    <tr>\n",
              "      <th>3</th>\n",
              "      <td>https://uk.linkedin.com/jobs/view/commercial-a...</td>\n",
              "      <td>Commercial account executive\\nSheffield\\nFull ...</td>\n",
              "    </tr>\n",
              "    <tr>\n",
              "      <th>4</th>\n",
              "      <td>https://www.linkedin.com/jobs/view/store-manag...</td>\n",
              "      <td>Address:\\nUSA-CT-Newington-44 Fenn Road\\nStore...</td>\n",
              "    </tr>\n",
              "    <tr>\n",
              "      <th>...</th>\n",
              "      <td>...</td>\n",
              "      <td>...</td>\n",
              "    </tr>\n",
              "    <tr>\n",
              "      <th>1297327</th>\n",
              "      <td>https://www.linkedin.com/jobs/view/roofing-sup...</td>\n",
              "      <td>We are currently seeking experienced commercia...</td>\n",
              "    </tr>\n",
              "    <tr>\n",
              "      <th>1297328</th>\n",
              "      <td>https://www.linkedin.com/jobs/view/service-cen...</td>\n",
              "      <td>Overview\\nStable and growing organization\\nCom...</td>\n",
              "    </tr>\n",
              "    <tr>\n",
              "      <th>1297329</th>\n",
              "      <td>https://www.linkedin.com/jobs/view/flight-qual...</td>\n",
              "      <td>Rôle et responsabilités\\nJob Description:\\nFli...</td>\n",
              "    </tr>\n",
              "    <tr>\n",
              "      <th>1297330</th>\n",
              "      <td>https://www.linkedin.com/jobs/view/global-sour...</td>\n",
              "      <td>Job Description\\nAre You Ready to Make It Happ...</td>\n",
              "    </tr>\n",
              "    <tr>\n",
              "      <th>1297331</th>\n",
              "      <td>https://www.linkedin.com/jobs/view/research-as...</td>\n",
              "      <td>Current Employees:\\nIf you are a current Staff...</td>\n",
              "    </tr>\n",
              "  </tbody>\n",
              "</table>\n",
              "<p>1297332 rows × 2 columns</p>\n",
              "</div>\n",
              "    <div class=\"colab-df-buttons\">\n",
              "\n",
              "  <div class=\"colab-df-container\">\n",
              "    <button class=\"colab-df-convert\" onclick=\"convertToInteractive('df-ad461f17-c7bc-48e7-8504-dfb758e58ca3')\"\n",
              "            title=\"Convert this dataframe to an interactive table.\"\n",
              "            style=\"display:none;\">\n",
              "\n",
              "  <svg xmlns=\"http://www.w3.org/2000/svg\" height=\"24px\" viewBox=\"0 -960 960 960\">\n",
              "    <path d=\"M120-120v-720h720v720H120Zm60-500h600v-160H180v160Zm220 220h160v-160H400v160Zm0 220h160v-160H400v160ZM180-400h160v-160H180v160Zm440 0h160v-160H620v160ZM180-180h160v-160H180v160Zm440 0h160v-160H620v160Z\"/>\n",
              "  </svg>\n",
              "    </button>\n",
              "\n",
              "  <style>\n",
              "    .colab-df-container {\n",
              "      display:flex;\n",
              "      gap: 12px;\n",
              "    }\n",
              "\n",
              "    .colab-df-convert {\n",
              "      background-color: #E8F0FE;\n",
              "      border: none;\n",
              "      border-radius: 50%;\n",
              "      cursor: pointer;\n",
              "      display: none;\n",
              "      fill: #1967D2;\n",
              "      height: 32px;\n",
              "      padding: 0 0 0 0;\n",
              "      width: 32px;\n",
              "    }\n",
              "\n",
              "    .colab-df-convert:hover {\n",
              "      background-color: #E2EBFA;\n",
              "      box-shadow: 0px 1px 2px rgba(60, 64, 67, 0.3), 0px 1px 3px 1px rgba(60, 64, 67, 0.15);\n",
              "      fill: #174EA6;\n",
              "    }\n",
              "\n",
              "    .colab-df-buttons div {\n",
              "      margin-bottom: 4px;\n",
              "    }\n",
              "\n",
              "    [theme=dark] .colab-df-convert {\n",
              "      background-color: #3B4455;\n",
              "      fill: #D2E3FC;\n",
              "    }\n",
              "\n",
              "    [theme=dark] .colab-df-convert:hover {\n",
              "      background-color: #434B5C;\n",
              "      box-shadow: 0px 1px 3px 1px rgba(0, 0, 0, 0.15);\n",
              "      filter: drop-shadow(0px 1px 2px rgba(0, 0, 0, 0.3));\n",
              "      fill: #FFFFFF;\n",
              "    }\n",
              "  </style>\n",
              "\n",
              "    <script>\n",
              "      const buttonEl =\n",
              "        document.querySelector('#df-ad461f17-c7bc-48e7-8504-dfb758e58ca3 button.colab-df-convert');\n",
              "      buttonEl.style.display =\n",
              "        google.colab.kernel.accessAllowed ? 'block' : 'none';\n",
              "\n",
              "      async function convertToInteractive(key) {\n",
              "        const element = document.querySelector('#df-ad461f17-c7bc-48e7-8504-dfb758e58ca3');\n",
              "        const dataTable =\n",
              "          await google.colab.kernel.invokeFunction('convertToInteractive',\n",
              "                                                    [key], {});\n",
              "        if (!dataTable) return;\n",
              "\n",
              "        const docLinkHtml = 'Like what you see? Visit the ' +\n",
              "          '<a target=\"_blank\" href=https://colab.research.google.com/notebooks/data_table.ipynb>data table notebook</a>'\n",
              "          + ' to learn more about interactive tables.';\n",
              "        element.innerHTML = '';\n",
              "        dataTable['output_type'] = 'display_data';\n",
              "        await google.colab.output.renderOutput(dataTable, element);\n",
              "        const docLink = document.createElement('div');\n",
              "        docLink.innerHTML = docLinkHtml;\n",
              "        element.appendChild(docLink);\n",
              "      }\n",
              "    </script>\n",
              "  </div>\n",
              "\n",
              "\n",
              "<div id=\"df-d291d2a2-edba-4024-951d-f93e67a853f3\">\n",
              "  <button class=\"colab-df-quickchart\" onclick=\"quickchart('df-d291d2a2-edba-4024-951d-f93e67a853f3')\"\n",
              "            title=\"Suggest charts\"\n",
              "            style=\"display:none;\">\n",
              "\n",
              "<svg xmlns=\"http://www.w3.org/2000/svg\" height=\"24px\"viewBox=\"0 0 24 24\"\n",
              "     width=\"24px\">\n",
              "    <g>\n",
              "        <path d=\"M19 3H5c-1.1 0-2 .9-2 2v14c0 1.1.9 2 2 2h14c1.1 0 2-.9 2-2V5c0-1.1-.9-2-2-2zM9 17H7v-7h2v7zm4 0h-2V7h2v10zm4 0h-2v-4h2v4z\"/>\n",
              "    </g>\n",
              "</svg>\n",
              "  </button>\n",
              "\n",
              "<style>\n",
              "  .colab-df-quickchart {\n",
              "      --bg-color: #E8F0FE;\n",
              "      --fill-color: #1967D2;\n",
              "      --hover-bg-color: #E2EBFA;\n",
              "      --hover-fill-color: #174EA6;\n",
              "      --disabled-fill-color: #AAA;\n",
              "      --disabled-bg-color: #DDD;\n",
              "  }\n",
              "\n",
              "  [theme=dark] .colab-df-quickchart {\n",
              "      --bg-color: #3B4455;\n",
              "      --fill-color: #D2E3FC;\n",
              "      --hover-bg-color: #434B5C;\n",
              "      --hover-fill-color: #FFFFFF;\n",
              "      --disabled-bg-color: #3B4455;\n",
              "      --disabled-fill-color: #666;\n",
              "  }\n",
              "\n",
              "  .colab-df-quickchart {\n",
              "    background-color: var(--bg-color);\n",
              "    border: none;\n",
              "    border-radius: 50%;\n",
              "    cursor: pointer;\n",
              "    display: none;\n",
              "    fill: var(--fill-color);\n",
              "    height: 32px;\n",
              "    padding: 0;\n",
              "    width: 32px;\n",
              "  }\n",
              "\n",
              "  .colab-df-quickchart:hover {\n",
              "    background-color: var(--hover-bg-color);\n",
              "    box-shadow: 0 1px 2px rgba(60, 64, 67, 0.3), 0 1px 3px 1px rgba(60, 64, 67, 0.15);\n",
              "    fill: var(--button-hover-fill-color);\n",
              "  }\n",
              "\n",
              "  .colab-df-quickchart-complete:disabled,\n",
              "  .colab-df-quickchart-complete:disabled:hover {\n",
              "    background-color: var(--disabled-bg-color);\n",
              "    fill: var(--disabled-fill-color);\n",
              "    box-shadow: none;\n",
              "  }\n",
              "\n",
              "  .colab-df-spinner {\n",
              "    border: 2px solid var(--fill-color);\n",
              "    border-color: transparent;\n",
              "    border-bottom-color: var(--fill-color);\n",
              "    animation:\n",
              "      spin 1s steps(1) infinite;\n",
              "  }\n",
              "\n",
              "  @keyframes spin {\n",
              "    0% {\n",
              "      border-color: transparent;\n",
              "      border-bottom-color: var(--fill-color);\n",
              "      border-left-color: var(--fill-color);\n",
              "    }\n",
              "    20% {\n",
              "      border-color: transparent;\n",
              "      border-left-color: var(--fill-color);\n",
              "      border-top-color: var(--fill-color);\n",
              "    }\n",
              "    30% {\n",
              "      border-color: transparent;\n",
              "      border-left-color: var(--fill-color);\n",
              "      border-top-color: var(--fill-color);\n",
              "      border-right-color: var(--fill-color);\n",
              "    }\n",
              "    40% {\n",
              "      border-color: transparent;\n",
              "      border-right-color: var(--fill-color);\n",
              "      border-top-color: var(--fill-color);\n",
              "    }\n",
              "    60% {\n",
              "      border-color: transparent;\n",
              "      border-right-color: var(--fill-color);\n",
              "    }\n",
              "    80% {\n",
              "      border-color: transparent;\n",
              "      border-right-color: var(--fill-color);\n",
              "      border-bottom-color: var(--fill-color);\n",
              "    }\n",
              "    90% {\n",
              "      border-color: transparent;\n",
              "      border-bottom-color: var(--fill-color);\n",
              "    }\n",
              "  }\n",
              "</style>\n",
              "\n",
              "  <script>\n",
              "    async function quickchart(key) {\n",
              "      const quickchartButtonEl =\n",
              "        document.querySelector('#' + key + ' button');\n",
              "      quickchartButtonEl.disabled = true;  // To prevent multiple clicks.\n",
              "      quickchartButtonEl.classList.add('colab-df-spinner');\n",
              "      try {\n",
              "        const charts = await google.colab.kernel.invokeFunction(\n",
              "            'suggestCharts', [key], {});\n",
              "      } catch (error) {\n",
              "        console.error('Error during call to suggestCharts:', error);\n",
              "      }\n",
              "      quickchartButtonEl.classList.remove('colab-df-spinner');\n",
              "      quickchartButtonEl.classList.add('colab-df-quickchart-complete');\n",
              "    }\n",
              "    (() => {\n",
              "      let quickchartButtonEl =\n",
              "        document.querySelector('#df-d291d2a2-edba-4024-951d-f93e67a853f3 button');\n",
              "      quickchartButtonEl.style.display =\n",
              "        google.colab.kernel.accessAllowed ? 'block' : 'none';\n",
              "    })();\n",
              "  </script>\n",
              "</div>\n",
              "    </div>\n",
              "  </div>\n"
            ],
            "application/vnd.google.colaboratory.intrinsic+json": {
              "type": "dataframe",
              "variable_name": "df_0"
            }
          },
          "metadata": {},
          "execution_count": 168
        }
      ],
      "source": [
        "df_0"
      ]
    },
    {
      "cell_type": "code",
      "execution_count": null,
      "metadata": {
        "colab": {
          "base_uri": "https://localhost:8080/",
          "height": 143
        },
        "id": "iFWYETU_N9sx",
        "outputId": "e997407e-120c-4e99-8938-515248cc6662"
      },
      "outputs": [
        {
          "output_type": "execute_result",
          "data": {
            "text/plain": [
              "'Description\\nIntroduction\\nAre you looking for a place to deliver excellent care patients deserve? At StoneSprings Hospital Center we support our colleagues in their positions. Join our Team as a(an) Registered Nurse Cath Lab and access programs to assist with every stage of your career.\\nBenefits\\nStoneSprings Hospital Center, offers a total rewards package that supports the health, life, career and retirement of our colleagues. The available plans and programs include:\\nComprehensive medical coverage that covers many common services at no cost or for a low copay. Plans include prescription drug and behavioral health coverage as well as free telemedicine services and free AirMed medical transportation.\\nAdditional options for dental and vision benefits, life and disability coverage, flexible spending accounts, supplemental health protection plans (accident, critical illness, hospital indemnity), auto and home insurance, identity theft protection, legal counseling, long-term care coverage, moving assistance, pet insurance and more.\\nFree counseling services and resources for emotional, physical and financial wellbeing\\n401(k) Plan with a 100% match on 3% to 9% of pay (based on years of service)\\nEmployee Stock Purchase Plan with 10% off HCA Healthcare stock\\nFamily support through fertility and family building benefits with Progyny and adoption assistance.\\nReferral services for child, elder and pet care, home and auto repair, event planning and more\\nConsumer discounts through Abenity and Consumer Discounts\\nRetirement readiness, rollover assistance services and preferred banking partnerships\\nEducation assistance (tuition, student loan, certification support, dependent scholarships)\\nColleague recognition program\\nTime Away From Work Program (paid time off, paid family leave, long- and short-term disability coverage and leaves of absence)\\nEmployee Health Assistance Fund that offers free employee-only coverage to full-time and part-time colleagues based on income.\\nLearn More About Employee Benefits\\nNote: Eligibility for benefits may vary by location.\\nAre you a continuous learner? With more than 94,000 nurses throughout HCA Healthcare, we are one of the largest employers of nurses in the United States. Education is key to excellence! As a majority owner of Galen College of Nursing, which joins Research College of Nursing and Mercy School of Nursing as educational facilities within the HCA Healthcare family, we make it easier and more affordable to gain certifications and job skills. Apply today for our Registered Nurse Cath Lab opening and continue to learn!\\nAs a Registered Nurse (RN) in the Cardiac Catheterization Lab, we see about Cath lab and Intentional Radiology patients. We provide the highest level of care from the onset of symptoms through diagnosis and treatment. Our team provides care for patients providing information, assisting with complications, administering medication, guidance and hands-on care.\\nAs a member of our team your will be responsible for assessing, planning, implementing, evaluating and documenting all aspects of patient care.\\nYou will work closely with all health care providers to facilitate and coordinate efficient, effective, quality health care including patient discharge.\\nOur team interprets patient information and makes decisions about necessary actions.\\nAs a member of our team, you will coordinate a patient’s discharge planning needs with members of the healthcare team.\\nAdvanced Cardiac Life Spt must be obtained within 90 days of employment start date\\nBasic Cardiac Life Support must be obtained within 30 days of employment start date\\nRegistered Nurse\\nRegistered Nurse Diploma\\nStoneSprings Hospital Center\\nhas provided quality healthcare services since 2015. We give patient\\'s access to trained physicians and advanced technology. Our\\n120+ bed hospital\\nis one of the region\\'s leading acute care facilities in Loudoun County. Our medical services includes a full-service 24/7 Emergency Department, orthopedics, advanced heart and vascular care, extensive diagnostic imaging and interventional radiology capabilities, minimally invasive robotic surgery and maternal/child health.\\nAt StoneSprings Hospital Center, our care like family culture extends to our patients, our people and our community. We are committed to each other because when we join together, our patients are cared for in the safest and most compassionate way.\\nHCA Healthcare has been recognized as one of the World’s Most Ethical Companies® by the Ethisphere Institute more than ten times. In recent years, HCA Healthcare spent an estimated $3.7 billion in cost for the delivery of charitable care, uninsured discounts, and other uncompensated expenses.\\n\"Good people beget good people.\"- Dr. Thomas Frist, Sr.\\nHCA Healthcare Co-Founder\\nIf growth and continued learning is important to you, we encourage you to apply for our Registered Nurse Cath Lab opening. Our team will promptly review your application. Highly qualified candidates will be contacted for interviews.\\nUnlock the possibilities apply today!\\nWe are an equal opportunity employer and value diversity at our company. We do not discriminate on the basis of race, religion, color, national origin, gender, sexual orientation, age, marital status, veteran status, or disability status.\\nShow more\\nShow less'"
            ],
            "application/vnd.google.colaboratory.intrinsic+json": {
              "type": "string"
            }
          },
          "metadata": {},
          "execution_count": 169
        }
      ],
      "source": [
        "df_0['job_summary'][2]"
      ]
    },
    {
      "cell_type": "markdown",
      "metadata": {
        "id": "hcKVFRUogUo5"
      },
      "source": [
        "Spark"
      ]
    },
    {
      "cell_type": "code",
      "execution_count": 13,
      "metadata": {
        "id": "LnW9eu9yboFk"
      },
      "outputs": [],
      "source": [
        "schema = StructType([\n",
        "    StructField(\"job_link\", StringType(), True),\n",
        "    StructField(\"job_summary\", StringType(), True)\n",
        "])"
      ]
    },
    {
      "cell_type": "code",
      "execution_count": 14,
      "metadata": {
        "colab": {
          "base_uri": "https://localhost:8080/"
        },
        "id": "XiQeoI4RZLSs",
        "outputId": "0a146ce7-1e77-486f-be6e-ca58b9296f74"
      },
      "outputs": [
        {
          "output_type": "stream",
          "name": "stdout",
          "text": [
            "+--------------------+--------------------+\n",
            "|            job_link|         job_summary|\n",
            "+--------------------+--------------------+\n",
            "|https://www.linke...|Rock N Roll Sushi...|\n",
            "|https://www.linke...|Schedule\\n: PRN i...|\n",
            "|https://www.linke...|\"Description\\nInt...|\n",
            "|HCA Healthcare Co...|                NULL|\n",
            "|If growth and con...| we encourage you...|\n",
            "|Unlock the possib...|                NULL|\n",
            "|We are an equal o...|            religion|\n",
            "|           Show more|                NULL|\n",
            "|          Show less\"|                NULL|\n",
            "|https://uk.linked...|Commercial accoun...|\n",
            "|https://www.linke...|Address:\\nUSA-CT-...|\n",
            "|https://www.linke...|Description\\nOur\\...|\n",
            "|https://www.linke...|Company Descripti...|\n",
            "|https://uk.linked...|An exciting oppor...|\n",
            "|https://www.linke...|Job Details:\\nJob...|\n",
            "|https://www.linke...|Our\\nRestaurant T...|\n",
            "|https://www.linke...|Our General Manag...|\n",
            "|https://www.linke...|Earning potential...|\n",
            "|https://www.linke...|Dollar General Co...|\n",
            "|https://au.linked...|Restaurant Descri...|\n",
            "+--------------------+--------------------+\n",
            "only showing top 20 rows\n",
            "\n",
            "root\n",
            " |-- job_link: string (nullable = true)\n",
            " |-- job_summary: string (nullable = true)\n",
            "\n"
          ]
        }
      ],
      "source": [
        "spark_df = spark.read.csv(\n",
        "    '/content/job_summary.csv',\n",
        "    header=True,\n",
        "    schema=schema,\n",
        "    sep=',',       # Specify the delimiter\n",
        "    quote='\"',     # Handle quotes properly\n",
        "    escape='\\\\',   # Handle escape characters\n",
        "    multiLine=True # Handle multiline fields\n",
        ")\n",
        "\n",
        "spark_df.show()\n",
        "spark_df.printSchema()"
      ]
    },
    {
      "cell_type": "code",
      "execution_count": 15,
      "metadata": {
        "id": "jxvBd1A-Dt9I"
      },
      "outputs": [],
      "source": [
        "spark_df = spark_df.dropna(subset=['job_summary'])"
      ]
    },
    {
      "cell_type": "code",
      "execution_count": 16,
      "metadata": {
        "id": "Lfb7K5fCsdS3"
      },
      "outputs": [],
      "source": [
        "spark_df = spark_df.withColumn('job_summary', regexp_replace(col('job_summary'), '\\n', ' '))"
      ]
    },
    {
      "cell_type": "code",
      "execution_count": 17,
      "metadata": {
        "id": "KI-CWbRBVMfp"
      },
      "outputs": [],
      "source": [
        "spark_df = spark_df.withColumn('job_words', split(col('job_summary'), ' '))"
      ]
    },
    {
      "cell_type": "code",
      "execution_count": 18,
      "metadata": {
        "id": "7X8NZ_yzVqFW"
      },
      "outputs": [],
      "source": [
        "spark_df = spark_df.filter(size(col('job_words')) > 4)"
      ]
    },
    {
      "cell_type": "code",
      "execution_count": 19,
      "metadata": {
        "id": "8MbV-I6nTJrZ"
      },
      "outputs": [],
      "source": [
        "spark_df = spark_df.select('job_words').withColumn('doc_id', monotonically_increasing_id())"
      ]
    },
    {
      "cell_type": "code",
      "execution_count": 20,
      "metadata": {
        "colab": {
          "base_uri": "https://localhost:8080/"
        },
        "id": "LJ-orygPGehM",
        "outputId": "382ea98c-6442-44ee-9538-79b76e6e61a3"
      },
      "outputs": [
        {
          "output_type": "stream",
          "name": "stdout",
          "text": [
            "+--------------------+------+\n",
            "|           job_words|doc_id|\n",
            "+--------------------+------+\n",
            "|[Rock, N, Roll, S...|     0|\n",
            "|[Schedule, :, PRN...|     1|\n",
            "|[\"Description, In...|     2|\n",
            "|[, we, encourage,...|     3|\n",
            "|[Commercial, acco...|     4|\n",
            "|[Address:, USA-CT...|     5|\n",
            "|[Description, Our...|     6|\n",
            "|[Company, Descrip...|     7|\n",
            "|[An, exciting, op...|     8|\n",
            "|[Job, Details:, J...|     9|\n",
            "|[Our, Restaurant,...|    10|\n",
            "|[Our, General, Ma...|    11|\n",
            "|[Earning, potenti...|    12|\n",
            "|[Dollar, General,...|    13|\n",
            "|[Restaurant, Desc...|    14|\n",
            "|[Who, We, Are, We...|    15|\n",
            "|[A, Place, Where,...|    16|\n",
            "|[Description, The...|    17|\n",
            "|[\"Overview, Descr...|    18|\n",
            "|[, seat, them, at...|    19|\n",
            "+--------------------+------+\n",
            "only showing top 20 rows\n",
            "\n"
          ]
        }
      ],
      "source": [
        "spark_df.show()"
      ]
    },
    {
      "cell_type": "code",
      "execution_count": 21,
      "metadata": {
        "id": "SQMVPstdKvOH"
      },
      "outputs": [],
      "source": [
        "df_scaled = spark_df.sample(withReplacement=True, fraction=0.00005, seed=42)"
      ]
    },
    {
      "cell_type": "code",
      "execution_count": 22,
      "metadata": {
        "id": "Sx-fS2_q4put"
      },
      "outputs": [],
      "source": [
        "df_scaled = df_scaled.withColumn('job_words', concat_ws(' ', col('job_words')))"
      ]
    },
    {
      "cell_type": "markdown",
      "metadata": {
        "id": "9KXcnOmb99XU"
      },
      "source": [
        "## Preprocessing"
      ]
    },
    {
      "cell_type": "code",
      "execution_count": 23,
      "metadata": {
        "colab": {
          "base_uri": "https://localhost:8080/"
        },
        "id": "2GUReuVb9-zT",
        "outputId": "a46efb4e-9406-415d-d916-db7f339a583c"
      },
      "outputs": [
        {
          "output_type": "stream",
          "name": "stderr",
          "text": [
            "[nltk_data] Downloading package stopwords to /root/nltk_data...\n",
            "[nltk_data]   Package stopwords is already up-to-date!\n",
            "[nltk_data] Downloading package punkt to /root/nltk_data...\n",
            "[nltk_data]   Package punkt is already up-to-date!\n"
          ]
        }
      ],
      "source": [
        "nltk.download('stopwords')\n",
        "nltk.download('punkt')\n",
        "stopwords = set(nltk.corpus.stopwords.words('english'))"
      ]
    },
    {
      "cell_type": "code",
      "execution_count": 24,
      "metadata": {
        "id": "yvUMW6t3yF7t"
      },
      "outputs": [],
      "source": [
        "def preprocess_text(text):\n",
        "    text = text.lower()\n",
        "    text = re.sub(r'\\s+', ' ', text)  # Remove extra whitespace\n",
        "    text = re.sub(r'[^\\w\\s]', '', text)  # Remove punctuation\n",
        "    tokens = nltk.word_tokenize(text)\n",
        "    tokens = [word for word in tokens if word not in stopwords]  # Remove stopwords\n",
        "    return ' '.join(tokens)"
      ]
    },
    {
      "cell_type": "code",
      "execution_count": 25,
      "metadata": {
        "id": "ZhAAxaGSR9T_"
      },
      "outputs": [],
      "source": [
        "df_udf = udf(preprocess_text, StringType())"
      ]
    },
    {
      "cell_type": "code",
      "execution_count": 26,
      "metadata": {
        "id": "-rTkieEf3Me4"
      },
      "outputs": [],
      "source": [
        "rdd = df_scaled.select('doc_id', 'job_words').rdd.map(lambda row: (row['doc_id'], preprocess_text(row['job_words'])))"
      ]
    },
    {
      "cell_type": "code",
      "execution_count": 27,
      "metadata": {
        "colab": {
          "base_uri": "https://localhost:8080/"
        },
        "id": "BmGP1aP71AkS",
        "outputId": "1e0a7a91-0242-4e94-cff6-bcaba8e81680"
      },
      "outputs": [
        {
          "output_type": "stream",
          "name": "stdout",
          "text": [
            "+------+--------------------+\n",
            "|    _1|                  _2|\n",
            "+------+--------------------+\n",
            "| 13395|grass greener sec...|\n",
            "| 34993|client childrens ...|\n",
            "| 47677|possess valid cla...|\n",
            "| 64146|demonstrates inte...|\n",
            "| 69905|new adventure awa...|\n",
            "|104317|details signon bo...|\n",
            "|143336|parttime intermit...|\n",
            "|152380|conference center...|\n",
            "|188603|scheduled nclex w...|\n",
            "|218886|northern tier hig...|\n",
            "|242951|experience corps ...|\n",
            "|252827|role sr serviceno...|\n",
            "|273921|us join us winco ...|\n",
            "|278072|win sport school ...|\n",
            "|304884|job details job l...|\n",
            "|328483|department econom...|\n",
            "|451330|zoom take great c...|\n",
            "|455372|immediate start e...|\n",
            "|459748|northrop grumman ...|\n",
            "|459967|position interest...|\n",
            "+------+--------------------+\n",
            "only showing top 20 rows\n",
            "\n"
          ]
        }
      ],
      "source": [
        "rdd.toDF().show()"
      ]
    },
    {
      "cell_type": "markdown",
      "metadata": {
        "id": "uvKyO6IMqLf9"
      },
      "source": [
        "### Shingles"
      ]
    },
    {
      "cell_type": "code",
      "execution_count": 28,
      "metadata": {
        "id": "cePlX4IqH_bY"
      },
      "outputs": [],
      "source": [
        "import binascii"
      ]
    },
    {
      "cell_type": "code",
      "execution_count": 29,
      "metadata": {
        "id": "A7UmQnbeRQBm"
      },
      "outputs": [],
      "source": [
        "k = 3"
      ]
    },
    {
      "cell_type": "code",
      "execution_count": 30,
      "metadata": {
        "id": "svTA8WKw8qbg"
      },
      "outputs": [],
      "source": [
        "shingles_rdd = rdd.flatMap(lambda doc: [(doc[0], doc[1][i:i+k]) for i in range(len(doc[1]) - k + 1)])"
      ]
    },
    {
      "cell_type": "code",
      "execution_count": 31,
      "metadata": {
        "colab": {
          "base_uri": "https://localhost:8080/"
        },
        "collapsed": true,
        "id": "6tDAxu5Z4NwU",
        "outputId": "fe2bf098-a6d5-4c8d-c855-384216756c3f"
      },
      "outputs": [
        {
          "output_type": "execute_result",
          "data": {
            "text/plain": [
              "[(13395, 'gra'),\n",
              " (13395, 'ras'),\n",
              " (13395, 'ass'),\n",
              " (13395, 'ss '),\n",
              " (13395, 's g'),\n",
              " (13395, ' gr'),\n",
              " (13395, 'gre')]"
            ]
          },
          "metadata": {},
          "execution_count": 31
        }
      ],
      "source": [
        "shingles_rdd.take(7)"
      ]
    },
    {
      "cell_type": "code",
      "source": [
        "shingles_list = (rdd\n",
        "                 .groupByKey()\n",
        "                 .map(lambda x: (x[0], list(x[1]))))"
      ],
      "metadata": {
        "id": "7tdlA5tBPbQD"
      },
      "execution_count": 32,
      "outputs": []
    },
    {
      "cell_type": "code",
      "source": [
        "shingles_list.toDF().show()"
      ],
      "metadata": {
        "colab": {
          "base_uri": "https://localhost:8080/"
        },
        "id": "ZpD_HHsAP-Sh",
        "outputId": "7ede2f1b-df2b-4682-a422-78b3d38dcc14"
      },
      "execution_count": 33,
      "outputs": [
        {
          "output_type": "stream",
          "name": "stdout",
          "text": [
            "+------+--------------------+\n",
            "|    _1|                  _2|\n",
            "+------+--------------------+\n",
            "| 13395|[grass greener se...|\n",
            "| 34993|[client childrens...|\n",
            "| 47677|[possess valid cl...|\n",
            "| 64146|[demonstrates int...|\n",
            "| 69905|[new adventure aw...|\n",
            "|104317|[details signon b...|\n",
            "|143336|[parttime intermi...|\n",
            "|152380|[conference cente...|\n",
            "|188603|[scheduled nclex ...|\n",
            "|218886|[northern tier hi...|\n",
            "|242951|[experience corps...|\n",
            "|252827|[role sr servicen...|\n",
            "|273921|[us join us winco...|\n",
            "|278072|[win sport school...|\n",
            "|304884|[job details job ...|\n",
            "|328483|[department econo...|\n",
            "|451330|[zoom take great ...|\n",
            "|455372|[immediate start ...|\n",
            "|459748|[northrop grumman...|\n",
            "|459967|[position interes...|\n",
            "+------+--------------------+\n",
            "only showing top 20 rows\n",
            "\n"
          ]
        }
      ]
    },
    {
      "cell_type": "markdown",
      "metadata": {
        "id": "ArUDoulEzcKv"
      },
      "source": [
        "Characteristic matrix"
      ]
    },
    {
      "cell_type": "code",
      "execution_count": 34,
      "metadata": {
        "id": "lvnTGerHIK36"
      },
      "outputs": [],
      "source": [
        "def hash_shingle(shingle):\n",
        "  return binascii.crc32(shingle.encode('utf-8')) & 0xffffffff"
      ]
    },
    {
      "cell_type": "code",
      "source": [
        "hash_rdd = shingles_rdd.mapValues(hash_shingle).distinct()"
      ],
      "metadata": {
        "id": "odgpuusm73_h"
      },
      "execution_count": 35,
      "outputs": []
    },
    {
      "cell_type": "code",
      "source": [
        "hash_rdd.take(7)"
      ],
      "metadata": {
        "colab": {
          "base_uri": "https://localhost:8080/"
        },
        "id": "fSCC-jd68AyV",
        "outputId": "665a0bcd-c3bd-4ad4-889e-b73a32a3b5e2"
      },
      "execution_count": 36,
      "outputs": [
        {
          "output_type": "execute_result",
          "data": {
            "text/plain": [
              "[(13395, 2506444301),\n",
              " (13395, 501096268),\n",
              " (13395, 2068476598),\n",
              " (13395, 2525627878),\n",
              " (13395, 4020559682),\n",
              " (13395, 1404793474),\n",
              " (13395, 2450033172)]"
            ]
          },
          "metadata": {},
          "execution_count": 36
        }
      ]
    },
    {
      "cell_type": "code",
      "source": [
        "df = hash_rdd.toDF([\"doc_id\", \"hashed_shingle\"]) \\\n",
        "    .groupBy(\"doc_id\") \\\n",
        "    .agg(collect_list(\"hashed_shingle\").alias(\"hashed_shingles\"))"
      ],
      "metadata": {
        "id": "hJcxmjRomPEE"
      },
      "execution_count": 37,
      "outputs": []
    },
    {
      "cell_type": "code",
      "source": [
        "df.show()"
      ],
      "metadata": {
        "colab": {
          "base_uri": "https://localhost:8080/"
        },
        "id": "UCYKJbqvmRES",
        "outputId": "db97c34a-5444-48b3-8b78-89c6ae9d4f56"
      },
      "execution_count": 38,
      "outputs": [
        {
          "output_type": "stream",
          "name": "stdout",
          "text": [
            "+-------+--------------------+\n",
            "| doc_id|     hashed_shingles|\n",
            "+-------+--------------------+\n",
            "| 608814|[2743074591, 9616...|\n",
            "| 304884|[4225294584, 3496...|\n",
            "|1663266|[210272711, 33932...|\n",
            "|1618038|[1811742144, 3119...|\n",
            "|1152253|[2189397276, 1432...|\n",
            "|  64146|[2601924841, 3154...|\n",
            "| 773878|[4225294584, 3496...|\n",
            "| 218886|[3781580864, 4138...|\n",
            "|  69905|[1810056261, 3930...|\n",
            "| 909604|[1767766964, 4231...|\n",
            "| 872160|[2068476598, 2576...|\n",
            "| 684947|[2179260663, 2228...|\n",
            "|1460189|[595022058, 58230...|\n",
            "|1388218|[4006809354, 4168...|\n",
            "| 898066|[2244290826, 3530...|\n",
            "| 273921|[2449963348, 2434...|\n",
            "|  47677|[2161764012, 1909...|\n",
            "| 525916|[4225294584, 3496...|\n",
            "|1450243|[2434037902, 3329...|\n",
            "|1621468|[1629029770, 1643...|\n",
            "+-------+--------------------+\n",
            "only showing top 20 rows\n",
            "\n"
          ]
        }
      ]
    },
    {
      "cell_type": "code",
      "source": [
        "def collect_shingles(a, b):\n",
        "    return a + b"
      ],
      "metadata": {
        "id": "rCs7BkQHo3pk"
      },
      "execution_count": 39,
      "outputs": []
    },
    {
      "cell_type": "code",
      "source": [
        "hashed_shingles_rdd = hash_rdd.map(lambda x: (x[0], [x[1]])).reduceByKey(collect_shingles)"
      ],
      "metadata": {
        "id": "9-a8b564ohJT"
      },
      "execution_count": 40,
      "outputs": []
    },
    {
      "cell_type": "code",
      "source": [
        "hashed_shingles_rdd.take(7)"
      ],
      "metadata": {
        "collapsed": true,
        "id": "RCfPTaN3o-Ep"
      },
      "execution_count": null,
      "outputs": []
    },
    {
      "cell_type": "code",
      "source": [
        "hashed_shingles_list = hashed_shingles_rdd.flatMap(lambda x: x[1]).collect()"
      ],
      "metadata": {
        "id": "UACwaMLIrLc9"
      },
      "execution_count": 42,
      "outputs": []
    },
    {
      "cell_type": "markdown",
      "metadata": {
        "id": "aiJPcd7BxnS-"
      },
      "source": [
        "### MinHash\n",
        "\n",
        "\n",
        "---\n",
        "Fast approximation to the Jaccard Similarity Coefficient between any two finite sets\n",
        "\n",
        "\n"
      ]
    },
    {
      "cell_type": "code",
      "execution_count": 43,
      "metadata": {
        "id": "vb56l_PsYxiF"
      },
      "outputs": [],
      "source": [
        "h_functions = 120\n",
        "b_bands = 10"
      ]
    },
    {
      "cell_type": "code",
      "execution_count": 44,
      "metadata": {
        "id": "jUanRJ0Xc1m-"
      },
      "outputs": [],
      "source": [
        "def multiple(x, a, b, c):\n",
        "    return (a * x + b) % c"
      ]
    },
    {
      "cell_type": "code",
      "execution_count": 45,
      "metadata": {
        "colab": {
          "base_uri": "https://localhost:8080/"
        },
        "id": "O3GW6a5PgAU7",
        "outputId": "a9f29544-3764-413c-e25a-2423356accfa"
      },
      "outputs": [
        {
          "output_type": "execute_result",
          "data": {
            "text/plain": [
              "[{'a': 2953, 'b': 1394, 'c': 2957},\n",
              " {'a': 8416, 'b': 2453, 'c': 8419},\n",
              " {'a': 1980, 'b': 8895, 'c': 8923},\n",
              " {'a': 46, 'b': 6695, 'c': 6701},\n",
              " {'a': 4691, 'b': 4298, 'c': 4703},\n",
              " {'a': 7594, 'b': 157, 'c': 7603},\n",
              " {'a': 6890, 'b': 5622, 'c': 6899}]"
            ]
          },
          "metadata": {},
          "execution_count": 45
        }
      ],
      "source": [
        "params =[]\n",
        "\n",
        "for _ in range(h_functions):\n",
        "  a = random.randint(1, 10000)\n",
        "  b = random.randint(1, 10000)\n",
        "  max_ab = max(a, b)\n",
        "  c = nextprime(max_ab + 1)\n",
        "  params.append({\"a\": a, \"b\": b, \"c\": c})\n",
        "\n",
        "params[:7]"
      ]
    },
    {
      "cell_type": "code",
      "source": [
        "def enum_shingles(e, hashed_shingles_list):\n",
        "    doc_id, shingle = e\n",
        "    return [((doc_id), (h), (hashed_shingles_list)) for h in range(h_functions)]"
      ],
      "metadata": {
        "id": "MR6CWvI9oBm9"
      },
      "execution_count": 46,
      "outputs": []
    },
    {
      "cell_type": "code",
      "source": [
        "minhash_matrix = hash_rdd.flatMap(lambda e: enum_shingles(e, hashed_shingles_list))"
      ],
      "metadata": {
        "id": "hkC5sMnWn7rd"
      },
      "execution_count": 47,
      "outputs": []
    },
    {
      "cell_type": "code",
      "source": [
        "minhash_matrix.toDF().show()"
      ],
      "metadata": {
        "colab": {
          "base_uri": "https://localhost:8080/"
        },
        "id": "7XwQfotins3t",
        "outputId": "26bc1844-6580-4d81-817e-2194f7deffe0"
      },
      "execution_count": 48,
      "outputs": [
        {
          "output_type": "stream",
          "name": "stdout",
          "text": [
            "+-----+---+--------------------+\n",
            "|   _1| _2|                  _3|\n",
            "+-----+---+--------------------+\n",
            "|13395|  0|[2506444301, 5010...|\n",
            "|13395|  1|[2506444301, 5010...|\n",
            "|13395|  2|[2506444301, 5010...|\n",
            "|13395|  3|[2506444301, 5010...|\n",
            "|13395|  4|[2506444301, 5010...|\n",
            "|13395|  5|[2506444301, 5010...|\n",
            "|13395|  6|[2506444301, 5010...|\n",
            "|13395|  7|[2506444301, 5010...|\n",
            "|13395|  8|[2506444301, 5010...|\n",
            "|13395|  9|[2506444301, 5010...|\n",
            "|13395| 10|[2506444301, 5010...|\n",
            "|13395| 11|[2506444301, 5010...|\n",
            "|13395| 12|[2506444301, 5010...|\n",
            "|13395| 13|[2506444301, 5010...|\n",
            "|13395| 14|[2506444301, 5010...|\n",
            "|13395| 15|[2506444301, 5010...|\n",
            "|13395| 16|[2506444301, 5010...|\n",
            "|13395| 17|[2506444301, 5010...|\n",
            "|13395| 18|[2506444301, 5010...|\n",
            "|13395| 19|[2506444301, 5010...|\n",
            "+-----+---+--------------------+\n",
            "only showing top 20 rows\n",
            "\n"
          ]
        }
      ]
    },
    {
      "cell_type": "code",
      "source": [
        "def minhash_map(docId_hashedShingles):\n",
        "    doc_id, hashed_shingles = docId_hashedShingles\n",
        "    minhashes = []\n",
        "    for h in range(h_functions):\n",
        "        min_h = math.inf\n",
        "        for shingle in hashed_shingles:\n",
        "            hash_value = multiple(shingle, **params[h])\n",
        "            if hash_value < min_h:\n",
        "                min_h = hash_value\n",
        "        minhashes.append(min_h)\n",
        "    return (doc_id, minhashes)"
      ],
      "metadata": {
        "id": "n40hisSLusL3"
      },
      "execution_count": 49,
      "outputs": []
    },
    {
      "cell_type": "code",
      "source": [
        "sig_matrix_rdd = hashed_shingles_rdd.map(minhash_map)"
      ],
      "metadata": {
        "id": "R0SiK_V0utUB"
      },
      "execution_count": 50,
      "outputs": []
    },
    {
      "cell_type": "code",
      "source": [
        "signature_df = sig_matrix_rdd.toDF([\"doc_id\", \"minhashes\"])"
      ],
      "metadata": {
        "id": "dSP3Sg5iuyVZ"
      },
      "execution_count": 51,
      "outputs": []
    },
    {
      "cell_type": "code",
      "source": [
        "signature_df.show()"
      ],
      "metadata": {
        "colab": {
          "base_uri": "https://localhost:8080/"
        },
        "id": "QXHn9xpmvF8Y",
        "outputId": "43c49243-4a9a-4afc-fb51-49d50f8175a1"
      },
      "execution_count": 52,
      "outputs": [
        {
          "output_type": "stream",
          "name": "stdout",
          "text": [
            "+------+--------------------+\n",
            "|doc_id|           minhashes|\n",
            "+------+--------------------+\n",
            "| 13395|[4, 7, 2, 9, 4, 4...|\n",
            "| 34993|[4, 7, 2, 2, 1, 4...|\n",
            "| 47677|[9, 39, 121, 38, ...|\n",
            "| 64146|[42, 65, 72, 57, ...|\n",
            "| 69905|[0, 7, 2, 9, 4, 4...|\n",
            "|104317|[1, 7, 2, 0, 5, 4...|\n",
            "|143336|[42, 65, 2, 82, 1...|\n",
            "|152380|[168, 131, 34, 87...|\n",
            "|188603|[111, 131, 2, 187...|\n",
            "|218886|[4, 7, 2, 9, 4, 4...|\n",
            "|242951|[9, 7, 7, 2, 4, 7...|\n",
            "|252827|[4, 7, 2, 14, 4, ...|\n",
            "|273921|[1, 7, 2, 9, 2, 4...|\n",
            "|278072|[3, 7, 2, 52, 4, ...|\n",
            "|304884|[0, 7, 2, 2, 4, 4...|\n",
            "|328483|[4, 7, 2, 2, 4, 4...|\n",
            "|451330|[9, 7, 2, 26, 8, ...|\n",
            "|455372|[4, 7, 2, 9, 4, 4...|\n",
            "|459748|[9, 7, 2, 1, 4, 4...|\n",
            "|459967|[0, 7, 2, 2, 4, 4...|\n",
            "+------+--------------------+\n",
            "only showing top 20 rows\n",
            "\n"
          ]
        }
      ]
    },
    {
      "cell_type": "markdown",
      "metadata": {
        "id": "pWm4fiLnp1Id"
      },
      "source": [
        "### Locality-Sensitive Hashing"
      ]
    },
    {
      "cell_type": "markdown",
      "metadata": {
        "id": "ENN-QqCSn61_"
      },
      "source": [
        "Define the threshold"
      ]
    },
    {
      "cell_type": "code",
      "execution_count": 53,
      "metadata": {
        "id": "x-QyErWnRVSq"
      },
      "outputs": [],
      "source": [
        "# having h_functions = 100 and b_bands = 10\n",
        "n_per_bands = h_functions // b_bands\n",
        "threshold = (1/b_bands) ** (1/n_per_bands)"
      ]
    },
    {
      "cell_type": "code",
      "execution_count": 54,
      "metadata": {
        "colab": {
          "base_uri": "https://localhost:8080/"
        },
        "id": "DpSWyycesvhN",
        "outputId": "9ce364da-271c-467c-db88-8ca311d04ce2"
      },
      "outputs": [
        {
          "output_type": "stream",
          "name": "stdout",
          "text": [
            "Threshold for candidate pairs:  0.8254041852680184\n"
          ]
        }
      ],
      "source": [
        "print(\"Threshold for candidate pairs: \", threshold)"
      ]
    },
    {
      "cell_type": "markdown",
      "source": [
        "Using the MinHashLSH provided by Pyspark"
      ],
      "metadata": {
        "id": "erjK23cWbW0_"
      }
    },
    {
      "cell_type": "code",
      "source": [
        "array_to_vector_udf = udf(lambda x: DenseVector(x), VectorUDT())\n",
        "signature_df = signature_df.withColumn(\"minhash_vector\", array_to_vector_udf(col(\"minhashes\"))) # converted with dense vector"
      ],
      "metadata": {
        "id": "w4wIQpg4vgUD"
      },
      "execution_count": 55,
      "outputs": []
    },
    {
      "cell_type": "code",
      "source": [
        "signature_df = signature_df.drop(\"minhashes\")"
      ],
      "metadata": {
        "id": "9lC89QrCwk3l"
      },
      "execution_count": 56,
      "outputs": []
    },
    {
      "cell_type": "code",
      "source": [
        "mh = MinHashLSH(inputCol=\"minhash_vector\", outputCol=\"hashes\", numHashTables=b_bands*n_per_bands, seed=56)"
      ],
      "metadata": {
        "id": "fKNATTBWv1Bz"
      },
      "execution_count": 57,
      "outputs": []
    },
    {
      "cell_type": "code",
      "source": [
        "model = mh.fit(signature_df)"
      ],
      "metadata": {
        "id": "8tFKABjijpBk"
      },
      "execution_count": 58,
      "outputs": []
    },
    {
      "cell_type": "code",
      "source": [
        "lsh_df = model.transform(signature_df)"
      ],
      "metadata": {
        "id": "hteHWzFLxdMW"
      },
      "execution_count": 59,
      "outputs": []
    },
    {
      "cell_type": "markdown",
      "metadata": {
        "id": "Z5BIkIysMGlP"
      },
      "source": [
        "## Finding similar jobs"
      ]
    },
    {
      "cell_type": "code",
      "source": [
        "def find_similar_jobs(lsh_df, model, threshold):\n",
        "    # Perform self-join to find all pairs\n",
        "    similar_items = model.approxSimilarityJoin(lsh_df, lsh_df, threshold, distCol=\"JaccardDistance\")\n",
        "\n",
        "    # Filter out pairs with the same doc_id and JaccardDistance above the threshold\n",
        "    similar_pairs = (similar_items\n",
        "                     .select(\n",
        "                         col(\"datasetA.doc_id\").alias(\"doc_id_A\"),\n",
        "                         col(\"datasetB.doc_id\").alias(\"doc_id_B\"),\n",
        "                         col(\"JaccardDistance\"))\n",
        "                     .filter(col(\"doc_id_A\") < col(\"doc_id_B\"))\n",
        "                     .filter(col(\"JaccardDistance\") <= threshold)\n",
        "                     .rdd\n",
        "                     .map(lambda row: (row[\"doc_id_A\"], row[\"doc_id_B\"], row[\"JaccardDistance\"]))\n",
        "                     .collect())\n",
        "\n",
        "    return similar_pairs"
      ],
      "metadata": {
        "id": "Hfy_bTRYyhEd"
      },
      "execution_count": 60,
      "outputs": []
    },
    {
      "cell_type": "code",
      "source": [
        "similar_pairs = find_similar_jobs(lsh_df, model, threshold)"
      ],
      "metadata": {
        "id": "kbLUgUgEy4B6"
      },
      "execution_count": 61,
      "outputs": []
    },
    {
      "cell_type": "code",
      "execution_count": 62,
      "metadata": {
        "id": "631sYFaegg3S",
        "colab": {
          "base_uri": "https://localhost:8080/"
        },
        "collapsed": true,
        "outputId": "a10feff1-155e-4372-cacb-0c35e5892747"
      },
      "outputs": [
        {
          "output_type": "execute_result",
          "data": {
            "text/plain": [
              "[(47677, 624623, 0.008333333333333304),\n",
              " (152380, 1750168, 0.050000000000000044),\n",
              " (278072, 1087080, 0.09734513274336287),\n",
              " (451330, 513391, 0.08771929824561409),\n",
              " (472496, 1388218, 0.1228070175438597),\n",
              " (513391, 1320765, 0.1166666666666667),\n",
              " (544349, 1038199, 0.18333333333333335),\n",
              " (579745, 1415018, 0.06837606837606836),\n",
              " (624623, 642420, 0.19166666666666665),\n",
              " (773878, 1087080, 0.08181818181818179),\n",
              " (1038199, 1388218, 0.14414414414414412),\n",
              " (1087080, 1415018, 0.0854700854700855),\n",
              " (1145791, 1388218, 0.125),\n",
              " (1331267, 1559819, 0.03389830508474578),\n",
              " (1415018, 1618038, 0.1282051282051282),\n",
              " (1371266, 1559819, 0.1271186440677966),\n",
              " (1390884, 1559819, 0.06779661016949157),\n",
              " (13395, 64146, 0.1512605042016807),\n",
              " (152380, 546299, 0.22499999999999998),\n",
              " (252827, 1087080, 0.10909090909090913),\n",
              " (459967, 1373757, 0.1188118811881188),\n",
              " (507283, 756249, 0.1351351351351351),\n",
              " (756249, 1199836, 0.0847457627118644),\n",
              " (34993, 1331267, 0.11304347826086958),\n",
              " (242951, 950765, 0.11504424778761058),\n",
              " (328483, 1750168, 0.11403508771929827),\n",
              " (544349, 909604, 0.15833333333333333),\n",
              " (1145791, 1320765, 0.14166666666666672),\n",
              " (242951, 304884, 0.22522522522522526),\n",
              " (252827, 459748, 0.14814814814814814),\n",
              " (304884, 1090315, 0.19417475728155342),\n",
              " (459967, 1145791, 0.14018691588785048),\n",
              " (472496, 1651499, 0.18181818181818177),\n",
              " (689406, 1373757, 0.18181818181818177),\n",
              " (922304, 1621468, 0.14166666666666672),\n",
              " (922304, 1651499, 0.22499999999999998),\n",
              " (1259945, 1450243, 0.0980392156862745),\n",
              " (1415018, 1460189, 0.11965811965811968),\n",
              " (64146, 1432904, 0.134453781512605),\n",
              " (273921, 773878, 0.16666666666666663),\n",
              " (451330, 1559819, 0.05084745762711862),\n",
              " (464892, 1331267, 0.07758620689655171),\n",
              " (1199836, 1749766, 0.11016949152542377),\n",
              " (188603, 1621468, 0.15833333333333333),\n",
              " (278072, 1390884, 0.08771929824561409),\n",
              " (304884, 1572773, 0.1869158878504673),\n",
              " (546299, 1259945, 0.1568627450980392),\n",
              " (1090315, 1259945, 0.16981132075471694),\n",
              " (64146, 455372, 0.12605042016806722),\n",
              " (104317, 1199836, 0.16239316239316237),\n",
              " (143336, 1373757, 0.2033898305084746),\n",
              " (152380, 1038199, 0.17500000000000004),\n",
              " (273921, 684947, 0.1785714285714286),\n",
              " (472496, 684947, 0.0964912280701754),\n",
              " (878756, 1278595, 0.18803418803418803),\n",
              " (909604, 1371266, 0.13636363636363635),\n",
              " (13395, 579745, 0.125),\n",
              " (525916, 1460189, 0.1327433628318584),\n",
              " (684947, 1129756, 0.1415929203539823),\n",
              " (1129756, 1750168, 0.13913043478260867),\n",
              " (1559819, 1651499, 0.211864406779661),\n",
              " (104317, 922304, 0.18333333333333335),\n",
              " (188603, 872160, 0.1166666666666667),\n",
              " (451330, 464892, 0.06140350877192979),\n",
              " (464892, 1749766, 0.11403508771929827),\n",
              " (773878, 1388218, 0.1160714285714286),\n",
              " (831098, 1373757, 0.17272727272727273),\n",
              " (909604, 1415018, 0.15966386554621848),\n",
              " (1090315, 1559819, 0.1610169491525424),\n",
              " (1553707, 1559819, 0.11016949152542377),\n",
              " (252827, 455372, 0.08411214953271029),\n",
              " (507283, 1087080, 0.10185185185185186),\n",
              " (756249, 1390884, 0.07894736842105265),\n",
              " (912495, 1259945, 0.1089108910891089),\n",
              " (143336, 609576, 0.0847457627118644),\n",
              " (152380, 513391, 0.1166666666666667),\n",
              " (1145791, 1559819, 0.1271186440677966),\n",
              " (143336, 1390884, 0.06779661016949157),\n",
              " (152380, 1259945, 0.20833333333333337),\n",
              " (152380, 1621468, 0.14166666666666672),\n",
              " (507283, 872160, 0.12727272727272732),\n",
              " (507283, 1559819, 0.1694915254237288),\n",
              " (689406, 1618038, 0.15929203539823011),\n",
              " (872160, 1450243, 0.11818181818181817),\n",
              " (1371266, 1415018, 0.1512605042016807),\n",
              " (1553707, 1750168, 0.11206896551724133),\n",
              " (143336, 1278595, 0.14406779661016944),\n",
              " (242951, 1038199, 0.1504424778761062),\n",
              " (544349, 584862, 0.025000000000000022),\n",
              " (544349, 1572773, 0.1166666666666667),\n",
              " (609576, 1278595, 0.11711711711711714),\n",
              " (950765, 1532570, 0.10185185185185186),\n",
              " (13395, 1373757, 0.17757009345794394),\n",
              " (304884, 507283, 0.16831683168316836),\n",
              " (304884, 831098, 0.25225225225225223),\n",
              " (451330, 507283, 0.1415929203539823),\n",
              " (459748, 459967, 0.160377358490566),\n",
              " (472496, 912495, 0.1875),\n",
              " (689406, 878756, 0.14529914529914534),\n",
              " (756249, 1145791, 0.12389380530973448),\n",
              " (34993, 684947, 0.0982142857142857),\n",
              " (47677, 1087080, 0.10084033613445376),\n",
              " (47677, 1432904, 0.134453781512605),\n",
              " (104317, 143336, 0.1694915254237288),\n",
              " (188603, 909604, 0.1512605042016807),\n",
              " (188603, 1388218, 0.125),\n",
              " (328483, 513391, 0.1009174311926605),\n",
              " (579745, 909604, 0.16521739130434787),\n",
              " (609576, 684947, 0.1367521367521367),\n",
              " (624623, 1038199, 0.17500000000000004),\n",
              " (13395, 1320765, 0.15833333333333333),\n",
              " (304884, 1259945, 0.16161616161616166),\n",
              " (546299, 579745, 0.14678899082568808),\n",
              " (609576, 912495, 0.12844036697247707),\n",
              " (756249, 898066, 0.10833333333333328),\n",
              " (756249, 1152253, 0.0803571428571429),\n",
              " (912495, 1331267, 0.17391304347826086),\n",
              " (278072, 1090315, 0.1517857142857143),\n",
              " (455372, 1278595, 0.11926605504587151),\n",
              " (579745, 1145791, 0.12389380530973448),\n",
              " (584862, 608814, 0.03389830508474578),\n",
              " (608814, 1559819, 0.03389830508474578),\n",
              " (684947, 1090315, 0.1504424778761062),\n",
              " (878756, 1572773, 0.12068965517241381),\n",
              " (1090315, 1199836, 0.15384615384615385),\n",
              " (1373757, 1559819, 0.2033898305084746),\n",
              " (47677, 756249, 0.08403361344537819),\n",
              " (64146, 689406, 0.10924369747899154),\n",
              " (304884, 1651499, 0.16326530612244894),\n",
              " (525916, 1259945, 0.15454545454545454),\n",
              " (544349, 546299, 0.23333333333333328),\n",
              " (922304, 1460189, 0.14166666666666672),\n",
              " (1199836, 1460189, 0.13559322033898302),\n",
              " (464892, 950765, 0.1071428571428571),\n",
              " (472496, 584862, 0.10924369747899154),\n",
              " (544349, 773878, 0.14166666666666672),\n",
              " (608814, 872160, 0.08620689655172409),\n",
              " (898066, 1087080, 0.125),\n",
              " (69905, 872160, 0.08108108108108103),\n",
              " (218886, 1087080, 0.08108108108108103),\n",
              " (507283, 684947, 0.1428571428571429),\n",
              " (507283, 1618038, 0.14814814814814814),\n",
              " (1371266, 1750168, 0.14529914529914534),\n",
              " (1651499, 1663266, 0.14150943396226412),\n",
              " (143336, 1532570, 0.13559322033898302),\n",
              " (455372, 579745, 0.11504424778761058),\n",
              " (459748, 1388218, 0.09259259259259256),\n",
              " (831098, 1320765, 0.10833333333333328),\n",
              " (909604, 1320765, 0.15000000000000002),\n",
              " (1087080, 1145791, 0.10810810810810811),\n",
              " (1087080, 1199836, 0.10169491525423724),\n",
              " (1152253, 1388218, 0.0982142857142857),\n",
              " (525916, 1559819, 0.0847457627118644),\n",
              " (608814, 1371266, 0.11304347826086958),\n",
              " (1320765, 1371266, 0.14166666666666672),\n",
              " (273921, 304884, 0.20792079207920788),\n",
              " (64146, 1152253, 0.10924369747899154),\n",
              " (188603, 1415018, 0.04166666666666663),\n",
              " (242951, 1090315, 0.16666666666666663),\n",
              " (872160, 1618038, 0.10810810810810811),\n",
              " (1038199, 1532570, 0.15596330275229353),\n",
              " (1038199, 1390884, 0.11711711711711714),\n",
              " (13395, 464892, 0.125),\n",
              " (69905, 1371266, 0.12612612612612617),\n",
              " (69905, 1749766, 0.06422018348623848),\n",
              " (252827, 1390884, 0.1160714285714286),\n",
              " (546299, 773878, 0.17592592592592593),\n",
              " (909604, 1651499, 0.160377358490566),\n",
              " (912495, 1388218, 0.13761467889908252),\n",
              " (64146, 773878, 0.12605042016806722),\n",
              " (152380, 898066, 0.01666666666666672),\n",
              " (242951, 1749766, 0.10526315789473684),\n",
              " (328483, 609576, 0.1504424778761062),\n",
              " (609576, 1663266, 0.12389380530973448),\n",
              " (872160, 909604, 0.1415929203539823),\n",
              " (1152253, 1331267, 0.08695652173913049),\n",
              " (1278595, 1388218, 0.12612612612612617),\n",
              " (1320765, 1373757, 0.21666666666666667),\n",
              " (1331267, 1618038, 0.12173913043478257),\n",
              " (218886, 1572773, 0.0982142857142857),\n",
              " (455372, 1390884, 0.10619469026548678),\n",
              " (584862, 912495, 0.18644067796610164),\n",
              " (1460189, 1651499, 0.15094339622641506),\n",
              " (1278595, 1390884, 0.14912280701754388),\n",
              " (188603, 1749766, 0.1333333333333333),\n",
              " (273921, 584862, 0.2033898305084746),\n",
              " (584862, 642420, 0.17796610169491522),\n",
              " (684947, 1278595, 0.1327433628318584),\n",
              " (773878, 1663266, 0.09174311926605505),\n",
              " (898066, 1038199, 0.1610169491525424),\n",
              " (1090315, 1663266, 0.13761467889908252),\n",
              " (1145791, 1532570, 0.13636363636363635),\n",
              " (1152253, 1415018, 0.09401709401709402),\n",
              " (584862, 1214632, 0.17796610169491522),\n",
              " (1087080, 1371266, 0.1415929203539823),\n",
              " (1145791, 1450243, 0.12962962962962965),\n",
              " (1259945, 1663266, 0.14018691588785048),\n",
              " (104317, 909604, 0.14814814814814814),\n",
              " (152380, 1371266, 0.14166666666666672),\n",
              " (242951, 1390884, 0.10344827586206895),\n",
              " (13395, 756249, 0.10810810810810811),\n",
              " (104317, 459967, 0.1523809523809524),\n",
              " (459967, 546299, 0.12871287128712872),\n",
              " (546299, 912495, 0.19999999999999996),\n",
              " (1038199, 1450243, 0.14953271028037385),\n",
              " (64146, 278072, 0.09243697478991597),\n",
              " (64146, 1388218, 0.10084033613445376),\n",
              " (104317, 1278595, 0.15740740740740744),\n",
              " (143336, 642420, 0.17796610169491522),\n",
              " (459748, 513391, 0.13636363636363635),\n",
              " (579745, 1278595, 0.125),\n",
              " (608814, 1199836, 0.0423728813559322),\n",
              " (608814, 1572773, 0.07826086956521738),\n",
              " (831098, 1152253, 0.0982142857142857),\n",
              " (188603, 507283, 0.18487394957983194),\n",
              " (218886, 922304, 0.1166666666666667),\n",
              " (218886, 1145791, 0.09999999999999998),\n",
              " (451330, 1621468, 0.11403508771929827),\n",
              " (455372, 1621468, 0.08333333333333337),\n",
              " (459967, 689406, 0.14678899082568808),\n",
              " (546299, 1129756, 0.16190476190476188),\n",
              " (684947, 1460189, 0.11504424778761058),\n",
              " (689406, 1450243, 0.13636363636363635),\n",
              " (912495, 1572773, 0.13761467889908252),\n",
              " (34993, 1553707, 0.12612612612612617),\n",
              " (273921, 689406, 0.1651376146788991),\n",
              " (64146, 1199836, 0.01680672268907568),\n",
              " (152380, 273921, 0.21666666666666667),\n",
              " (152380, 773878, 0.1333333333333333),\n",
              " (278072, 1331267, 0.06956521739130439),\n",
              " (773878, 1432904, 0.1009174311926605),\n",
              " (104317, 756249, 0.1517857142857143),\n",
              " (252827, 459967, 0.12380952380952381),\n",
              " (304884, 1145791, 0.2075471698113207),\n",
              " (609576, 1460189, 0.1160714285714286),\n",
              " (773878, 1460189, 0.1009174311926605),\n",
              " (1129756, 1390884, 0.125),\n",
              " (1259945, 1572773, 0.14678899082568808),\n",
              " (756249, 1553707, 0.1228070175438597),\n",
              " (1214632, 1278595, 0.14953271028037385),\n",
              " (47677, 64146, 0.01666666666666672),\n",
              " (278072, 544349, 0.10833333333333328),\n",
              " (278072, 1320765, 0.09999999999999998),\n",
              " (278072, 1532570, 0.125),\n",
              " (472496, 579745, 0.12173913043478257),\n",
              " (544349, 1087080, 0.1166666666666667),\n",
              " (584862, 1087080, 0.09322033898305082),\n",
              " (608814, 1532570, 0.13793103448275867),\n",
              " (684947, 1559819, 0.06779661016949157),\n",
              " (831098, 898066, 0.125),\n",
              " (878756, 1038199, 0.1578947368421053),\n",
              " (13395, 1621468, 0.09345794392523366),\n",
              " (304884, 1038199, 0.17647058823529416),\n",
              " (546299, 1460189, 0.16822429906542058),\n",
              " (609576, 1651499, 0.15596330275229353),\n",
              " (1278595, 1450243, 0.1651376146788991),\n",
              " (1278595, 1651499, 0.16981132075471694),\n",
              " (1553707, 1651499, 0.19999999999999996),\n",
              " (47677, 1749766, 0.10924369747899154),\n",
              " (143336, 273921, 0.2033898305084746),\n",
              " (242951, 878756, 0.1271186440677966),\n",
              " (242951, 1572773, 0.07964601769911506),\n",
              " (455372, 1087080, 0.09909909909909909),\n",
              " (472496, 1199836, 0.10169491525423724),\n",
              " (608814, 1331267, 0.06779661016949157),\n",
              " (608814, 1388218, 0.11111111111111116),\n",
              " (13395, 608814, 0.13043478260869568),\n",
              " (34993, 1214632, 0.1651376146788991),\n",
              " (104317, 912495, 0.16981132075471694),\n",
              " (143336, 1450243, 0.1610169491525424),\n",
              " (188603, 252827, 0.15966386554621848),\n",
              " (218886, 1621468, 0.06481481481481477),\n",
              " (459748, 756249, 0.1428571428571429),\n",
              " (459748, 912495, 0.125),\n",
              " (579745, 1621468, 0.09009009009009006),\n",
              " (273921, 1651499, 0.16666666666666663),\n",
              " (34993, 451330, 0.14655172413793105),\n",
              " (278072, 455372, 0.12389380530973448),\n",
              " (579745, 1532570, 0.1160714285714286),\n",
              " (624623, 1559819, 0.01666666666666672),\n",
              " (872160, 1663266, 0.1071428571428571),\n",
              " (898066, 1090315, 0.1610169491525424),\n",
              " (1152253, 1572773, 0.14782608695652177),\n",
              " (1199836, 1750168, 0.0423728813559322),\n",
              " (1331267, 1532570, 0.12173913043478257),\n",
              " (13395, 1371266, 0.11111111111111116),\n",
              " (143336, 1129756, 0.15254237288135597),\n",
              " (252827, 1621468, 0.11111111111111116),\n",
              " (459748, 1651499, 0.15384615384615385),\n",
              " (459967, 773878, 0.14814814814814814),\n",
              " (756249, 1460189, 0.12389380530973448),\n",
              " (756249, 1621468, 0.1071428571428571),\n",
              " (912495, 1460189, 0.12264150943396224),\n",
              " (912495, 1651499, 0.10999999999999999),\n",
              " (1373757, 1460189, 0.17592592592592593),\n",
              " (1651499, 1750168, 0.1842105263157895),\n",
              " (464892, 1145791, 0.1071428571428571),\n",
              " (143336, 1621468, 0.1271186440677966),\n",
              " (152380, 218886, 0.1166666666666667),\n",
              " (218886, 507283, 0.11111111111111116),\n",
              " (252827, 544349, 0.16666666666666663),\n",
              " (328483, 546299, 0.16981132075471694),\n",
              " (513391, 546299, 0.14018691588785048),\n",
              " (546299, 1432904, 0.1333333333333333),\n",
              " (1129756, 1152253, 0.17699115044247793),\n",
              " (1390884, 1432904, 0.11504424778761058),\n",
              " (1460189, 1663266, 0.11818181818181817),\n",
              " (242951, 1663266, 0.10619469026548678),\n",
              " (451330, 1090315, 0.16521739130434787),\n",
              " (608814, 1152253, 0.11965811965811968),\n",
              " (1152253, 1199836, 0.11016949152542377),\n",
              " (1278595, 1559819, 0.14406779661016944),\n",
              " (922304, 1390884, 0.08333333333333337),\n",
              " (69905, 898066, 0.11016949152542377),\n",
              " (304884, 684947, 0.22522522522522526),\n",
              " (878756, 1214632, 0.19130434782608696),\n",
              " (1450243, 1559819, 0.1610169491525424),\n",
              " (34993, 104317, 0.13888888888888884),\n",
              " (34993, 143336, 0.1271186440677966),\n",
              " (584862, 909604, 0.13559322033898302),\n",
              " (608814, 1663266, 0.10434782608695647),\n",
              " (684947, 878756, 0.09482758620689657),\n",
              " (831098, 1199836, 0.10169491525423724),\n",
              " (1199836, 1320765, 0.025000000000000022),\n",
              " (252827, 328483, 0.14678899082568808),\n",
              " (513391, 1129756, 0.11009174311926606),\n",
              " (1621468, 1651499, 0.11538461538461542),\n",
              " (188603, 1038199, 0.17647058823529416),\n",
              " (242951, 579745, 0.11206896551724133),\n",
              " (464892, 1278595, 0.125),\n",
              " (579745, 831098, 0.05405405405405406),\n",
              " (1087080, 1278595, 0.1428571428571429),\n",
              " (1152253, 1750168, 0.08695652173913049),\n",
              " (451330, 1553707, 0.1293103448275862),\n",
              " (1320765, 1553707, 0.125),\n",
              " (69905, 912495, 0.15596330275229353),\n",
              " (304884, 689406, 0.19626168224299068),\n",
              " (304884, 1129756, 0.14851485148514854),\n",
              " (328483, 1214632, 0.19999999999999996),\n",
              " (773878, 1214632, 0.13888888888888884),\n",
              " (1090315, 1371266, 0.1964285714285714),\n",
              " (152380, 1618038, 0.15000000000000002),\n",
              " (242951, 608814, 0.06896551724137934),\n",
              " (242951, 909604, 0.12389380530973448),\n",
              " (455372, 1415018, 0.11111111111111116),\n",
              " (459748, 544349, 0.18333333333333335),\n",
              " (579745, 1152253, 0.09734513274336287),\n",
              " (773878, 1090315, 0.15454545454545454),\n",
              " (1038199, 1415018, 0.18487394957983194),\n",
              " (64146, 1129756, 0.15966386554621848),\n",
              " (188603, 304884, 0.2773109243697479),\n",
              " (218886, 608814, 0.08695652173913049),\n",
              " (218886, 1259945, 0.12149532710280375),\n",
              " (455372, 1651499, 0.12380952380952381),\n",
              " (459967, 1750168, 0.1578947368421053),\n",
              " (104317, 459748, 0.12380952380952381),\n",
              " (152380, 1749766, 0.1166666666666667),\n",
              " (273921, 328483, 0.160377358490566),\n",
              " (273921, 922304, 0.21666666666666667),\n",
              " (328483, 1145791, 0.1454545454545455),\n",
              " (609576, 909604, 0.05555555555555558),\n",
              " (624623, 1090315, 0.17500000000000004),\n",
              " (831098, 1388218, 0.0892857142857143),\n",
              " (909604, 1750168, 0.13793103448275867),\n",
              " (1038199, 1663266, 0.13761467889908252),\n",
              " (1152253, 1559819, 0.10169491525423724),\n",
              " (1152253, 1749766, 0.14035087719298245),\n",
              " (756249, 912495, 0.1696428571428571),\n",
              " (1145791, 1460189, 0.14414414414414412),\n",
              " (69905, 273921, 0.17431192660550454),\n",
              " (273921, 756249, 0.15454545454545454),\n",
              " (34993, 152380, 0.14166666666666672),\n",
              " (143336, 684947, 0.06779661016949157),\n",
              " (188603, 328483, 0.15966386554621848),\n",
              " (278072, 1750168, 0.06956521739130439),\n",
              " (451330, 1373757, 0.19298245614035092),\n",
              " (624623, 1749766, 0.1166666666666667),\n",
              " (773878, 1749766, 0.05555555555555558),\n",
              " (872160, 950765, 0.1160714285714286),\n",
              " (872160, 1038199, 0.11818181818181817),\n",
              " (878756, 909604, 0.1637931034482759),\n",
              " (525916, 624623, 0.09999999999999998),\n",
              " (34993, 1129756, 0.13761467889908252),\n",
              " (34993, 1651499, 0.15094339622641506),\n",
              " (104317, 1259945, 0.14423076923076927),\n",
              " (218886, 252827, 0.1009174311926605),\n",
              " (218886, 451330, 0.08771929824561409),\n",
              " (218886, 1388218, 0.08108108108108103),\n",
              " (242951, 459967, 0.14414414414414412),\n",
              " (304884, 459967, 0.1515151515151515),\n",
              " (459967, 642420, 0.16190476190476188),\n",
              " (912495, 1371266, 0.14018691588785048),\n",
              " (1214632, 1532570, 0.12264150943396224),\n",
              " (104317, 1038199, 0.15887850467289721),\n",
              " (143336, 328483, 0.14406779661016944),\n",
              " (143336, 1388218, 0.09322033898305082),\n",
              " (152380, 1532570, 0.15000000000000002),\n",
              " (451330, 609576, 0.07017543859649122),\n",
              " (684947, 909604, 0.1724137931034483),\n",
              " (898066, 1331267, 0.06666666666666665),\n",
              " (459967, 1214632, 0.14423076923076927),\n",
              " (546299, 898066, 0.211864406779661),\n",
              " (1259945, 1559819, 0.19491525423728817),\n",
              " (507283, 1553707, 0.15454545454545454),\n",
              " (525916, 1278595, 0.1339285714285714),\n",
              " (188603, 1750168, 0.06666666666666665),\n",
              " (328483, 544349, 0.1512605042016807),\n",
              " (464892, 1087080, 0.08849557522123896),\n",
              " (152380, 1460189, 0.14166666666666672),\n",
              " (459967, 624623, 0.19999999999999996),\n",
              " (507283, 1390884, 0.1428571428571429),\n",
              " (546299, 1390884, 0.1711711711711712),\n",
              " (1214632, 1559819, 0.17796610169491522),\n",
              " (1553707, 1618038, 0.16814159292035402),\n",
              " (47677, 608814, 0.04201680672268904),\n",
              " (104317, 1320765, 0.18333333333333335),\n",
              " (455372, 1750168, 0.08771929824561409),\n",
              " (579745, 684947, 0.07894736842105265),\n",
              " (579745, 1373757, 0.15454545454545454),\n",
              " (1415018, 1532570, 0.1282051282051282),\n",
              " (218886, 1651499, 0.14018691588785048),\n",
              " (218886, 1750168, 0.08695652173913049),\n",
              " (304884, 472496, 0.22018348623853212),\n",
              " (459748, 525916, 0.1517857142857143),\n",
              " (544349, 1214632, 0.19999999999999996),\n",
              " (624623, 1621468, 0.14166666666666672),\n",
              " (34993, 459748, 0.07619047619047614),\n",
              " (47677, 1388218, 0.10084033613445376),\n",
              " (459748, 1152253, 0.1696428571428571),\n",
              " (472496, 878756, 0.12068965517241381),\n",
              " (472496, 1663266, 0.09909909909909909),\n",
              " (773878, 1038199, 0.12037037037037035),\n",
              " (242951, 1553707, 0.13043478260869568),\n",
              " (1371266, 1553707, 0.1428571428571429),\n",
              " (69905, 909604, 0.1517857142857143),\n",
              " (459967, 1152253, 0.1636363636363637),\n",
              " (756249, 922304, 0.09166666666666667),\n",
              " (773878, 1390884, 0.10619469026548678),\n",
              " (273921, 464892, 0.1875),\n",
              " (451330, 1278595, 0.13157894736842102),\n",
              " (472496, 1432904, 0.125),\n",
              " (584862, 1559819, 0.01680672268907568),\n",
              " (878756, 1532570, 0.13157894736842102),\n",
              " (878756, 1371266, 0.13913043478260867),\n",
              " (459967, 608814, 0.1578947368421053),\n",
              " (507283, 513391, 0.12844036697247707),\n",
              " (525916, 1621468, 0.09909909909909909),\n",
              " (584862, 689406, 0.11764705882352944),\n",
              " (608814, 1129756, 0.15517241379310343),\n",
              " (912495, 1390884, 0.12727272727272732),\n",
              " (513391, 1553707, 0.1327433628318584),\n",
              " (546299, 1278595, 0.16981132075471694),\n",
              " (188603, 472496, 0.09322033898305082),\n",
              " (328483, 464892, 0.17391304347826086),\n",
              " (472496, 1320765, 0.10833333333333328),\n",
              " (584862, 872160, 0.10084033613445376),\n",
              " (922304, 1663266, 0.1333333333333333),\n",
              " (1278595, 1618038, 0.10280373831775702),\n",
              " (13395, 513391, 0.1009174311926605),\n",
              " (464892, 1214632, 0.17699115044247793),\n",
              " (472496, 546299, 0.18181818181818177),\n",
              " (689406, 950765, 0.11711711711711714),\n",
              " (689406, 1214632, 0.15454545454545454),\n",
              " (912495, 1749766, 0.11214953271028039),\n",
              " (1199836, 1390884, 0.07627118644067798),\n",
              " (69905, 1390884, 0.11403508771929827),\n",
              " (69905, 1415018, 0.10256410256410253),\n",
              " (546299, 1331267, 0.19999999999999996),\n",
              " (912495, 1618038, 0.14953271028037385),\n",
              " (1129756, 1621468, 0.12037037037037035),\n",
              " (1388218, 1621468, 0.09090909090909094),\n",
              " (152380, 624623, 0.0),\n",
              " (242951, 684947, 0.13559322033898302),\n",
              " (278072, 328483, 0.1339285714285714),\n",
              " (451330, 872160, 0.08695652173913049),\n",
              " (455372, 464892, 0.14782608695652177),\n",
              " (544349, 878756, 0.08333333333333337),\n",
              " (579745, 922304, 0.09166666666666667),\n",
              " (584862, 1432904, 0.1271186440677966),\n",
              " (608814, 898066, 0.06666666666666665),\n",
              " (609576, 1331267, 0.10256410256410253),\n",
              " (773878, 1199836, 0.1271186440677966),\n",
              " (143336, 912495, 0.18644067796610164),\n",
              " (252827, 1145791, 0.11111111111111116),\n",
              " (608814, 1651499, 0.1842105263157895),\n",
              " (689406, 1087080, 0.11504424778761058),\n",
              " (878756, 1460189, 0.15517241379310343),\n",
              " (1145791, 1651499, 0.1333333333333333),\n",
              " (47677, 1750168, 0.04201680672268904),\n",
              " (64146, 624623, 0.008333333333333304),\n",
              " (278072, 1618038, 0.10810810810810811),\n",
              " (455372, 922304, 0.1333333333333333),\n",
              " (464892, 1532570, 0.1327433628318584),\n",
              " (513391, 878756, 0.11304347826086958),\n",
              " (608814, 1618038, 0.12173913043478257),\n",
              " (464892, 1390884, 0.11206896551724133),\n",
              " (13395, 642420, 0.14953271028037385),\n",
              " (47677, 1651499, 0.2184873949579832),\n",
              " (188603, 1651499, 0.211864406779661),\n",
              " (242951, 1460189, 0.13157894736842102),\n",
              " (451330, 1460189, 0.09734513274336287),\n",
              " (507283, 1663266, 0.12962962962962965),\n",
              " (579745, 1259945, 0.1454545454545455),\n",
              " (1090315, 1651499, 0.11764705882352944),\n",
              " (1415018, 1651499, 0.20512820512820518),\n",
              " (273921, 1214632, 0.18095238095238098),\n",
              " (143336, 152380, 0.01666666666666672),\n",
              " (328483, 1090315, 0.1132075471698113),\n",
              " (513391, 1618038, 0.09174311926605505),\n",
              " (609576, 1320765, 0.09999999999999998),\n",
              " (1090315, 1331267, 0.13157894736842102),\n",
              " (1572773, 1663266, 0.09909909909909909),\n",
              " (525916, 1553707, 0.11504424778761058),\n",
              " (13395, 1651499, 0.13461538461538458),\n",
              " (143336, 218886, 0.10169491525423724),\n",
              " (304884, 1559819, 0.2627118644067796),\n",
              " (898066, 1450243, 0.19166666666666665),\n",
              " (1145791, 1390884, 0.11504424778761058),\n",
              " (1460189, 1572773, 0.09090909090909094),\n",
              " (104317, 1572773, 0.13636363636363635),\n",
              " (152380, 684947, 0.08333333333333337),\n",
              " (579745, 609576, 0.11304347826086958),\n",
              " (579745, 1388218, 0.08849557522123896),\n",
              " (609576, 1572773, 0.0803571428571429),\n",
              " (13395, 459967, 0.12380952380952381),\n",
              " (328483, 1259945, 0.18518518518518523),\n",
              " (1320765, 1450243, 0.17500000000000004),\n",
              " (47677, 909604, 0.1428571428571429),\n",
              " (64146, 544349, 0.01666666666666672),\n",
              " (455372, 898066, 0.11864406779661019),\n",
              " (472496, 1331267, 0.07826086956521738),\n",
              " (513391, 1559819, 0.10169491525423724),\n",
              " (642420, 950765, 0.1132075471698113),\n",
              " (898066, 1750168, 0.06666666666666665),\n",
              " (1331267, 1572773, 0.09482758620689657),\n",
              " (34993, 459967, 0.14018691588785048),\n",
              " (143336, 459967, 0.18644067796610164),\n",
              " (218886, 642420, 0.1711711711711712),\n",
              " (252827, 507283, 0.10476190476190472),\n",
              " (1331267, 1553707, 0.1282051282051282),\n",
              " (152380, 609576, 0.09999999999999998),\n",
              " (188603, 624623, 0.01666666666666672),\n",
              " (472496, 950765, 0.09090909090909094),\n",
              " (642420, 831098, 0.1785714285714286),\n",
              " (188603, 689406, 0.1333333333333333),\n",
              " (188603, 912495, 0.2016806722689075),\n",
              " (218886, 1038199, 0.15315315315315314),\n",
              " (507283, 1199836, 0.17796610169491522),\n",
              " (507283, 1415018, 0.16239316239316237),\n",
              " (608814, 1621468, 0.0964912280701754),\n",
              " (689406, 909604, 0.1428571428571429),\n",
              " (756249, 1415018, 0.06837606837606836),\n",
              " (912495, 1214632, 0.17924528301886788),\n",
              " (152380, 1373757, 0.21666666666666667),\n",
              " (513391, 1090315, 0.11926605504587151),\n",
              " (773878, 909604, 0.12727272727272732),\n",
              " (1152253, 1663266, 0.1415929203539823),\n",
              " (1278595, 1331267, 0.13043478260869568),\n",
              " (13395, 472496, 0.12612612612612617),\n",
              " (218886, 464892, 0.13043478260869568),\n",
              " (218886, 909604, 0.12612612612612617),\n",
              " (252827, 898066, 0.15966386554621848),\n",
              " (304884, 1432904, 0.17307692307692313),\n",
              " (546299, 1415018, 0.20512820512820518),\n",
              " (624623, 1450243, 0.17500000000000004),\n",
              " (912495, 1532570, 0.1834862385321101),\n",
              " (1129756, 1371266, 0.15454545454545454),\n",
              " (1532570, 1651499, 0.1428571428571429),\n",
              " (1553707, 1621468, 0.12612612612612617),\n",
              " (242951, 898066, 0.06779661016949157),\n",
              " (451330, 1145791, 0.11403508771929827),\n",
              " (544349, 1432904, 0.15000000000000002),\n",
              " (609576, 922304, 0.09999999999999998),\n",
              " (624623, 1388218, 0.10833333333333328),\n",
              " (642420, 1090315, 0.11538461538461542),\n",
              " (898066, 1663266, 0.134453781512605),\n",
              " (304884, 455372, 0.16346153846153844),\n",
              " (872160, 912495, 0.1785714285714286),\n",
              " (878756, 912495, 0.1842105263157895),\n",
              " (1390884, 1621468, 0.0982142857142857),\n",
              " (273921, 1129756, 0.16981132075471694),\n",
              " (912495, 1278595, 0.17592592592592593),\n",
              " (47677, 464892, 0.09999999999999998),\n",
              " (104317, 609576, 0.11009174311926606),\n",
              " (188603, 1320765, 0.01666666666666672),\n",
              " (273921, 544349, 0.22499999999999998),\n",
              " (278072, 609576, 0.12173913043478257),\n",
              " (455372, 544349, 0.14166666666666672),\n",
              " (513391, 609576, 0.0892857142857143),\n",
              " (872160, 1145791, 0.1327433628318584),\n",
              " (188603, 525916, 0.1166666666666667),\n",
              " (584862, 1390884, 0.06779661016949157),\n",
              " (143336, 756249, 0.07627118644067798),\n",
              " (513391, 1460189, 0.11711711711711714),\n",
              " (546299, 584862, 0.211864406779661),\n",
              " (1371266, 1651499, 0.16822429906542058),\n",
              " (459967, 1553707, 0.17272727272727273),\n",
              " (104317, 544349, 0.19166666666666665),\n",
              " (152380, 1090315, 0.17500000000000004),\n",
              " (242951, 1388218, 0.11304347826086958),\n",
              " (451330, 878756, 0.09401709401709402),\n",
              " (584862, 1278595, 0.15966386554621848),\n",
              " (609576, 1415018, 0.10924369747899154),\n",
              " (831098, 1572773, 0.10619469026548678),\n",
              " (104317, 1214632, 0.19444444444444442),\n",
              " (252827, 1532570, 0.12037037037037035),\n",
              " (451330, 1129756, 0.12389380530973448),\n",
              " (507283, 898066, 0.18487394957983194),\n",
              " (525916, 1090315, 0.1351351351351351),\n",
              " (525916, 1618038, 0.1578947368421053),\n",
              " (756249, 1038199, 0.17543859649122806),\n",
              " (1087080, 1450243, 0.09259259259259256),\n",
              " (1145791, 1371266, 0.12727272727272732),\n",
              " (1278595, 1371266, 0.19469026548672563),\n",
              " (34993, 464892, 0.18803418803418803),\n",
              " (104317, 608814, 0.15652173913043477),\n",
              " (152380, 1663266, 0.1333333333333333),\n",
              " (455372, 1373757, 0.16666666666666663),\n",
              " (608814, 642420, 0.18103448275862066),\n",
              " (642420, 1618038, 0.14018691588785048),\n",
              " (878756, 1152253, 0.1293103448275862),\n",
              " (1320765, 1331267, 0.050000000000000044),\n",
              " (1320765, 1415018, 0.025000000000000022),\n",
              " (13395, 47677, 0.1512605042016807),\n",
              " (13395, 1460189, 0.11111111111111116),\n",
              " (34993, 507283, 0.15596330275229353),\n",
              " (188603, 1259945, 0.2100840336134454),\n",
              " (507283, 579745, 0.11818181818181817),\n",
              " (624623, 912495, 0.19999999999999996),\n",
              " (684947, 1214632, 0.16814159292035402),\n",
              " (689406, 1651499, 0.17431192660550454),\n",
              " (756249, 1371266, 0.15652173913043477),\n",
              " (872160, 1621468, 0.09909909909909909),\n",
              " (1038199, 1651499, 0.18867924528301883),\n",
              " (1214632, 1373757, 0.18095238095238098),\n",
              " (47677, 455372, 0.12605042016806722),\n",
              " (47677, 459748, 0.16806722689075626),\n",
              " (152380, 472496, 0.10833333333333328),\n",
              " (273921, 909604, 0.2018348623853211),\n",
              " (328483, 624623, 0.15833333333333333),\n",
              " (455372, 1320765, 0.1333333333333333),\n",
              " (624623, 831098, 0.10833333333333328),\n",
              " (642420, 1152253, 0.1875),\n",
              " (69905, 1090315, 0.1785714285714286),\n",
              " (278072, 1129756, 0.1428571428571429),\n",
              " (34993, 1532570, 0.15315315315315314),\n",
              " (152380, 1432904, 0.14166666666666672),\n",
              " (464892, 909604, 0.1160714285714286),\n",
              " (472496, 1152253, 0.14782608695652177),\n",
              " (684947, 1331267, 0.05217391304347829),\n",
              " (872160, 1559819, 0.0847457627118644),\n",
              " (1087080, 1572773, 0.07207207207207211),\n",
              " (1320765, 1559819, 0.01666666666666672),\n",
              " (1320765, 1618038, 0.15000000000000002),\n",
              " (1373757, 1618038, 0.15094339622641506),\n",
              " (13395, 459748, 0.13084112149532712),\n",
              " (684947, 1651499, 0.1711711711711712),\n",
              " (912495, 1663266, 0.13084112149532712),\n",
              " (1432904, 1450243, 0.11214953271028039),\n",
              " (34993, 898066, 0.1271186440677966),\n",
              " (47677, 242951, 0.09166666666666667),\n",
              " (64146, 1572773, 0.10084033613445376),\n",
              " (152380, 1572773, 0.10833333333333328),\n",
              " (451330, 898066, 0.08333333333333337),\n",
              " (464892, 1415018, 0.10084033613445376),\n",
              " (609576, 1152253, 0.1228070175438597),\n",
              " (898066, 1415018, 0.04166666666666663),\n",
              " (218886, 773878, 0.09090909090909094),\n",
              " (218886, 1415018, 0.09401709401709402),\n",
              " (242951, 1129756, 0.1415929203539823),\n",
              " (304884, 1460189, 0.2075471698113207),\n",
              " (328483, 459967, 0.14150943396226412),\n",
              " (459967, 472496, 0.1711711711711712),\n",
              " (464892, 546299, 0.21238938053097345),\n",
              " (507283, 1259945, 0.06999999999999995),\n",
              " (525916, 1373757, 0.18018018018018023),\n",
              " (584862, 1129756, 0.16806722689075626),\n",
              " (872160, 1460189, 0.14912280701754388),\n",
              " (912495, 1038199, 0.1428571428571429),\n",
              " (1087080, 1460189, 0.05555555555555558),\n",
              " (756249, 1278595, 0.1415929203539823),\n",
              " (104317, 242951, 0.1428571428571429),\n",
              " (152380, 1278595, 0.15833333333333333),\n",
              " (459748, 1087080, 0.14414414414414412),\n",
              " (773878, 1532570, 0.12727272727272732),\n",
              " (898066, 1145791, 0.15833333333333333),\n",
              " (13395, 451330, 0.11504424778761058),\n",
              " (304884, 544349, 0.2833333333333333),\n",
              " (328483, 1460189, 0.16216216216216217),\n",
              " (459967, 1090315, 0.125),\n",
              " (546299, 609576, 0.18918918918918914),\n",
              " (609576, 1621468, 0.09909909909909909),\n",
              " (642420, 756249, 0.1607142857142857),\n",
              " (689406, 1152253, 0.14035087719298245),\n",
              " (1129756, 1559819, 0.15254237288135597),\n",
              " (1450243, 1749766, 0.10185185185185186),\n",
              " (689406, 1278595, 0.1351351351351351),\n",
              " (64146, 451330, 0.05882352941176472),\n",
              " (64146, 459748, 0.16806722689075626),\n",
              " (104317, 455372, 0.12962962962962965),\n",
              " (152380, 1152253, 0.1166666666666667),\n",
              " (328483, 1618038, 0.13761467889908252),\n",
              " (455372, 1090315, 0.12037037037037035),\n",
              " (464892, 1090315, 0.1428571428571429),\n",
              " (584862, 1663266, 0.11864406779661019),\n",
              " (624623, 1750168, 0.050000000000000044),\n",
              " (684947, 922304, 0.08333333333333337),\n",
              " (909604, 1432904, 0.11926605504587151),\n",
              " (1087080, 1749766, 0.0636363636363636),\n",
              " (69905, 689406, 0.1160714285714286),\n",
              " (143336, 1214632, 0.17796610169491522),\n",
              " (459967, 1390884, 0.1607142857142857),\n",
              " (507283, 1145791, 0.12149532710280375),\n",
              " (579745, 1390884, 0.07894736842105265),\n",
              " (756249, 1388218, 0.08849557522123896),\n",
              " (878756, 1450243, 0.1578947368421053),\n",
              " (909604, 1259945, 0.15887850467289721),\n",
              " (950765, 1371266, 0.1607142857142857),\n",
              " (1390884, 1663266, 0.1228070175438597),\n",
              " (34993, 328483, 0.11111111111111116),\n",
              " (47677, 1331267, 0.05833333333333335),\n",
              " (242951, 472496, 0.1293103448275862),\n",
              " (472496, 1373757, 0.18918918918918914),\n",
              " (472496, 1415018, 0.0854700854700855),\n",
              " (624623, 1278595, 0.15833333333333333),\n",
              " (525916, 642420, 0.18584070796460173),\n",
              " (546299, 1371266, 0.2018348623853211),\n",
              " (1087080, 1129756, 0.1009174311926605),\n",
              " (273921, 1371266, 0.2090909090909091),\n",
              " (143336, 451330, 0.05084745762711862),\n",
              " (273921, 1532570, 0.16822429906542058),\n",
              " (544349, 1145791, 0.15000000000000002),\n",
              " (609576, 1749766, 0.0892857142857143),\n",
              " (69905, 1572773, 0.1071428571428571),\n",
              " (218886, 1199836, 0.11016949152542377),\n",
              " (328483, 1390884, 0.1327433628318584),\n",
              " (608814, 912495, 0.1578947368421053),\n",
              " (831098, 1460189, 0.10810810810810811),\n",
              " (1087080, 1214632, 0.1454545454545455),\n",
              " (64146, 464892, 0.08403361344537819),\n",
              " (104317, 579745, 0.1517857142857143),\n",
              " (143336, 909604, 0.13559322033898302),\n",
              " (143336, 1559819, 0.0),\n",
              " (152380, 831098, 0.10833333333333328),\n",
              " (472496, 872160, 0.11403508771929827),\n",
              " (472496, 1750168, 0.07826086956521738),\n",
              " (609576, 1373757, 0.14678899082568808),\n",
              " (642420, 1388218, 0.12844036697247707),\n",
              " (773878, 1415018, 0.11111111111111116),\n",
              " (1278595, 1415018, 0.1367521367521367),\n",
              " (1331267, 1750168, 0.03448275862068961),\n",
              " (1388218, 1415018, 0.0854700854700855),\n",
              " (34993, 525916, 0.1327433628318584),\n",
              " (472496, 689406, 0.13157894736842102),\n",
              " (525916, 1415018, 0.10924369747899154),\n",
              " (1038199, 1460189, 0.14678899082568808),\n",
              " (1259945, 1390884, 0.15315315315315314),\n",
              " (1371266, 1373757, 0.22522522522522526),\n",
              " (64146, 1320765, 0.008333333333333304),\n",
              " (242951, 278072, 0.10434782608695647),\n",
              " (242951, 609576, 0.07079646017699115),\n",
              " (544349, 1278595, 0.16666666666666663),\n",
              " (579745, 1663266, 0.11504424778761058),\n",
              " (584862, 1038199, 0.1610169491525424),\n",
              " (609576, 1087080, 0.09734513274336287),\n",
              " (1331267, 1663266, 0.12068965517241381),\n",
              " (1390884, 1553707, 0.0803571428571429),\n",
              " (47677, 1129756, 0.17500000000000004),\n",
              " (304884, 1390884, 0.2090909090909091),\n",
              " (689406, 1038199, 0.13636363636363635),\n",
              " (1129756, 1415018, 0.14529914529914534),\n",
              " (1259945, 1278595, 0.15094339622641506),\n",
              " (143336, 1415018, 0.025210084033613467),\n",
              " (273921, 1749766, 0.18181818181818177),\n",
              " (278072, 1278595, 0.09999999999999998),\n",
              " (513391, 1749766, 0.05504587155963303),\n",
              " (584862, 1388218, 0.09322033898305082),\n",
              " (878756, 1388218, 0.12068965517241381),\n",
              " (1331267, 1373757, 0.19130434782608696),\n",
              " (304884, 1450243, 0.15841584158415845),\n",
              " (507283, 1214632, 0.125),\n",
              " (546299, 689406, 0.15740740740740744),\n",
              " (756249, 872160, 0.11304347826086958),\n",
              " (1199836, 1651499, 0.20512820512820518),\n",
              " (1214632, 1390884, 0.1517857142857143),\n",
              " (104317, 1090315, 0.10576923076923073),\n",
              " (143336, 922304, 0.01666666666666672),\n",
              " (188603, 455372, 0.134453781512605),\n",
              " (242951, 1152253, 0.13793103448275867),\n",
              " (584862, 1572773, 0.09322033898305082),\n",
              " (773878, 1572773, 0.1160714285714286),\n",
              " (1038199, 1090315, 0.14953271028037385),\n",
              " (507283, 1460189, 0.10377358490566035),\n",
              " (689406, 1371266, 0.16666666666666663),\n",
              " (756249, 1559819, 0.07627118644067798),\n",
              " (773878, 1259945, 0.12264150943396224),\n",
              " (922304, 1129756, 0.16666666666666663),\n",
              " (104317, 451330, 0.1578947368421053),\n",
              " (143336, 1145791, 0.1271186440677966),\n",
              " (684947, 773878, 0.0892857142857143),\n",
              " (898066, 1749766, 0.11764705882352944),\n",
              " (1559819, 1663266, 0.11864406779661019),\n",
              " (252827, 1572773, 0.09174311926605505),\n",
              " (459967, 909604, 0.1834862385321101),\n",
              " (507283, 609576, 0.12727272727272732),\n",
              " (912495, 1373757, 0.13725490196078427),\n",
              " (1087080, 1390884, 0.0964912280701754),\n",
              " (1460189, 1621468, 0.09259259259259256),\n",
              " (34993, 273921, 0.12380952380952381),\n",
              " (459748, 1559819, 0.1610169491525424),\n",
              " (872160, 922304, 0.09999999999999998),\n",
              " (1415018, 1749766, 0.09401709401709402),\n",
              " (1559819, 1572773, 0.09322033898305082),\n",
              " (13395, 878756, 0.15652173913043477),\n",
              " (278072, 912495, 0.1785714285714286),\n",
              " (872160, 1214632, 0.15315315315315314),\n",
              " (912495, 1090315, 0.1428571428571429),\n",
              " (1214632, 1750168, 0.14912280701754388),\n",
              " (1371266, 1450243, 0.1636363636363637),\n",
              " (47677, 544349, 0.01666666666666672),\n",
              " (143336, 513391, 0.10169491525423724),\n",
              " (464892, 773878, 0.11504424778761058),\n",
              " (464892, 1618038, 0.14912280701754388),\n",
              " (609576, 1618038, 0.10810810810810811),\n",
              " (898066, 909604, 0.13559322033898302),\n",
              " (909604, 1199836, 0.14406779661016944),\n",
              " (922304, 1331267, 0.050000000000000044),\n",
              " (1278595, 1320765, 0.15833333333333333),\n",
              " (525916, 1038199, 0.11818181818181817),\n",
              " (922304, 1553707, 0.125),\n",
              " (13395, 909604, 0.12037037037037035),\n",
              " (47677, 1450243, 0.16806722689075626),\n",
              " (69905, 608814, 0.09565217391304348),\n",
              " (218886, 304884, 0.2129629629629629),\n",
              " (252827, 1129756, 0.10377358490566035),\n",
              " (525916, 1432904, 0.1160714285714286),\n",
              " (609576, 1450243, 0.1517857142857143),\n",
              " (1460189, 1553707, 0.15929203539823011),\n",
              " (104317, 642420, 0.160377358490566),\n",
              " (278072, 1152253, 0.1228070175438597),\n",
              " (544349, 1559819, 0.025000000000000022),\n",
              " (684947, 1373757, 0.16216216216216217),\n",
              " (684947, 1432904, 0.11504424778761058),\n",
              " (1388218, 1532570, 0.11711711711711714),\n",
              " (1559819, 1618038, 0.13559322033898302),\n",
              " (608814, 1553707, 0.1282051282051282),\n",
              " (252827, 472496, 0.15929203539823011),\n",
              " (304884, 1373757, 0.18999999999999995),\n",
              " (684947, 1259945, 0.18584070796460173),\n",
              " (909604, 912495, 0.11428571428571432),\n",
              " (1090315, 1621468, 0.14678899082568808),\n",
              " (252827, 1553707, 0.14414414414414412),\n",
              " (273921, 1390884, 0.19469026548672563),\n",
              " (451330, 922304, 0.06666666666666665),\n",
              " (1087080, 1388218, 0.10619469026548678),\n",
              " (1388218, 1663266, 0.09909909909909909),\n",
              " (1532570, 1749766, 0.10909090909090913),\n",
              " (64146, 546299, 0.2184873949579832),\n",
              " (472496, 756249, 0.10526315789473684),\n",
              " (773878, 1651499, 0.15887850467289721),\n",
              " (1129756, 1460189, 0.10280373831775702),\n",
              " (1259945, 1331267, 0.16666666666666663),\n",
              " (1259945, 1373757, 0.1470588235294118),\n",
              " (1532570, 1553707, 0.16814159292035402),\n",
              " (64146, 898066, 0.025000000000000022),\n",
              " (188603, 1278595, 0.15966386554621848),\n",
              " (273921, 1388218, 0.13888888888888884),\n",
              " (464892, 608814, 0.07758620689655171),\n",
              " (1090315, 1750168, 0.13157894736842102),\n",
              " (878756, 1390884, 0.11111111111111116),\n",
              " (252827, 684947, 0.14912280701754388),\n",
              " (252827, 1331267, 0.13043478260869568),\n",
              " (328483, 1371266, 0.19469026548672563),\n",
              " (525916, 1572773, 0.14655172413793105),\n",
              " (546299, 1152253, 0.2072072072072072),\n",
              " (689406, 1749766, 0.1071428571428571),\n",
              " (773878, 1371266, 0.1351351351351351),\n",
              " (898066, 912495, 0.2016806722689075),\n",
              " (1087080, 1621468, 0.10810810810810811),\n",
              " (1390884, 1415018, 0.09243697478991597),\n",
              " (47677, 273921, 0.2100840336134454),\n",
              " (64146, 608814, 0.04201680672268904),\n",
              " (642420, 878756, 0.17543859649122806),\n",
              " (684947, 1199836, 0.09243697478991597),\n",
              " (773878, 922304, 0.1333333333333333),\n",
              " (773878, 1320765, 0.1333333333333333),\n",
              " (13395, 1663266, 0.10185185185185186),\n",
              " (104317, 689406, 0.16216216216216217),\n",
              " (1087080, 1651499, 0.1651376146788991),\n",
              " (1214632, 1259945, 0.13592233009708743),\n",
              " (684947, 1553707, 0.13043478260869568),\n",
              " (104317, 950765, 0.10377358490566035),\n",
              " (188603, 1559819, 0.033333333333333326),\n",
              " (278072, 459748, 0.1351351351351351),\n",
              " (278072, 1038199, 0.16814159292035402),\n",
              " (455372, 1388218, 0.08181818181818179),\n",
              " (464892, 513391, 0.11403508771929827),\n",
              " (464892, 1388218, 0.13793103448275867),\n",
              " (513391, 1145791, 0.09999999999999998),\n",
              " (544349, 1750168, 0.05833333333333335),\n",
              " (609576, 1199836, 0.09322033898305082),\n",
              " (609576, 1532570, 0.1578947368421053),\n",
              " (642420, 1532570, 0.15740740740740744),\n",
              " (64146, 1390884, 0.07563025210084029),\n",
              " (451330, 1371266, 0.13043478260869568),\n",
              " (13395, 304884, 0.1923076923076923),\n",
              " (64146, 304884, 0.26890756302521013),\n",
              " (69905, 152380, 0.125),\n",
              " (188603, 459967, 0.2016806722689075),\n",
              " (252827, 1450243, 0.1132075471698113),\n",
              " (278072, 459967, 0.16216216216216217),\n",
              " (546299, 1572773, 0.14814814814814814),\n",
              " (756249, 1331267, 0.07758620689655171),\n",
              " (909604, 1621468, 0.13636363636363635),\n",
              " (1214632, 1388218, 0.1454545454545455),\n",
              " (47677, 584862, 0.008403361344537785),\n",
              " (47677, 1532570, 0.15833333333333333),\n",
              " (104317, 1152253, 0.1785714285714286),\n",
              " (152380, 464892, 0.09166666666666667),\n",
              " (242951, 624623, 0.08333333333333337),\n",
              " (451330, 1749766, 0.08771929824561409),\n",
              " (459748, 1038199, 0.13207547169811318),\n",
              " (464892, 1572773, 0.10526315789473684),\n",
              " (464892, 1750168, 0.09401709401709402),\n",
              " (609576, 898066, 0.0847457627118644),\n",
              " (13395, 689406, 0.1351351351351351),\n",
              " (69905, 464892, 0.15517241379310343),\n",
              " (459967, 525916, 0.12844036697247707),\n",
              " (525916, 1152253, 0.13913043478260867),\n",
              " (642420, 1460189, 0.19819819819819817),\n",
              " (1129756, 1532570, 0.11214953271028039),\n",
              " (1371266, 1621468, 0.14414414414414412),\n",
              " (104317, 1331267, 0.15652173913043477),\n",
              " (152380, 1087080, 0.10833333333333328),\n",
              " (242951, 872160, 0.07079646017699115),\n",
              " (464892, 609576, 0.0964912280701754),\n",
              " (472496, 1532570, 0.11711711711711714),\n",
              " (584862, 1532570, 0.1512605042016807),\n",
              " (608814, 1749766, 0.08695652173913049),\n",
              " (1618038, 1749766, 0.05607476635514019),\n",
              " (143336, 546299, 0.211864406779661),\n",
              " (252827, 1038199, 0.14814814814814814),\n",
              " (544349, 1460189, 0.15000000000000002),\n",
              " (689406, 831098, 0.11504424778761058),\n",
              " (689406, 1460189, 0.11711711711711714),\n",
              " (912495, 950765, 0.12264150943396224),\n",
              " (1129756, 1331267, 0.1228070175438597),\n",
              " (273921, 912495, 0.17307692307692313),\n",
              " (689406, 1553707, 0.1327433628318584),\n",
              " (47677, 513391, 0.10924369747899154),\n",
              " (152380, 278072, 0.09999999999999998),\n",
              " (188603, 1663266, 0.134453781512605),\n",
              " (455372, 608814, 0.10434782608695647),\n",
              " (455372, 1432904, 0.06542056074766356),\n",
              " (464892, 525916, 0.11304347826086958),\n",
              " (13395, 912495, 0.12380952380952381),\n",
              " (13395, 1145791, 0.07547169811320753),\n",
              " (304884, 1663266, 0.16346153846153844),\n",
              " (464892, 1129756, 0.1339285714285714),\n",
              " (64146, 328483, 0.1512605042016807),\n",
              " (143336, 464892, 0.07627118644067798),\n",
              " (451330, 1618038, 0.1228070175438597),\n",
              " (584862, 898066, 0.033333333333333326),\n",
              " (642420, 1750168, 0.14912280701754388),\n",
              " (47677, 525916, 0.10833333333333328),\n",
              " (47677, 1214632, 0.18487394957983194),\n",
              " (218886, 278072, 0.10619469026548678),\n",
              " (455372, 546299, 0.15887850467289721),\n",
              " (459748, 507283, 0.14150943396226412),\n",
              " (579745, 756249, 0.07079646017699115),\n",
              " (1152253, 1553707, 0.16521739130434787),\n",
              " (47677, 609576, 0.09243697478991597),\n",
              " (451330, 472496, 0.1282051282051282),\n",
              " (513391, 1152253, 0.12389380530973448),\n",
              " (544349, 1152253, 0.125),\n",
              " (624623, 1415018, 0.025000000000000022),\n",
              " (13395, 1214632, 0.11428571428571432),\n",
              " (242951, 689406, 0.13793103448275867),\n",
              " (252827, 1259945, 0.1333333333333333),\n",
              " (304884, 609576, 0.2272727272727273),\n",
              " (546299, 1750168, 0.1842105263157895),\n",
              " (609576, 1214632, 0.15315315315315314),\n",
              " (909604, 1129756, 0.11214953271028039),\n",
              " (69905, 1278595, 0.11009174311926606),\n",
              " (304884, 1553707, 0.23853211009174313),\n",
              " (328483, 872160, 0.1504424778761062),\n",
              " (328483, 1087080, 0.15929203539823011),\n",
              " (459748, 909604, 0.13888888888888884),\n",
              " (1572773, 1618038, 0.08256880733944949),\n",
              " (544349, 1390884, 0.09166666666666667),\n",
              " (13395, 188603, 0.15966386554621848),\n",
              " (64146, 69905, 0.11764705882352944),\n",
              " (152380, 689406, 0.1166666666666667),\n",
              " (188603, 546299, 0.22689075630252098),\n",
              " (1371266, 1460189, 0.12727272727272732),\n",
              " (1214632, 1553707, 0.1964285714285714),\n",
              " (152380, 455372, 0.1333333333333333),\n",
              " (242951, 1559819, 0.06779661016949157),\n",
              " (451330, 909604, 0.1228070175438597),\n",
              " (584862, 684947, 0.08403361344537819),\n",
              " ...]"
            ]
          },
          "metadata": {},
          "execution_count": 62
        }
      ],
      "source": [
        "similar_pairs"
      ]
    },
    {
      "cell_type": "markdown",
      "metadata": {
        "id": "u_INUr8HhOgU"
      },
      "source": [
        "### Some results"
      ]
    },
    {
      "cell_type": "code",
      "source": [
        "similar_df = pd.DataFrame(similar_pairs, columns=['doc_id1', 'doc_id2', 'jaccard_sim'])"
      ],
      "metadata": {
        "id": "3yRBc_C40WOw"
      },
      "execution_count": 63,
      "outputs": []
    },
    {
      "cell_type": "code",
      "source": [
        "similar_df"
      ],
      "metadata": {
        "colab": {
          "base_uri": "https://localhost:8080/",
          "height": 424
        },
        "id": "MNDDJaZD1R-v",
        "outputId": "0f906a4e-03df-4366-b885-ce0f07992acc"
      },
      "execution_count": 64,
      "outputs": [
        {
          "output_type": "execute_result",
          "data": {
            "text/plain": [
              "      doc_id1  doc_id2  jaccard_sim\n",
              "0       47677   624623     0.008333\n",
              "1      152380  1750168     0.050000\n",
              "2      278072  1087080     0.097345\n",
              "3      451330   513391     0.087719\n",
              "4      472496  1388218     0.122807\n",
              "...       ...      ...          ...\n",
              "2770   218886   624623     0.116667\n",
              "2771   218886   898066     0.117647\n",
              "2772   451330   689406     0.120690\n",
              "2773   507283   878756     0.182609\n",
              "2774  1415018  1450243     0.153846\n",
              "\n",
              "[2775 rows x 3 columns]"
            ],
            "text/html": [
              "\n",
              "  <div id=\"df-c9ab5c26-7fb3-49ef-9e63-449883ea2f56\" class=\"colab-df-container\">\n",
              "    <div>\n",
              "<style scoped>\n",
              "    .dataframe tbody tr th:only-of-type {\n",
              "        vertical-align: middle;\n",
              "    }\n",
              "\n",
              "    .dataframe tbody tr th {\n",
              "        vertical-align: top;\n",
              "    }\n",
              "\n",
              "    .dataframe thead th {\n",
              "        text-align: right;\n",
              "    }\n",
              "</style>\n",
              "<table border=\"1\" class=\"dataframe\">\n",
              "  <thead>\n",
              "    <tr style=\"text-align: right;\">\n",
              "      <th></th>\n",
              "      <th>doc_id1</th>\n",
              "      <th>doc_id2</th>\n",
              "      <th>jaccard_sim</th>\n",
              "    </tr>\n",
              "  </thead>\n",
              "  <tbody>\n",
              "    <tr>\n",
              "      <th>0</th>\n",
              "      <td>47677</td>\n",
              "      <td>624623</td>\n",
              "      <td>0.008333</td>\n",
              "    </tr>\n",
              "    <tr>\n",
              "      <th>1</th>\n",
              "      <td>152380</td>\n",
              "      <td>1750168</td>\n",
              "      <td>0.050000</td>\n",
              "    </tr>\n",
              "    <tr>\n",
              "      <th>2</th>\n",
              "      <td>278072</td>\n",
              "      <td>1087080</td>\n",
              "      <td>0.097345</td>\n",
              "    </tr>\n",
              "    <tr>\n",
              "      <th>3</th>\n",
              "      <td>451330</td>\n",
              "      <td>513391</td>\n",
              "      <td>0.087719</td>\n",
              "    </tr>\n",
              "    <tr>\n",
              "      <th>4</th>\n",
              "      <td>472496</td>\n",
              "      <td>1388218</td>\n",
              "      <td>0.122807</td>\n",
              "    </tr>\n",
              "    <tr>\n",
              "      <th>...</th>\n",
              "      <td>...</td>\n",
              "      <td>...</td>\n",
              "      <td>...</td>\n",
              "    </tr>\n",
              "    <tr>\n",
              "      <th>2770</th>\n",
              "      <td>218886</td>\n",
              "      <td>624623</td>\n",
              "      <td>0.116667</td>\n",
              "    </tr>\n",
              "    <tr>\n",
              "      <th>2771</th>\n",
              "      <td>218886</td>\n",
              "      <td>898066</td>\n",
              "      <td>0.117647</td>\n",
              "    </tr>\n",
              "    <tr>\n",
              "      <th>2772</th>\n",
              "      <td>451330</td>\n",
              "      <td>689406</td>\n",
              "      <td>0.120690</td>\n",
              "    </tr>\n",
              "    <tr>\n",
              "      <th>2773</th>\n",
              "      <td>507283</td>\n",
              "      <td>878756</td>\n",
              "      <td>0.182609</td>\n",
              "    </tr>\n",
              "    <tr>\n",
              "      <th>2774</th>\n",
              "      <td>1415018</td>\n",
              "      <td>1450243</td>\n",
              "      <td>0.153846</td>\n",
              "    </tr>\n",
              "  </tbody>\n",
              "</table>\n",
              "<p>2775 rows × 3 columns</p>\n",
              "</div>\n",
              "    <div class=\"colab-df-buttons\">\n",
              "\n",
              "  <div class=\"colab-df-container\">\n",
              "    <button class=\"colab-df-convert\" onclick=\"convertToInteractive('df-c9ab5c26-7fb3-49ef-9e63-449883ea2f56')\"\n",
              "            title=\"Convert this dataframe to an interactive table.\"\n",
              "            style=\"display:none;\">\n",
              "\n",
              "  <svg xmlns=\"http://www.w3.org/2000/svg\" height=\"24px\" viewBox=\"0 -960 960 960\">\n",
              "    <path d=\"M120-120v-720h720v720H120Zm60-500h600v-160H180v160Zm220 220h160v-160H400v160Zm0 220h160v-160H400v160ZM180-400h160v-160H180v160Zm440 0h160v-160H620v160ZM180-180h160v-160H180v160Zm440 0h160v-160H620v160Z\"/>\n",
              "  </svg>\n",
              "    </button>\n",
              "\n",
              "  <style>\n",
              "    .colab-df-container {\n",
              "      display:flex;\n",
              "      gap: 12px;\n",
              "    }\n",
              "\n",
              "    .colab-df-convert {\n",
              "      background-color: #E8F0FE;\n",
              "      border: none;\n",
              "      border-radius: 50%;\n",
              "      cursor: pointer;\n",
              "      display: none;\n",
              "      fill: #1967D2;\n",
              "      height: 32px;\n",
              "      padding: 0 0 0 0;\n",
              "      width: 32px;\n",
              "    }\n",
              "\n",
              "    .colab-df-convert:hover {\n",
              "      background-color: #E2EBFA;\n",
              "      box-shadow: 0px 1px 2px rgba(60, 64, 67, 0.3), 0px 1px 3px 1px rgba(60, 64, 67, 0.15);\n",
              "      fill: #174EA6;\n",
              "    }\n",
              "\n",
              "    .colab-df-buttons div {\n",
              "      margin-bottom: 4px;\n",
              "    }\n",
              "\n",
              "    [theme=dark] .colab-df-convert {\n",
              "      background-color: #3B4455;\n",
              "      fill: #D2E3FC;\n",
              "    }\n",
              "\n",
              "    [theme=dark] .colab-df-convert:hover {\n",
              "      background-color: #434B5C;\n",
              "      box-shadow: 0px 1px 3px 1px rgba(0, 0, 0, 0.15);\n",
              "      filter: drop-shadow(0px 1px 2px rgba(0, 0, 0, 0.3));\n",
              "      fill: #FFFFFF;\n",
              "    }\n",
              "  </style>\n",
              "\n",
              "    <script>\n",
              "      const buttonEl =\n",
              "        document.querySelector('#df-c9ab5c26-7fb3-49ef-9e63-449883ea2f56 button.colab-df-convert');\n",
              "      buttonEl.style.display =\n",
              "        google.colab.kernel.accessAllowed ? 'block' : 'none';\n",
              "\n",
              "      async function convertToInteractive(key) {\n",
              "        const element = document.querySelector('#df-c9ab5c26-7fb3-49ef-9e63-449883ea2f56');\n",
              "        const dataTable =\n",
              "          await google.colab.kernel.invokeFunction('convertToInteractive',\n",
              "                                                    [key], {});\n",
              "        if (!dataTable) return;\n",
              "\n",
              "        const docLinkHtml = 'Like what you see? Visit the ' +\n",
              "          '<a target=\"_blank\" href=https://colab.research.google.com/notebooks/data_table.ipynb>data table notebook</a>'\n",
              "          + ' to learn more about interactive tables.';\n",
              "        element.innerHTML = '';\n",
              "        dataTable['output_type'] = 'display_data';\n",
              "        await google.colab.output.renderOutput(dataTable, element);\n",
              "        const docLink = document.createElement('div');\n",
              "        docLink.innerHTML = docLinkHtml;\n",
              "        element.appendChild(docLink);\n",
              "      }\n",
              "    </script>\n",
              "  </div>\n",
              "\n",
              "\n",
              "<div id=\"df-dc1abc30-e7fe-422f-87df-658fb2843562\">\n",
              "  <button class=\"colab-df-quickchart\" onclick=\"quickchart('df-dc1abc30-e7fe-422f-87df-658fb2843562')\"\n",
              "            title=\"Suggest charts\"\n",
              "            style=\"display:none;\">\n",
              "\n",
              "<svg xmlns=\"http://www.w3.org/2000/svg\" height=\"24px\"viewBox=\"0 0 24 24\"\n",
              "     width=\"24px\">\n",
              "    <g>\n",
              "        <path d=\"M19 3H5c-1.1 0-2 .9-2 2v14c0 1.1.9 2 2 2h14c1.1 0 2-.9 2-2V5c0-1.1-.9-2-2-2zM9 17H7v-7h2v7zm4 0h-2V7h2v10zm4 0h-2v-4h2v4z\"/>\n",
              "    </g>\n",
              "</svg>\n",
              "  </button>\n",
              "\n",
              "<style>\n",
              "  .colab-df-quickchart {\n",
              "      --bg-color: #E8F0FE;\n",
              "      --fill-color: #1967D2;\n",
              "      --hover-bg-color: #E2EBFA;\n",
              "      --hover-fill-color: #174EA6;\n",
              "      --disabled-fill-color: #AAA;\n",
              "      --disabled-bg-color: #DDD;\n",
              "  }\n",
              "\n",
              "  [theme=dark] .colab-df-quickchart {\n",
              "      --bg-color: #3B4455;\n",
              "      --fill-color: #D2E3FC;\n",
              "      --hover-bg-color: #434B5C;\n",
              "      --hover-fill-color: #FFFFFF;\n",
              "      --disabled-bg-color: #3B4455;\n",
              "      --disabled-fill-color: #666;\n",
              "  }\n",
              "\n",
              "  .colab-df-quickchart {\n",
              "    background-color: var(--bg-color);\n",
              "    border: none;\n",
              "    border-radius: 50%;\n",
              "    cursor: pointer;\n",
              "    display: none;\n",
              "    fill: var(--fill-color);\n",
              "    height: 32px;\n",
              "    padding: 0;\n",
              "    width: 32px;\n",
              "  }\n",
              "\n",
              "  .colab-df-quickchart:hover {\n",
              "    background-color: var(--hover-bg-color);\n",
              "    box-shadow: 0 1px 2px rgba(60, 64, 67, 0.3), 0 1px 3px 1px rgba(60, 64, 67, 0.15);\n",
              "    fill: var(--button-hover-fill-color);\n",
              "  }\n",
              "\n",
              "  .colab-df-quickchart-complete:disabled,\n",
              "  .colab-df-quickchart-complete:disabled:hover {\n",
              "    background-color: var(--disabled-bg-color);\n",
              "    fill: var(--disabled-fill-color);\n",
              "    box-shadow: none;\n",
              "  }\n",
              "\n",
              "  .colab-df-spinner {\n",
              "    border: 2px solid var(--fill-color);\n",
              "    border-color: transparent;\n",
              "    border-bottom-color: var(--fill-color);\n",
              "    animation:\n",
              "      spin 1s steps(1) infinite;\n",
              "  }\n",
              "\n",
              "  @keyframes spin {\n",
              "    0% {\n",
              "      border-color: transparent;\n",
              "      border-bottom-color: var(--fill-color);\n",
              "      border-left-color: var(--fill-color);\n",
              "    }\n",
              "    20% {\n",
              "      border-color: transparent;\n",
              "      border-left-color: var(--fill-color);\n",
              "      border-top-color: var(--fill-color);\n",
              "    }\n",
              "    30% {\n",
              "      border-color: transparent;\n",
              "      border-left-color: var(--fill-color);\n",
              "      border-top-color: var(--fill-color);\n",
              "      border-right-color: var(--fill-color);\n",
              "    }\n",
              "    40% {\n",
              "      border-color: transparent;\n",
              "      border-right-color: var(--fill-color);\n",
              "      border-top-color: var(--fill-color);\n",
              "    }\n",
              "    60% {\n",
              "      border-color: transparent;\n",
              "      border-right-color: var(--fill-color);\n",
              "    }\n",
              "    80% {\n",
              "      border-color: transparent;\n",
              "      border-right-color: var(--fill-color);\n",
              "      border-bottom-color: var(--fill-color);\n",
              "    }\n",
              "    90% {\n",
              "      border-color: transparent;\n",
              "      border-bottom-color: var(--fill-color);\n",
              "    }\n",
              "  }\n",
              "</style>\n",
              "\n",
              "  <script>\n",
              "    async function quickchart(key) {\n",
              "      const quickchartButtonEl =\n",
              "        document.querySelector('#' + key + ' button');\n",
              "      quickchartButtonEl.disabled = true;  // To prevent multiple clicks.\n",
              "      quickchartButtonEl.classList.add('colab-df-spinner');\n",
              "      try {\n",
              "        const charts = await google.colab.kernel.invokeFunction(\n",
              "            'suggestCharts', [key], {});\n",
              "      } catch (error) {\n",
              "        console.error('Error during call to suggestCharts:', error);\n",
              "      }\n",
              "      quickchartButtonEl.classList.remove('colab-df-spinner');\n",
              "      quickchartButtonEl.classList.add('colab-df-quickchart-complete');\n",
              "    }\n",
              "    (() => {\n",
              "      let quickchartButtonEl =\n",
              "        document.querySelector('#df-dc1abc30-e7fe-422f-87df-658fb2843562 button');\n",
              "      quickchartButtonEl.style.display =\n",
              "        google.colab.kernel.accessAllowed ? 'block' : 'none';\n",
              "    })();\n",
              "  </script>\n",
              "</div>\n",
              "    </div>\n",
              "  </div>\n"
            ],
            "application/vnd.google.colaboratory.intrinsic+json": {
              "type": "dataframe",
              "variable_name": "similar_df",
              "summary": "{\n  \"name\": \"similar_df\",\n  \"rows\": 2775,\n  \"fields\": [\n    {\n      \"column\": \"doc_id1\",\n      \"properties\": {\n        \"dtype\": \"number\",\n        \"std\": 403049,\n        \"min\": 13395,\n        \"max\": 1749766,\n        \"num_unique_values\": 74,\n        \"samples\": [\n          472496,\n          1214632,\n          252827\n        ],\n        \"semantic_type\": \"\",\n        \"description\": \"\"\n      }\n    },\n    {\n      \"column\": \"doc_id2\",\n      \"properties\": {\n        \"dtype\": \"number\",\n        \"std\": 425543,\n        \"min\": 34993,\n        \"max\": 1750168,\n        \"num_unique_values\": 74,\n        \"samples\": [\n          1388218,\n          218886,\n          909604\n        ],\n        \"semantic_type\": \"\",\n        \"description\": \"\"\n      }\n    },\n    {\n      \"column\": \"jaccard_sim\",\n      \"properties\": {\n        \"dtype\": \"number\",\n        \"std\": 0.04312345684055229,\n        \"min\": 0.0,\n        \"max\": 0.2920353982300885,\n        \"num_unique_values\": 364,\n        \"samples\": [\n          0.15887850467289721,\n          0.0980392156862745,\n          0.1271186440677966\n        ],\n        \"semantic_type\": \"\",\n        \"description\": \"\"\n      }\n    }\n  ]\n}"
            }
          },
          "metadata": {},
          "execution_count": 64
        }
      ]
    },
    {
      "cell_type": "code",
      "source": [
        "for pair in similar_pairs[:2]:\n",
        "    doc1 = pair[0]\n",
        "    doc2 = pair[1]\n",
        "\n",
        "    # Filter DataFrame to retrieve text for doc1 and doc2\n",
        "    doc1_text = df_scaled.filter(col('doc_id') == doc1).select('job_words').first()[0]\n",
        "    doc2_text = df_scaled.filter(col('doc_id') == doc2).select('job_words').first()[0]\n",
        "\n",
        "    # Display job summaries for doc1 and doc2\n",
        "    print(\"Document 1:\")\n",
        "    print(doc1_text)\n",
        "    print(\"\\nDocument 2:\")\n",
        "    print(doc2_text)\n",
        "    print(\"\\n---\")"
      ],
      "metadata": {
        "colab": {
          "base_uri": "https://localhost:8080/"
        },
        "id": "6ZEWjHv45bs6",
        "outputId": "7a6e69d0-c156-45ae-cb8e-70c5ac474c6f"
      },
      "execution_count": 65,
      "outputs": [
        {
          "output_type": "stream",
          "name": "stdout",
          "text": [
            "Document 1:\n",
            " AND possess a valid Class C California driver's license with a safe driving record or driver's license from another state with a safe driving record.\n",
            "\n",
            "Document 2:\n",
            " people and ideas. We are source of possibilities since 1964. Cascades have been providing sustainable\n",
            "\n",
            "---\n",
            "Document 1:\n",
            " and conference center clients.\n",
            "\n",
            "Document 2:\n",
            "Job Description This position will be scheduled approximately 40 hours per week at our Lindner Research Center located at 2123 Auburn Ave, Suite 424, Cincinnati, OH 45219. Accurately and professionally works with Operations Coordinators and RN’s to assist in the execution all clinical projects assigned to him/her: assists in project initiation, maintains patient continuance, assures protocol compliance, reports to Coordinators and nurses on patient/progress status. Needs phlebotomy training and experience. Contributes to the smooth patient flow during patient office visitations. Show more Show less\n",
            "\n",
            "---\n"
          ]
        }
      ]
    }
  ],
  "metadata": {
    "colab": {
      "provenance": []
    },
    "kernelspec": {
      "display_name": "Python 3",
      "name": "python3"
    },
    "language_info": {
      "name": "python"
    }
  },
  "nbformat": 4,
  "nbformat_minor": 0
}
