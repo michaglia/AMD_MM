{
  "cells": [
    {
      "cell_type": "markdown",
      "metadata": {
        "id": "Cgu5sXFOyeXQ"
      },
      "source": [
        "# Algorithms for Massive Data\n",
        "\n",
        "\n",
        "Project Finding Similar Items\n",
        "\n",
        "\n",
        "Michela Mazzaglia academic year 2023/2024"
      ]
    },
    {
      "cell_type": "markdown",
      "metadata": {
        "id": "3UYT36l9zKaM"
      },
      "source": [
        "## Importing libraries"
      ]
    },
    {
      "cell_type": "code",
      "execution_count": 1,
      "metadata": {
        "colab": {
          "base_uri": "https://localhost:8080/"
        },
        "id": "1Y3WDvffms6L",
        "outputId": "2f17e7b0-02e9-43da-b606-aa081d168c54"
      },
      "outputs": [
        {
          "output_type": "stream",
          "name": "stdout",
          "text": [
            "Collecting pyspark\n",
            "  Downloading pyspark-3.5.1.tar.gz (317.0 MB)\n",
            "\u001b[2K     \u001b[90m━━━━━━━━━━━━━━━━━━━━━━━━━━━━━━━━━━━━━━━━\u001b[0m \u001b[32m317.0/317.0 MB\u001b[0m \u001b[31m2.4 MB/s\u001b[0m eta \u001b[36m0:00:00\u001b[0m\n",
            "\u001b[?25h  Preparing metadata (setup.py) ... \u001b[?25l\u001b[?25hdone\n",
            "Requirement already satisfied: py4j==0.10.9.7 in /usr/local/lib/python3.10/dist-packages (from pyspark) (0.10.9.7)\n",
            "Building wheels for collected packages: pyspark\n",
            "  Building wheel for pyspark (setup.py) ... \u001b[?25l\u001b[?25hdone\n",
            "  Created wheel for pyspark: filename=pyspark-3.5.1-py2.py3-none-any.whl size=317488491 sha256=e09b438e2f624f5f5a78e687a24386a2d0bda2e507e4d31f2e5f408e55dedf21\n",
            "  Stored in directory: /root/.cache/pip/wheels/80/1d/60/2c256ed38dddce2fdd93be545214a63e02fbd8d74fb0b7f3a6\n",
            "Successfully built pyspark\n",
            "Installing collected packages: pyspark\n",
            "Successfully installed pyspark-3.5.1\n"
          ]
        }
      ],
      "source": [
        "pip install pyspark"
      ]
    },
    {
      "cell_type": "code",
      "execution_count": 2,
      "metadata": {
        "colab": {
          "base_uri": "https://localhost:8080/"
        },
        "id": "L53ps9OZrfbA",
        "outputId": "5e7ad500-4663-4c4b-98f0-e5e38de55349"
      },
      "outputs": [
        {
          "output_type": "stream",
          "name": "stdout",
          "text": [
            "Collecting findspark\n",
            "  Downloading findspark-2.0.1-py2.py3-none-any.whl (4.4 kB)\n",
            "Installing collected packages: findspark\n",
            "Successfully installed findspark-2.0.1\n"
          ]
        }
      ],
      "source": [
        "pip install findspark"
      ]
    },
    {
      "cell_type": "code",
      "execution_count": 3,
      "metadata": {
        "colab": {
          "base_uri": "https://localhost:8080/",
          "height": 221
        },
        "id": "DnZBxBhbiMtE",
        "outputId": "fff4a8f8-bc10-4417-d072-8706935c353f"
      },
      "outputs": [
        {
          "output_type": "execute_result",
          "data": {
            "text/plain": [
              "<pyspark.sql.session.SparkSession at 0x7b41409f4bb0>"
            ],
            "text/html": [
              "\n",
              "            <div>\n",
              "                <p><b>SparkSession - in-memory</b></p>\n",
              "                \n",
              "        <div>\n",
              "            <p><b>SparkContext</b></p>\n",
              "\n",
              "            <p><a href=\"http://40f4438fb68d:4040\">Spark UI</a></p>\n",
              "\n",
              "            <dl>\n",
              "              <dt>Version</dt>\n",
              "                <dd><code>v3.5.1</code></dd>\n",
              "              <dt>Master</dt>\n",
              "                <dd><code>local[*]</code></dd>\n",
              "              <dt>AppName</dt>\n",
              "                <dd><code>pyspark-shell</code></dd>\n",
              "            </dl>\n",
              "        </div>\n",
              "        \n",
              "            </div>\n",
              "        "
            ]
          },
          "metadata": {},
          "execution_count": 3
        }
      ],
      "source": [
        "import pyspark\n",
        "import findspark\n",
        "from pyspark.sql import SparkSession\n",
        "\n",
        "spark = SparkSession.builder.master(\"local[*]\").getOrCreate()\n",
        "spark"
      ]
    },
    {
      "cell_type": "code",
      "execution_count": 4,
      "metadata": {
        "id": "_fctGHFInO8p"
      },
      "outputs": [],
      "source": [
        "! pip install -q kaggle"
      ]
    },
    {
      "cell_type": "code",
      "execution_count": 5,
      "metadata": {
        "colab": {
          "base_uri": "https://localhost:8080/"
        },
        "id": "a7mx96DnAv4V",
        "outputId": "4e4d62d4-e8a1-40b9-e7f0-fb84de90bee4"
      },
      "outputs": [
        {
          "output_type": "stream",
          "name": "stdout",
          "text": [
            "Requirement already satisfied: pyspark in /usr/local/lib/python3.10/dist-packages (3.5.1)\n",
            "Requirement already satisfied: nltk in /usr/local/lib/python3.10/dist-packages (3.8.1)\n",
            "Requirement already satisfied: py4j==0.10.9.7 in /usr/local/lib/python3.10/dist-packages (from pyspark) (0.10.9.7)\n",
            "Requirement already satisfied: click in /usr/local/lib/python3.10/dist-packages (from nltk) (8.1.7)\n",
            "Requirement already satisfied: joblib in /usr/local/lib/python3.10/dist-packages (from nltk) (1.4.2)\n",
            "Requirement already satisfied: regex>=2021.8.3 in /usr/local/lib/python3.10/dist-packages (from nltk) (2024.5.15)\n",
            "Requirement already satisfied: tqdm in /usr/local/lib/python3.10/dist-packages (from nltk) (4.66.4)\n"
          ]
        }
      ],
      "source": [
        "pip install pyspark nltk"
      ]
    },
    {
      "cell_type": "code",
      "execution_count": 6,
      "metadata": {
        "id": "_Vg5_SZQBTo-"
      },
      "outputs": [],
      "source": [
        "import numpy as np\n",
        "import pandas as pd\n",
        "import re, math\n",
        "import nltk\n",
        "from pyspark.sql.functions import udf, length, expr, regexp_extract, collect_list\n",
        "from pyspark.sql.types import StructType, StructField, StringType, LongType\n",
        "from pyspark.sql.functions import monotonically_increasing_id, regexp_replace, col, split, size, concat_ws\n",
        "from pyspark.ml.linalg import Vectors, DenseVector, VectorUDT\n",
        "from pyspark.ml.feature import MinHashLSH, HashingTF\n",
        "import random\n",
        "from sympy import nextprime"
      ]
    },
    {
      "cell_type": "markdown",
      "metadata": {
        "id": "sw6iadABzV9V"
      },
      "source": [
        "## Uploading the dataset"
      ]
    },
    {
      "cell_type": "code",
      "execution_count": null,
      "metadata": {
        "collapsed": true,
        "id": "0tffiZwBnuiG"
      },
      "outputs": [],
      "source": [
        "from google.colab import files\n",
        "\n",
        "files.upload() # upload your kaggle api key"
      ]
    },
    {
      "cell_type": "code",
      "execution_count": 8,
      "metadata": {
        "id": "MTmTZw7inE3T"
      },
      "outputs": [],
      "source": [
        "! mkdir ~/.kaggle\n",
        "\n",
        "! cp kaggle.json ~/.kaggle/"
      ]
    },
    {
      "cell_type": "code",
      "execution_count": 9,
      "metadata": {
        "id": "QIHxIdY-n4oY"
      },
      "outputs": [],
      "source": [
        "! chmod 600 ~/.kaggle/kaggle.json"
      ]
    },
    {
      "cell_type": "code",
      "execution_count": 10,
      "metadata": {
        "colab": {
          "base_uri": "https://localhost:8080/"
        },
        "id": "auoJ04U-n7Ok",
        "outputId": "41021e97-83c0-4997-f755-8be612202636"
      },
      "outputs": [
        {
          "output_type": "stream",
          "name": "stdout",
          "text": [
            "Dataset URL: https://www.kaggle.com/datasets/asaniczka/1-3m-linkedin-jobs-and-skills-2024\n",
            "License(s): ODC Attribution License (ODC-By)\n",
            "Downloading 1-3m-linkedin-jobs-and-skills-2024.zip to /content\n",
            " 99% 1.86G/1.88G [00:35<00:00, 87.5MB/s]\n",
            "100% 1.88G/1.88G [00:35<00:00, 56.1MB/s]\n"
          ]
        }
      ],
      "source": [
        "!kaggle datasets download -d asaniczka/1-3m-linkedin-jobs-and-skills-2024"
      ]
    },
    {
      "cell_type": "code",
      "execution_count": 11,
      "metadata": {
        "id": "CcXCQbsXzgkL"
      },
      "outputs": [],
      "source": [
        "!unzip -q ./1-3m-linkedin-jobs-and-skills-2024.zip -d ."
      ]
    },
    {
      "cell_type": "code",
      "execution_count": 12,
      "metadata": {
        "id": "s3tlOwX9Oqq-"
      },
      "outputs": [],
      "source": [
        "sc = spark.sparkContext"
      ]
    },
    {
      "cell_type": "markdown",
      "metadata": {
        "id": "Wz7htdabyaZ6"
      },
      "source": [
        "## Data Cleaning & Preprocessing"
      ]
    },
    {
      "cell_type": "code",
      "execution_count": 13,
      "metadata": {
        "id": "Lb00f_bHMwvL"
      },
      "outputs": [],
      "source": [
        "df_0 = pd.read_csv('/content/job_summary.csv')"
      ]
    },
    {
      "cell_type": "code",
      "execution_count": 14,
      "metadata": {
        "colab": {
          "base_uri": "https://localhost:8080/",
          "height": 424
        },
        "id": "KFTppokKNeVa",
        "outputId": "22ddecb4-e438-4a35-9b10-fa8ceac6588e"
      },
      "outputs": [
        {
          "output_type": "execute_result",
          "data": {
            "text/plain": [
              "                                                  job_link  \\\n",
              "0        https://www.linkedin.com/jobs/view/restaurant-...   \n",
              "1        https://www.linkedin.com/jobs/view/med-surg-re...   \n",
              "2        https://www.linkedin.com/jobs/view/registered-...   \n",
              "3        https://uk.linkedin.com/jobs/view/commercial-a...   \n",
              "4        https://www.linkedin.com/jobs/view/store-manag...   \n",
              "...                                                    ...   \n",
              "1297327  https://www.linkedin.com/jobs/view/roofing-sup...   \n",
              "1297328  https://www.linkedin.com/jobs/view/service-cen...   \n",
              "1297329  https://www.linkedin.com/jobs/view/flight-qual...   \n",
              "1297330  https://www.linkedin.com/jobs/view/global-sour...   \n",
              "1297331  https://www.linkedin.com/jobs/view/research-as...   \n",
              "\n",
              "                                               job_summary  \n",
              "0        Rock N Roll Sushi is hiring a Restaurant Manag...  \n",
              "1        Schedule\\n: PRN is required minimum 12 hours p...  \n",
              "2        Description\\nIntroduction\\nAre you looking for...  \n",
              "3        Commercial account executive\\nSheffield\\nFull ...  \n",
              "4        Address:\\nUSA-CT-Newington-44 Fenn Road\\nStore...  \n",
              "...                                                    ...  \n",
              "1297327  We are currently seeking experienced commercia...  \n",
              "1297328  Overview\\nStable and growing organization\\nCom...  \n",
              "1297329  Rôle et responsabilités\\nJob Description:\\nFli...  \n",
              "1297330  Job Description\\nAre You Ready to Make It Happ...  \n",
              "1297331  Current Employees:\\nIf you are a current Staff...  \n",
              "\n",
              "[1297332 rows x 2 columns]"
            ],
            "text/html": [
              "\n",
              "  <div id=\"df-7a6715b2-6e23-4fb8-ba39-78aa2579c501\" class=\"colab-df-container\">\n",
              "    <div>\n",
              "<style scoped>\n",
              "    .dataframe tbody tr th:only-of-type {\n",
              "        vertical-align: middle;\n",
              "    }\n",
              "\n",
              "    .dataframe tbody tr th {\n",
              "        vertical-align: top;\n",
              "    }\n",
              "\n",
              "    .dataframe thead th {\n",
              "        text-align: right;\n",
              "    }\n",
              "</style>\n",
              "<table border=\"1\" class=\"dataframe\">\n",
              "  <thead>\n",
              "    <tr style=\"text-align: right;\">\n",
              "      <th></th>\n",
              "      <th>job_link</th>\n",
              "      <th>job_summary</th>\n",
              "    </tr>\n",
              "  </thead>\n",
              "  <tbody>\n",
              "    <tr>\n",
              "      <th>0</th>\n",
              "      <td>https://www.linkedin.com/jobs/view/restaurant-...</td>\n",
              "      <td>Rock N Roll Sushi is hiring a Restaurant Manag...</td>\n",
              "    </tr>\n",
              "    <tr>\n",
              "      <th>1</th>\n",
              "      <td>https://www.linkedin.com/jobs/view/med-surg-re...</td>\n",
              "      <td>Schedule\\n: PRN is required minimum 12 hours p...</td>\n",
              "    </tr>\n",
              "    <tr>\n",
              "      <th>2</th>\n",
              "      <td>https://www.linkedin.com/jobs/view/registered-...</td>\n",
              "      <td>Description\\nIntroduction\\nAre you looking for...</td>\n",
              "    </tr>\n",
              "    <tr>\n",
              "      <th>3</th>\n",
              "      <td>https://uk.linkedin.com/jobs/view/commercial-a...</td>\n",
              "      <td>Commercial account executive\\nSheffield\\nFull ...</td>\n",
              "    </tr>\n",
              "    <tr>\n",
              "      <th>4</th>\n",
              "      <td>https://www.linkedin.com/jobs/view/store-manag...</td>\n",
              "      <td>Address:\\nUSA-CT-Newington-44 Fenn Road\\nStore...</td>\n",
              "    </tr>\n",
              "    <tr>\n",
              "      <th>...</th>\n",
              "      <td>...</td>\n",
              "      <td>...</td>\n",
              "    </tr>\n",
              "    <tr>\n",
              "      <th>1297327</th>\n",
              "      <td>https://www.linkedin.com/jobs/view/roofing-sup...</td>\n",
              "      <td>We are currently seeking experienced commercia...</td>\n",
              "    </tr>\n",
              "    <tr>\n",
              "      <th>1297328</th>\n",
              "      <td>https://www.linkedin.com/jobs/view/service-cen...</td>\n",
              "      <td>Overview\\nStable and growing organization\\nCom...</td>\n",
              "    </tr>\n",
              "    <tr>\n",
              "      <th>1297329</th>\n",
              "      <td>https://www.linkedin.com/jobs/view/flight-qual...</td>\n",
              "      <td>Rôle et responsabilités\\nJob Description:\\nFli...</td>\n",
              "    </tr>\n",
              "    <tr>\n",
              "      <th>1297330</th>\n",
              "      <td>https://www.linkedin.com/jobs/view/global-sour...</td>\n",
              "      <td>Job Description\\nAre You Ready to Make It Happ...</td>\n",
              "    </tr>\n",
              "    <tr>\n",
              "      <th>1297331</th>\n",
              "      <td>https://www.linkedin.com/jobs/view/research-as...</td>\n",
              "      <td>Current Employees:\\nIf you are a current Staff...</td>\n",
              "    </tr>\n",
              "  </tbody>\n",
              "</table>\n",
              "<p>1297332 rows × 2 columns</p>\n",
              "</div>\n",
              "    <div class=\"colab-df-buttons\">\n",
              "\n",
              "  <div class=\"colab-df-container\">\n",
              "    <button class=\"colab-df-convert\" onclick=\"convertToInteractive('df-7a6715b2-6e23-4fb8-ba39-78aa2579c501')\"\n",
              "            title=\"Convert this dataframe to an interactive table.\"\n",
              "            style=\"display:none;\">\n",
              "\n",
              "  <svg xmlns=\"http://www.w3.org/2000/svg\" height=\"24px\" viewBox=\"0 -960 960 960\">\n",
              "    <path d=\"M120-120v-720h720v720H120Zm60-500h600v-160H180v160Zm220 220h160v-160H400v160Zm0 220h160v-160H400v160ZM180-400h160v-160H180v160Zm440 0h160v-160H620v160ZM180-180h160v-160H180v160Zm440 0h160v-160H620v160Z\"/>\n",
              "  </svg>\n",
              "    </button>\n",
              "\n",
              "  <style>\n",
              "    .colab-df-container {\n",
              "      display:flex;\n",
              "      gap: 12px;\n",
              "    }\n",
              "\n",
              "    .colab-df-convert {\n",
              "      background-color: #E8F0FE;\n",
              "      border: none;\n",
              "      border-radius: 50%;\n",
              "      cursor: pointer;\n",
              "      display: none;\n",
              "      fill: #1967D2;\n",
              "      height: 32px;\n",
              "      padding: 0 0 0 0;\n",
              "      width: 32px;\n",
              "    }\n",
              "\n",
              "    .colab-df-convert:hover {\n",
              "      background-color: #E2EBFA;\n",
              "      box-shadow: 0px 1px 2px rgba(60, 64, 67, 0.3), 0px 1px 3px 1px rgba(60, 64, 67, 0.15);\n",
              "      fill: #174EA6;\n",
              "    }\n",
              "\n",
              "    .colab-df-buttons div {\n",
              "      margin-bottom: 4px;\n",
              "    }\n",
              "\n",
              "    [theme=dark] .colab-df-convert {\n",
              "      background-color: #3B4455;\n",
              "      fill: #D2E3FC;\n",
              "    }\n",
              "\n",
              "    [theme=dark] .colab-df-convert:hover {\n",
              "      background-color: #434B5C;\n",
              "      box-shadow: 0px 1px 3px 1px rgba(0, 0, 0, 0.15);\n",
              "      filter: drop-shadow(0px 1px 2px rgba(0, 0, 0, 0.3));\n",
              "      fill: #FFFFFF;\n",
              "    }\n",
              "  </style>\n",
              "\n",
              "    <script>\n",
              "      const buttonEl =\n",
              "        document.querySelector('#df-7a6715b2-6e23-4fb8-ba39-78aa2579c501 button.colab-df-convert');\n",
              "      buttonEl.style.display =\n",
              "        google.colab.kernel.accessAllowed ? 'block' : 'none';\n",
              "\n",
              "      async function convertToInteractive(key) {\n",
              "        const element = document.querySelector('#df-7a6715b2-6e23-4fb8-ba39-78aa2579c501');\n",
              "        const dataTable =\n",
              "          await google.colab.kernel.invokeFunction('convertToInteractive',\n",
              "                                                    [key], {});\n",
              "        if (!dataTable) return;\n",
              "\n",
              "        const docLinkHtml = 'Like what you see? Visit the ' +\n",
              "          '<a target=\"_blank\" href=https://colab.research.google.com/notebooks/data_table.ipynb>data table notebook</a>'\n",
              "          + ' to learn more about interactive tables.';\n",
              "        element.innerHTML = '';\n",
              "        dataTable['output_type'] = 'display_data';\n",
              "        await google.colab.output.renderOutput(dataTable, element);\n",
              "        const docLink = document.createElement('div');\n",
              "        docLink.innerHTML = docLinkHtml;\n",
              "        element.appendChild(docLink);\n",
              "      }\n",
              "    </script>\n",
              "  </div>\n",
              "\n",
              "\n",
              "<div id=\"df-b95a8151-f2f1-463c-9661-a5d68d9199bd\">\n",
              "  <button class=\"colab-df-quickchart\" onclick=\"quickchart('df-b95a8151-f2f1-463c-9661-a5d68d9199bd')\"\n",
              "            title=\"Suggest charts\"\n",
              "            style=\"display:none;\">\n",
              "\n",
              "<svg xmlns=\"http://www.w3.org/2000/svg\" height=\"24px\"viewBox=\"0 0 24 24\"\n",
              "     width=\"24px\">\n",
              "    <g>\n",
              "        <path d=\"M19 3H5c-1.1 0-2 .9-2 2v14c0 1.1.9 2 2 2h14c1.1 0 2-.9 2-2V5c0-1.1-.9-2-2-2zM9 17H7v-7h2v7zm4 0h-2V7h2v10zm4 0h-2v-4h2v4z\"/>\n",
              "    </g>\n",
              "</svg>\n",
              "  </button>\n",
              "\n",
              "<style>\n",
              "  .colab-df-quickchart {\n",
              "      --bg-color: #E8F0FE;\n",
              "      --fill-color: #1967D2;\n",
              "      --hover-bg-color: #E2EBFA;\n",
              "      --hover-fill-color: #174EA6;\n",
              "      --disabled-fill-color: #AAA;\n",
              "      --disabled-bg-color: #DDD;\n",
              "  }\n",
              "\n",
              "  [theme=dark] .colab-df-quickchart {\n",
              "      --bg-color: #3B4455;\n",
              "      --fill-color: #D2E3FC;\n",
              "      --hover-bg-color: #434B5C;\n",
              "      --hover-fill-color: #FFFFFF;\n",
              "      --disabled-bg-color: #3B4455;\n",
              "      --disabled-fill-color: #666;\n",
              "  }\n",
              "\n",
              "  .colab-df-quickchart {\n",
              "    background-color: var(--bg-color);\n",
              "    border: none;\n",
              "    border-radius: 50%;\n",
              "    cursor: pointer;\n",
              "    display: none;\n",
              "    fill: var(--fill-color);\n",
              "    height: 32px;\n",
              "    padding: 0;\n",
              "    width: 32px;\n",
              "  }\n",
              "\n",
              "  .colab-df-quickchart:hover {\n",
              "    background-color: var(--hover-bg-color);\n",
              "    box-shadow: 0 1px 2px rgba(60, 64, 67, 0.3), 0 1px 3px 1px rgba(60, 64, 67, 0.15);\n",
              "    fill: var(--button-hover-fill-color);\n",
              "  }\n",
              "\n",
              "  .colab-df-quickchart-complete:disabled,\n",
              "  .colab-df-quickchart-complete:disabled:hover {\n",
              "    background-color: var(--disabled-bg-color);\n",
              "    fill: var(--disabled-fill-color);\n",
              "    box-shadow: none;\n",
              "  }\n",
              "\n",
              "  .colab-df-spinner {\n",
              "    border: 2px solid var(--fill-color);\n",
              "    border-color: transparent;\n",
              "    border-bottom-color: var(--fill-color);\n",
              "    animation:\n",
              "      spin 1s steps(1) infinite;\n",
              "  }\n",
              "\n",
              "  @keyframes spin {\n",
              "    0% {\n",
              "      border-color: transparent;\n",
              "      border-bottom-color: var(--fill-color);\n",
              "      border-left-color: var(--fill-color);\n",
              "    }\n",
              "    20% {\n",
              "      border-color: transparent;\n",
              "      border-left-color: var(--fill-color);\n",
              "      border-top-color: var(--fill-color);\n",
              "    }\n",
              "    30% {\n",
              "      border-color: transparent;\n",
              "      border-left-color: var(--fill-color);\n",
              "      border-top-color: var(--fill-color);\n",
              "      border-right-color: var(--fill-color);\n",
              "    }\n",
              "    40% {\n",
              "      border-color: transparent;\n",
              "      border-right-color: var(--fill-color);\n",
              "      border-top-color: var(--fill-color);\n",
              "    }\n",
              "    60% {\n",
              "      border-color: transparent;\n",
              "      border-right-color: var(--fill-color);\n",
              "    }\n",
              "    80% {\n",
              "      border-color: transparent;\n",
              "      border-right-color: var(--fill-color);\n",
              "      border-bottom-color: var(--fill-color);\n",
              "    }\n",
              "    90% {\n",
              "      border-color: transparent;\n",
              "      border-bottom-color: var(--fill-color);\n",
              "    }\n",
              "  }\n",
              "</style>\n",
              "\n",
              "  <script>\n",
              "    async function quickchart(key) {\n",
              "      const quickchartButtonEl =\n",
              "        document.querySelector('#' + key + ' button');\n",
              "      quickchartButtonEl.disabled = true;  // To prevent multiple clicks.\n",
              "      quickchartButtonEl.classList.add('colab-df-spinner');\n",
              "      try {\n",
              "        const charts = await google.colab.kernel.invokeFunction(\n",
              "            'suggestCharts', [key], {});\n",
              "      } catch (error) {\n",
              "        console.error('Error during call to suggestCharts:', error);\n",
              "      }\n",
              "      quickchartButtonEl.classList.remove('colab-df-spinner');\n",
              "      quickchartButtonEl.classList.add('colab-df-quickchart-complete');\n",
              "    }\n",
              "    (() => {\n",
              "      let quickchartButtonEl =\n",
              "        document.querySelector('#df-b95a8151-f2f1-463c-9661-a5d68d9199bd button');\n",
              "      quickchartButtonEl.style.display =\n",
              "        google.colab.kernel.accessAllowed ? 'block' : 'none';\n",
              "    })();\n",
              "  </script>\n",
              "</div>\n",
              "    </div>\n",
              "  </div>\n"
            ],
            "application/vnd.google.colaboratory.intrinsic+json": {
              "type": "dataframe",
              "variable_name": "df_0"
            }
          },
          "metadata": {},
          "execution_count": 14
        }
      ],
      "source": [
        "df_0"
      ]
    },
    {
      "cell_type": "code",
      "execution_count": 15,
      "metadata": {
        "colab": {
          "base_uri": "https://localhost:8080/",
          "height": 143
        },
        "id": "iFWYETU_N9sx",
        "outputId": "3adb7aee-31f8-49fe-8693-2ef4971d95ca"
      },
      "outputs": [
        {
          "output_type": "execute_result",
          "data": {
            "text/plain": [
              "'Description\\nIntroduction\\nAre you looking for a place to deliver excellent care patients deserve? At StoneSprings Hospital Center we support our colleagues in their positions. Join our Team as a(an) Registered Nurse Cath Lab and access programs to assist with every stage of your career.\\nBenefits\\nStoneSprings Hospital Center, offers a total rewards package that supports the health, life, career and retirement of our colleagues. The available plans and programs include:\\nComprehensive medical coverage that covers many common services at no cost or for a low copay. Plans include prescription drug and behavioral health coverage as well as free telemedicine services and free AirMed medical transportation.\\nAdditional options for dental and vision benefits, life and disability coverage, flexible spending accounts, supplemental health protection plans (accident, critical illness, hospital indemnity), auto and home insurance, identity theft protection, legal counseling, long-term care coverage, moving assistance, pet insurance and more.\\nFree counseling services and resources for emotional, physical and financial wellbeing\\n401(k) Plan with a 100% match on 3% to 9% of pay (based on years of service)\\nEmployee Stock Purchase Plan with 10% off HCA Healthcare stock\\nFamily support through fertility and family building benefits with Progyny and adoption assistance.\\nReferral services for child, elder and pet care, home and auto repair, event planning and more\\nConsumer discounts through Abenity and Consumer Discounts\\nRetirement readiness, rollover assistance services and preferred banking partnerships\\nEducation assistance (tuition, student loan, certification support, dependent scholarships)\\nColleague recognition program\\nTime Away From Work Program (paid time off, paid family leave, long- and short-term disability coverage and leaves of absence)\\nEmployee Health Assistance Fund that offers free employee-only coverage to full-time and part-time colleagues based on income.\\nLearn More About Employee Benefits\\nNote: Eligibility for benefits may vary by location.\\nAre you a continuous learner? With more than 94,000 nurses throughout HCA Healthcare, we are one of the largest employers of nurses in the United States. Education is key to excellence! As a majority owner of Galen College of Nursing, which joins Research College of Nursing and Mercy School of Nursing as educational facilities within the HCA Healthcare family, we make it easier and more affordable to gain certifications and job skills. Apply today for our Registered Nurse Cath Lab opening and continue to learn!\\nAs a Registered Nurse (RN) in the Cardiac Catheterization Lab, we see about Cath lab and Intentional Radiology patients. We provide the highest level of care from the onset of symptoms through diagnosis and treatment. Our team provides care for patients providing information, assisting with complications, administering medication, guidance and hands-on care.\\nAs a member of our team your will be responsible for assessing, planning, implementing, evaluating and documenting all aspects of patient care.\\nYou will work closely with all health care providers to facilitate and coordinate efficient, effective, quality health care including patient discharge.\\nOur team interprets patient information and makes decisions about necessary actions.\\nAs a member of our team, you will coordinate a patient’s discharge planning needs with members of the healthcare team.\\nAdvanced Cardiac Life Spt must be obtained within 90 days of employment start date\\nBasic Cardiac Life Support must be obtained within 30 days of employment start date\\nRegistered Nurse\\nRegistered Nurse Diploma\\nStoneSprings Hospital Center\\nhas provided quality healthcare services since 2015. We give patient\\'s access to trained physicians and advanced technology. Our\\n120+ bed hospital\\nis one of the region\\'s leading acute care facilities in Loudoun County. Our medical services includes a full-service 24/7 Emergency Department, orthopedics, advanced heart and vascular care, extensive diagnostic imaging and interventional radiology capabilities, minimally invasive robotic surgery and maternal/child health.\\nAt StoneSprings Hospital Center, our care like family culture extends to our patients, our people and our community. We are committed to each other because when we join together, our patients are cared for in the safest and most compassionate way.\\nHCA Healthcare has been recognized as one of the World’s Most Ethical Companies® by the Ethisphere Institute more than ten times. In recent years, HCA Healthcare spent an estimated $3.7 billion in cost for the delivery of charitable care, uninsured discounts, and other uncompensated expenses.\\n\"Good people beget good people.\"- Dr. Thomas Frist, Sr.\\nHCA Healthcare Co-Founder\\nIf growth and continued learning is important to you, we encourage you to apply for our Registered Nurse Cath Lab opening. Our team will promptly review your application. Highly qualified candidates will be contacted for interviews.\\nUnlock the possibilities apply today!\\nWe are an equal opportunity employer and value diversity at our company. We do not discriminate on the basis of race, religion, color, national origin, gender, sexual orientation, age, marital status, veteran status, or disability status.\\nShow more\\nShow less'"
            ],
            "application/vnd.google.colaboratory.intrinsic+json": {
              "type": "string"
            }
          },
          "metadata": {},
          "execution_count": 15
        }
      ],
      "source": [
        "df_0['job_summary'][2]"
      ]
    },
    {
      "cell_type": "markdown",
      "metadata": {
        "id": "hcKVFRUogUo5"
      },
      "source": [
        "Spark"
      ]
    },
    {
      "cell_type": "code",
      "execution_count": 16,
      "metadata": {
        "id": "LnW9eu9yboFk"
      },
      "outputs": [],
      "source": [
        "schema = StructType([\n",
        "    StructField(\"job_link\", StringType(), True),\n",
        "    StructField(\"job_summary\", StringType(), True)\n",
        "])"
      ]
    },
    {
      "cell_type": "code",
      "execution_count": 17,
      "metadata": {
        "colab": {
          "base_uri": "https://localhost:8080/"
        },
        "id": "XiQeoI4RZLSs",
        "outputId": "55da0830-739d-485d-f6cf-39f1e3b2ff13"
      },
      "outputs": [
        {
          "output_type": "stream",
          "name": "stdout",
          "text": [
            "+--------------------+--------------------+\n",
            "|            job_link|         job_summary|\n",
            "+--------------------+--------------------+\n",
            "|https://www.linke...|Rock N Roll Sushi...|\n",
            "|https://www.linke...|Schedule\\n: PRN i...|\n",
            "|https://www.linke...|\"Description\\nInt...|\n",
            "|HCA Healthcare Co...|                NULL|\n",
            "|If growth and con...| we encourage you...|\n",
            "|Unlock the possib...|                NULL|\n",
            "|We are an equal o...|            religion|\n",
            "|           Show more|                NULL|\n",
            "|          Show less\"|                NULL|\n",
            "|https://uk.linked...|Commercial accoun...|\n",
            "|https://www.linke...|Address:\\nUSA-CT-...|\n",
            "|https://www.linke...|Description\\nOur\\...|\n",
            "|https://www.linke...|Company Descripti...|\n",
            "|https://uk.linked...|An exciting oppor...|\n",
            "|https://www.linke...|Job Details:\\nJob...|\n",
            "|https://www.linke...|Our\\nRestaurant T...|\n",
            "|https://www.linke...|Our General Manag...|\n",
            "|https://www.linke...|Earning potential...|\n",
            "|https://www.linke...|Dollar General Co...|\n",
            "|https://au.linked...|Restaurant Descri...|\n",
            "+--------------------+--------------------+\n",
            "only showing top 20 rows\n",
            "\n",
            "root\n",
            " |-- job_link: string (nullable = true)\n",
            " |-- job_summary: string (nullable = true)\n",
            "\n"
          ]
        }
      ],
      "source": [
        "spark_df = spark.read.csv(\n",
        "    '/content/job_summary.csv',\n",
        "    header=True,\n",
        "    schema=schema,\n",
        "    sep=',',       # Specify the delimiter\n",
        "    quote='\"',     # Handle quotes properly\n",
        "    escape='\\\\',   # Handle escape characters\n",
        "    multiLine=True # Handle multiline fields\n",
        ")\n",
        "\n",
        "spark_df.show()\n",
        "spark_df.printSchema()"
      ]
    },
    {
      "cell_type": "code",
      "execution_count": 18,
      "metadata": {
        "id": "jxvBd1A-Dt9I"
      },
      "outputs": [],
      "source": [
        "spark_df = spark_df.dropna(subset=['job_summary'])"
      ]
    },
    {
      "cell_type": "code",
      "execution_count": 19,
      "metadata": {
        "id": "Lfb7K5fCsdS3"
      },
      "outputs": [],
      "source": [
        "spark_df = spark_df.withColumn('job_summary', regexp_replace(col('job_summary'), '\\n', ' '))"
      ]
    },
    {
      "cell_type": "code",
      "execution_count": 20,
      "metadata": {
        "id": "KI-CWbRBVMfp"
      },
      "outputs": [],
      "source": [
        "spark_df = spark_df.withColumn('job_words', split(col('job_summary'), ' '))"
      ]
    },
    {
      "cell_type": "code",
      "execution_count": 21,
      "metadata": {
        "id": "7X8NZ_yzVqFW"
      },
      "outputs": [],
      "source": [
        "spark_df = spark_df.filter(size(col('job_words')) > 4)"
      ]
    },
    {
      "cell_type": "code",
      "execution_count": 22,
      "metadata": {
        "id": "8MbV-I6nTJrZ"
      },
      "outputs": [],
      "source": [
        "spark_df = spark_df.select('job_words').withColumn('doc_id', monotonically_increasing_id())"
      ]
    },
    {
      "cell_type": "code",
      "execution_count": 23,
      "metadata": {
        "colab": {
          "base_uri": "https://localhost:8080/"
        },
        "id": "LJ-orygPGehM",
        "outputId": "12a6d6d3-ba5e-4507-8446-83bce8fbe9d8"
      },
      "outputs": [
        {
          "output_type": "stream",
          "name": "stdout",
          "text": [
            "+--------------------+------+\n",
            "|           job_words|doc_id|\n",
            "+--------------------+------+\n",
            "|[Rock, N, Roll, S...|     0|\n",
            "|[Schedule, :, PRN...|     1|\n",
            "|[\"Description, In...|     2|\n",
            "|[, we, encourage,...|     3|\n",
            "|[Commercial, acco...|     4|\n",
            "|[Address:, USA-CT...|     5|\n",
            "|[Description, Our...|     6|\n",
            "|[Company, Descrip...|     7|\n",
            "|[An, exciting, op...|     8|\n",
            "|[Job, Details:, J...|     9|\n",
            "|[Our, Restaurant,...|    10|\n",
            "|[Our, General, Ma...|    11|\n",
            "|[Earning, potenti...|    12|\n",
            "|[Dollar, General,...|    13|\n",
            "|[Restaurant, Desc...|    14|\n",
            "|[Who, We, Are, We...|    15|\n",
            "|[A, Place, Where,...|    16|\n",
            "|[Description, The...|    17|\n",
            "|[\"Overview, Descr...|    18|\n",
            "|[, seat, them, at...|    19|\n",
            "+--------------------+------+\n",
            "only showing top 20 rows\n",
            "\n"
          ]
        }
      ],
      "source": [
        "spark_df.show()"
      ]
    },
    {
      "cell_type": "code",
      "execution_count": 24,
      "metadata": {
        "id": "SQMVPstdKvOH"
      },
      "outputs": [],
      "source": [
        "df_scaled = spark_df.sample(withReplacement=True, fraction=0.00005, seed=42)"
      ]
    },
    {
      "cell_type": "code",
      "execution_count": 25,
      "metadata": {
        "id": "Sx-fS2_q4put"
      },
      "outputs": [],
      "source": [
        "df_scaled = df_scaled.withColumn('job_words', concat_ws(' ', col('job_words')))"
      ]
    },
    {
      "cell_type": "markdown",
      "metadata": {
        "id": "9KXcnOmb99XU"
      },
      "source": [
        "## Preprocessing"
      ]
    },
    {
      "cell_type": "code",
      "execution_count": 26,
      "metadata": {
        "colab": {
          "base_uri": "https://localhost:8080/"
        },
        "id": "2GUReuVb9-zT",
        "outputId": "70d973e7-1fac-4b7e-e4c1-d114a4da6eac"
      },
      "outputs": [
        {
          "output_type": "stream",
          "name": "stderr",
          "text": [
            "[nltk_data] Downloading package stopwords to /root/nltk_data...\n",
            "[nltk_data]   Unzipping corpora/stopwords.zip.\n",
            "[nltk_data] Downloading package punkt to /root/nltk_data...\n",
            "[nltk_data]   Unzipping tokenizers/punkt.zip.\n"
          ]
        }
      ],
      "source": [
        "nltk.download('stopwords')\n",
        "nltk.download('punkt')\n",
        "stopwords = set(nltk.corpus.stopwords.words('english'))"
      ]
    },
    {
      "cell_type": "code",
      "execution_count": 27,
      "metadata": {
        "id": "yvUMW6t3yF7t"
      },
      "outputs": [],
      "source": [
        "def preprocess_text(text):\n",
        "    text = text.lower()\n",
        "    text = re.sub(r'\\s+', ' ', text)  # Remove extra whitespace\n",
        "    text = re.sub(r'[^\\w\\s]', '', text)  # Remove punctuation\n",
        "    tokens = nltk.word_tokenize(text)\n",
        "    tokens = [word for word in tokens if word not in stopwords]  # Remove stopwords\n",
        "    return ' '.join(tokens)"
      ]
    },
    {
      "cell_type": "code",
      "execution_count": 28,
      "metadata": {
        "id": "ZhAAxaGSR9T_"
      },
      "outputs": [],
      "source": [
        "df_udf = udf(preprocess_text, StringType())"
      ]
    },
    {
      "cell_type": "code",
      "execution_count": 29,
      "metadata": {
        "id": "-rTkieEf3Me4"
      },
      "outputs": [],
      "source": [
        "rdd = df_scaled.select('doc_id', 'job_words').rdd.map(lambda row: (row['doc_id'], preprocess_text(row['job_words'])))"
      ]
    },
    {
      "cell_type": "code",
      "execution_count": 30,
      "metadata": {
        "colab": {
          "base_uri": "https://localhost:8080/"
        },
        "id": "BmGP1aP71AkS",
        "outputId": "02afa52d-72a0-4d58-aa11-2b96d1f38a89"
      },
      "outputs": [
        {
          "output_type": "stream",
          "name": "stdout",
          "text": [
            "+------+--------------------+\n",
            "|    _1|                  _2|\n",
            "+------+--------------------+\n",
            "| 13395|grass greener sec...|\n",
            "| 34993|client childrens ...|\n",
            "| 47677|possess valid cla...|\n",
            "| 64146|demonstrates inte...|\n",
            "| 69905|new adventure awa...|\n",
            "|104317|details signon bo...|\n",
            "|143336|parttime intermit...|\n",
            "|152380|conference center...|\n",
            "|188603|scheduled nclex w...|\n",
            "|218886|northern tier hig...|\n",
            "|242951|experience corps ...|\n",
            "|252827|role sr serviceno...|\n",
            "|273921|us join us winco ...|\n",
            "|278072|win sport school ...|\n",
            "|304884|job details job l...|\n",
            "|328483|department econom...|\n",
            "|451330|zoom take great c...|\n",
            "|455372|immediate start e...|\n",
            "|459748|northrop grumman ...|\n",
            "|459967|position interest...|\n",
            "+------+--------------------+\n",
            "only showing top 20 rows\n",
            "\n"
          ]
        }
      ],
      "source": [
        "rdd.toDF().show()"
      ]
    },
    {
      "cell_type": "markdown",
      "metadata": {
        "id": "uvKyO6IMqLf9"
      },
      "source": [
        "### Shingles"
      ]
    },
    {
      "cell_type": "code",
      "execution_count": 31,
      "metadata": {
        "id": "cePlX4IqH_bY"
      },
      "outputs": [],
      "source": [
        "import binascii"
      ]
    },
    {
      "cell_type": "code",
      "execution_count": 32,
      "metadata": {
        "id": "A7UmQnbeRQBm"
      },
      "outputs": [],
      "source": [
        "k = 3"
      ]
    },
    {
      "cell_type": "code",
      "execution_count": 33,
      "metadata": {
        "id": "svTA8WKw8qbg"
      },
      "outputs": [],
      "source": [
        "shingles_rdd = rdd.flatMap(lambda doc: [(doc[0], doc[1][i:i+k]) for i in range(len(doc[1]) - k + 1)])"
      ]
    },
    {
      "cell_type": "code",
      "execution_count": 34,
      "metadata": {
        "colab": {
          "base_uri": "https://localhost:8080/"
        },
        "collapsed": true,
        "id": "6tDAxu5Z4NwU",
        "outputId": "7dc45122-9dda-40a1-bf9d-98fbc51eee59"
      },
      "outputs": [
        {
          "output_type": "execute_result",
          "data": {
            "text/plain": [
              "[(13395, 'gra'),\n",
              " (13395, 'ras'),\n",
              " (13395, 'ass'),\n",
              " (13395, 'ss '),\n",
              " (13395, 's g'),\n",
              " (13395, ' gr'),\n",
              " (13395, 'gre')]"
            ]
          },
          "metadata": {},
          "execution_count": 34
        }
      ],
      "source": [
        "shingles_rdd.take(7)"
      ]
    },
    {
      "cell_type": "code",
      "source": [
        "shingles_list = (rdd\n",
        "                 .groupByKey()\n",
        "                 .map(lambda x: (x[0], list(x[1]))))"
      ],
      "metadata": {
        "id": "7tdlA5tBPbQD"
      },
      "execution_count": 35,
      "outputs": []
    },
    {
      "cell_type": "code",
      "source": [
        "shingles_list.toDF().show()"
      ],
      "metadata": {
        "colab": {
          "base_uri": "https://localhost:8080/"
        },
        "id": "ZpD_HHsAP-Sh",
        "outputId": "5abb137c-f0d3-4c09-c45a-daf00541fac7"
      },
      "execution_count": 36,
      "outputs": [
        {
          "output_type": "stream",
          "name": "stdout",
          "text": [
            "+------+--------------------+\n",
            "|    _1|                  _2|\n",
            "+------+--------------------+\n",
            "| 13395|[grass greener se...|\n",
            "| 34993|[client childrens...|\n",
            "| 47677|[possess valid cl...|\n",
            "| 64146|[demonstrates int...|\n",
            "| 69905|[new adventure aw...|\n",
            "|104317|[details signon b...|\n",
            "|143336|[parttime intermi...|\n",
            "|152380|[conference cente...|\n",
            "|188603|[scheduled nclex ...|\n",
            "|218886|[northern tier hi...|\n",
            "|242951|[experience corps...|\n",
            "|252827|[role sr servicen...|\n",
            "|273921|[us join us winco...|\n",
            "|278072|[win sport school...|\n",
            "|304884|[job details job ...|\n",
            "|328483|[department econo...|\n",
            "|451330|[zoom take great ...|\n",
            "|455372|[immediate start ...|\n",
            "|459748|[northrop grumman...|\n",
            "|459967|[position interes...|\n",
            "+------+--------------------+\n",
            "only showing top 20 rows\n",
            "\n"
          ]
        }
      ]
    },
    {
      "cell_type": "markdown",
      "metadata": {
        "id": "ArUDoulEzcKv"
      },
      "source": [
        "Characteristic matrix"
      ]
    },
    {
      "cell_type": "code",
      "execution_count": 37,
      "metadata": {
        "id": "lvnTGerHIK36"
      },
      "outputs": [],
      "source": [
        "def hash_shingle(shingle):\n",
        "  return binascii.crc32(shingle.encode('utf-8')) & 0xffffffff"
      ]
    },
    {
      "cell_type": "code",
      "source": [
        "hash_rdd = shingles_rdd.mapValues(hash_shingle).distinct()"
      ],
      "metadata": {
        "id": "odgpuusm73_h"
      },
      "execution_count": 38,
      "outputs": []
    },
    {
      "cell_type": "code",
      "source": [
        "hash_rdd.take(7)"
      ],
      "metadata": {
        "colab": {
          "base_uri": "https://localhost:8080/"
        },
        "id": "fSCC-jd68AyV",
        "outputId": "eae38835-4b27-4951-de04-6129ea3e93ad"
      },
      "execution_count": 39,
      "outputs": [
        {
          "output_type": "execute_result",
          "data": {
            "text/plain": [
              "[(13395, 2506444301),\n",
              " (13395, 501096268),\n",
              " (13395, 2068476598),\n",
              " (13395, 2525627878),\n",
              " (13395, 4020559682),\n",
              " (13395, 1404793474),\n",
              " (13395, 2450033172)]"
            ]
          },
          "metadata": {},
          "execution_count": 39
        }
      ]
    },
    {
      "cell_type": "code",
      "source": [
        "df = hash_rdd.toDF([\"doc_id\", \"hashed_shingle\"]) \\\n",
        "    .groupBy(\"doc_id\") \\\n",
        "    .agg(collect_list(\"hashed_shingle\").alias(\"hashed_shingles\"))"
      ],
      "metadata": {
        "id": "hJcxmjRomPEE"
      },
      "execution_count": 40,
      "outputs": []
    },
    {
      "cell_type": "code",
      "source": [
        "df.show()"
      ],
      "metadata": {
        "colab": {
          "base_uri": "https://localhost:8080/"
        },
        "id": "UCYKJbqvmRES",
        "outputId": "e8f939f0-b915-44e8-fb93-e192cc2ac134"
      },
      "execution_count": 41,
      "outputs": [
        {
          "output_type": "stream",
          "name": "stdout",
          "text": [
            "+-------+--------------------+\n",
            "| doc_id|     hashed_shingles|\n",
            "+-------+--------------------+\n",
            "| 608814|[2743074591, 9616...|\n",
            "| 304884|[4225294584, 3496...|\n",
            "|1663266|[210272711, 33932...|\n",
            "|1618038|[1811742144, 3119...|\n",
            "|1152253|[2189397276, 1432...|\n",
            "|  64146|[2601924841, 3154...|\n",
            "| 773878|[4225294584, 3496...|\n",
            "| 218886|[3781580864, 4138...|\n",
            "|  69905|[1810056261, 3930...|\n",
            "| 909604|[1767766964, 4231...|\n",
            "| 872160|[2068476598, 2576...|\n",
            "| 684947|[2179260663, 2228...|\n",
            "|1460189|[595022058, 58230...|\n",
            "|1388218|[4006809354, 4168...|\n",
            "| 898066|[2244290826, 3530...|\n",
            "| 273921|[2449963348, 2434...|\n",
            "|  47677|[2161764012, 1909...|\n",
            "| 525916|[4225294584, 3496...|\n",
            "|1450243|[2434037902, 3329...|\n",
            "|1621468|[1629029770, 1643...|\n",
            "+-------+--------------------+\n",
            "only showing top 20 rows\n",
            "\n"
          ]
        }
      ]
    },
    {
      "cell_type": "code",
      "source": [
        "def collect_shingles(a, b):\n",
        "    return a + b"
      ],
      "metadata": {
        "id": "rCs7BkQHo3pk"
      },
      "execution_count": 42,
      "outputs": []
    },
    {
      "cell_type": "code",
      "source": [
        "hashed_shingles_rdd = hash_rdd.map(lambda x: (x[0], [x[1]])).reduceByKey(collect_shingles)"
      ],
      "metadata": {
        "id": "9-a8b564ohJT"
      },
      "execution_count": 43,
      "outputs": []
    },
    {
      "cell_type": "code",
      "source": [
        "hashed_shingles_rdd.take(7)"
      ],
      "metadata": {
        "collapsed": true,
        "id": "RCfPTaN3o-Ep"
      },
      "execution_count": null,
      "outputs": []
    },
    {
      "cell_type": "code",
      "source": [
        "hashed_shingles_list = hashed_shingles_rdd.flatMap(lambda x: x[1]).collect()"
      ],
      "metadata": {
        "id": "UACwaMLIrLc9"
      },
      "execution_count": 45,
      "outputs": []
    },
    {
      "cell_type": "markdown",
      "metadata": {
        "id": "aiJPcd7BxnS-"
      },
      "source": [
        "### MinHash\n",
        "\n",
        "\n",
        "---\n",
        "Fast approximation to the Jaccard Similarity Coefficient between any two finite sets\n",
        "\n",
        "\n"
      ]
    },
    {
      "cell_type": "code",
      "execution_count": 46,
      "metadata": {
        "id": "vb56l_PsYxiF"
      },
      "outputs": [],
      "source": [
        "h_functions = 120\n",
        "b_bands = 10"
      ]
    },
    {
      "cell_type": "code",
      "execution_count": 47,
      "metadata": {
        "id": "jUanRJ0Xc1m-"
      },
      "outputs": [],
      "source": [
        "def multiple(x, a, b, c):\n",
        "    return (a * x + b) % c"
      ]
    },
    {
      "cell_type": "code",
      "execution_count": 48,
      "metadata": {
        "colab": {
          "base_uri": "https://localhost:8080/"
        },
        "id": "O3GW6a5PgAU7",
        "outputId": "280e04da-2cf8-436d-a6df-a95d62f243ad"
      },
      "outputs": [
        {
          "output_type": "execute_result",
          "data": {
            "text/plain": [
              "[{'a': 732, 'b': 4666, 'c': 4673},\n",
              " {'a': 3334, 'b': 9066, 'c': 9091},\n",
              " {'a': 9957, 'b': 7174, 'c': 9967},\n",
              " {'a': 3532, 'b': 1874, 'c': 3539},\n",
              " {'a': 8573, 'b': 865, 'c': 8581},\n",
              " {'a': 2885, 'b': 8199, 'c': 8209},\n",
              " {'a': 3872, 'b': 999, 'c': 3877}]"
            ]
          },
          "metadata": {},
          "execution_count": 48
        }
      ],
      "source": [
        "params =[]\n",
        "\n",
        "for _ in range(h_functions):\n",
        "  a = random.randint(1, 10000)\n",
        "  b = random.randint(1, 10000)\n",
        "  max_ab = max(a, b)\n",
        "  c = nextprime(max_ab + 1)\n",
        "  params.append({\"a\": a, \"b\": b, \"c\": c})\n",
        "\n",
        "params[:7]"
      ]
    },
    {
      "cell_type": "code",
      "source": [
        "def enum_shingles(e, hashed_shingles_list):\n",
        "    doc_id, shingle = e\n",
        "    return [((doc_id), (h), (hashed_shingles_list)) for h in range(h_functions)]"
      ],
      "metadata": {
        "id": "MR6CWvI9oBm9"
      },
      "execution_count": 49,
      "outputs": []
    },
    {
      "cell_type": "code",
      "source": [
        "minhash_matrix = hash_rdd.flatMap(lambda e: enum_shingles(e, hashed_shingles_list))"
      ],
      "metadata": {
        "id": "hkC5sMnWn7rd"
      },
      "execution_count": 50,
      "outputs": []
    },
    {
      "cell_type": "code",
      "source": [
        "minhash_matrix.toDF().show()"
      ],
      "metadata": {
        "colab": {
          "base_uri": "https://localhost:8080/"
        },
        "id": "7XwQfotins3t",
        "outputId": "730ee429-89e0-4322-86e0-6bca7755b5d3"
      },
      "execution_count": 51,
      "outputs": [
        {
          "output_type": "stream",
          "name": "stdout",
          "text": [
            "+-----+---+--------------------+\n",
            "|   _1| _2|                  _3|\n",
            "+-----+---+--------------------+\n",
            "|13395|  0|[2506444301, 5010...|\n",
            "|13395|  1|[2506444301, 5010...|\n",
            "|13395|  2|[2506444301, 5010...|\n",
            "|13395|  3|[2506444301, 5010...|\n",
            "|13395|  4|[2506444301, 5010...|\n",
            "|13395|  5|[2506444301, 5010...|\n",
            "|13395|  6|[2506444301, 5010...|\n",
            "|13395|  7|[2506444301, 5010...|\n",
            "|13395|  8|[2506444301, 5010...|\n",
            "|13395|  9|[2506444301, 5010...|\n",
            "|13395| 10|[2506444301, 5010...|\n",
            "|13395| 11|[2506444301, 5010...|\n",
            "|13395| 12|[2506444301, 5010...|\n",
            "|13395| 13|[2506444301, 5010...|\n",
            "|13395| 14|[2506444301, 5010...|\n",
            "|13395| 15|[2506444301, 5010...|\n",
            "|13395| 16|[2506444301, 5010...|\n",
            "|13395| 17|[2506444301, 5010...|\n",
            "|13395| 18|[2506444301, 5010...|\n",
            "|13395| 19|[2506444301, 5010...|\n",
            "+-----+---+--------------------+\n",
            "only showing top 20 rows\n",
            "\n"
          ]
        }
      ]
    },
    {
      "cell_type": "code",
      "source": [
        "def minhash_map(docId_hashedShingles):\n",
        "    doc_id, hashed_shingles = docId_hashedShingles\n",
        "    minhashes = []\n",
        "    for h in range(h_functions):\n",
        "        min_h = math.inf\n",
        "        for shingle in hashed_shingles:\n",
        "            hash_value = multiple(shingle, **params[h])\n",
        "            if hash_value < min_h:\n",
        "                min_h = hash_value\n",
        "        minhashes.append(min_h)\n",
        "    return (doc_id, minhashes)"
      ],
      "metadata": {
        "id": "n40hisSLusL3"
      },
      "execution_count": 52,
      "outputs": []
    },
    {
      "cell_type": "code",
      "source": [
        "sig_matrix_rdd = hashed_shingles_rdd.map(minhash_map)"
      ],
      "metadata": {
        "id": "R0SiK_V0utUB"
      },
      "execution_count": 53,
      "outputs": []
    },
    {
      "cell_type": "code",
      "source": [
        "signature_df = sig_matrix_rdd.toDF([\"doc_id\", \"minhashes\"])"
      ],
      "metadata": {
        "id": "dSP3Sg5iuyVZ"
      },
      "execution_count": 54,
      "outputs": []
    },
    {
      "cell_type": "code",
      "source": [
        "signature_df.show()"
      ],
      "metadata": {
        "colab": {
          "base_uri": "https://localhost:8080/"
        },
        "id": "QXHn9xpmvF8Y",
        "outputId": "66f0bbb4-d189-416c-8b79-83b2f80eb908"
      },
      "execution_count": 55,
      "outputs": [
        {
          "output_type": "stream",
          "name": "stdout",
          "text": [
            "+------+--------------------+\n",
            "|doc_id|           minhashes|\n",
            "+------+--------------------+\n",
            "| 13395|[6, 12, 4, 5, 8, ...|\n",
            "| 34993|[6, 12, 4, 5, 3, ...|\n",
            "| 47677|[15, 337, 64, 33,...|\n",
            "| 64146|[79, 309, 4, 6, 1...|\n",
            "| 69905|[6, 17, 4, 3, 4, ...|\n",
            "|104317|[6, 12, 4, 2, 13,...|\n",
            "|143336|[17, 22, 40, 8, 2...|\n",
            "|152380|[15, 588, 10, 76,...|\n",
            "|188603|[62, 148, 207, 29...|\n",
            "|218886|[6, 12, 4, 3, 13,...|\n",
            "|242951|[15, 10, 10, 3, 2...|\n",
            "|252827|[6, 17, 4, 2, 13,...|\n",
            "|273921|[6, 8, 4, 3, 4, 0...|\n",
            "|278072|[6, 17, 10, 6, 13...|\n",
            "|304884|[2, 17, 4, 3, 3, ...|\n",
            "|328483|[6, 6, 4, 6, 4, 1...|\n",
            "|451330|[6, 5, 4, 3, 4, 7...|\n",
            "|455372|[15, 5, 4, 6, 42,...|\n",
            "|459748|[6, 17, 4, 6, 42,...|\n",
            "|459967|[6, 17, 4, 3, 4, ...|\n",
            "+------+--------------------+\n",
            "only showing top 20 rows\n",
            "\n"
          ]
        }
      ]
    },
    {
      "cell_type": "markdown",
      "metadata": {
        "id": "pWm4fiLnp1Id"
      },
      "source": [
        "### Locality-Sensitive Hashing"
      ]
    },
    {
      "cell_type": "markdown",
      "metadata": {
        "id": "ENN-QqCSn61_"
      },
      "source": [
        "Define the threshold"
      ]
    },
    {
      "cell_type": "code",
      "execution_count": 56,
      "metadata": {
        "id": "x-QyErWnRVSq"
      },
      "outputs": [],
      "source": [
        "# having h_functions = 120 and b_bands = 10\n",
        "n_per_bands = h_functions // b_bands\n",
        "threshold = (1/b_bands) ** (1/n_per_bands)"
      ]
    },
    {
      "cell_type": "code",
      "execution_count": 57,
      "metadata": {
        "colab": {
          "base_uri": "https://localhost:8080/"
        },
        "id": "DpSWyycesvhN",
        "outputId": "99f85d74-43f1-4414-e3ef-055150937cec"
      },
      "outputs": [
        {
          "output_type": "stream",
          "name": "stdout",
          "text": [
            "Threshold for candidate pairs:  0.8254041852680184\n"
          ]
        }
      ],
      "source": [
        "print(\"Threshold for candidate pairs: \", threshold)"
      ]
    },
    {
      "cell_type": "markdown",
      "source": [
        "Using the MinHashLSH provided by Pyspark"
      ],
      "metadata": {
        "id": "erjK23cWbW0_"
      }
    },
    {
      "cell_type": "code",
      "source": [
        "array_to_vector_udf = udf(lambda x: DenseVector(x), VectorUDT())\n",
        "signature_df = signature_df.withColumn(\"minhash_vector\", array_to_vector_udf(col(\"minhashes\"))) # converted with dense vector"
      ],
      "metadata": {
        "id": "w4wIQpg4vgUD"
      },
      "execution_count": 58,
      "outputs": []
    },
    {
      "cell_type": "code",
      "source": [
        "signature_df = signature_df.drop(\"minhashes\")"
      ],
      "metadata": {
        "id": "9lC89QrCwk3l"
      },
      "execution_count": 59,
      "outputs": []
    },
    {
      "cell_type": "code",
      "source": [
        "mh = MinHashLSH(inputCol=\"minhash_vector\", outputCol=\"hashes\", numHashTables=b_bands*n_per_bands, seed=56)"
      ],
      "metadata": {
        "id": "fKNATTBWv1Bz"
      },
      "execution_count": 60,
      "outputs": []
    },
    {
      "cell_type": "code",
      "source": [
        "model = mh.fit(signature_df)"
      ],
      "metadata": {
        "id": "8tFKABjijpBk"
      },
      "execution_count": 61,
      "outputs": []
    },
    {
      "cell_type": "code",
      "source": [
        "lsh_df = model.transform(signature_df)"
      ],
      "metadata": {
        "id": "hteHWzFLxdMW"
      },
      "execution_count": 62,
      "outputs": []
    },
    {
      "cell_type": "markdown",
      "metadata": {
        "id": "Z5BIkIysMGlP"
      },
      "source": [
        "## Finding similar jobs"
      ]
    },
    {
      "cell_type": "code",
      "source": [
        "def find_similar_jobs(lsh_df, model, threshold):\n",
        "    # Perform self-join to find all pairs\n",
        "    similar_items = model.approxSimilarityJoin(lsh_df, lsh_df, threshold, distCol=\"JaccardDistance\")\n",
        "\n",
        "    # Filter out pairs with the same doc_id and JaccardDistance above the threshold\n",
        "    similar_pairs = (similar_items\n",
        "                     .select(\n",
        "                         col(\"datasetA.doc_id\").alias(\"doc_id_A\"),\n",
        "                         col(\"datasetB.doc_id\").alias(\"doc_id_B\"),\n",
        "                         col(\"JaccardDistance\"))\n",
        "                     .filter(col(\"doc_id_A\") < col(\"doc_id_B\"))\n",
        "                     .filter(col(\"JaccardDistance\") <= threshold)\n",
        "                     .rdd\n",
        "                     .map(lambda row: (row[\"doc_id_A\"], row[\"doc_id_B\"], row[\"JaccardDistance\"]))\n",
        "                     .collect())\n",
        "\n",
        "    return similar_pairs"
      ],
      "metadata": {
        "id": "Hfy_bTRYyhEd"
      },
      "execution_count": 63,
      "outputs": []
    },
    {
      "cell_type": "code",
      "source": [
        "similar_pairs = find_similar_jobs(lsh_df, model, threshold)"
      ],
      "metadata": {
        "id": "kbLUgUgEy4B6"
      },
      "execution_count": 64,
      "outputs": []
    },
    {
      "cell_type": "code",
      "execution_count": 65,
      "metadata": {
        "id": "631sYFaegg3S",
        "colab": {
          "base_uri": "https://localhost:8080/"
        },
        "collapsed": true,
        "outputId": "29d1f7da-cce4-41b4-ad4c-82047bb40b4d"
      },
      "outputs": [
        {
          "output_type": "execute_result",
          "data": {
            "text/plain": [
              "[(455372, 459967, 0.15596330275229353),\n",
              " (455372, 1750168, 0.15517241379310343),\n",
              " (472496, 1331267, 0.14035087719298245),\n",
              " (608814, 689406, 0.14406779661016944),\n",
              " (608814, 756249, 0.11864406779661019),\n",
              " (950765, 1663266, 0.09615384615384615),\n",
              " (1129756, 1750168, 0.12727272727272732),\n",
              " (1152253, 1618038, 0.15094339622641506),\n",
              " (64146, 1618038, 0.17796610169491522),\n",
              " (152380, 1129756, 0.18333333333333335),\n",
              " (273921, 1214632, 0.10204081632653061),\n",
              " (455372, 684947, 0.10526315789473684),\n",
              " (459967, 507283, 0.0980392156862745),\n",
              " (831098, 1038199, 0.1428571428571429),\n",
              " (872160, 1320765, 0.15000000000000002),\n",
              " (898066, 1621468, 0.19491525423728817),\n",
              " (912495, 1373757, 0.09999999999999998),\n",
              " (1129756, 1559819, 0.1694915254237288),\n",
              " (1278595, 1320765, 0.2416666666666667),\n",
              " (34993, 451330, 0.1009174311926605),\n",
              " (69905, 278072, 0.1339285714285714),\n",
              " (69905, 584862, 0.12605042016806722),\n",
              " (104317, 831098, 0.15887850467289721),\n",
              " (252827, 1432904, 0.09433962264150941),\n",
              " (273921, 328483, 0.16190476190476188),\n",
              " (328483, 1651499, 0.20192307692307687),\n",
              " (451330, 1087080, 0.1071428571428571),\n",
              " (472496, 922304, 0.16806722689075626),\n",
              " (507283, 756249, 0.13761467889908252),\n",
              " (608814, 1572773, 0.13559322033898302),\n",
              " (872160, 1432904, 0.1651376146788991),\n",
              " (912495, 1621468, 0.12871287128712872),\n",
              " (1090315, 1460189, 0.12244897959183676),\n",
              " (1214632, 1432904, 0.12745098039215685),\n",
              " (1460189, 1572773, 0.125),\n",
              " (13395, 1145791, 0.11650485436893199),\n",
              " (143336, 1618038, 0.17948717948717952),\n",
              " (218886, 609576, 0.13888888888888884),\n",
              " (252827, 898066, 0.11864406779661019),\n",
              " (278072, 1214632, 0.17592592592592593),\n",
              " (328483, 1618038, 0.17592592592592593),\n",
              " (459748, 1129756, 0.13461538461538458),\n",
              " (464892, 909604, 0.12149532710280375),\n",
              " (513391, 684947, 0.09009009009009006),\n",
              " (689406, 1371266, 0.11538461538461542),\n",
              " (689406, 1415018, 0.1512605042016807),\n",
              " (909604, 1532570, 0.17924528301886788),\n",
              " (1199836, 1532570, 0.20833333333333337),\n",
              " (1320765, 1373757, 0.19999999999999996),\n",
              " (1320765, 1460189, 0.22499999999999998),\n",
              " (1559819, 1749766, 0.19491525423728817),\n",
              " (304884, 459748, 0.12121212121212122),\n",
              " (459748, 464892, 0.12264150943396224),\n",
              " (472496, 1199836, 0.17500000000000004),\n",
              " (525916, 1572773, 0.1009174311926605),\n",
              " (544349, 773878, 0.10833333333333328),\n",
              " (546299, 684947, 0.15454545454545454),\n",
              " (608814, 1749766, 0.19491525423728817),\n",
              " (1090315, 1388218, 0.16981132075471694),\n",
              " (1129756, 1553707, 0.12037037037037035),\n",
              " (1259945, 1621468, 0.173469387755102),\n",
              " (13395, 1259945, 0.13684210526315788),\n",
              " (104317, 328483, 0.15094339622641506),\n",
              " (252827, 525916, 0.09999999999999998),\n",
              " (472496, 756249, 0.13761467889908252),\n",
              " (507283, 513391, 0.13888888888888884),\n",
              " (546299, 624623, 0.20512820512820518),\n",
              " (1278595, 1390884, 0.15094339622641506),\n",
              " (13395, 525916, 0.14953271028037385),\n",
              " (64146, 1152253, 0.1610169491525424),\n",
              " (104317, 1553707, 0.10377358490566035),\n",
              " (218886, 1663266, 0.1523809523809524),\n",
              " (242951, 1749766, 0.1785714285714286),\n",
              " (252827, 328483, 0.12844036697247707),\n",
              " (544349, 1553707, 0.11764705882352944),\n",
              " (756249, 1651499, 0.19811320754716977),\n",
              " (878756, 1618038, 0.18018018018018023),\n",
              " (950765, 1388218, 0.11818181818181817),\n",
              " (1320765, 1415018, 0.008333333333333304),\n",
              " (1532570, 1559819, 0.19491525423728817),\n",
              " (34993, 1199836, 0.17500000000000004),\n",
              " (47677, 584862, 0.025000000000000022),\n",
              " (64146, 242951, 0.09243697478991597),\n",
              " (69905, 1618038, 0.12962962962962965),\n",
              " (143336, 188603, 0.04201680672268904),\n",
              " (218886, 1460189, 0.14423076923076927),\n",
              " (252827, 1663266, 0.11428571428571432),\n",
              " (273921, 773878, 0.17272727272727273),\n",
              " (464892, 579745, 0.10909090909090913),\n",
              " (525916, 684947, 0.11403508771929827),\n",
              " (579745, 909604, 0.13761467889908252),\n",
              " (912495, 1450243, 0.1470588235294118),\n",
              " (922304, 1320765, 0.008333333333333304),\n",
              " (1388218, 1432904, 0.13888888888888884),\n",
              " (64146, 1199836, 0.01666666666666672),\n",
              " (69905, 252827, 0.06481481481481477),\n",
              " (143336, 1460189, 0.19827586206896552),\n",
              " (218886, 1553707, 0.10185185185185186),\n",
              " (252827, 273921, 0.12380952380952381),\n",
              " (273921, 455372, 0.14018691588785048),\n",
              " (273921, 684947, 0.1711711711711712),\n",
              " (278072, 609576, 0.15315315315315314),\n",
              " (451330, 831098, 0.1339285714285714),\n",
              " (451330, 1214632, 0.2053571428571429),\n",
              " (455372, 1390884, 0.09909909909909909),\n",
              " (464892, 1199836, 0.14166666666666672),\n",
              " (579745, 1331267, 0.08771929824561409),\n",
              " (878756, 1373757, 0.2053571428571429),\n",
              " (1129756, 1432904, 0.15094339622641506),\n",
              " (64146, 922304, 0.025000000000000022),\n",
              " (69905, 909604, 0.13761467889908252),\n",
              " (69905, 1390884, 0.09090909090909094),\n",
              " (104317, 544349, 0.19327731092436973),\n",
              " (188603, 304884, 0.23076923076923073),\n",
              " (242951, 878756, 0.15517241379310343),\n",
              " (252827, 1331267, 0.11304347826086958),\n",
              " (273921, 912495, 0.11111111111111116),\n",
              " (304884, 831098, 0.1456310679611651),\n",
              " (472496, 684947, 0.11711711711711714),\n",
              " (546299, 1038199, 0.09183673469387754),\n",
              " (584862, 1129756, 0.18487394957983194),\n",
              " (608814, 609576, 0.14406779661016944),\n",
              " (642420, 1371266, 0.07070707070707072),\n",
              " (689406, 1090315, 0.15384615384615385),\n",
              " (756249, 773878, 0.14035087719298245),\n",
              " (773878, 1087080, 0.1071428571428571),\n",
              " (878756, 1651499, 0.2222222222222222),\n",
              " (898066, 1388218, 0.1271186440677966),\n",
              " (64146, 544349, 0.025000000000000022),\n",
              " (143336, 1087080, 0.11965811965811968),\n",
              " (218886, 579745, 0.10185185185185186),\n",
              " (242951, 1390884, 0.13913043478260867),\n",
              " (455372, 1651499, 0.19626168224299068),\n",
              " (459748, 584862, 0.2016806722689075),\n",
              " (525916, 872160, 0.11818181818181817),\n",
              " (609576, 1152253, 0.18181818181818177),\n",
              " (831098, 1749766, 0.11538461538461542),\n",
              " (878756, 1320765, 0.125),\n",
              " (898066, 1373757, 0.18644067796610164),\n",
              " (1038199, 1432904, 0.09900990099009899),\n",
              " (34993, 878756, 0.1454545454545455),\n",
              " (64146, 756249, 0.11864406779661019),\n",
              " (69905, 608814, 0.12605042016806722),\n",
              " (218886, 1559819, 0.15254237288135597),\n",
              " (242951, 544349, 0.08403361344537819),\n",
              " (451330, 455372, 0.10619469026548678),\n",
              " (579745, 689406, 0.03809523809523807),\n",
              " (689406, 1553707, 0.07476635514018692),\n",
              " (756249, 1152253, 0.1711711711711712),\n",
              " (831098, 1415018, 0.1512605042016807),\n",
              " (912495, 950765, 0.11428571428571432),\n",
              " (1618038, 1663266, 0.1456310679611651),\n",
              " (1618038, 1749766, 0.15384615384615385),\n",
              " (64146, 252827, 0.11864406779661019),\n",
              " (69905, 1750168, 0.13157894736842102),\n",
              " (104317, 1450243, 0.12745098039215685),\n",
              " (242951, 1651499, 0.25),\n",
              " (273921, 898066, 0.211864406779661),\n",
              " (278072, 1450243, 0.17431192660550454),\n",
              " (459748, 912495, 0.13725490196078427),\n",
              " (472496, 1663266, 0.10784313725490191),\n",
              " (513391, 544349, 0.1428571428571429),\n",
              " (608814, 1750168, 0.1166666666666667),\n",
              " (624623, 898066, 0.008474576271186418),\n",
              " (642420, 1663266, 0.09999999999999998),\n",
              " (912495, 1553707, 0.10476190476190472),\n",
              " (1038199, 1663266, 0.13861386138613863),\n",
              " (1129756, 1331267, 0.16521739130434787),\n",
              " (64146, 1572773, 0.13559322033898302),\n",
              " (69905, 1432904, 0.13761467889908252),\n",
              " (104317, 922304, 0.19327731092436973),\n",
              " (152380, 278072, 0.1333333333333333),\n",
              " (242951, 546299, 0.1964285714285714),\n",
              " (455372, 609576, 0.1351351351351351),\n",
              " (464892, 642420, 0.08653846153846156),\n",
              " (831098, 1090315, 0.11764705882352944),\n",
              " (831098, 1432904, 0.15740740740740744),\n",
              " (1450243, 1651499, 0.18000000000000005),\n",
              " (34993, 1750168, 0.1351351351351351),\n",
              " (104317, 242951, 0.15315315315315314),\n",
              " (152380, 1331267, 0.05833333333333335),\n",
              " (328483, 507283, 0.14018691588785048),\n",
              " (328483, 1559819, 0.15254237288135597),\n",
              " (507283, 1553707, 0.12844036697247707),\n",
              " (513391, 1559819, 0.13559322033898302),\n",
              " (584862, 1038199, 0.2184873949579832),\n",
              " (624623, 922304, 0.033333333333333326),\n",
              " (1214632, 1388218, 0.16822429906542058),\n",
              " (47677, 273921, 0.2184873949579832),\n",
              " (47677, 1553707, 0.11764705882352944),\n",
              " (64146, 909604, 0.1694915254237288),\n",
              " (69905, 188603, 0.15000000000000002),\n",
              " (69905, 898066, 0.11016949152542377),\n",
              " (69905, 1572773, 0.11818181818181817),\n",
              " (273921, 608814, 0.211864406779661),\n",
              " (455372, 584862, 0.11764705882352944),\n",
              " (459967, 872160, 0.12380952380952381),\n",
              " (472496, 1450243, 0.11650485436893199),\n",
              " (507283, 1199836, 0.17500000000000004),\n",
              " (546299, 1390884, 0.13207547169811318),\n",
              " (546299, 1415018, 0.2184873949579832),\n",
              " (579745, 1214632, 0.13207547169811318),\n",
              " (624623, 1373757, 0.17948717948717952),\n",
              " (642420, 1152253, 0.17757009345794394),\n",
              " (756249, 1373757, 0.1651376146788991),\n",
              " (1038199, 1390884, 0.12264150943396224),\n",
              " (1152253, 1450243, 0.20370370370370372),\n",
              " (1320765, 1371266, 0.20833333333333337),\n",
              " (13395, 1090315, 0.16000000000000003),\n",
              " (152380, 831098, 0.15833333333333333),\n",
              " (273921, 689406, 0.13461538461538458),\n",
              " (304884, 1663266, 0.14141414141414144),\n",
              " (831098, 922304, 0.1512605042016807),\n",
              " (950765, 1559819, 0.134453781512605),\n",
              " (1129756, 1145791, 0.12264150943396224),\n",
              " (1129756, 1259945, 0.19801980198019797),\n",
              " (1199836, 1559819, 0.01666666666666672),\n",
              " (34993, 642420, 0.10679611650485432),\n",
              " (34993, 831098, 0.09523809523809523),\n",
              " (47677, 872160, 0.1428571428571429),\n",
              " (188603, 1090315, 0.2222222222222222),\n",
              " (218886, 1618038, 0.15887850467289721),\n",
              " (273921, 525916, 0.14953271028037385),\n",
              " (273921, 584862, 0.22689075630252098),\n",
              " (459967, 1415018, 0.2016806722689075),\n",
              " (464892, 878756, 0.1428571428571429),\n",
              " (472496, 513391, 0.15596330275229353),\n",
              " (472496, 912495, 0.14423076923076927),\n",
              " (624623, 1388218, 0.11965811965811968),\n",
              " (1331267, 1559819, 0.0423728813559322),\n",
              " (13395, 104317, 0.16504854368932043),\n",
              " (34993, 252827, 0.08490566037735847),\n",
              " (47677, 1152253, 0.16806722689075626),\n",
              " (273921, 1331267, 0.17699115044247793),\n",
              " (304884, 609576, 0.16346153846153844),\n",
              " (455372, 1129756, 0.11111111111111116),\n",
              " (459967, 1618038, 0.15384615384615385),\n",
              " (608814, 1214632, 0.211864406779661),\n",
              " (608814, 1460189, 0.211864406779661),\n",
              " (642420, 1278595, 0.07216494845360821),\n",
              " (878756, 909604, 0.15454545454545454),\n",
              " (898066, 1415018, 0.025000000000000022),\n",
              " (912495, 1572773, 0.1333333333333333),\n",
              " (1087080, 1152253, 0.15454545454545454),\n",
              " (1090315, 1651499, 0.14583333333333337),\n",
              " (1371266, 1373757, 0.1089108910891089),\n",
              " (1415018, 1618038, 0.18487394957983194),\n",
              " (1460189, 1749766, 0.101010101010101),\n",
              " (34993, 513391, 0.12149532710280375),\n",
              " (143336, 304884, 0.22413793103448276),\n",
              " (152380, 218886, 0.16666666666666663),\n",
              " (304884, 872160, 0.18867924528301883),\n",
              " (328483, 546299, 0.14423076923076927),\n",
              " (328483, 1749766, 0.08823529411764708),\n",
              " (451330, 525916, 0.13157894736842102),\n",
              " (451330, 1415018, 0.09243697478991597),\n",
              " (513391, 872160, 0.12844036697247707),\n",
              " (546299, 1152253, 0.18867924528301883),\n",
              " (584862, 609576, 0.17500000000000004),\n",
              " (584862, 1087080, 0.134453781512605),\n",
              " (624623, 1087080, 0.11111111111111116),\n",
              " (624623, 1415018, 0.033333333333333326),\n",
              " (642420, 773878, 0.1454545454545455),\n",
              " (689406, 1214632, 0.1523809523809524),\n",
              " (773878, 1388218, 0.1327433628318584),\n",
              " (912495, 1559819, 0.2033898305084746),\n",
              " (1038199, 1415018, 0.2100840336134454),\n",
              " (1214632, 1390884, 0.13207547169811318),\n",
              " (1259945, 1450243, 0.173469387755102),\n",
              " (1388218, 1532570, 0.14953271028037385),\n",
              " (1553707, 1618038, 0.1636363636363637),\n",
              " (47677, 278072, 0.12605042016806722),\n",
              " (47677, 546299, 0.2184873949579832),\n",
              " (64146, 525916, 0.11016949152542377),\n",
              " (188603, 584862, 0.04166666666666663),\n",
              " (273921, 1750168, 0.17272727272727273),\n",
              " (278072, 624623, 0.11111111111111116),\n",
              " (278072, 831098, 0.13636363636363635),\n",
              " (455372, 1199836, 0.1166666666666667),\n",
              " (459748, 1532570, 0.1089108910891089),\n",
              " (464892, 1038199, 0.14150943396226412),\n",
              " (525916, 1532570, 0.13084112149532712),\n",
              " (525916, 1749766, 0.13084112149532712),\n",
              " (609576, 1572773, 0.12037037037037035),\n",
              " (642420, 1087080, 0.14814814814814814),\n",
              " (684947, 1129756, 0.12612612612612617),\n",
              " (831098, 1152253, 0.1651376146788991),\n",
              " (1038199, 1199836, 0.21666666666666667),\n",
              " (1087080, 1390884, 0.09999999999999998),\n",
              " (1199836, 1618038, 0.19166666666666665),\n",
              " (1371266, 1750168, 0.15454545454545454),\n",
              " (13395, 1750168, 0.15596330275229353),\n",
              " (64146, 1320765, 0.01666666666666672),\n",
              " (188603, 1152253, 0.19999999999999996),\n",
              " (278072, 912495, 0.19999999999999996),\n",
              " (464892, 1532570, 0.13207547169811318),\n",
              " (872160, 1090315, 0.16190476190476188),\n",
              " (898066, 1320765, 0.01666666666666672),\n",
              " (909604, 1371266, 0.14423076923076927),\n",
              " (1651499, 1749766, 0.16161616161616166),\n",
              " (13395, 1038199, 0.09183673469387754),\n",
              " (13395, 1559819, 0.211864406779661),\n",
              " (252827, 451330, 0.09009009009009006),\n",
              " (328483, 684947, 0.125),\n",
              " (459748, 1152253, 0.1428571428571429),\n",
              " (544349, 1278595, 0.23529411764705888),\n",
              " (546299, 579745, 0.11428571428571432),\n",
              " (584862, 1415018, 0.025000000000000022),\n",
              " (684947, 872160, 0.12389380530973448),\n",
              " (689406, 1388218, 0.11111111111111116),\n",
              " (1090315, 1532570, 0.14),\n",
              " (1432904, 1651499, 0.15000000000000002),\n",
              " (1663266, 1749766, 0.10999999999999999),\n",
              " (34993, 1618038, 0.1333333333333333),\n",
              " (69905, 464892, 0.1428571428571429),\n",
              " (218886, 1152253, 0.19090909090909092),\n",
              " (459967, 1749766, 0.15533980582524276),\n",
              " (609576, 1087080, 0.18584070796460173),\n",
              " (909604, 1090315, 0.19999999999999996),\n",
              " (13395, 273921, 0.08247422680412375),\n",
              " (34993, 1278595, 0.1188118811881188),\n",
              " (47677, 1621468, 0.2016806722689075),\n",
              " (242951, 1152253, 0.15929203539823011),\n",
              " (304884, 1087080, 0.16981132075471694),\n",
              " (328483, 1388218, 0.12037037037037035),\n",
              " (451330, 609576, 0.1504424778761062),\n",
              " (513391, 1129756, 0.1132075471698113),\n",
              " (513391, 1371266, 0.15887850467289721),\n",
              " (525916, 878756, 0.09090909090909094),\n",
              " (756249, 1320765, 0.1333333333333333),\n",
              " (773878, 1621468, 0.1711711711711712),\n",
              " (898066, 1259945, 0.288135593220339),\n",
              " (13395, 1390884, 0.13207547169811318),\n",
              " (152380, 252827, 0.1333333333333333),\n",
              " (152380, 912495, 0.21666666666666667),\n",
              " (218886, 642420, 0.1333333333333333),\n",
              " (218886, 1199836, 0.16666666666666663),\n",
              " (242951, 608814, 0.09243697478991597),\n",
              " (273921, 922304, 0.2184873949579832),\n",
              " (273921, 1651499, 0.125),\n",
              " (278072, 507283, 0.1711711711711712),\n",
              " (278072, 1388218, 0.11818181818181817),\n",
              " (584862, 912495, 0.2184873949579832),\n",
              " (584862, 1450243, 0.2100840336134454),\n",
              " (609576, 872160, 0.12037037037037035),\n",
              " (912495, 1152253, 0.17924528301886788),\n",
              " (950765, 1129756, 0.11214953271028039),\n",
              " (1152253, 1371266, 0.20370370370370372),\n",
              " (64146, 624623, 0.025210084033613467),\n",
              " (328483, 513391, 0.09433962264150941),\n",
              " (451330, 1145791, 0.1339285714285714),\n",
              " (459748, 1373757, 0.13592233009708743),\n",
              " (459967, 1553707, 0.14814814814814814),\n",
              " (507283, 1618038, 0.09708737864077666),\n",
              " (513391, 1145791, 0.12037037037037035),\n",
              " (546299, 1129756, 0.12745098039215685),\n",
              " (756249, 1331267, 0.1293103448275862),\n",
              " (756249, 1750168, 0.12389380530973448),\n",
              " (773878, 909604, 0.1607142857142857),\n",
              " (912495, 1038199, 0.12),\n",
              " (922304, 1618038, 0.18487394957983194),\n",
              " (950765, 1621468, 0.14018691588785048),\n",
              " (1038199, 1087080, 0.14953271028037385),\n",
              " (1320765, 1390884, 0.125),\n",
              " (13395, 1331267, 0.17699115044247793),\n",
              " (13395, 1651499, 0.14432989690721654),\n",
              " (69905, 1749766, 0.1651376146788991),\n",
              " (218886, 1371266, 0.125),\n",
              " (455372, 1450243, 0.13888888888888884),\n",
              " (459748, 1663266, 0.1188118811881188),\n",
              " (472496, 609576, 0.1132075471698113),\n",
              " (544349, 1432904, 0.17647058823529416),\n",
              " (878756, 1663266, 0.19090909090909092),\n",
              " (912495, 1090315, 0.09278350515463918),\n",
              " (922304, 1559819, 0.008403361344537785),\n",
              " (1129756, 1373757, 0.13461538461538458),\n",
              " (34993, 455372, 0.15315315315315314),\n",
              " (34993, 1214632, 0.15384615384615385),\n",
              " (47677, 1388218, 0.134453781512605),\n",
              " (104317, 950765, 0.13084112149532712),\n",
              " (143336, 1129756, 0.15517241379310343),\n",
              " (188603, 218886, 0.14529914529914534),\n",
              " (328483, 1415018, 0.15966386554621848),\n",
              " (451330, 1373757, 0.16216216216216217),\n",
              " (455372, 1331267, 0.09565217391304348),\n",
              " (459748, 1651499, 0.13265306122448983),\n",
              " (464892, 922304, 0.134453781512605),\n",
              " (464892, 1651499, 0.15533980582524276),\n",
              " (472496, 584862, 0.17647058823529416),\n",
              " (756249, 1214632, 0.14150943396226412),\n",
              " (773878, 912495, 0.1636363636363637),\n",
              " (831098, 1278595, 0.13592233009708743),\n",
              " (872160, 898066, 0.13559322033898302),\n",
              " (1145791, 1749766, 0.11538461538461542),\n",
              " (1331267, 1415018, 0.050420168067226934),\n",
              " (34993, 1460189, 0.11764705882352944),\n",
              " (47677, 922304, 0.01666666666666672),\n",
              " (64146, 1415018, 0.025000000000000022),\n",
              " (143336, 756249, 0.10344827586206895),\n",
              " (188603, 1087080, 0.15833333333333333),\n",
              " (252827, 464892, 0.11818181818181817),\n",
              " (252827, 608814, 0.11864406779661019),\n",
              " (328483, 464892, 0.12037037037037035),\n",
              " (544349, 878756, 0.1333333333333333),\n",
              " (544349, 1152253, 0.16806722689075626),\n",
              " (756249, 1199836, 0.1333333333333333),\n",
              " (831098, 1621468, 0.15094339622641506),\n",
              " (898066, 1618038, 0.17796610169491522),\n",
              " (898066, 1663266, 0.2033898305084746),\n",
              " (922304, 1371266, 0.2016806722689075),\n",
              " (1087080, 1278595, 0.17757009345794394),\n",
              " (1145791, 1152253, 0.14814814814814814),\n",
              " (1390884, 1460189, 0.13207547169811318),\n",
              " (69905, 1651499, 0.20560747663551404),\n",
              " (152380, 1749766, 0.20833333333333337),\n",
              " (252827, 1388218, 0.1009174311926605),\n",
              " (328483, 624623, 0.14529914529914534),\n",
              " (328483, 1572773, 0.09433962264150941),\n",
              " (513391, 584862, 0.1512605042016807),\n",
              " (525916, 1618038, 0.1636363636363637),\n",
              " (684947, 1090315, 0.2053571428571429),\n",
              " (684947, 1532570, 0.1696428571428571),\n",
              " (756249, 1390884, 0.11711711711711714),\n",
              " (831098, 1651499, 0.1747572815533981),\n",
              " (872160, 1553707, 0.11818181818181817),\n",
              " (912495, 1331267, 0.19999999999999996),\n",
              " (1199836, 1320765, 0.0),\n",
              " (13395, 1415018, 0.2184873949579832),\n",
              " (64146, 143336, 0.050000000000000044),\n",
              " (104317, 459967, 0.16346153846153844),\n",
              " (104317, 1621468, 0.12745098039215685),\n",
              " (242951, 278072, 0.1637931034482759),\n",
              " (273921, 1559819, 0.211864406779661),\n",
              " (278072, 1038199, 0.16666666666666663),\n",
              " (451330, 922304, 0.09243697478991597),\n",
              " (459967, 525916, 0.18181818181818177),\n",
              " (525916, 546299, 0.14953271028037385),\n",
              " (584862, 1371266, 0.2100840336134454),\n",
              " (756249, 1532570, 0.14018691588785048),\n",
              " (922304, 1199836, 0.008333333333333304),\n",
              " (1199836, 1390884, 0.125),\n",
              " (1432904, 1750168, 0.14414414414414412),\n",
              " (13395, 544349, 0.2184873949579832),\n",
              " (104317, 1618038, 0.16190476190476188),\n",
              " (143336, 642420, 0.1724137931034483),\n",
              " (152380, 304884, 0.25),\n",
              " (152380, 584862, 0.01666666666666672),\n",
              " (152380, 1532570, 0.20833333333333337),\n",
              " (328483, 472496, 0.12264150943396224),\n",
              " (451330, 1388218, 0.09909909909909909),\n",
              " (1145791, 1618038, 0.07766990291262132),\n",
              " (1331267, 1749766, 0.17543859649122806),\n",
              " (1390884, 1651499, 0.18867924528301883),\n",
              " (143336, 579745, 0.09482758620689657),\n",
              " (143336, 773878, 0.0854700854700855),\n",
              " (278072, 642420, 0.1651376146788991),\n",
              " (507283, 831098, 0.1132075471698113),\n",
              " (579745, 898066, 0.12605042016806722),\n",
              " (642420, 950765, 0.07692307692307687),\n",
              " (773878, 1618038, 0.15315315315315314),\n",
              " (1152253, 1388218, 0.18018018018018023),\n",
              " (1331267, 1651499, 0.23008849557522126),\n",
              " (13395, 304884, 0.13265306122448983),\n",
              " (34993, 898066, 0.1610169491525424),\n",
              " (47677, 1390884, 0.11764705882352944),\n",
              " (64146, 459748, 0.18644067796610164),\n",
              " (69905, 950765, 0.09999999999999998),\n",
              " (188603, 1199836, 0.025000000000000022),\n",
              " (218886, 608814, 0.15254237288135597),\n",
              " (218886, 872160, 0.12962962962962965),\n",
              " (252827, 1259945, 0.1923076923076923),\n",
              " (252827, 1559819, 0.11864406779661019),\n",
              " (507283, 546299, 0.13592233009708743),\n",
              " (513391, 922304, 0.1428571428571429),\n",
              " (579745, 1320765, 0.125),\n",
              " (584862, 872160, 0.16666666666666663),\n",
              " (684947, 831098, 0.1327433628318584),\n",
              " (909604, 1749766, 0.17924528301886788),\n",
              " (922304, 1450243, 0.2016806722689075),\n",
              " (1087080, 1460189, 0.15887850467289721),\n",
              " (1145791, 1259945, 0.2038834951456311),\n",
              " (1331267, 1390884, 0.08771929824561409),\n",
              " (152380, 507283, 0.17500000000000004),\n",
              " (218886, 912495, 0.1523809523809524),\n",
              " (218886, 1621468, 0.10679611650485432),\n",
              " (252827, 1371266, 0.08653846153846156),\n",
              " (455372, 1553707, 0.1327433628318584),\n",
              " (459967, 1087080, 0.14018691588785048),\n",
              " (608814, 950765, 0.11864406779661019),\n",
              " (684947, 1331267, 0.07758620689655171),\n",
              " (831098, 1320765, 0.15833333333333333),\n",
              " (872160, 1152253, 0.15596330275229353),\n",
              " (872160, 1750168, 0.1415929203539823),\n",
              " (950765, 1618038, 0.08571428571428574),\n",
              " (1087080, 1373757, 0.1651376146788991),\n",
              " (13395, 756249, 0.14150943396226412),\n",
              " (69905, 872160, 0.11818181818181817),\n",
              " (69905, 1090315, 0.16822429906542058),\n",
              " (252827, 1214632, 0.12380952380952381),\n",
              " (273921, 513391, 0.21100917431192656),\n",
              " (304884, 455372, 0.16822429906542058),\n",
              " (472496, 1371266, 0.0980392156862745),\n",
              " (507283, 1572773, 0.08571428571428574),\n",
              " (544349, 1415018, 0.01666666666666672),\n",
              " (546299, 922304, 0.2184873949579832),\n",
              " (624623, 689406, 0.1367521367521367),\n",
              " (1278595, 1415018, 0.23529411764705888),\n",
              " (1390884, 1415018, 0.11764705882352944),\n",
              " (13395, 831098, 0.1523809523809524),\n",
              " (34993, 472496, 0.11428571428571432),\n",
              " (47677, 507283, 0.16806722689075626),\n",
              " (69905, 472496, 0.11111111111111116),\n",
              " (104317, 584862, 0.2016806722689075),\n",
              " (143336, 218886, 0.13793103448275867),\n",
              " (143336, 1199836, 0.033333333333333326),\n",
              " (278072, 608814, 0.134453781512605),\n",
              " (451330, 546299, 0.17272727272727273),\n",
              " (451330, 756249, 0.09009009009009006),\n",
              " (544349, 1559819, 0.025000000000000022),\n",
              " (544349, 1572773, 0.1428571428571429),\n",
              " (608814, 624623, 0.025210084033613467),\n",
              " (689406, 773878, 0.11711711711711714),\n",
              " (773878, 831098, 0.11711711711711714),\n",
              " (773878, 1460189, 0.18918918918918914),\n",
              " (872160, 1373757, 0.11428571428571432),\n",
              " (898066, 1553707, 0.11016949152542377),\n",
              " (1129756, 1214632, 0.16346153846153844),\n",
              " (1152253, 1621468, 0.16981132075471694),\n",
              " (1259945, 1651499, 0.14130434782608692),\n",
              " (1371266, 1460189, 0.061855670103092786),\n",
              " (1371266, 1749766, 0.1188118811881188),\n",
              " (1388218, 1750168, 0.1327433628318584),\n",
              " (1415018, 1750168, 0.09243697478991597),\n",
              " (1450243, 1749766, 0.15533980582524276),\n",
              " (104317, 1373757, 0.13592233009708743),\n",
              " (188603, 624623, 0.050000000000000044),\n",
              " (188603, 1371266, 0.18803418803418803),\n",
              " (218886, 1214632, 0.14423076923076927),\n",
              " (513391, 878756, 0.16814159292035402),\n",
              " (513391, 1572773, 0.12844036697247707),\n",
              " (525916, 1320765, 0.125),\n",
              " (579745, 1152253, 0.16216216216216217),\n",
              " (608814, 1618038, 0.17796610169491522),\n",
              " (609576, 898066, 0.14406779661016944),\n",
              " (1214632, 1651499, 0.125),\n",
              " (1278595, 1388218, 0.16981132075471694),\n",
              " (47677, 242951, 0.08403361344537819),\n",
              " (47677, 513391, 0.1428571428571429),\n",
              " (143336, 1749766, 0.18103448275862066),\n",
              " (252827, 1129756, 0.09433962264150941),\n",
              " (278072, 584862, 0.15000000000000002),\n",
              " (304884, 689406, 0.16346153846153844),\n",
              " (507283, 525916, 0.16216216216216217),\n",
              " (546299, 950765, 0.12380952380952381),\n",
              " (584862, 1152253, 0.17647058823529416),\n",
              " (609576, 1278595, 0.13592233009708743),\n",
              " (642420, 1090315, 0.13),\n",
              " (756249, 1129756, 0.11214953271028039),\n",
              " (831098, 872160, 0.10280373831775702),\n",
              " (1087080, 1129756, 0.14678899082568808),\n",
              " (1087080, 1214632, 0.10576923076923073),\n",
              " (1090315, 1390884, 0.18518518518518523),\n",
              " (1129756, 1450243, 0.14423076923076927),\n",
              " (1278595, 1432904, 0.1470588235294118),\n",
              " (1390884, 1553707, 0.09090909090909094),\n",
              " (13395, 1432904, 0.12745098039215685),\n",
              " (64146, 1145791, 0.14406779661016944),\n",
              " (188603, 328483, 0.14529914529914534),\n",
              " (273921, 878756, 0.14953271028037385),\n",
              " (278072, 909604, 0.1636363636363637),\n",
              " (472496, 1750168, 0.1351351351351351),\n",
              " (546299, 1214632, 0.14),\n",
              " (584862, 1199836, 0.01666666666666672),\n",
              " (642420, 1373757, 0.09900990099009899),\n",
              " (756249, 1618038, 0.15596330275229353),\n",
              " (773878, 1749766, 0.1711711711711712),\n",
              " (912495, 1460189, 0.11111111111111116),\n",
              " (950765, 1532570, 0.10476190476190472),\n",
              " (1559819, 1572773, 0.13559322033898302),\n",
              " (69905, 1532570, 0.14814814814814814),\n",
              " (242951, 1038199, 0.1875),\n",
              " (273921, 459748, 0.0714285714285714),\n",
              " (451330, 642420, 0.16216216216216217),\n",
              " (459748, 609576, 0.12380952380952381),\n",
              " (459748, 1259945, 0.18181818181818177),\n",
              " (459748, 1618038, 0.12621359223300976),\n",
              " (464892, 1373757, 0.12264150943396224),\n",
              " (513391, 1450243, 0.19266055045871555),\n",
              " (544349, 1320765, 0.008333333333333304),\n",
              " (950765, 1090315, 0.160377358490566),\n",
              " (1199836, 1415018, 0.008333333333333304),\n",
              " (1559819, 1651499, 0.2627118644067796),\n",
              " (218886, 459748, 0.1333333333333333),\n",
              " (328483, 451330, 0.10909090909090913),\n",
              " (451330, 513391, 0.125),\n",
              " (507283, 1259945, 0.20588235294117652),\n",
              " (831098, 1390884, 0.11009174311926606),\n",
              " (1214632, 1559819, 0.211864406779661),\n",
              " (34993, 684947, 0.1339285714285714),\n",
              " (47677, 1278595, 0.23529411764705888),\n",
              " (143336, 451330, 0.0854700854700855),\n",
              " (242951, 872160, 0.14912280701754388),\n",
              " (242951, 1621468, 0.16216216216216217),\n",
              " (472496, 878756, 0.1454545454545455),\n",
              " (773878, 1663266, 0.1636363636363637),\n",
              " (34993, 143336, 0.14655172413793105),\n",
              " (34993, 188603, 0.15384615384615385),\n",
              " (34993, 608814, 0.1610169491525424),\n",
              " (34993, 1390884, 0.11111111111111116),\n",
              " (69905, 1331267, 0.08771929824561409),\n",
              " (152380, 1390884, 0.125),\n",
              " (188603, 1390884, 0.134453781512605),\n",
              " (218886, 525916, 0.13636363636363635),\n",
              " (242951, 1145791, 0.1578947368421053),\n",
              " (252827, 579745, 0.08256880733944949),\n",
              " (273921, 1087080, 0.14150943396226412),\n",
              " (304884, 451330, 0.19999999999999996),\n",
              " (328483, 1432904, 0.14953271028037385),\n",
              " (464892, 1259945, 0.20192307692307687),\n",
              " (472496, 1214632, 0.15384615384615385),\n",
              " (525916, 579745, 0.10810810810810811),\n",
              " (642420, 878756, 0.15596330275229353),\n",
              " (642420, 1390884, 0.10377358490566035),\n",
              " (756249, 1371266, 0.12264150943396224),\n",
              " (831098, 1214632, 0.1523809523809524),\n",
              " (872160, 1390884, 0.1009174311926605),\n",
              " (1152253, 1199836, 0.17500000000000004),\n",
              " (1278595, 1460189, 0.1030927835051546),\n",
              " (1320765, 1331267, 0.05833333333333335),\n",
              " (1390884, 1572773, 0.08333333333333337),\n",
              " (64146, 950765, 0.11864406779661019),\n",
              " (64146, 1460189, 0.211864406779661),\n",
              " (69905, 1621468, 0.1651376146788991),\n",
              " (104317, 878756, 0.17272727272727273),\n",
              " (242951, 756249, 0.13157894736842102),\n",
              " (278072, 1749766, 0.17431192660550454),\n",
              " (451330, 544349, 0.09243697478991597),\n",
              " (544349, 950765, 0.12605042016806722),\n",
              " (584862, 1432904, 0.18487394957983194),\n",
              " (624623, 1651499, 0.2564102564102564),\n",
              " (642420, 684947, 0.14414414414414412),\n",
              " (773878, 1373757, 0.1454545454545455),\n",
              " (950765, 1415018, 0.12605042016806722),\n",
              " (950765, 1749766, 0.12264150943396224),\n",
              " (1090315, 1145791, 0.11764705882352944),\n",
              " (1152253, 1750168, 0.19999999999999996),\n",
              " (1320765, 1432904, 0.18333333333333335),\n",
              " (13395, 950765, 0.12380952380952381),\n",
              " (47677, 218886, 0.15966386554621848),\n",
              " (69905, 1663266, 0.12264150943396224),\n",
              " (104317, 684947, 0.1607142857142857),\n",
              " (188603, 1259945, 0.28205128205128205),\n",
              " (273921, 1038199, 0.13),\n",
              " (464892, 608814, 0.1271186440677966),\n",
              " (609576, 689406, 0.11214953271028039),\n",
              " (609576, 1373757, 0.12380952380952381),\n",
              " (1152253, 1460189, 0.2222222222222222),\n",
              " (13395, 1553707, 0.13207547169811318),\n",
              " (34993, 1388218, 0.11214953271028039),\n",
              " (152380, 1145791, 0.15833333333333333),\n",
              " (188603, 1278595, 0.2222222222222222),\n",
              " (459967, 642420, 0.12745098039215685),\n",
              " (507283, 689406, 0.1132075471698113),\n",
              " (525916, 1390884, 0.125),\n",
              " (584862, 1651499, 0.2773109243697479),\n",
              " (609576, 912495, 0.1428571428571429),\n",
              " (624623, 1572773, 0.1282051282051282),\n",
              " (773878, 1572773, 0.09090909090909094),\n",
              " (831098, 878756, 0.14414414414414412),\n",
              " (950765, 1278595, 0.125),\n",
              " (1145791, 1532570, 0.11538461538461542),\n",
              " (1278595, 1572773, 0.12621359223300976),\n",
              " (1432904, 1749766, 0.14423076923076927),\n",
              " (1450243, 1618038, 0.15384615384615385),\n",
              " (104317, 642420, 0.11764705882352944),\n",
              " (104317, 898066, 0.18644067796610164),\n",
              " (104317, 1087080, 0.1651376146788991),\n",
              " (143336, 609576, 0.14529914529914534),\n",
              " (143336, 1259945, 0.27586206896551724),\n",
              " (143336, 1553707, 0.09482758620689657),\n",
              " (152380, 273921, 0.22499999999999998),\n",
              " (152380, 1373757, 0.19999999999999996),\n",
              " (218886, 756249, 0.1454545454545455),\n",
              " (507283, 1663266, 0.12621359223300976),\n",
              " (513391, 1618038, 0.17431192660550454),\n",
              " (579745, 1572773, 0.08333333333333337),\n",
              " (609576, 1331267, 0.13913043478260867),\n",
              " (909604, 1460189, 0.16346153846153844),\n",
              " (1090315, 1320765, 0.2416666666666667),\n",
              " (1090315, 1371266, 0.14),\n",
              " (1415018, 1572773, 0.1428571428571429),\n",
              " (13395, 579745, 0.11428571428571432),\n",
              " (47677, 455372, 0.10924369747899154),\n",
              " (143336, 455372, 0.11864406779661019),\n",
              " (218886, 689406, 0.12149532710280375),\n",
              " (273921, 1450243, 0.12),\n",
              " (304884, 584862, 0.25210084033613445),\n",
              " (451330, 898066, 0.0847457627118644),\n",
              " (455372, 1460189, 0.14018691588785048),\n",
              " (459748, 507283, 0.125),\n",
              " (513391, 756249, 0.11009174311926606),\n",
              " (544349, 1331267, 0.06666666666666665),\n",
              " (544349, 1371266, 0.2016806722689075),\n",
              " (689406, 872160, 0.15454545454545454),\n",
              " (689406, 1460189, 0.13461538461538458),\n",
              " (756249, 1663266, 0.13207547169811318),\n",
              " (912495, 1618038, 0.16346153846153844),\n",
              " (1129756, 1371266, 0.12621359223300976),\n",
              " (1572773, 1621468, 0.12380952380952381),\n",
              " (152380, 546299, 0.22499999999999998),\n",
              " (152380, 1278595, 0.2416666666666667),\n",
              " (278072, 464892, 0.1351351351351351),\n",
              " (472496, 689406, 0.1132075471698113),\n",
              " (546299, 756249, 0.14150943396226412),\n",
              " (584862, 624623, 0.04166666666666663),\n",
              " (584862, 909604, 0.18487394957983194),\n",
              " (689406, 1320765, 0.15833333333333333),\n",
              " (831098, 1087080, 0.10185185185185186),\n",
              " (878756, 1390884, 0.125),\n",
              " (878756, 1432904, 0.12037037037037035),\n",
              " (912495, 1663266, 0.101010101010101),\n",
              " (1152253, 1390884, 0.16216216216216217),\n",
              " (1388218, 1663266, 0.14150943396226412),\n",
              " (1390884, 1432904, 0.10280373831775702),\n",
              " (47677, 909604, 0.17647058823529416),\n",
              " (252827, 878756, 0.11711711711711714),\n",
              " (252827, 909604, 0.12962962962962965),\n",
              " (252827, 1553707, 0.09999999999999998),\n",
              " (304884, 1621468, 0.15000000000000002),\n",
              " (544349, 898066, 0.008403361344537785),\n",
              " (609576, 831098, 0.14678899082568808),\n",
              " (642420, 1214632, 0.10999999999999999),\n",
              " (684947, 1559819, 0.06779661016949157),\n",
              " (13395, 1320765, 0.22499999999999998),\n",
              " (69905, 513391, 0.1009174311926605),\n",
              " (104317, 218886, 0.16822429906542058),\n",
              " (218886, 878756, 0.11926605504587151),\n",
              " (218886, 1090315, 0.19811320754716977),\n",
              " (218886, 1572773, 0.11214953271028039),\n",
              " (242951, 912495, 0.1875),\n",
              " (464892, 1371266, 0.13207547169811318),\n",
              " (546299, 912495, 0.11111111111111116),\n",
              " (546299, 1750168, 0.17272727272727273),\n",
              " (624623, 684947, 0.07627118644067798),\n",
              " (642420, 1388218, 0.14018691588785048),\n",
              " (689406, 1450243, 0.18518518518518523),\n",
              " (898066, 1559819, 0.033333333333333326),\n",
              " (1259945, 1278595, 0.13829787234042556),\n",
              " (1415018, 1460189, 0.2184873949579832),\n",
              " (34993, 278072, 0.13761467889908252),\n",
              " (64146, 188603, 0.04166666666666663),\n",
              " (64146, 831098, 0.14406779661016944),\n",
              " (69905, 579745, 0.10810810810810811),\n",
              " (104317, 1572773, 0.13207547169811318),\n",
              " (242951, 1559819, 0.09243697478991597),\n",
              " (304884, 1750168, 0.21621621621621623),\n",
              " (459748, 756249, 0.1132075471698113),\n",
              " (464892, 1621468, 0.14953271028037385),\n",
              " (513391, 1320765, 0.15000000000000002),\n",
              " (689406, 909604, 0.14018691588785048),\n",
              " (13395, 47677, 0.2184873949579832),\n",
              " (69905, 1371266, 0.13084112149532712),\n",
              " (143336, 922304, 0.025210084033613467),\n",
              " (218886, 1129756, 0.16666666666666663),\n",
              " (455372, 1152253, 0.13636363636363635),\n",
              " (609576, 1145791, 0.14678899082568808),\n",
              " (684947, 1388218, 0.0982142857142857),\n",
              " (912495, 1214632, 0.11111111111111116),\n",
              " (912495, 1749766, 0.10999999999999999),\n",
              " (922304, 1090315, 0.23529411764705888),\n",
              " (1087080, 1532570, 0.12264150943396224),\n",
              " (1087080, 1572773, 0.07476635514018692),\n",
              " (1214632, 1618038, 0.15533980582524276),\n",
              " (34993, 273921, 0.11764705882352944),\n",
              " (64146, 472496, 0.1610169491525424),\n",
              " (328483, 1460189, 0.12621359223300976),\n",
              " (459748, 1145791, 0.14150943396226412),\n",
              " (507283, 1278595, 0.1188118811881188),\n",
              " (525916, 1145791, 0.14414414414414412),\n",
              " (544349, 1450243, 0.2016806722689075),\n",
              " (579745, 1651499, 0.17142857142857137),\n",
              " (773878, 1390884, 0.08108108108108103),\n",
              " (831098, 1371266, 0.11538461538461542),\n",
              " (912495, 1199836, 0.21666666666666667),\n",
              " (912495, 1750168, 0.18018018018018023),\n",
              " (1214632, 1278595, 0.14141414141414144),\n",
              " (1214632, 1553707, 0.11428571428571432),\n",
              " (64146, 218886, 0.15254237288135597),\n",
              " (69905, 1278595, 0.15094339622641506),\n",
              " (188603, 773878, 0.10924369747899154),\n",
              " (218886, 922304, 0.15966386554621848),\n",
              " (252827, 1320765, 0.1333333333333333),\n",
              " (328483, 1129756, 0.11428571428571432),\n",
              " (464892, 756249, 0.08333333333333337),\n",
              " (472496, 546299, 0.11764705882352944),\n",
              " (624623, 1214632, 0.20512820512820518),\n",
              " (773878, 1651499, 0.2272727272727273),\n",
              " (922304, 1432904, 0.17647058823529416),\n",
              " (34993, 579745, 0.09345794392523366),\n",
              " (34993, 1038199, 0.10784313725490191),\n",
              " (104317, 455372, 0.14678899082568808),\n",
              " (104317, 1749766, 0.12745098039215685),\n",
              " (143336, 525916, 0.11111111111111116),\n",
              " (188603, 609576, 0.1367521367521367),\n",
              " (278072, 546299, 0.19266055045871555),\n",
              " (328483, 1278595, 0.1456310679611651),\n",
              " (455372, 1145791, 0.11818181818181817),\n",
              " (455372, 1559819, 0.10169491525423724),\n",
              " (459967, 1331267, 0.15929203539823011),\n",
              " (459967, 1373757, 0.08999999999999997),\n",
              " (472496, 1129756, 0.10576923076923073),\n",
              " (546299, 773878, 0.18918918918918914),\n",
              " (922304, 1214632, 0.2184873949579832),\n",
              " (1278595, 1553707, 0.15094339622641506),\n",
              " (34993, 1532570, 0.11650485436893199),\n",
              " (47677, 1320765, 0.008333333333333304),\n",
              " (69905, 546299, 0.13207547169811318),\n",
              " (152380, 459748, 0.19999999999999996),\n",
              " (273921, 546299, 0.12121212121212122),\n",
              " (273921, 1199836, 0.22499999999999998),\n",
              " (455372, 464892, 0.11711711711711714),\n",
              " (455372, 909604, 0.1454545454545455),\n",
              " (459748, 1390884, 0.13888888888888884),\n",
              " (459967, 1371266, 0.13725490196078427),\n",
              " (684947, 1320765, 0.08333333333333337),\n",
              " (689406, 1331267, 0.1228070175438597),\n",
              " (1038199, 1532570, 0.10999999999999999),\n",
              " (1038199, 1572773, 0.11538461538461542),\n",
              " (1038199, 1651499, 0.15306122448979587),\n",
              " (1129756, 1532570, 0.14423076923076927),\n",
              " (1152253, 1278595, 0.17307692307692313),\n",
              " (1259945, 1373757, 0.14432989690721654),\n",
              " (1415018, 1432904, 0.17647058823529416),\n",
              " (69905, 328483, 0.11926605504587151),\n",
              " (104317, 252827, 0.1132075471698113),\n",
              " (188603, 1621468, 0.18803418803418803),\n",
              " (328483, 642420, 0.1333333333333333),\n",
              " (464892, 1214632, 0.1333333333333333),\n",
              " (544349, 912495, 0.2100840336134454),\n",
              " (579745, 773878, 0.11504424778761058),\n",
              " (684947, 1087080, 0.10619469026548678),\n",
              " (756249, 1749766, 0.12264150943396224),\n",
              " (909604, 1663266, 0.15384615384615385),\n",
              " (912495, 1388218, 0.15887850467289721),\n",
              " (1390884, 1749766, 0.13084112149532712),\n",
              " (1651499, 1750168, 0.2272727272727273),\n",
              " (64146, 1450243, 0.19491525423728817),\n",
              " (64146, 1532570, 0.19491525423728817),\n",
              " (69905, 831098, 0.07476635514018692),\n",
              " (143336, 831098, 0.1293103448275862),\n",
              " (152380, 525916, 0.125),\n",
              " (152380, 642420, 0.19999999999999996),\n",
              " (242951, 624623, 0.0847457627118644),\n",
              " (252827, 584862, 0.134453781512605),\n",
              " (459748, 525916, 0.12149532710280375),\n",
              " (609576, 1129756, 0.15740740740740744),\n",
              " (609576, 1532570, 0.1333333333333333),\n",
              " (642420, 1331267, 0.16666666666666663),\n",
              " (689406, 1087080, 0.15315315315315314),\n",
              " (773878, 1129756, 0.1607142857142857),\n",
              " (909604, 1199836, 0.18333333333333335),\n",
              " (1145791, 1388218, 0.1454545454545455),\n",
              " (1432904, 1559819, 0.1694915254237288),\n",
              " (13395, 451330, 0.18918918918918914),\n",
              " (34993, 1651499, 0.17647058823529416),\n",
              " (47677, 878756, 0.1333333333333333),\n",
              " (143336, 1532570, 0.18103448275862066),\n",
              " (188603, 546299, 0.20512820512820518),\n",
              " (455372, 1371266, 0.13888888888888884),\n",
              " (507283, 922304, 0.16806722689075626),\n",
              " (878756, 1152253, 0.21052631578947367),\n",
              " (1320765, 1572773, 0.15000000000000002),\n",
              " (13395, 878756, 0.16666666666666663),\n",
              " (47677, 459748, 0.19327731092436973),\n",
              " (47677, 472496, 0.16806722689075626),\n",
              " (64146, 1651499, 0.2627118644067796),\n",
              " (143336, 242951, 0.10924369747899154),\n",
              " (143336, 684947, 0.06837606837606836),\n",
              " (152380, 624623, 0.025000000000000022),\n",
              " (188603, 252827, 0.1428571428571429),\n",
              " (188603, 912495, 0.19658119658119655),\n",
              " (278072, 1390884, 0.11711711711711714),\n",
              " (304884, 1331267, 0.2192982456140351),\n",
              " (304884, 1371266, 0.11224489795918369),\n",
              " (459748, 909604, 0.1523809523809524),\n",
              " (459967, 912495, 0.12871287128712872),\n",
              " (472496, 872160, 0.15596330275229353),\n",
              " (472496, 1749766, 0.13461538461538458),\n",
              " (507283, 1749766, 0.16981132075471694),\n",
              " (624623, 773878, 0.09322033898305082),\n",
              " (689406, 1259945, 0.22115384615384615),\n",
              " (912495, 1145791, 0.125),\n",
              " (1129756, 1651499, 0.16831683168316836),\n",
              " (1152253, 1572773, 0.15596330275229353),\n",
              " (13395, 459748, 0.10999999999999999),\n",
              " (64146, 546299, 0.211864406779661),\n",
              " (69905, 1038199, 0.15740740740740744),\n",
              " (143336, 1320765, 0.033333333333333326),\n",
              " (218886, 1532570, 0.125),\n",
              " (328483, 609576, 0.10377358490566035),\n",
              " (459967, 1390884, 0.1132075471698113),\n",
              " (546299, 642420, 0.09090909090909094),\n",
              " (624623, 1553707, 0.10256410256410253),\n",
              " (872160, 1129756, 0.14814814814814814),\n",
              " (1087080, 1553707, 0.09999999999999998),\n",
              " (13395, 69905, 0.16666666666666663),\n",
              " (13395, 1278595, 0.08333333333333337),\n",
              " (34993, 242951, 0.1428571428571429),\n",
              " (34993, 950765, 0.13761467889908252),\n",
              " (152380, 242951, 0.09166666666666667),\n",
              " (218886, 1320765, 0.16666666666666663),\n",
              " (242951, 1259945, 0.24545454545454548),\n",
              " (455372, 1214632, 0.15740740740740744),\n",
              " (455372, 1532570, 0.15596330275229353),\n",
              " (455372, 1621468, 0.15596330275229353),\n",
              " (525916, 609576, 0.12727272727272732),\n",
              " (525916, 1152253, 0.16216216216216217),\n",
              " (544349, 1460189, 0.2184873949579832),\n",
              " (584862, 1663266, 0.2184873949579832),\n",
              " (689406, 878756, 0.12727272727272732),\n",
              " (1199836, 1331267, 0.05833333333333335),\n",
              " (1388218, 1450243, 0.13207547169811318),\n",
              " (13395, 1460189, 0.10204081632653061),\n",
              " (34993, 609576, 0.09523809523809523),\n",
              " (69905, 1145791, 0.12727272727272732),\n",
              " (69905, 1152253, 0.1454545454545455),\n",
              " (104317, 546299, 0.12871287128712872),\n",
              " (143336, 464892, 0.11206896551724133),\n",
              " (143336, 546299, 0.19827586206896552),\n",
              " (152380, 689406, 0.15833333333333333),\n",
              " (152380, 1087080, 0.1333333333333333),\n",
              " (188603, 1651499, 0.2564102564102564),\n",
              " (242951, 773878, 0.14529914529914534),\n",
              " (252827, 546299, 0.10576923076923073),\n",
              " (273921, 1090315, 0.14141414141414144),\n",
              " (455372, 624623, 0.11016949152542377),\n",
              " (459967, 464892, 0.14953271028037385),\n",
              " (459967, 544349, 0.2016806722689075),\n",
              " (472496, 1621468, 0.11650485436893199),\n",
              " (579745, 872160, 0.1351351351351351),\n",
              " (642420, 1651499, 0.11340206185567014),\n",
              " (898066, 1390884, 0.11016949152542377),\n",
              " (143336, 1331267, 0.05932203389830504),\n",
              " (278072, 1152253, 0.2192982456140351),\n",
              " (304884, 1199836, 0.25),\n",
              " (328483, 579745, 0.08411214953271029),\n",
              " (328483, 1621468, 0.125),\n",
              " (451330, 1621468, 0.15454545454545454),\n",
              " (525916, 584862, 0.14166666666666672),\n",
              " (608814, 1415018, 0.025000000000000022),\n",
              " (642420, 689406, 0.10576923076923073),\n",
              " (689406, 1038199, 0.125),\n",
              " (909604, 1559819, 0.1694915254237288),\n",
              " (1371266, 1450243, 0.13725490196078427),\n",
              " (1450243, 1460189, 0.13861386138613863),\n",
              " (69905, 544349, 0.11764705882352944),\n",
              " (143336, 1038199, 0.18965517241379315),\n",
              " (143336, 1373757, 0.18803418803418803),\n",
              " (152380, 513391, 0.15000000000000002),\n",
              " (451330, 1432904, 0.14414414414414412),\n",
              " (525916, 756249, 0.09999999999999998),\n",
              " (609576, 1038199, 0.17757009345794394),\n",
              " (872160, 1038199, 0.16822429906542058),\n",
              " (1038199, 1152253, 0.2129629629629629),\n",
              " (1278595, 1559819, 0.22881355932203384),\n",
              " (1460189, 1750168, 0.17272727272727273),\n",
              " (1572773, 1750168, 0.09090909090909094),\n",
              " (13395, 1749766, 0.12),\n",
              " (69905, 878756, 0.1578947368421053),\n",
              " (69905, 1320765, 0.125),\n",
              " (104317, 1532570, 0.1456310679611651),\n",
              " (328483, 1553707, 0.08411214953271029),\n",
              " (459967, 1278595, 0.14),\n",
              " (464892, 684947, 0.13157894736842102),\n",
              " (544349, 1750168, 0.10833333333333328),\n",
              " (608814, 1145791, 0.14406779661016944),\n",
              " (624623, 1460189, 0.20512820512820518),\n",
              " (642420, 922304, 0.19327731092436973),\n",
              " (689406, 1390884, 0.09259259259259256),\n",
              " (878756, 1415018, 0.11764705882352944),\n",
              " (909604, 1621468, 0.14423076923076927),\n",
              " (950765, 1152253, 0.15454545454545454),\n",
              " (64146, 278072, 0.11864406779661019),\n",
              " (143336, 152380, 0.033333333333333326),\n",
              " (152380, 1651499, 0.275),\n",
              " (252827, 1145791, 0.08411214953271029),\n",
              " (278072, 1553707, 0.11711711711711714),\n",
              " (328483, 1087080, 0.1454545454545455),\n",
              " (459967, 1090315, 0.12121212121212122),\n",
              " (459967, 1750168, 0.1875),\n",
              " (507283, 1331267, 0.12389380530973448),\n",
              " (513391, 608814, 0.13559322033898302),\n",
              " (642420, 909604, 0.1523809523809524),\n",
              " (950765, 1199836, 0.1333333333333333),\n",
              " (1090315, 1572773, 0.16190476190476188),\n",
              " (1199836, 1450243, 0.20833333333333337),\n",
              " (1553707, 1749766, 0.13084112149532712),\n",
              " (69905, 459967, 0.1132075471698113),\n",
              " (152380, 188603, 0.025000000000000022),\n",
              " (152380, 898066, 0.01666666666666672),\n",
              " ...]"
            ]
          },
          "metadata": {},
          "execution_count": 65
        }
      ],
      "source": [
        "similar_pairs"
      ]
    },
    {
      "cell_type": "markdown",
      "metadata": {
        "id": "u_INUr8HhOgU"
      },
      "source": [
        "### Some results"
      ]
    },
    {
      "cell_type": "code",
      "source": [
        "similar_df = pd.DataFrame(similar_pairs, columns=['doc_id1', 'doc_id2', 'jaccard_distance'])"
      ],
      "metadata": {
        "id": "3yRBc_C40WOw"
      },
      "execution_count": 69,
      "outputs": []
    },
    {
      "cell_type": "code",
      "source": [
        "similar_df"
      ],
      "metadata": {
        "colab": {
          "base_uri": "https://localhost:8080/",
          "height": 424
        },
        "id": "MNDDJaZD1R-v",
        "outputId": "3a0245e4-03b5-4028-fa58-d67c88a2af97"
      },
      "execution_count": 70,
      "outputs": [
        {
          "output_type": "execute_result",
          "data": {
            "text/plain": [
              "      doc_id1  doc_id2  jaccard_distance\n",
              "0      455372   459967          0.155963\n",
              "1      455372  1750168          0.155172\n",
              "2      472496  1331267          0.140351\n",
              "3      608814   689406          0.144068\n",
              "4      608814   756249          0.118644\n",
              "...       ...      ...               ...\n",
              "2770   455372  1618038          0.120370\n",
              "2771   472496  1572773          0.121495\n",
              "2772   546299   878756          0.166667\n",
              "2773   624623  1559819          0.041667\n",
              "2774  1152253  1553707          0.145455\n",
              "\n",
              "[2775 rows x 3 columns]"
            ],
            "text/html": [
              "\n",
              "  <div id=\"df-c3f6fbed-b241-4dc2-a46d-d61c781e5d00\" class=\"colab-df-container\">\n",
              "    <div>\n",
              "<style scoped>\n",
              "    .dataframe tbody tr th:only-of-type {\n",
              "        vertical-align: middle;\n",
              "    }\n",
              "\n",
              "    .dataframe tbody tr th {\n",
              "        vertical-align: top;\n",
              "    }\n",
              "\n",
              "    .dataframe thead th {\n",
              "        text-align: right;\n",
              "    }\n",
              "</style>\n",
              "<table border=\"1\" class=\"dataframe\">\n",
              "  <thead>\n",
              "    <tr style=\"text-align: right;\">\n",
              "      <th></th>\n",
              "      <th>doc_id1</th>\n",
              "      <th>doc_id2</th>\n",
              "      <th>jaccard_distance</th>\n",
              "    </tr>\n",
              "  </thead>\n",
              "  <tbody>\n",
              "    <tr>\n",
              "      <th>0</th>\n",
              "      <td>455372</td>\n",
              "      <td>459967</td>\n",
              "      <td>0.155963</td>\n",
              "    </tr>\n",
              "    <tr>\n",
              "      <th>1</th>\n",
              "      <td>455372</td>\n",
              "      <td>1750168</td>\n",
              "      <td>0.155172</td>\n",
              "    </tr>\n",
              "    <tr>\n",
              "      <th>2</th>\n",
              "      <td>472496</td>\n",
              "      <td>1331267</td>\n",
              "      <td>0.140351</td>\n",
              "    </tr>\n",
              "    <tr>\n",
              "      <th>3</th>\n",
              "      <td>608814</td>\n",
              "      <td>689406</td>\n",
              "      <td>0.144068</td>\n",
              "    </tr>\n",
              "    <tr>\n",
              "      <th>4</th>\n",
              "      <td>608814</td>\n",
              "      <td>756249</td>\n",
              "      <td>0.118644</td>\n",
              "    </tr>\n",
              "    <tr>\n",
              "      <th>...</th>\n",
              "      <td>...</td>\n",
              "      <td>...</td>\n",
              "      <td>...</td>\n",
              "    </tr>\n",
              "    <tr>\n",
              "      <th>2770</th>\n",
              "      <td>455372</td>\n",
              "      <td>1618038</td>\n",
              "      <td>0.120370</td>\n",
              "    </tr>\n",
              "    <tr>\n",
              "      <th>2771</th>\n",
              "      <td>472496</td>\n",
              "      <td>1572773</td>\n",
              "      <td>0.121495</td>\n",
              "    </tr>\n",
              "    <tr>\n",
              "      <th>2772</th>\n",
              "      <td>546299</td>\n",
              "      <td>878756</td>\n",
              "      <td>0.166667</td>\n",
              "    </tr>\n",
              "    <tr>\n",
              "      <th>2773</th>\n",
              "      <td>624623</td>\n",
              "      <td>1559819</td>\n",
              "      <td>0.041667</td>\n",
              "    </tr>\n",
              "    <tr>\n",
              "      <th>2774</th>\n",
              "      <td>1152253</td>\n",
              "      <td>1553707</td>\n",
              "      <td>0.145455</td>\n",
              "    </tr>\n",
              "  </tbody>\n",
              "</table>\n",
              "<p>2775 rows × 3 columns</p>\n",
              "</div>\n",
              "    <div class=\"colab-df-buttons\">\n",
              "\n",
              "  <div class=\"colab-df-container\">\n",
              "    <button class=\"colab-df-convert\" onclick=\"convertToInteractive('df-c3f6fbed-b241-4dc2-a46d-d61c781e5d00')\"\n",
              "            title=\"Convert this dataframe to an interactive table.\"\n",
              "            style=\"display:none;\">\n",
              "\n",
              "  <svg xmlns=\"http://www.w3.org/2000/svg\" height=\"24px\" viewBox=\"0 -960 960 960\">\n",
              "    <path d=\"M120-120v-720h720v720H120Zm60-500h600v-160H180v160Zm220 220h160v-160H400v160Zm0 220h160v-160H400v160ZM180-400h160v-160H180v160Zm440 0h160v-160H620v160ZM180-180h160v-160H180v160Zm440 0h160v-160H620v160Z\"/>\n",
              "  </svg>\n",
              "    </button>\n",
              "\n",
              "  <style>\n",
              "    .colab-df-container {\n",
              "      display:flex;\n",
              "      gap: 12px;\n",
              "    }\n",
              "\n",
              "    .colab-df-convert {\n",
              "      background-color: #E8F0FE;\n",
              "      border: none;\n",
              "      border-radius: 50%;\n",
              "      cursor: pointer;\n",
              "      display: none;\n",
              "      fill: #1967D2;\n",
              "      height: 32px;\n",
              "      padding: 0 0 0 0;\n",
              "      width: 32px;\n",
              "    }\n",
              "\n",
              "    .colab-df-convert:hover {\n",
              "      background-color: #E2EBFA;\n",
              "      box-shadow: 0px 1px 2px rgba(60, 64, 67, 0.3), 0px 1px 3px 1px rgba(60, 64, 67, 0.15);\n",
              "      fill: #174EA6;\n",
              "    }\n",
              "\n",
              "    .colab-df-buttons div {\n",
              "      margin-bottom: 4px;\n",
              "    }\n",
              "\n",
              "    [theme=dark] .colab-df-convert {\n",
              "      background-color: #3B4455;\n",
              "      fill: #D2E3FC;\n",
              "    }\n",
              "\n",
              "    [theme=dark] .colab-df-convert:hover {\n",
              "      background-color: #434B5C;\n",
              "      box-shadow: 0px 1px 3px 1px rgba(0, 0, 0, 0.15);\n",
              "      filter: drop-shadow(0px 1px 2px rgba(0, 0, 0, 0.3));\n",
              "      fill: #FFFFFF;\n",
              "    }\n",
              "  </style>\n",
              "\n",
              "    <script>\n",
              "      const buttonEl =\n",
              "        document.querySelector('#df-c3f6fbed-b241-4dc2-a46d-d61c781e5d00 button.colab-df-convert');\n",
              "      buttonEl.style.display =\n",
              "        google.colab.kernel.accessAllowed ? 'block' : 'none';\n",
              "\n",
              "      async function convertToInteractive(key) {\n",
              "        const element = document.querySelector('#df-c3f6fbed-b241-4dc2-a46d-d61c781e5d00');\n",
              "        const dataTable =\n",
              "          await google.colab.kernel.invokeFunction('convertToInteractive',\n",
              "                                                    [key], {});\n",
              "        if (!dataTable) return;\n",
              "\n",
              "        const docLinkHtml = 'Like what you see? Visit the ' +\n",
              "          '<a target=\"_blank\" href=https://colab.research.google.com/notebooks/data_table.ipynb>data table notebook</a>'\n",
              "          + ' to learn more about interactive tables.';\n",
              "        element.innerHTML = '';\n",
              "        dataTable['output_type'] = 'display_data';\n",
              "        await google.colab.output.renderOutput(dataTable, element);\n",
              "        const docLink = document.createElement('div');\n",
              "        docLink.innerHTML = docLinkHtml;\n",
              "        element.appendChild(docLink);\n",
              "      }\n",
              "    </script>\n",
              "  </div>\n",
              "\n",
              "\n",
              "<div id=\"df-3620f180-a399-4b3d-a1cd-70cfbaaee7b7\">\n",
              "  <button class=\"colab-df-quickchart\" onclick=\"quickchart('df-3620f180-a399-4b3d-a1cd-70cfbaaee7b7')\"\n",
              "            title=\"Suggest charts\"\n",
              "            style=\"display:none;\">\n",
              "\n",
              "<svg xmlns=\"http://www.w3.org/2000/svg\" height=\"24px\"viewBox=\"0 0 24 24\"\n",
              "     width=\"24px\">\n",
              "    <g>\n",
              "        <path d=\"M19 3H5c-1.1 0-2 .9-2 2v14c0 1.1.9 2 2 2h14c1.1 0 2-.9 2-2V5c0-1.1-.9-2-2-2zM9 17H7v-7h2v7zm4 0h-2V7h2v10zm4 0h-2v-4h2v4z\"/>\n",
              "    </g>\n",
              "</svg>\n",
              "  </button>\n",
              "\n",
              "<style>\n",
              "  .colab-df-quickchart {\n",
              "      --bg-color: #E8F0FE;\n",
              "      --fill-color: #1967D2;\n",
              "      --hover-bg-color: #E2EBFA;\n",
              "      --hover-fill-color: #174EA6;\n",
              "      --disabled-fill-color: #AAA;\n",
              "      --disabled-bg-color: #DDD;\n",
              "  }\n",
              "\n",
              "  [theme=dark] .colab-df-quickchart {\n",
              "      --bg-color: #3B4455;\n",
              "      --fill-color: #D2E3FC;\n",
              "      --hover-bg-color: #434B5C;\n",
              "      --hover-fill-color: #FFFFFF;\n",
              "      --disabled-bg-color: #3B4455;\n",
              "      --disabled-fill-color: #666;\n",
              "  }\n",
              "\n",
              "  .colab-df-quickchart {\n",
              "    background-color: var(--bg-color);\n",
              "    border: none;\n",
              "    border-radius: 50%;\n",
              "    cursor: pointer;\n",
              "    display: none;\n",
              "    fill: var(--fill-color);\n",
              "    height: 32px;\n",
              "    padding: 0;\n",
              "    width: 32px;\n",
              "  }\n",
              "\n",
              "  .colab-df-quickchart:hover {\n",
              "    background-color: var(--hover-bg-color);\n",
              "    box-shadow: 0 1px 2px rgba(60, 64, 67, 0.3), 0 1px 3px 1px rgba(60, 64, 67, 0.15);\n",
              "    fill: var(--button-hover-fill-color);\n",
              "  }\n",
              "\n",
              "  .colab-df-quickchart-complete:disabled,\n",
              "  .colab-df-quickchart-complete:disabled:hover {\n",
              "    background-color: var(--disabled-bg-color);\n",
              "    fill: var(--disabled-fill-color);\n",
              "    box-shadow: none;\n",
              "  }\n",
              "\n",
              "  .colab-df-spinner {\n",
              "    border: 2px solid var(--fill-color);\n",
              "    border-color: transparent;\n",
              "    border-bottom-color: var(--fill-color);\n",
              "    animation:\n",
              "      spin 1s steps(1) infinite;\n",
              "  }\n",
              "\n",
              "  @keyframes spin {\n",
              "    0% {\n",
              "      border-color: transparent;\n",
              "      border-bottom-color: var(--fill-color);\n",
              "      border-left-color: var(--fill-color);\n",
              "    }\n",
              "    20% {\n",
              "      border-color: transparent;\n",
              "      border-left-color: var(--fill-color);\n",
              "      border-top-color: var(--fill-color);\n",
              "    }\n",
              "    30% {\n",
              "      border-color: transparent;\n",
              "      border-left-color: var(--fill-color);\n",
              "      border-top-color: var(--fill-color);\n",
              "      border-right-color: var(--fill-color);\n",
              "    }\n",
              "    40% {\n",
              "      border-color: transparent;\n",
              "      border-right-color: var(--fill-color);\n",
              "      border-top-color: var(--fill-color);\n",
              "    }\n",
              "    60% {\n",
              "      border-color: transparent;\n",
              "      border-right-color: var(--fill-color);\n",
              "    }\n",
              "    80% {\n",
              "      border-color: transparent;\n",
              "      border-right-color: var(--fill-color);\n",
              "      border-bottom-color: var(--fill-color);\n",
              "    }\n",
              "    90% {\n",
              "      border-color: transparent;\n",
              "      border-bottom-color: var(--fill-color);\n",
              "    }\n",
              "  }\n",
              "</style>\n",
              "\n",
              "  <script>\n",
              "    async function quickchart(key) {\n",
              "      const quickchartButtonEl =\n",
              "        document.querySelector('#' + key + ' button');\n",
              "      quickchartButtonEl.disabled = true;  // To prevent multiple clicks.\n",
              "      quickchartButtonEl.classList.add('colab-df-spinner');\n",
              "      try {\n",
              "        const charts = await google.colab.kernel.invokeFunction(\n",
              "            'suggestCharts', [key], {});\n",
              "      } catch (error) {\n",
              "        console.error('Error during call to suggestCharts:', error);\n",
              "      }\n",
              "      quickchartButtonEl.classList.remove('colab-df-spinner');\n",
              "      quickchartButtonEl.classList.add('colab-df-quickchart-complete');\n",
              "    }\n",
              "    (() => {\n",
              "      let quickchartButtonEl =\n",
              "        document.querySelector('#df-3620f180-a399-4b3d-a1cd-70cfbaaee7b7 button');\n",
              "      quickchartButtonEl.style.display =\n",
              "        google.colab.kernel.accessAllowed ? 'block' : 'none';\n",
              "    })();\n",
              "  </script>\n",
              "</div>\n",
              "    </div>\n",
              "  </div>\n"
            ],
            "application/vnd.google.colaboratory.intrinsic+json": {
              "type": "dataframe",
              "variable_name": "similar_df",
              "summary": "{\n  \"name\": \"similar_df\",\n  \"rows\": 2775,\n  \"fields\": [\n    {\n      \"column\": \"doc_id1\",\n      \"properties\": {\n        \"dtype\": \"number\",\n        \"std\": 403049,\n        \"min\": 13395,\n        \"max\": 1749766,\n        \"num_unique_values\": 74,\n        \"samples\": [\n          1129756,\n          1553707,\n          252827\n        ],\n        \"semantic_type\": \"\",\n        \"description\": \"\"\n      }\n    },\n    {\n      \"column\": \"doc_id2\",\n      \"properties\": {\n        \"dtype\": \"number\",\n        \"std\": 425543,\n        \"min\": 34993,\n        \"max\": 1750168,\n        \"num_unique_values\": 74,\n        \"samples\": [\n          756249,\n          642420,\n          584862\n        ],\n        \"semantic_type\": \"\",\n        \"description\": \"\"\n      }\n    },\n    {\n      \"column\": \"jaccard_distance\",\n      \"properties\": {\n        \"dtype\": \"number\",\n        \"std\": 0.046316044970046356,\n        \"min\": 0.0,\n        \"max\": 0.3025210084033614,\n        \"num_unique_values\": 403,\n        \"samples\": [\n          0.09243697478991597,\n          0.06837606837606836,\n          0.2192982456140351\n        ],\n        \"semantic_type\": \"\",\n        \"description\": \"\"\n      }\n    }\n  ]\n}"
            }
          },
          "metadata": {},
          "execution_count": 70
        }
      ]
    },
    {
      "cell_type": "code",
      "source": [
        "for pair in similar_pairs[:2]:\n",
        "    doc1 = pair[0]\n",
        "    doc2 = pair[1]\n",
        "    dist = pair[2]\n",
        "\n",
        "    # Filter DataFrame to retrieve text for doc1 and doc2\n",
        "    doc1_text = df_scaled.filter(col('doc_id') == doc1).select('job_words').first()[0]\n",
        "    doc2_text = df_scaled.filter(col('doc_id') == doc2).select('job_words').first()[0]\n",
        "\n",
        "    # Display job summaries for doc1 and doc2\n",
        "    print(\"Document 1:\")\n",
        "    print(doc1_text)\n",
        "    print(\"\\nDocument 2:\")\n",
        "    print(doc2_text)\n",
        "    print(\"\\nJaccard Distance: {:.4f}\".format(dist))\n",
        "    print(\"\\n---\")\n"
      ],
      "metadata": {
        "colab": {
          "base_uri": "https://localhost:8080/"
        },
        "id": "6ZEWjHv45bs6",
        "outputId": "4011c319-19b4-4751-a7e5-c365a54c9bc0"
      },
      "execution_count": 71,
      "outputs": [
        {
          "output_type": "stream",
          "name": "stdout",
          "text": [
            "Document 1:\n",
            "Immediate start with an extremely progressive company |Full training provided and supportive working culture About Our Client My client are a family run business who have achieved a lot of success over recent years by winning successful contracts which will allow the business to continue to thrive in a competitive industry. They have a supportive working environment and always go the extra mile in ensuring customers receive the best possible service. Job Description The main duties of the role will include:- Answering calls regarding updates on job orders and progress Logging new job orders onto the CRM system Sending out confirmations to customers and following up Providing an excellent standard of service at all times Record all call information onto the system accurately The working hours are Mon to Fri 8 - 5 or Mon to Fri 9 - 6 with a Saturday in every month The Successful Applicant Excellent customer service skills Positive attitude to completing tasks Attention to detail Team player Enthusiastic and driven What's on Offer Full training provided Supportive working culture Great Company Benefits Contact: Christine Walsh Quote job ref: JN-102023-6207411 Brand: PP Show more Show less\n",
            "\n",
            "Document 2:\n",
            "Does this position interest you? You should apply – even if you don’t match every single requirement! We're known as an auto glass company. That's the focus of what we do. But beyond the glass, we're so much more. We'll help you build a fulfilling career and encourage you to have a life. Let us be the best place you'll ever work. Job Summary The AVP Operations Excellence is responsible for leading and driving operational excellence initiatives across the organization, including improvement, project management, and change management activities. This role will collaborate with cross-functional teams, identify areas for improvement, and implement strategies to enhance operational efficiency, productivity, quality, and profitability. The ideal candidate will possess exceptional leadership skills, a strong background in operations management, and a proven track record of implementing process improvement methodologies. Strategic Leadership: Develop and implement the organization's operations excellence strategy aligned with overall business objectives. Provide leadership, guidance, and direction to cross-functional teams to drive operational efficiency and excellence. Foster a culture of continuous improvement and operational excellence throughout the organization. People leadership Lead a team of 8-12 direct and indirect reports Provide guidance as leader, setting goals, driving accountability, managing performance, and aiding in our peoples’ development Develop with skillset and understanding of process improvement methodologies within the team Process Improvement: Analyze current processes, identify bottlenecks, and develop solutions to optimize operations and improve efficiency. Implement process improvement methodologies, such as Lean Six Sigma, Kaizen, or other relevant frameworks. Work closely with stakeholders to streamline workflows, eliminate waste, and reduce costs while maintaining quality standards. Performance Metrics and Analytics: Establish key performance indicators (KPIs) and metrics to measure operational performance and track progress towards goals. Utilize data analytics and business intelligence tools to identify trends, insights, and areas for improvement. Regularly report on performance metrics to senior leadership and recommend actions for improvement. Change Management: Lead change management initiatives related to operational excellence, ensuring smooth implementation and adoption across the organization. Collaborate with stakeholders to communicate changes, address concerns, and manage resistance to change effectively. Develop and deliver training programs to enhance operational skills and create a culture of continuous improvement. Project Management Lead the project management function for the Operations team, working collaboratively with Supply Chain and corporate functions for seamless integration Report on project status, milestones, barriers, and financials Liaise with IT on the implementation of major technology changes Cross-Functional Collaboration: Collaborate with various departments, including finance, supply chain, human resources, and IT, to align operational strategies and drive process improvements. Foster strong relationships with stakeholders and serve as a trusted advisor on operational matters. Facilitate cross-functional teams and meetings to drive collaboration and ensure effective implementation of initiatives. Performs other duties as assigned Complies with all policies and standards Qualifications Bachelor's Degree in business administration, operations management, or a related field required Master's Degree in business administration, operations management, or a related field preferred Work Experience 10+ years Relevant experience required Proven experience in operations management, process improvement, or related roles required Demonstrated experience in driving operational excellence initiatives and achieving measurable results required -- Internal Associates: Already a member of the Safelite team? Apply through your Workday account by searching 'Find Open Jobs'. Diversity: Safelite welcomes everyone. We value our diverse workforce and suppliers, and we’re proud to be an equal opportunity employer. Learn more at Safelite.com/Careers. Benefit amounts are estimates only. Actual values will depend on benefit elections during enrollment. This position description is not all inclusive for every aspect of this role. Reasonable accommodation will be made for individuals covered by ADA, ADEA, FMLA and other laws and regulations in accordance with their requirements. Physical and mental demands are not and should not be construed to be job qualification standards, but are illustrated to help the employer, employee and/or applicant identify tasks where reasonable accommodations may need to be made when an otherwise qualified person is unable to perform the job's essential duties because of an ADA disability. Other qualifications may be required to ensure employment eligibility in accordance with local laws and regulations and with Safelite Group, Inc. policies and practices. -- Show more Show less\n",
            "\n",
            "Jaccard Distance: 0.1560\n",
            "\n",
            "---\n",
            "Document 1:\n",
            "Immediate start with an extremely progressive company |Full training provided and supportive working culture About Our Client My client are a family run business who have achieved a lot of success over recent years by winning successful contracts which will allow the business to continue to thrive in a competitive industry. They have a supportive working environment and always go the extra mile in ensuring customers receive the best possible service. Job Description The main duties of the role will include:- Answering calls regarding updates on job orders and progress Logging new job orders onto the CRM system Sending out confirmations to customers and following up Providing an excellent standard of service at all times Record all call information onto the system accurately The working hours are Mon to Fri 8 - 5 or Mon to Fri 9 - 6 with a Saturday in every month The Successful Applicant Excellent customer service skills Positive attitude to completing tasks Attention to detail Team player Enthusiastic and driven What's on Offer Full training provided Supportive working culture Great Company Benefits Contact: Christine Walsh Quote job ref: JN-102023-6207411 Brand: PP Show more Show less\n",
            "\n",
            "Document 2:\n",
            "Job Description This position will be scheduled approximately 40 hours per week at our Lindner Research Center located at 2123 Auburn Ave, Suite 424, Cincinnati, OH 45219. Accurately and professionally works with Operations Coordinators and RN’s to assist in the execution all clinical projects assigned to him/her: assists in project initiation, maintains patient continuance, assures protocol compliance, reports to Coordinators and nurses on patient/progress status. Needs phlebotomy training and experience. Contributes to the smooth patient flow during patient office visitations. Show more Show less\n",
            "\n",
            "Jaccard Distance: 0.1552\n",
            "\n",
            "---\n"
          ]
        }
      ]
    }
  ],
  "metadata": {
    "colab": {
      "provenance": []
    },
    "kernelspec": {
      "display_name": "Python 3",
      "name": "python3"
    },
    "language_info": {
      "name": "python"
    }
  },
  "nbformat": 4,
  "nbformat_minor": 0
}
