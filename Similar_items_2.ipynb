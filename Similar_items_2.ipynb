{
  "cells": [
    {
      "cell_type": "markdown",
      "metadata": {
        "id": "Cgu5sXFOyeXQ"
      },
      "source": [
        "# Algorithms for Massive Data\n",
        "\n",
        "\n",
        "Project Finding Similar Items\n",
        "\n",
        "\n",
        "Michela Mazzaglia academic year 2023/2024"
      ]
    },
    {
      "cell_type": "markdown",
      "metadata": {
        "id": "3UYT36l9zKaM"
      },
      "source": [
        "## Importing libraries"
      ]
    },
    {
      "cell_type": "code",
      "execution_count": 1,
      "metadata": {
        "colab": {
          "base_uri": "https://localhost:8080/"
        },
        "id": "1Y3WDvffms6L",
        "outputId": "def180ec-6397-43fc-9c67-4153ad237562"
      },
      "outputs": [
        {
          "output_type": "stream",
          "name": "stdout",
          "text": [
            "Collecting pyspark\n",
            "  Downloading pyspark-3.5.1.tar.gz (317.0 MB)\n",
            "\u001b[2K     \u001b[90m━━━━━━━━━━━━━━━━━━━━━━━━━━━━━━━━━━━━━━━━\u001b[0m \u001b[32m317.0/317.0 MB\u001b[0m \u001b[31m1.9 MB/s\u001b[0m eta \u001b[36m0:00:00\u001b[0m\n",
            "\u001b[?25h  Preparing metadata (setup.py) ... \u001b[?25l\u001b[?25hdone\n",
            "Requirement already satisfied: py4j==0.10.9.7 in /usr/local/lib/python3.10/dist-packages (from pyspark) (0.10.9.7)\n",
            "Building wheels for collected packages: pyspark\n",
            "  Building wheel for pyspark (setup.py) ... \u001b[?25l\u001b[?25hdone\n",
            "  Created wheel for pyspark: filename=pyspark-3.5.1-py2.py3-none-any.whl size=317488491 sha256=8e690586d661ede5513eb456a6a8e09c1bb6d2188459934c2ec906e24f6021be\n",
            "  Stored in directory: /root/.cache/pip/wheels/80/1d/60/2c256ed38dddce2fdd93be545214a63e02fbd8d74fb0b7f3a6\n",
            "Successfully built pyspark\n",
            "Installing collected packages: pyspark\n",
            "Successfully installed pyspark-3.5.1\n"
          ]
        }
      ],
      "source": [
        "pip install pyspark"
      ]
    },
    {
      "cell_type": "code",
      "execution_count": 2,
      "metadata": {
        "colab": {
          "base_uri": "https://localhost:8080/"
        },
        "id": "L53ps9OZrfbA",
        "outputId": "ec44cbab-7092-4acd-bd12-1e17e7b3b7c6"
      },
      "outputs": [
        {
          "output_type": "stream",
          "name": "stdout",
          "text": [
            "Collecting findspark\n",
            "  Downloading findspark-2.0.1-py2.py3-none-any.whl (4.4 kB)\n",
            "Installing collected packages: findspark\n",
            "Successfully installed findspark-2.0.1\n"
          ]
        }
      ],
      "source": [
        "pip install findspark"
      ]
    },
    {
      "cell_type": "code",
      "execution_count": 3,
      "metadata": {
        "colab": {
          "base_uri": "https://localhost:8080/",
          "height": 221
        },
        "id": "DnZBxBhbiMtE",
        "outputId": "8b7636a0-3eac-4702-f7f2-1df2dcf4d559"
      },
      "outputs": [
        {
          "output_type": "execute_result",
          "data": {
            "text/plain": [
              "<pyspark.sql.session.SparkSession at 0x7fe5f32dcb80>"
            ],
            "text/html": [
              "\n",
              "            <div>\n",
              "                <p><b>SparkSession - in-memory</b></p>\n",
              "                \n",
              "        <div>\n",
              "            <p><b>SparkContext</b></p>\n",
              "\n",
              "            <p><a href=\"http://f3ee319e3748:4040\">Spark UI</a></p>\n",
              "\n",
              "            <dl>\n",
              "              <dt>Version</dt>\n",
              "                <dd><code>v3.5.1</code></dd>\n",
              "              <dt>Master</dt>\n",
              "                <dd><code>local[*]</code></dd>\n",
              "              <dt>AppName</dt>\n",
              "                <dd><code>pyspark-shell</code></dd>\n",
              "            </dl>\n",
              "        </div>\n",
              "        \n",
              "            </div>\n",
              "        "
            ]
          },
          "metadata": {},
          "execution_count": 3
        }
      ],
      "source": [
        "import pyspark\n",
        "import findspark\n",
        "from pyspark.sql import SparkSession\n",
        "\n",
        "spark = SparkSession.builder.master(\"local[*]\").getOrCreate()\n",
        "spark"
      ]
    },
    {
      "cell_type": "code",
      "execution_count": 4,
      "metadata": {
        "id": "_fctGHFInO8p"
      },
      "outputs": [],
      "source": [
        "! pip install -q kaggle"
      ]
    },
    {
      "cell_type": "code",
      "execution_count": 5,
      "metadata": {
        "colab": {
          "base_uri": "https://localhost:8080/"
        },
        "id": "a7mx96DnAv4V",
        "outputId": "cca7b519-5c06-4b03-b131-5307033432a3"
      },
      "outputs": [
        {
          "output_type": "stream",
          "name": "stdout",
          "text": [
            "Requirement already satisfied: pyspark in /usr/local/lib/python3.10/dist-packages (3.5.1)\n",
            "Requirement already satisfied: nltk in /usr/local/lib/python3.10/dist-packages (3.8.1)\n",
            "Requirement already satisfied: py4j==0.10.9.7 in /usr/local/lib/python3.10/dist-packages (from pyspark) (0.10.9.7)\n",
            "Requirement already satisfied: click in /usr/local/lib/python3.10/dist-packages (from nltk) (8.1.7)\n",
            "Requirement already satisfied: joblib in /usr/local/lib/python3.10/dist-packages (from nltk) (1.4.2)\n",
            "Requirement already satisfied: regex>=2021.8.3 in /usr/local/lib/python3.10/dist-packages (from nltk) (2024.5.15)\n",
            "Requirement already satisfied: tqdm in /usr/local/lib/python3.10/dist-packages (from nltk) (4.66.4)\n"
          ]
        }
      ],
      "source": [
        "pip install pyspark nltk"
      ]
    },
    {
      "cell_type": "code",
      "execution_count": 6,
      "metadata": {
        "id": "_Vg5_SZQBTo-"
      },
      "outputs": [],
      "source": [
        "import numpy as np\n",
        "import pandas as pd\n",
        "import re, math\n",
        "import nltk\n",
        "from pyspark.sql.functions import udf, length, expr, regexp_extract, collect_list\n",
        "from pyspark.sql.types import StructType, StructField, StringType, LongType\n",
        "from pyspark.sql.functions import monotonically_increasing_id, regexp_replace, col, split, size, concat_ws\n",
        "from pyspark.ml.linalg import Vectors, DenseVector, VectorUDT\n",
        "from pyspark.ml.feature import MinHashLSH, HashingTF\n",
        "import random\n",
        "from sympy import nextprime"
      ]
    },
    {
      "cell_type": "markdown",
      "metadata": {
        "id": "sw6iadABzV9V"
      },
      "source": [
        "## Uploading the dataset"
      ]
    },
    {
      "cell_type": "code",
      "execution_count": null,
      "metadata": {
        "collapsed": true,
        "id": "0tffiZwBnuiG"
      },
      "outputs": [],
      "source": [
        "from google.colab import files\n",
        "\n",
        "files.upload() # upload your kaggle api key"
      ]
    },
    {
      "cell_type": "code",
      "execution_count": 8,
      "metadata": {
        "id": "MTmTZw7inE3T"
      },
      "outputs": [],
      "source": [
        "! mkdir ~/.kaggle\n",
        "\n",
        "! cp kaggle.json ~/.kaggle/"
      ]
    },
    {
      "cell_type": "code",
      "execution_count": 9,
      "metadata": {
        "id": "QIHxIdY-n4oY"
      },
      "outputs": [],
      "source": [
        "! chmod 600 ~/.kaggle/kaggle.json"
      ]
    },
    {
      "cell_type": "code",
      "execution_count": 10,
      "metadata": {
        "colab": {
          "base_uri": "https://localhost:8080/"
        },
        "id": "auoJ04U-n7Ok",
        "outputId": "2497e9ff-1d59-45b3-d8a3-243c9f47651a"
      },
      "outputs": [
        {
          "output_type": "stream",
          "name": "stdout",
          "text": [
            "Dataset URL: https://www.kaggle.com/datasets/asaniczka/1-3m-linkedin-jobs-and-skills-2024\n",
            "License(s): ODC Attribution License (ODC-By)\n",
            "Downloading 1-3m-linkedin-jobs-and-skills-2024.zip to /content\n",
            "100% 1.87G/1.88G [00:29<00:00, 116MB/s] \n",
            "100% 1.88G/1.88G [00:29<00:00, 67.9MB/s]\n"
          ]
        }
      ],
      "source": [
        "!kaggle datasets download -d asaniczka/1-3m-linkedin-jobs-and-skills-2024"
      ]
    },
    {
      "cell_type": "code",
      "execution_count": 11,
      "metadata": {
        "id": "CcXCQbsXzgkL"
      },
      "outputs": [],
      "source": [
        "!unzip -q ./1-3m-linkedin-jobs-and-skills-2024.zip -d ."
      ]
    },
    {
      "cell_type": "code",
      "execution_count": 12,
      "metadata": {
        "id": "s3tlOwX9Oqq-"
      },
      "outputs": [],
      "source": [
        "sc = spark.sparkContext"
      ]
    },
    {
      "cell_type": "markdown",
      "metadata": {
        "id": "Wz7htdabyaZ6"
      },
      "source": [
        "## Data Cleaning & Preprocessing"
      ]
    },
    {
      "cell_type": "code",
      "execution_count": 13,
      "metadata": {
        "id": "Lb00f_bHMwvL"
      },
      "outputs": [],
      "source": [
        "df_0 = pd.read_csv('/content/job_summary.csv')"
      ]
    },
    {
      "cell_type": "code",
      "execution_count": 14,
      "metadata": {
        "colab": {
          "base_uri": "https://localhost:8080/",
          "height": 424
        },
        "id": "KFTppokKNeVa",
        "outputId": "1f77e580-b30a-481b-845b-588bec38904d"
      },
      "outputs": [
        {
          "output_type": "execute_result",
          "data": {
            "text/plain": [
              "                                                  job_link  \\\n",
              "0        https://www.linkedin.com/jobs/view/restaurant-...   \n",
              "1        https://www.linkedin.com/jobs/view/med-surg-re...   \n",
              "2        https://www.linkedin.com/jobs/view/registered-...   \n",
              "3        https://uk.linkedin.com/jobs/view/commercial-a...   \n",
              "4        https://www.linkedin.com/jobs/view/store-manag...   \n",
              "...                                                    ...   \n",
              "1297327  https://www.linkedin.com/jobs/view/roofing-sup...   \n",
              "1297328  https://www.linkedin.com/jobs/view/service-cen...   \n",
              "1297329  https://www.linkedin.com/jobs/view/flight-qual...   \n",
              "1297330  https://www.linkedin.com/jobs/view/global-sour...   \n",
              "1297331  https://www.linkedin.com/jobs/view/research-as...   \n",
              "\n",
              "                                               job_summary  \n",
              "0        Rock N Roll Sushi is hiring a Restaurant Manag...  \n",
              "1        Schedule\\n: PRN is required minimum 12 hours p...  \n",
              "2        Description\\nIntroduction\\nAre you looking for...  \n",
              "3        Commercial account executive\\nSheffield\\nFull ...  \n",
              "4        Address:\\nUSA-CT-Newington-44 Fenn Road\\nStore...  \n",
              "...                                                    ...  \n",
              "1297327  We are currently seeking experienced commercia...  \n",
              "1297328  Overview\\nStable and growing organization\\nCom...  \n",
              "1297329  Rôle et responsabilités\\nJob Description:\\nFli...  \n",
              "1297330  Job Description\\nAre You Ready to Make It Happ...  \n",
              "1297331  Current Employees:\\nIf you are a current Staff...  \n",
              "\n",
              "[1297332 rows x 2 columns]"
            ],
            "text/html": [
              "\n",
              "  <div id=\"df-c63d1baf-0343-4da4-a35c-5b06e47aea3b\" class=\"colab-df-container\">\n",
              "    <div>\n",
              "<style scoped>\n",
              "    .dataframe tbody tr th:only-of-type {\n",
              "        vertical-align: middle;\n",
              "    }\n",
              "\n",
              "    .dataframe tbody tr th {\n",
              "        vertical-align: top;\n",
              "    }\n",
              "\n",
              "    .dataframe thead th {\n",
              "        text-align: right;\n",
              "    }\n",
              "</style>\n",
              "<table border=\"1\" class=\"dataframe\">\n",
              "  <thead>\n",
              "    <tr style=\"text-align: right;\">\n",
              "      <th></th>\n",
              "      <th>job_link</th>\n",
              "      <th>job_summary</th>\n",
              "    </tr>\n",
              "  </thead>\n",
              "  <tbody>\n",
              "    <tr>\n",
              "      <th>0</th>\n",
              "      <td>https://www.linkedin.com/jobs/view/restaurant-...</td>\n",
              "      <td>Rock N Roll Sushi is hiring a Restaurant Manag...</td>\n",
              "    </tr>\n",
              "    <tr>\n",
              "      <th>1</th>\n",
              "      <td>https://www.linkedin.com/jobs/view/med-surg-re...</td>\n",
              "      <td>Schedule\\n: PRN is required minimum 12 hours p...</td>\n",
              "    </tr>\n",
              "    <tr>\n",
              "      <th>2</th>\n",
              "      <td>https://www.linkedin.com/jobs/view/registered-...</td>\n",
              "      <td>Description\\nIntroduction\\nAre you looking for...</td>\n",
              "    </tr>\n",
              "    <tr>\n",
              "      <th>3</th>\n",
              "      <td>https://uk.linkedin.com/jobs/view/commercial-a...</td>\n",
              "      <td>Commercial account executive\\nSheffield\\nFull ...</td>\n",
              "    </tr>\n",
              "    <tr>\n",
              "      <th>4</th>\n",
              "      <td>https://www.linkedin.com/jobs/view/store-manag...</td>\n",
              "      <td>Address:\\nUSA-CT-Newington-44 Fenn Road\\nStore...</td>\n",
              "    </tr>\n",
              "    <tr>\n",
              "      <th>...</th>\n",
              "      <td>...</td>\n",
              "      <td>...</td>\n",
              "    </tr>\n",
              "    <tr>\n",
              "      <th>1297327</th>\n",
              "      <td>https://www.linkedin.com/jobs/view/roofing-sup...</td>\n",
              "      <td>We are currently seeking experienced commercia...</td>\n",
              "    </tr>\n",
              "    <tr>\n",
              "      <th>1297328</th>\n",
              "      <td>https://www.linkedin.com/jobs/view/service-cen...</td>\n",
              "      <td>Overview\\nStable and growing organization\\nCom...</td>\n",
              "    </tr>\n",
              "    <tr>\n",
              "      <th>1297329</th>\n",
              "      <td>https://www.linkedin.com/jobs/view/flight-qual...</td>\n",
              "      <td>Rôle et responsabilités\\nJob Description:\\nFli...</td>\n",
              "    </tr>\n",
              "    <tr>\n",
              "      <th>1297330</th>\n",
              "      <td>https://www.linkedin.com/jobs/view/global-sour...</td>\n",
              "      <td>Job Description\\nAre You Ready to Make It Happ...</td>\n",
              "    </tr>\n",
              "    <tr>\n",
              "      <th>1297331</th>\n",
              "      <td>https://www.linkedin.com/jobs/view/research-as...</td>\n",
              "      <td>Current Employees:\\nIf you are a current Staff...</td>\n",
              "    </tr>\n",
              "  </tbody>\n",
              "</table>\n",
              "<p>1297332 rows × 2 columns</p>\n",
              "</div>\n",
              "    <div class=\"colab-df-buttons\">\n",
              "\n",
              "  <div class=\"colab-df-container\">\n",
              "    <button class=\"colab-df-convert\" onclick=\"convertToInteractive('df-c63d1baf-0343-4da4-a35c-5b06e47aea3b')\"\n",
              "            title=\"Convert this dataframe to an interactive table.\"\n",
              "            style=\"display:none;\">\n",
              "\n",
              "  <svg xmlns=\"http://www.w3.org/2000/svg\" height=\"24px\" viewBox=\"0 -960 960 960\">\n",
              "    <path d=\"M120-120v-720h720v720H120Zm60-500h600v-160H180v160Zm220 220h160v-160H400v160Zm0 220h160v-160H400v160ZM180-400h160v-160H180v160Zm440 0h160v-160H620v160ZM180-180h160v-160H180v160Zm440 0h160v-160H620v160Z\"/>\n",
              "  </svg>\n",
              "    </button>\n",
              "\n",
              "  <style>\n",
              "    .colab-df-container {\n",
              "      display:flex;\n",
              "      gap: 12px;\n",
              "    }\n",
              "\n",
              "    .colab-df-convert {\n",
              "      background-color: #E8F0FE;\n",
              "      border: none;\n",
              "      border-radius: 50%;\n",
              "      cursor: pointer;\n",
              "      display: none;\n",
              "      fill: #1967D2;\n",
              "      height: 32px;\n",
              "      padding: 0 0 0 0;\n",
              "      width: 32px;\n",
              "    }\n",
              "\n",
              "    .colab-df-convert:hover {\n",
              "      background-color: #E2EBFA;\n",
              "      box-shadow: 0px 1px 2px rgba(60, 64, 67, 0.3), 0px 1px 3px 1px rgba(60, 64, 67, 0.15);\n",
              "      fill: #174EA6;\n",
              "    }\n",
              "\n",
              "    .colab-df-buttons div {\n",
              "      margin-bottom: 4px;\n",
              "    }\n",
              "\n",
              "    [theme=dark] .colab-df-convert {\n",
              "      background-color: #3B4455;\n",
              "      fill: #D2E3FC;\n",
              "    }\n",
              "\n",
              "    [theme=dark] .colab-df-convert:hover {\n",
              "      background-color: #434B5C;\n",
              "      box-shadow: 0px 1px 3px 1px rgba(0, 0, 0, 0.15);\n",
              "      filter: drop-shadow(0px 1px 2px rgba(0, 0, 0, 0.3));\n",
              "      fill: #FFFFFF;\n",
              "    }\n",
              "  </style>\n",
              "\n",
              "    <script>\n",
              "      const buttonEl =\n",
              "        document.querySelector('#df-c63d1baf-0343-4da4-a35c-5b06e47aea3b button.colab-df-convert');\n",
              "      buttonEl.style.display =\n",
              "        google.colab.kernel.accessAllowed ? 'block' : 'none';\n",
              "\n",
              "      async function convertToInteractive(key) {\n",
              "        const element = document.querySelector('#df-c63d1baf-0343-4da4-a35c-5b06e47aea3b');\n",
              "        const dataTable =\n",
              "          await google.colab.kernel.invokeFunction('convertToInteractive',\n",
              "                                                    [key], {});\n",
              "        if (!dataTable) return;\n",
              "\n",
              "        const docLinkHtml = 'Like what you see? Visit the ' +\n",
              "          '<a target=\"_blank\" href=https://colab.research.google.com/notebooks/data_table.ipynb>data table notebook</a>'\n",
              "          + ' to learn more about interactive tables.';\n",
              "        element.innerHTML = '';\n",
              "        dataTable['output_type'] = 'display_data';\n",
              "        await google.colab.output.renderOutput(dataTable, element);\n",
              "        const docLink = document.createElement('div');\n",
              "        docLink.innerHTML = docLinkHtml;\n",
              "        element.appendChild(docLink);\n",
              "      }\n",
              "    </script>\n",
              "  </div>\n",
              "\n",
              "\n",
              "<div id=\"df-24dc886d-151e-4d55-8277-42ca6de9f918\">\n",
              "  <button class=\"colab-df-quickchart\" onclick=\"quickchart('df-24dc886d-151e-4d55-8277-42ca6de9f918')\"\n",
              "            title=\"Suggest charts\"\n",
              "            style=\"display:none;\">\n",
              "\n",
              "<svg xmlns=\"http://www.w3.org/2000/svg\" height=\"24px\"viewBox=\"0 0 24 24\"\n",
              "     width=\"24px\">\n",
              "    <g>\n",
              "        <path d=\"M19 3H5c-1.1 0-2 .9-2 2v14c0 1.1.9 2 2 2h14c1.1 0 2-.9 2-2V5c0-1.1-.9-2-2-2zM9 17H7v-7h2v7zm4 0h-2V7h2v10zm4 0h-2v-4h2v4z\"/>\n",
              "    </g>\n",
              "</svg>\n",
              "  </button>\n",
              "\n",
              "<style>\n",
              "  .colab-df-quickchart {\n",
              "      --bg-color: #E8F0FE;\n",
              "      --fill-color: #1967D2;\n",
              "      --hover-bg-color: #E2EBFA;\n",
              "      --hover-fill-color: #174EA6;\n",
              "      --disabled-fill-color: #AAA;\n",
              "      --disabled-bg-color: #DDD;\n",
              "  }\n",
              "\n",
              "  [theme=dark] .colab-df-quickchart {\n",
              "      --bg-color: #3B4455;\n",
              "      --fill-color: #D2E3FC;\n",
              "      --hover-bg-color: #434B5C;\n",
              "      --hover-fill-color: #FFFFFF;\n",
              "      --disabled-bg-color: #3B4455;\n",
              "      --disabled-fill-color: #666;\n",
              "  }\n",
              "\n",
              "  .colab-df-quickchart {\n",
              "    background-color: var(--bg-color);\n",
              "    border: none;\n",
              "    border-radius: 50%;\n",
              "    cursor: pointer;\n",
              "    display: none;\n",
              "    fill: var(--fill-color);\n",
              "    height: 32px;\n",
              "    padding: 0;\n",
              "    width: 32px;\n",
              "  }\n",
              "\n",
              "  .colab-df-quickchart:hover {\n",
              "    background-color: var(--hover-bg-color);\n",
              "    box-shadow: 0 1px 2px rgba(60, 64, 67, 0.3), 0 1px 3px 1px rgba(60, 64, 67, 0.15);\n",
              "    fill: var(--button-hover-fill-color);\n",
              "  }\n",
              "\n",
              "  .colab-df-quickchart-complete:disabled,\n",
              "  .colab-df-quickchart-complete:disabled:hover {\n",
              "    background-color: var(--disabled-bg-color);\n",
              "    fill: var(--disabled-fill-color);\n",
              "    box-shadow: none;\n",
              "  }\n",
              "\n",
              "  .colab-df-spinner {\n",
              "    border: 2px solid var(--fill-color);\n",
              "    border-color: transparent;\n",
              "    border-bottom-color: var(--fill-color);\n",
              "    animation:\n",
              "      spin 1s steps(1) infinite;\n",
              "  }\n",
              "\n",
              "  @keyframes spin {\n",
              "    0% {\n",
              "      border-color: transparent;\n",
              "      border-bottom-color: var(--fill-color);\n",
              "      border-left-color: var(--fill-color);\n",
              "    }\n",
              "    20% {\n",
              "      border-color: transparent;\n",
              "      border-left-color: var(--fill-color);\n",
              "      border-top-color: var(--fill-color);\n",
              "    }\n",
              "    30% {\n",
              "      border-color: transparent;\n",
              "      border-left-color: var(--fill-color);\n",
              "      border-top-color: var(--fill-color);\n",
              "      border-right-color: var(--fill-color);\n",
              "    }\n",
              "    40% {\n",
              "      border-color: transparent;\n",
              "      border-right-color: var(--fill-color);\n",
              "      border-top-color: var(--fill-color);\n",
              "    }\n",
              "    60% {\n",
              "      border-color: transparent;\n",
              "      border-right-color: var(--fill-color);\n",
              "    }\n",
              "    80% {\n",
              "      border-color: transparent;\n",
              "      border-right-color: var(--fill-color);\n",
              "      border-bottom-color: var(--fill-color);\n",
              "    }\n",
              "    90% {\n",
              "      border-color: transparent;\n",
              "      border-bottom-color: var(--fill-color);\n",
              "    }\n",
              "  }\n",
              "</style>\n",
              "\n",
              "  <script>\n",
              "    async function quickchart(key) {\n",
              "      const quickchartButtonEl =\n",
              "        document.querySelector('#' + key + ' button');\n",
              "      quickchartButtonEl.disabled = true;  // To prevent multiple clicks.\n",
              "      quickchartButtonEl.classList.add('colab-df-spinner');\n",
              "      try {\n",
              "        const charts = await google.colab.kernel.invokeFunction(\n",
              "            'suggestCharts', [key], {});\n",
              "      } catch (error) {\n",
              "        console.error('Error during call to suggestCharts:', error);\n",
              "      }\n",
              "      quickchartButtonEl.classList.remove('colab-df-spinner');\n",
              "      quickchartButtonEl.classList.add('colab-df-quickchart-complete');\n",
              "    }\n",
              "    (() => {\n",
              "      let quickchartButtonEl =\n",
              "        document.querySelector('#df-24dc886d-151e-4d55-8277-42ca6de9f918 button');\n",
              "      quickchartButtonEl.style.display =\n",
              "        google.colab.kernel.accessAllowed ? 'block' : 'none';\n",
              "    })();\n",
              "  </script>\n",
              "</div>\n",
              "    </div>\n",
              "  </div>\n"
            ],
            "application/vnd.google.colaboratory.intrinsic+json": {
              "type": "dataframe",
              "variable_name": "df_0"
            }
          },
          "metadata": {},
          "execution_count": 14
        }
      ],
      "source": [
        "df_0"
      ]
    },
    {
      "cell_type": "code",
      "execution_count": 15,
      "metadata": {
        "colab": {
          "base_uri": "https://localhost:8080/",
          "height": 143
        },
        "id": "iFWYETU_N9sx",
        "outputId": "60c922c2-5114-4f30-b39b-3a16b34bf90a"
      },
      "outputs": [
        {
          "output_type": "execute_result",
          "data": {
            "text/plain": [
              "'Description\\nIntroduction\\nAre you looking for a place to deliver excellent care patients deserve? At StoneSprings Hospital Center we support our colleagues in their positions. Join our Team as a(an) Registered Nurse Cath Lab and access programs to assist with every stage of your career.\\nBenefits\\nStoneSprings Hospital Center, offers a total rewards package that supports the health, life, career and retirement of our colleagues. The available plans and programs include:\\nComprehensive medical coverage that covers many common services at no cost or for a low copay. Plans include prescription drug and behavioral health coverage as well as free telemedicine services and free AirMed medical transportation.\\nAdditional options for dental and vision benefits, life and disability coverage, flexible spending accounts, supplemental health protection plans (accident, critical illness, hospital indemnity), auto and home insurance, identity theft protection, legal counseling, long-term care coverage, moving assistance, pet insurance and more.\\nFree counseling services and resources for emotional, physical and financial wellbeing\\n401(k) Plan with a 100% match on 3% to 9% of pay (based on years of service)\\nEmployee Stock Purchase Plan with 10% off HCA Healthcare stock\\nFamily support through fertility and family building benefits with Progyny and adoption assistance.\\nReferral services for child, elder and pet care, home and auto repair, event planning and more\\nConsumer discounts through Abenity and Consumer Discounts\\nRetirement readiness, rollover assistance services and preferred banking partnerships\\nEducation assistance (tuition, student loan, certification support, dependent scholarships)\\nColleague recognition program\\nTime Away From Work Program (paid time off, paid family leave, long- and short-term disability coverage and leaves of absence)\\nEmployee Health Assistance Fund that offers free employee-only coverage to full-time and part-time colleagues based on income.\\nLearn More About Employee Benefits\\nNote: Eligibility for benefits may vary by location.\\nAre you a continuous learner? With more than 94,000 nurses throughout HCA Healthcare, we are one of the largest employers of nurses in the United States. Education is key to excellence! As a majority owner of Galen College of Nursing, which joins Research College of Nursing and Mercy School of Nursing as educational facilities within the HCA Healthcare family, we make it easier and more affordable to gain certifications and job skills. Apply today for our Registered Nurse Cath Lab opening and continue to learn!\\nAs a Registered Nurse (RN) in the Cardiac Catheterization Lab, we see about Cath lab and Intentional Radiology patients. We provide the highest level of care from the onset of symptoms through diagnosis and treatment. Our team provides care for patients providing information, assisting with complications, administering medication, guidance and hands-on care.\\nAs a member of our team your will be responsible for assessing, planning, implementing, evaluating and documenting all aspects of patient care.\\nYou will work closely with all health care providers to facilitate and coordinate efficient, effective, quality health care including patient discharge.\\nOur team interprets patient information and makes decisions about necessary actions.\\nAs a member of our team, you will coordinate a patient’s discharge planning needs with members of the healthcare team.\\nAdvanced Cardiac Life Spt must be obtained within 90 days of employment start date\\nBasic Cardiac Life Support must be obtained within 30 days of employment start date\\nRegistered Nurse\\nRegistered Nurse Diploma\\nStoneSprings Hospital Center\\nhas provided quality healthcare services since 2015. We give patient\\'s access to trained physicians and advanced technology. Our\\n120+ bed hospital\\nis one of the region\\'s leading acute care facilities in Loudoun County. Our medical services includes a full-service 24/7 Emergency Department, orthopedics, advanced heart and vascular care, extensive diagnostic imaging and interventional radiology capabilities, minimally invasive robotic surgery and maternal/child health.\\nAt StoneSprings Hospital Center, our care like family culture extends to our patients, our people and our community. We are committed to each other because when we join together, our patients are cared for in the safest and most compassionate way.\\nHCA Healthcare has been recognized as one of the World’s Most Ethical Companies® by the Ethisphere Institute more than ten times. In recent years, HCA Healthcare spent an estimated $3.7 billion in cost for the delivery of charitable care, uninsured discounts, and other uncompensated expenses.\\n\"Good people beget good people.\"- Dr. Thomas Frist, Sr.\\nHCA Healthcare Co-Founder\\nIf growth and continued learning is important to you, we encourage you to apply for our Registered Nurse Cath Lab opening. Our team will promptly review your application. Highly qualified candidates will be contacted for interviews.\\nUnlock the possibilities apply today!\\nWe are an equal opportunity employer and value diversity at our company. We do not discriminate on the basis of race, religion, color, national origin, gender, sexual orientation, age, marital status, veteran status, or disability status.\\nShow more\\nShow less'"
            ],
            "application/vnd.google.colaboratory.intrinsic+json": {
              "type": "string"
            }
          },
          "metadata": {},
          "execution_count": 15
        }
      ],
      "source": [
        "df_0['job_summary'][2]"
      ]
    },
    {
      "cell_type": "markdown",
      "metadata": {
        "id": "hcKVFRUogUo5"
      },
      "source": [
        "Spark"
      ]
    },
    {
      "cell_type": "code",
      "execution_count": 17,
      "metadata": {
        "id": "LnW9eu9yboFk"
      },
      "outputs": [],
      "source": [
        "schema = StructType([\n",
        "    StructField(\"job_link\", StringType(), True),\n",
        "    StructField(\"job_summary\", StringType(), True)\n",
        "])"
      ]
    },
    {
      "cell_type": "code",
      "execution_count": 18,
      "metadata": {
        "colab": {
          "base_uri": "https://localhost:8080/"
        },
        "id": "XiQeoI4RZLSs",
        "outputId": "e96585f7-1f85-4ced-d9aa-e35be6ed71ba"
      },
      "outputs": [
        {
          "output_type": "stream",
          "name": "stdout",
          "text": [
            "+--------------------+--------------------+\n",
            "|            job_link|         job_summary|\n",
            "+--------------------+--------------------+\n",
            "|https://www.linke...|Rock N Roll Sushi...|\n",
            "|https://www.linke...|Schedule\\n: PRN i...|\n",
            "|https://www.linke...|\"Description\\nInt...|\n",
            "|HCA Healthcare Co...|                NULL|\n",
            "|If growth and con...| we encourage you...|\n",
            "|Unlock the possib...|                NULL|\n",
            "|We are an equal o...|            religion|\n",
            "|           Show more|                NULL|\n",
            "|          Show less\"|                NULL|\n",
            "|https://uk.linked...|Commercial accoun...|\n",
            "|https://www.linke...|Address:\\nUSA-CT-...|\n",
            "|https://www.linke...|Description\\nOur\\...|\n",
            "|https://www.linke...|Company Descripti...|\n",
            "|https://uk.linked...|An exciting oppor...|\n",
            "|https://www.linke...|Job Details:\\nJob...|\n",
            "|https://www.linke...|Our\\nRestaurant T...|\n",
            "|https://www.linke...|Our General Manag...|\n",
            "|https://www.linke...|Earning potential...|\n",
            "|https://www.linke...|Dollar General Co...|\n",
            "|https://au.linked...|Restaurant Descri...|\n",
            "+--------------------+--------------------+\n",
            "only showing top 20 rows\n",
            "\n",
            "root\n",
            " |-- job_link: string (nullable = true)\n",
            " |-- job_summary: string (nullable = true)\n",
            "\n"
          ]
        }
      ],
      "source": [
        "spark_df = spark.read.csv(\n",
        "    '/content/job_summary.csv',\n",
        "    header=True,\n",
        "    schema=schema,\n",
        "    sep=',',       # Specify the delimiter\n",
        "    quote='\"',     # Handle quotes properly\n",
        "    escape='\\\\',   # Handle escape characters\n",
        "    multiLine=True # Handle multiline fields\n",
        ")\n",
        "\n",
        "spark_df.show()\n",
        "spark_df.printSchema()"
      ]
    },
    {
      "cell_type": "code",
      "execution_count": 19,
      "metadata": {
        "id": "jxvBd1A-Dt9I"
      },
      "outputs": [],
      "source": [
        "spark_df = spark_df.dropna(subset=['job_summary'])"
      ]
    },
    {
      "cell_type": "code",
      "execution_count": 20,
      "metadata": {
        "id": "Lfb7K5fCsdS3"
      },
      "outputs": [],
      "source": [
        "spark_df = spark_df.withColumn('job_summary', regexp_replace(col('job_summary'), '\\n', ' '))"
      ]
    },
    {
      "cell_type": "code",
      "execution_count": 21,
      "metadata": {
        "id": "KI-CWbRBVMfp"
      },
      "outputs": [],
      "source": [
        "spark_df = spark_df.withColumn('job_words', split(col('job_summary'), ' '))"
      ]
    },
    {
      "cell_type": "code",
      "execution_count": 22,
      "metadata": {
        "id": "7X8NZ_yzVqFW"
      },
      "outputs": [],
      "source": [
        "spark_df = spark_df.filter(size(col('job_words')) > 4)"
      ]
    },
    {
      "cell_type": "code",
      "execution_count": 23,
      "metadata": {
        "id": "8MbV-I6nTJrZ"
      },
      "outputs": [],
      "source": [
        "spark_df = spark_df.select('job_words').withColumn('doc_id', monotonically_increasing_id())"
      ]
    },
    {
      "cell_type": "code",
      "execution_count": 24,
      "metadata": {
        "colab": {
          "base_uri": "https://localhost:8080/"
        },
        "id": "LJ-orygPGehM",
        "outputId": "9a4bb8c9-9b87-4686-cca9-4c3b563441d0"
      },
      "outputs": [
        {
          "output_type": "stream",
          "name": "stdout",
          "text": [
            "+--------------------+------+\n",
            "|           job_words|doc_id|\n",
            "+--------------------+------+\n",
            "|[Rock, N, Roll, S...|     0|\n",
            "|[Schedule, :, PRN...|     1|\n",
            "|[\"Description, In...|     2|\n",
            "|[, we, encourage,...|     3|\n",
            "|[Commercial, acco...|     4|\n",
            "|[Address:, USA-CT...|     5|\n",
            "|[Description, Our...|     6|\n",
            "|[Company, Descrip...|     7|\n",
            "|[An, exciting, op...|     8|\n",
            "|[Job, Details:, J...|     9|\n",
            "|[Our, Restaurant,...|    10|\n",
            "|[Our, General, Ma...|    11|\n",
            "|[Earning, potenti...|    12|\n",
            "|[Dollar, General,...|    13|\n",
            "|[Restaurant, Desc...|    14|\n",
            "|[Who, We, Are, We...|    15|\n",
            "|[A, Place, Where,...|    16|\n",
            "|[Description, The...|    17|\n",
            "|[\"Overview, Descr...|    18|\n",
            "|[, seat, them, at...|    19|\n",
            "+--------------------+------+\n",
            "only showing top 20 rows\n",
            "\n"
          ]
        }
      ],
      "source": [
        "spark_df.show()"
      ]
    },
    {
      "cell_type": "code",
      "execution_count": 25,
      "metadata": {
        "id": "SQMVPstdKvOH"
      },
      "outputs": [],
      "source": [
        "df_scaled = spark_df.sample(withReplacement=True, fraction=0.00005, seed=42)"
      ]
    },
    {
      "cell_type": "code",
      "execution_count": 26,
      "metadata": {
        "id": "Sx-fS2_q4put"
      },
      "outputs": [],
      "source": [
        "df_scaled = df_scaled.withColumn('job_words', concat_ws(' ', col('job_words')))"
      ]
    },
    {
      "cell_type": "markdown",
      "metadata": {
        "id": "9KXcnOmb99XU"
      },
      "source": [
        "## Preprocessing"
      ]
    },
    {
      "cell_type": "code",
      "execution_count": 27,
      "metadata": {
        "colab": {
          "base_uri": "https://localhost:8080/"
        },
        "id": "2GUReuVb9-zT",
        "outputId": "7703d6ac-1b5f-40a2-f093-c6f9deffda84"
      },
      "outputs": [
        {
          "output_type": "stream",
          "name": "stderr",
          "text": [
            "[nltk_data] Downloading package stopwords to /root/nltk_data...\n",
            "[nltk_data]   Unzipping corpora/stopwords.zip.\n",
            "[nltk_data] Downloading package punkt to /root/nltk_data...\n",
            "[nltk_data]   Unzipping tokenizers/punkt.zip.\n"
          ]
        }
      ],
      "source": [
        "nltk.download('stopwords')\n",
        "nltk.download('punkt')\n",
        "stopwords = set(nltk.corpus.stopwords.words('english'))"
      ]
    },
    {
      "cell_type": "code",
      "execution_count": 28,
      "metadata": {
        "id": "yvUMW6t3yF7t"
      },
      "outputs": [],
      "source": [
        "def preprocess_text(text):\n",
        "    text = text.lower()\n",
        "    text = re.sub(r'\\s+', ' ', text)  # Remove extra whitespace\n",
        "    text = re.sub(r'[^\\w\\s]', '', text)  # Remove punctuation\n",
        "    tokens = nltk.word_tokenize(text)\n",
        "    tokens = [word for word in tokens if word not in stopwords]  # Remove stopwords\n",
        "    return ' '.join(tokens)"
      ]
    },
    {
      "cell_type": "code",
      "execution_count": 29,
      "metadata": {
        "id": "ZhAAxaGSR9T_"
      },
      "outputs": [],
      "source": [
        "df_udf = udf(preprocess_text, StringType())"
      ]
    },
    {
      "cell_type": "code",
      "execution_count": 30,
      "metadata": {
        "id": "-rTkieEf3Me4"
      },
      "outputs": [],
      "source": [
        "rdd = df_scaled.select('doc_id', 'job_words').rdd.map(lambda row: (row['doc_id'], preprocess_text(row['job_words'])))"
      ]
    },
    {
      "cell_type": "code",
      "execution_count": 31,
      "metadata": {
        "colab": {
          "base_uri": "https://localhost:8080/"
        },
        "id": "BmGP1aP71AkS",
        "outputId": "d0c03067-d9c1-458d-93ef-794c174ba94d"
      },
      "outputs": [
        {
          "output_type": "stream",
          "name": "stdout",
          "text": [
            "+------+--------------------+\n",
            "|    _1|                  _2|\n",
            "+------+--------------------+\n",
            "| 13395|grass greener sec...|\n",
            "| 34993|client childrens ...|\n",
            "| 47677|possess valid cla...|\n",
            "| 64146|demonstrates inte...|\n",
            "| 69905|new adventure awa...|\n",
            "|104317|details signon bo...|\n",
            "|143336|parttime intermit...|\n",
            "|152380|conference center...|\n",
            "|188603|scheduled nclex w...|\n",
            "|218886|northern tier hig...|\n",
            "|242951|experience corps ...|\n",
            "|252827|role sr serviceno...|\n",
            "|273921|us join us winco ...|\n",
            "|278072|win sport school ...|\n",
            "|304884|job details job l...|\n",
            "|328483|department econom...|\n",
            "|451330|zoom take great c...|\n",
            "|455372|immediate start e...|\n",
            "|459748|northrop grumman ...|\n",
            "|459967|position interest...|\n",
            "+------+--------------------+\n",
            "only showing top 20 rows\n",
            "\n"
          ]
        }
      ],
      "source": [
        "rdd.toDF().show()"
      ]
    },
    {
      "cell_type": "markdown",
      "metadata": {
        "id": "uvKyO6IMqLf9"
      },
      "source": [
        "### Shingles"
      ]
    },
    {
      "cell_type": "code",
      "execution_count": 32,
      "metadata": {
        "id": "cePlX4IqH_bY"
      },
      "outputs": [],
      "source": [
        "import binascii"
      ]
    },
    {
      "cell_type": "code",
      "execution_count": 33,
      "metadata": {
        "id": "A7UmQnbeRQBm"
      },
      "outputs": [],
      "source": [
        "k = 7"
      ]
    },
    {
      "cell_type": "code",
      "execution_count": 34,
      "metadata": {
        "id": "svTA8WKw8qbg"
      },
      "outputs": [],
      "source": [
        "shingles_rdd = rdd.flatMap(lambda doc: [(doc[0], doc[1][i:i+k]) for i in range(len(doc[1]) - k + 1)])"
      ]
    },
    {
      "cell_type": "code",
      "execution_count": 35,
      "metadata": {
        "colab": {
          "base_uri": "https://localhost:8080/"
        },
        "collapsed": true,
        "id": "6tDAxu5Z4NwU",
        "outputId": "5048e176-ba92-4c4c-bd2e-bb690a779e9d"
      },
      "outputs": [
        {
          "output_type": "execute_result",
          "data": {
            "text/plain": [
              "[(13395, 'grass g'),\n",
              " (13395, 'rass gr'),\n",
              " (13395, 'ass gre'),\n",
              " (13395, 'ss gree'),\n",
              " (13395, 's green'),\n",
              " (13395, ' greene'),\n",
              " (13395, 'greener')]"
            ]
          },
          "metadata": {},
          "execution_count": 35
        }
      ],
      "source": [
        "shingles_rdd.take(7)"
      ]
    },
    {
      "cell_type": "code",
      "source": [
        "shingles_list = (rdd\n",
        "                 .groupByKey()\n",
        "                 .map(lambda x: (x[0], list(x[1]))))"
      ],
      "metadata": {
        "id": "7tdlA5tBPbQD"
      },
      "execution_count": 36,
      "outputs": []
    },
    {
      "cell_type": "code",
      "source": [
        "shingles_list.toDF().show()"
      ],
      "metadata": {
        "colab": {
          "base_uri": "https://localhost:8080/"
        },
        "id": "ZpD_HHsAP-Sh",
        "outputId": "3dabaf2a-0ed0-4bd5-ee23-ac3a410f8219"
      },
      "execution_count": 37,
      "outputs": [
        {
          "output_type": "stream",
          "name": "stdout",
          "text": [
            "+------+--------------------+\n",
            "|    _1|                  _2|\n",
            "+------+--------------------+\n",
            "| 13395|[grass greener se...|\n",
            "| 34993|[client childrens...|\n",
            "| 47677|[possess valid cl...|\n",
            "| 64146|[demonstrates int...|\n",
            "| 69905|[new adventure aw...|\n",
            "|104317|[details signon b...|\n",
            "|143336|[parttime intermi...|\n",
            "|152380|[conference cente...|\n",
            "|188603|[scheduled nclex ...|\n",
            "|218886|[northern tier hi...|\n",
            "|242951|[experience corps...|\n",
            "|252827|[role sr servicen...|\n",
            "|273921|[us join us winco...|\n",
            "|278072|[win sport school...|\n",
            "|304884|[job details job ...|\n",
            "|328483|[department econo...|\n",
            "|451330|[zoom take great ...|\n",
            "|455372|[immediate start ...|\n",
            "|459748|[northrop grumman...|\n",
            "|459967|[position interes...|\n",
            "+------+--------------------+\n",
            "only showing top 20 rows\n",
            "\n"
          ]
        }
      ]
    },
    {
      "cell_type": "markdown",
      "metadata": {
        "id": "ArUDoulEzcKv"
      },
      "source": [
        "Characteristic matrix"
      ]
    },
    {
      "cell_type": "code",
      "execution_count": 38,
      "metadata": {
        "id": "lvnTGerHIK36"
      },
      "outputs": [],
      "source": [
        "def hash_shingle(shingle):\n",
        "  return binascii.crc32(shingle.encode('utf-8')) & 0xffffffff"
      ]
    },
    {
      "cell_type": "code",
      "source": [
        "hash_rdd = shingles_rdd.mapValues(hash_shingle).distinct()"
      ],
      "metadata": {
        "id": "odgpuusm73_h"
      },
      "execution_count": 39,
      "outputs": []
    },
    {
      "cell_type": "code",
      "source": [
        "hash_rdd.take(7)"
      ],
      "metadata": {
        "colab": {
          "base_uri": "https://localhost:8080/"
        },
        "id": "fSCC-jd68AyV",
        "outputId": "e4bc1977-1809-4a88-b2aa-f7262c5746e1"
      },
      "execution_count": 40,
      "outputs": [
        {
          "output_type": "execute_result",
          "data": {
            "text/plain": [
              "[(13395, 1487558144),\n",
              " (13395, 1311898750),\n",
              " (13395, 1309835623),\n",
              " (13395, 3628940306),\n",
              " (13395, 1375209922),\n",
              " (13395, 1081128875),\n",
              " (13395, 745903883)]"
            ]
          },
          "metadata": {},
          "execution_count": 40
        }
      ]
    },
    {
      "cell_type": "code",
      "source": [
        "df = hash_rdd.toDF([\"doc_id\", \"hashed_shingle\"]) \\\n",
        "    .groupBy(\"doc_id\") \\\n",
        "    .agg(collect_list(\"hashed_shingle\").alias(\"hashed_shingles\"))"
      ],
      "metadata": {
        "id": "hJcxmjRomPEE"
      },
      "execution_count": 41,
      "outputs": []
    },
    {
      "cell_type": "code",
      "source": [
        "df.show()"
      ],
      "metadata": {
        "colab": {
          "base_uri": "https://localhost:8080/"
        },
        "id": "UCYKJbqvmRES",
        "outputId": "d3ae678e-c1ef-469e-e293-24a6eda16b6c"
      },
      "execution_count": 42,
      "outputs": [
        {
          "output_type": "stream",
          "name": "stdout",
          "text": [
            "+-------+--------------------+\n",
            "| doc_id|     hashed_shingles|\n",
            "+-------+--------------------+\n",
            "| 608814|[223365557, 29428...|\n",
            "| 304884|[150254450, 40235...|\n",
            "|1663266|[1282415320, 2631...|\n",
            "|1618038|[1809481451, 9370...|\n",
            "|1152253|[1054767446, 5483...|\n",
            "|  64146|[2843215090, 2482...|\n",
            "| 773878|[4093678808, 3639...|\n",
            "| 218886|[944620615, 29134...|\n",
            "|  69905|[83770995, 469571...|\n",
            "| 909604|[19356233, 303282...|\n",
            "| 872160|[3793157859, 2783...|\n",
            "| 684947|[2956170883, 3798...|\n",
            "|1460189|[3459875643, 2048...|\n",
            "|1388218|[2936512205, 2973...|\n",
            "| 898066|[1944298662, 1054...|\n",
            "| 273921|[1718515538, 1888...|\n",
            "|  47677|[3428590799, 3060...|\n",
            "| 525916|[1060420630, 2895...|\n",
            "|1450243|[2818205730, 5881...|\n",
            "|1621468|[2650994303, 3919...|\n",
            "+-------+--------------------+\n",
            "only showing top 20 rows\n",
            "\n"
          ]
        }
      ]
    },
    {
      "cell_type": "code",
      "source": [
        "def collect_shingles(a, b):\n",
        "    return a + b"
      ],
      "metadata": {
        "id": "rCs7BkQHo3pk"
      },
      "execution_count": 43,
      "outputs": []
    },
    {
      "cell_type": "code",
      "source": [
        "hashed_shingles_rdd = hash_rdd.map(lambda x: (x[0], [x[1]])).reduceByKey(collect_shingles)"
      ],
      "metadata": {
        "id": "9-a8b564ohJT"
      },
      "execution_count": 44,
      "outputs": []
    },
    {
      "cell_type": "code",
      "source": [
        "hashed_shingles_rdd.take(7)"
      ],
      "metadata": {
        "collapsed": true,
        "id": "RCfPTaN3o-Ep"
      },
      "execution_count": null,
      "outputs": []
    },
    {
      "cell_type": "code",
      "source": [
        "hashed_shingles_list = hashed_shingles_rdd.flatMap(lambda x: x[1]).collect()"
      ],
      "metadata": {
        "id": "UACwaMLIrLc9"
      },
      "execution_count": 46,
      "outputs": []
    },
    {
      "cell_type": "markdown",
      "metadata": {
        "id": "aiJPcd7BxnS-"
      },
      "source": [
        "### MinHash\n",
        "\n",
        "\n",
        "---\n",
        "Fast approximation to the Jaccard Similarity Coefficient between any two finite sets\n",
        "\n",
        "\n"
      ]
    },
    {
      "cell_type": "code",
      "execution_count": 65,
      "metadata": {
        "id": "vb56l_PsYxiF"
      },
      "outputs": [],
      "source": [
        "h_functions = 100\n",
        "b_bands = 10"
      ]
    },
    {
      "cell_type": "code",
      "execution_count": 48,
      "metadata": {
        "id": "jUanRJ0Xc1m-"
      },
      "outputs": [],
      "source": [
        "def multiple(x, a, b, c):\n",
        "    return (a * x + b) % c"
      ]
    },
    {
      "cell_type": "code",
      "execution_count": 66,
      "metadata": {
        "colab": {
          "base_uri": "https://localhost:8080/"
        },
        "id": "O3GW6a5PgAU7",
        "outputId": "9c376db5-6842-495d-90b5-dac635416e53"
      },
      "outputs": [
        {
          "output_type": "execute_result",
          "data": {
            "text/plain": [
              "[{'a': 1629, 'b': 6850, 'c': 6857},\n",
              " {'a': 463, 'b': 973, 'c': 977},\n",
              " {'a': 9714, 'b': 1647, 'c': 9719},\n",
              " {'a': 5532, 'b': 6526, 'c': 6529},\n",
              " {'a': 5065, 'b': 8326, 'c': 8329},\n",
              " {'a': 2597, 'b': 3460, 'c': 3463},\n",
              " {'a': 7110, 'b': 3968, 'c': 7121}]"
            ]
          },
          "metadata": {},
          "execution_count": 66
        }
      ],
      "source": [
        "params =[]\n",
        "\n",
        "for _ in range(h_functions):\n",
        "  a = random.randint(1, 10000)\n",
        "  b = random.randint(1, 10000)\n",
        "  max_ab = max(a, b)\n",
        "  c = nextprime(max_ab + 1)\n",
        "  params.append({\"a\": a, \"b\": b, \"c\": c})\n",
        "\n",
        "params[:7]"
      ]
    },
    {
      "cell_type": "code",
      "source": [
        "def enum_shingles(e, hashed_shingles_list):\n",
        "    doc_id, shingle = e\n",
        "    return [((doc_id), (h), (hashed_shingles_list)) for h in range(h_functions)]"
      ],
      "metadata": {
        "id": "MR6CWvI9oBm9"
      },
      "execution_count": 67,
      "outputs": []
    },
    {
      "cell_type": "code",
      "source": [
        "minhash_matrix = hash_rdd.flatMap(lambda e: enum_shingles(e, hashed_shingles_list))"
      ],
      "metadata": {
        "id": "hkC5sMnWn7rd"
      },
      "execution_count": 68,
      "outputs": []
    },
    {
      "cell_type": "code",
      "source": [
        "minhash_matrix.toDF().show()"
      ],
      "metadata": {
        "colab": {
          "base_uri": "https://localhost:8080/"
        },
        "id": "7XwQfotins3t",
        "outputId": "60a209d4-b656-4460-c347-3b2cace0a450"
      },
      "execution_count": 69,
      "outputs": [
        {
          "output_type": "stream",
          "name": "stdout",
          "text": [
            "+-----+---+--------------------+\n",
            "|   _1| _2|                  _3|\n",
            "+-----+---+--------------------+\n",
            "|13395|  0|[1487558144, 1311...|\n",
            "|13395|  1|[1487558144, 1311...|\n",
            "|13395|  2|[1487558144, 1311...|\n",
            "|13395|  3|[1487558144, 1311...|\n",
            "|13395|  4|[1487558144, 1311...|\n",
            "|13395|  5|[1487558144, 1311...|\n",
            "|13395|  6|[1487558144, 1311...|\n",
            "|13395|  7|[1487558144, 1311...|\n",
            "|13395|  8|[1487558144, 1311...|\n",
            "|13395|  9|[1487558144, 1311...|\n",
            "|13395| 10|[1487558144, 1311...|\n",
            "|13395| 11|[1487558144, 1311...|\n",
            "|13395| 12|[1487558144, 1311...|\n",
            "|13395| 13|[1487558144, 1311...|\n",
            "|13395| 14|[1487558144, 1311...|\n",
            "|13395| 15|[1487558144, 1311...|\n",
            "|13395| 16|[1487558144, 1311...|\n",
            "|13395| 17|[1487558144, 1311...|\n",
            "|13395| 18|[1487558144, 1311...|\n",
            "|13395| 19|[1487558144, 1311...|\n",
            "+-----+---+--------------------+\n",
            "only showing top 20 rows\n",
            "\n"
          ]
        }
      ]
    },
    {
      "cell_type": "code",
      "source": [
        "def minhash_map(docId_hashedShingles):\n",
        "    doc_id, hashed_shingles = docId_hashedShingles\n",
        "    minhashes = []\n",
        "    for h in range(h_functions):\n",
        "        min_h = math.inf\n",
        "        for shingle in hashed_shingles:\n",
        "            hash_value = multiple(shingle, **params[h])\n",
        "            if hash_value < min_h:\n",
        "                min_h = hash_value\n",
        "        minhashes.append(min_h)\n",
        "    return (doc_id, minhashes)"
      ],
      "metadata": {
        "id": "n40hisSLusL3"
      },
      "execution_count": 70,
      "outputs": []
    },
    {
      "cell_type": "code",
      "source": [
        "sig_matrix_rdd = hashed_shingles_rdd.map(minhash_map)"
      ],
      "metadata": {
        "id": "R0SiK_V0utUB"
      },
      "execution_count": 71,
      "outputs": []
    },
    {
      "cell_type": "code",
      "source": [
        "signature_df = sig_matrix_rdd.toDF([\"doc_id\", \"minhashes\"])"
      ],
      "metadata": {
        "id": "dSP3Sg5iuyVZ"
      },
      "execution_count": 72,
      "outputs": []
    },
    {
      "cell_type": "code",
      "source": [
        "signature_df.show()"
      ],
      "metadata": {
        "colab": {
          "base_uri": "https://localhost:8080/"
        },
        "id": "QXHn9xpmvF8Y",
        "outputId": "d07a5d25-7505-411c-d44e-4b4d47a382e9"
      },
      "execution_count": 73,
      "outputs": [
        {
          "output_type": "stream",
          "name": "stdout",
          "text": [
            "+------+--------------------+\n",
            "|doc_id|           minhashes|\n",
            "+------+--------------------+\n",
            "| 13395|[1, 0, 1, 1, 0, 3...|\n",
            "| 34993|[0, 0, 1, 0, 1, 3...|\n",
            "| 47677|[38, 1, 7, 23, 5,...|\n",
            "| 64146|[71, 15, 108, 3, ...|\n",
            "| 69905|[0, 0, 1, 0, 0, 7...|\n",
            "|104317|[1, 0, 1, 6, 4, 0...|\n",
            "|143336|[47, 26, 455, 81,...|\n",
            "|152380|[272, 111, 199, 3...|\n",
            "|188603|[332, 43, 428, 18...|\n",
            "|218886|[2, 0, 2, 2, 4, 1...|\n",
            "|242951|[3, 0, 12, 3, 3, ...|\n",
            "|252827|[3, 0, 14, 1, 8, ...|\n",
            "|273921|[0, 0, 2, 0, 3, 0...|\n",
            "|278072|[9, 1, 16, 1, 1, ...|\n",
            "|304884|[3, 0, 0, 0, 4, 0...|\n",
            "|328483|[1, 0, 3, 0, 2, 1...|\n",
            "|451330|[0, 0, 2, 2, 5, 0...|\n",
            "|455372|[0, 2, 13, 0, 4, ...|\n",
            "|459748|[4, 2, 3, 2, 4, 0...|\n",
            "|459967|[5, 0, 1, 2, 0, 0...|\n",
            "+------+--------------------+\n",
            "only showing top 20 rows\n",
            "\n"
          ]
        }
      ]
    },
    {
      "cell_type": "markdown",
      "metadata": {
        "id": "pWm4fiLnp1Id"
      },
      "source": [
        "### Locality-Sensitive Hashing"
      ]
    },
    {
      "cell_type": "markdown",
      "metadata": {
        "id": "ENN-QqCSn61_"
      },
      "source": [
        "Define the threshold"
      ]
    },
    {
      "cell_type": "code",
      "execution_count": 74,
      "metadata": {
        "id": "x-QyErWnRVSq"
      },
      "outputs": [],
      "source": [
        "# having h_functions = 100 and b_bands = 10\n",
        "n_per_bands = h_functions // b_bands\n",
        "threshold = (1/b_bands) ** (1/n_per_bands)"
      ]
    },
    {
      "cell_type": "code",
      "execution_count": 75,
      "metadata": {
        "colab": {
          "base_uri": "https://localhost:8080/"
        },
        "id": "DpSWyycesvhN",
        "outputId": "339e3589-4913-4f51-9328-b18a9e5b6b68"
      },
      "outputs": [
        {
          "output_type": "stream",
          "name": "stdout",
          "text": [
            "Threshold for candidate pairs:  0.7943282347242815\n"
          ]
        }
      ],
      "source": [
        "print(\"Threshold for candidate pairs: \", threshold)"
      ]
    },
    {
      "cell_type": "markdown",
      "source": [
        "Using the MinHashLSH provided by Pyspark"
      ],
      "metadata": {
        "id": "erjK23cWbW0_"
      }
    },
    {
      "cell_type": "code",
      "source": [
        "array_to_vector_udf = udf(lambda x: DenseVector(x), VectorUDT())\n",
        "signature_df = signature_df.withColumn(\"minhash_vector\", array_to_vector_udf(col(\"minhashes\"))) # converted with dense vector"
      ],
      "metadata": {
        "id": "w4wIQpg4vgUD"
      },
      "execution_count": 76,
      "outputs": []
    },
    {
      "cell_type": "code",
      "source": [
        "signature_df = signature_df.drop(\"minhashes\")"
      ],
      "metadata": {
        "id": "9lC89QrCwk3l"
      },
      "execution_count": 77,
      "outputs": []
    },
    {
      "cell_type": "code",
      "source": [
        "mh = MinHashLSH(inputCol=\"minhash_vector\", outputCol=\"hashes\", numHashTables=b_bands*n_per_bands, seed=56)"
      ],
      "metadata": {
        "id": "fKNATTBWv1Bz"
      },
      "execution_count": 78,
      "outputs": []
    },
    {
      "cell_type": "code",
      "source": [
        "model = mh.fit(signature_df)"
      ],
      "metadata": {
        "id": "8tFKABjijpBk"
      },
      "execution_count": 79,
      "outputs": []
    },
    {
      "cell_type": "code",
      "source": [
        "lsh_df = model.transform(signature_df)"
      ],
      "metadata": {
        "id": "hteHWzFLxdMW"
      },
      "execution_count": 80,
      "outputs": []
    },
    {
      "cell_type": "markdown",
      "metadata": {
        "id": "Z5BIkIysMGlP"
      },
      "source": [
        "## Finding similar jobs"
      ]
    },
    {
      "cell_type": "code",
      "source": [
        "def find_similar_jobs(lsh_df, model, threshold):\n",
        "    # Perform self-join to find all pairs\n",
        "    similar_items = model.approxSimilarityJoin(lsh_df, lsh_df, threshold, distCol=\"JaccardDistance\")\n",
        "\n",
        "    # Filter out pairs with the same doc_id and JaccardDistance above the threshold\n",
        "    similar_pairs = (similar_items\n",
        "                     .select(\n",
        "                         col(\"datasetA.doc_id\").alias(\"doc_id_A\"),\n",
        "                         col(\"datasetB.doc_id\").alias(\"doc_id_B\"),\n",
        "                         col(\"JaccardDistance\"))\n",
        "                     .filter(col(\"doc_id_A\") < col(\"doc_id_B\"))\n",
        "                     .filter(col(\"JaccardDistance\") <= threshold)\n",
        "                     .rdd\n",
        "                     .map(lambda row: (row[\"doc_id_A\"], row[\"doc_id_B\"], row[\"JaccardDistance\"]))\n",
        "                     .collect())\n",
        "\n",
        "    return similar_pairs"
      ],
      "metadata": {
        "id": "Hfy_bTRYyhEd"
      },
      "execution_count": 81,
      "outputs": []
    },
    {
      "cell_type": "code",
      "source": [
        "similar_pairs = find_similar_jobs(lsh_df, model, threshold)"
      ],
      "metadata": {
        "id": "kbLUgUgEy4B6"
      },
      "execution_count": 82,
      "outputs": []
    },
    {
      "cell_type": "code",
      "execution_count": null,
      "metadata": {
        "id": "631sYFaegg3S",
        "collapsed": true
      },
      "outputs": [],
      "source": [
        "similar_pairs"
      ]
    },
    {
      "cell_type": "markdown",
      "metadata": {
        "id": "u_INUr8HhOgU"
      },
      "source": [
        "### Some results"
      ]
    },
    {
      "cell_type": "code",
      "source": [
        "similar_df = pd.DataFrame(similar_pairs, columns=['doc_id1', 'doc_id2', 'jaccard_distance'])"
      ],
      "metadata": {
        "id": "3yRBc_C40WOw"
      },
      "execution_count": 83,
      "outputs": []
    },
    {
      "cell_type": "code",
      "source": [
        "similar_df"
      ],
      "metadata": {
        "colab": {
          "base_uri": "https://localhost:8080/",
          "height": 424
        },
        "id": "MNDDJaZD1R-v",
        "outputId": "83fadd8e-1d79-46a7-d909-6e4e1486dfe4"
      },
      "execution_count": 84,
      "outputs": [
        {
          "output_type": "execute_result",
          "data": {
            "text/plain": [
              "      doc_id1  doc_id2  jaccard_distance\n",
              "0       47677   278072          0.153061\n",
              "1       47677   950765          0.212121\n",
              "2      188603  1152253          0.370000\n",
              "3      273921  1371266          0.580247\n",
              "4      451330   584862          0.191919\n",
              "...       ...      ...               ...\n",
              "2770  1038199  1572773          0.380952\n",
              "2771  1129756  1750168          0.306122\n",
              "2772   464892  1651499          0.651685\n",
              "2773   912495  1331267          0.525253\n",
              "2774   459967  1663266          0.534247\n",
              "\n",
              "[2775 rows x 3 columns]"
            ],
            "text/html": [
              "\n",
              "  <div id=\"df-c63c04d0-0a73-42e6-bd6e-2204d2c39903\" class=\"colab-df-container\">\n",
              "    <div>\n",
              "<style scoped>\n",
              "    .dataframe tbody tr th:only-of-type {\n",
              "        vertical-align: middle;\n",
              "    }\n",
              "\n",
              "    .dataframe tbody tr th {\n",
              "        vertical-align: top;\n",
              "    }\n",
              "\n",
              "    .dataframe thead th {\n",
              "        text-align: right;\n",
              "    }\n",
              "</style>\n",
              "<table border=\"1\" class=\"dataframe\">\n",
              "  <thead>\n",
              "    <tr style=\"text-align: right;\">\n",
              "      <th></th>\n",
              "      <th>doc_id1</th>\n",
              "      <th>doc_id2</th>\n",
              "      <th>jaccard_distance</th>\n",
              "    </tr>\n",
              "  </thead>\n",
              "  <tbody>\n",
              "    <tr>\n",
              "      <th>0</th>\n",
              "      <td>47677</td>\n",
              "      <td>278072</td>\n",
              "      <td>0.153061</td>\n",
              "    </tr>\n",
              "    <tr>\n",
              "      <th>1</th>\n",
              "      <td>47677</td>\n",
              "      <td>950765</td>\n",
              "      <td>0.212121</td>\n",
              "    </tr>\n",
              "    <tr>\n",
              "      <th>2</th>\n",
              "      <td>188603</td>\n",
              "      <td>1152253</td>\n",
              "      <td>0.370000</td>\n",
              "    </tr>\n",
              "    <tr>\n",
              "      <th>3</th>\n",
              "      <td>273921</td>\n",
              "      <td>1371266</td>\n",
              "      <td>0.580247</td>\n",
              "    </tr>\n",
              "    <tr>\n",
              "      <th>4</th>\n",
              "      <td>451330</td>\n",
              "      <td>584862</td>\n",
              "      <td>0.191919</td>\n",
              "    </tr>\n",
              "    <tr>\n",
              "      <th>...</th>\n",
              "      <td>...</td>\n",
              "      <td>...</td>\n",
              "      <td>...</td>\n",
              "    </tr>\n",
              "    <tr>\n",
              "      <th>2770</th>\n",
              "      <td>1038199</td>\n",
              "      <td>1572773</td>\n",
              "      <td>0.380952</td>\n",
              "    </tr>\n",
              "    <tr>\n",
              "      <th>2771</th>\n",
              "      <td>1129756</td>\n",
              "      <td>1750168</td>\n",
              "      <td>0.306122</td>\n",
              "    </tr>\n",
              "    <tr>\n",
              "      <th>2772</th>\n",
              "      <td>464892</td>\n",
              "      <td>1651499</td>\n",
              "      <td>0.651685</td>\n",
              "    </tr>\n",
              "    <tr>\n",
              "      <th>2773</th>\n",
              "      <td>912495</td>\n",
              "      <td>1331267</td>\n",
              "      <td>0.525253</td>\n",
              "    </tr>\n",
              "    <tr>\n",
              "      <th>2774</th>\n",
              "      <td>459967</td>\n",
              "      <td>1663266</td>\n",
              "      <td>0.534247</td>\n",
              "    </tr>\n",
              "  </tbody>\n",
              "</table>\n",
              "<p>2775 rows × 3 columns</p>\n",
              "</div>\n",
              "    <div class=\"colab-df-buttons\">\n",
              "\n",
              "  <div class=\"colab-df-container\">\n",
              "    <button class=\"colab-df-convert\" onclick=\"convertToInteractive('df-c63c04d0-0a73-42e6-bd6e-2204d2c39903')\"\n",
              "            title=\"Convert this dataframe to an interactive table.\"\n",
              "            style=\"display:none;\">\n",
              "\n",
              "  <svg xmlns=\"http://www.w3.org/2000/svg\" height=\"24px\" viewBox=\"0 -960 960 960\">\n",
              "    <path d=\"M120-120v-720h720v720H120Zm60-500h600v-160H180v160Zm220 220h160v-160H400v160Zm0 220h160v-160H400v160ZM180-400h160v-160H180v160Zm440 0h160v-160H620v160ZM180-180h160v-160H180v160Zm440 0h160v-160H620v160Z\"/>\n",
              "  </svg>\n",
              "    </button>\n",
              "\n",
              "  <style>\n",
              "    .colab-df-container {\n",
              "      display:flex;\n",
              "      gap: 12px;\n",
              "    }\n",
              "\n",
              "    .colab-df-convert {\n",
              "      background-color: #E8F0FE;\n",
              "      border: none;\n",
              "      border-radius: 50%;\n",
              "      cursor: pointer;\n",
              "      display: none;\n",
              "      fill: #1967D2;\n",
              "      height: 32px;\n",
              "      padding: 0 0 0 0;\n",
              "      width: 32px;\n",
              "    }\n",
              "\n",
              "    .colab-df-convert:hover {\n",
              "      background-color: #E2EBFA;\n",
              "      box-shadow: 0px 1px 2px rgba(60, 64, 67, 0.3), 0px 1px 3px 1px rgba(60, 64, 67, 0.15);\n",
              "      fill: #174EA6;\n",
              "    }\n",
              "\n",
              "    .colab-df-buttons div {\n",
              "      margin-bottom: 4px;\n",
              "    }\n",
              "\n",
              "    [theme=dark] .colab-df-convert {\n",
              "      background-color: #3B4455;\n",
              "      fill: #D2E3FC;\n",
              "    }\n",
              "\n",
              "    [theme=dark] .colab-df-convert:hover {\n",
              "      background-color: #434B5C;\n",
              "      box-shadow: 0px 1px 3px 1px rgba(0, 0, 0, 0.15);\n",
              "      filter: drop-shadow(0px 1px 2px rgba(0, 0, 0, 0.3));\n",
              "      fill: #FFFFFF;\n",
              "    }\n",
              "  </style>\n",
              "\n",
              "    <script>\n",
              "      const buttonEl =\n",
              "        document.querySelector('#df-c63c04d0-0a73-42e6-bd6e-2204d2c39903 button.colab-df-convert');\n",
              "      buttonEl.style.display =\n",
              "        google.colab.kernel.accessAllowed ? 'block' : 'none';\n",
              "\n",
              "      async function convertToInteractive(key) {\n",
              "        const element = document.querySelector('#df-c63c04d0-0a73-42e6-bd6e-2204d2c39903');\n",
              "        const dataTable =\n",
              "          await google.colab.kernel.invokeFunction('convertToInteractive',\n",
              "                                                    [key], {});\n",
              "        if (!dataTable) return;\n",
              "\n",
              "        const docLinkHtml = 'Like what you see? Visit the ' +\n",
              "          '<a target=\"_blank\" href=https://colab.research.google.com/notebooks/data_table.ipynb>data table notebook</a>'\n",
              "          + ' to learn more about interactive tables.';\n",
              "        element.innerHTML = '';\n",
              "        dataTable['output_type'] = 'display_data';\n",
              "        await google.colab.output.renderOutput(dataTable, element);\n",
              "        const docLink = document.createElement('div');\n",
              "        docLink.innerHTML = docLinkHtml;\n",
              "        element.appendChild(docLink);\n",
              "      }\n",
              "    </script>\n",
              "  </div>\n",
              "\n",
              "\n",
              "<div id=\"df-5c28f01d-7eaa-4636-9f56-5dec82e3deab\">\n",
              "  <button class=\"colab-df-quickchart\" onclick=\"quickchart('df-5c28f01d-7eaa-4636-9f56-5dec82e3deab')\"\n",
              "            title=\"Suggest charts\"\n",
              "            style=\"display:none;\">\n",
              "\n",
              "<svg xmlns=\"http://www.w3.org/2000/svg\" height=\"24px\"viewBox=\"0 0 24 24\"\n",
              "     width=\"24px\">\n",
              "    <g>\n",
              "        <path d=\"M19 3H5c-1.1 0-2 .9-2 2v14c0 1.1.9 2 2 2h14c1.1 0 2-.9 2-2V5c0-1.1-.9-2-2-2zM9 17H7v-7h2v7zm4 0h-2V7h2v10zm4 0h-2v-4h2v4z\"/>\n",
              "    </g>\n",
              "</svg>\n",
              "  </button>\n",
              "\n",
              "<style>\n",
              "  .colab-df-quickchart {\n",
              "      --bg-color: #E8F0FE;\n",
              "      --fill-color: #1967D2;\n",
              "      --hover-bg-color: #E2EBFA;\n",
              "      --hover-fill-color: #174EA6;\n",
              "      --disabled-fill-color: #AAA;\n",
              "      --disabled-bg-color: #DDD;\n",
              "  }\n",
              "\n",
              "  [theme=dark] .colab-df-quickchart {\n",
              "      --bg-color: #3B4455;\n",
              "      --fill-color: #D2E3FC;\n",
              "      --hover-bg-color: #434B5C;\n",
              "      --hover-fill-color: #FFFFFF;\n",
              "      --disabled-bg-color: #3B4455;\n",
              "      --disabled-fill-color: #666;\n",
              "  }\n",
              "\n",
              "  .colab-df-quickchart {\n",
              "    background-color: var(--bg-color);\n",
              "    border: none;\n",
              "    border-radius: 50%;\n",
              "    cursor: pointer;\n",
              "    display: none;\n",
              "    fill: var(--fill-color);\n",
              "    height: 32px;\n",
              "    padding: 0;\n",
              "    width: 32px;\n",
              "  }\n",
              "\n",
              "  .colab-df-quickchart:hover {\n",
              "    background-color: var(--hover-bg-color);\n",
              "    box-shadow: 0 1px 2px rgba(60, 64, 67, 0.3), 0 1px 3px 1px rgba(60, 64, 67, 0.15);\n",
              "    fill: var(--button-hover-fill-color);\n",
              "  }\n",
              "\n",
              "  .colab-df-quickchart-complete:disabled,\n",
              "  .colab-df-quickchart-complete:disabled:hover {\n",
              "    background-color: var(--disabled-bg-color);\n",
              "    fill: var(--disabled-fill-color);\n",
              "    box-shadow: none;\n",
              "  }\n",
              "\n",
              "  .colab-df-spinner {\n",
              "    border: 2px solid var(--fill-color);\n",
              "    border-color: transparent;\n",
              "    border-bottom-color: var(--fill-color);\n",
              "    animation:\n",
              "      spin 1s steps(1) infinite;\n",
              "  }\n",
              "\n",
              "  @keyframes spin {\n",
              "    0% {\n",
              "      border-color: transparent;\n",
              "      border-bottom-color: var(--fill-color);\n",
              "      border-left-color: var(--fill-color);\n",
              "    }\n",
              "    20% {\n",
              "      border-color: transparent;\n",
              "      border-left-color: var(--fill-color);\n",
              "      border-top-color: var(--fill-color);\n",
              "    }\n",
              "    30% {\n",
              "      border-color: transparent;\n",
              "      border-left-color: var(--fill-color);\n",
              "      border-top-color: var(--fill-color);\n",
              "      border-right-color: var(--fill-color);\n",
              "    }\n",
              "    40% {\n",
              "      border-color: transparent;\n",
              "      border-right-color: var(--fill-color);\n",
              "      border-top-color: var(--fill-color);\n",
              "    }\n",
              "    60% {\n",
              "      border-color: transparent;\n",
              "      border-right-color: var(--fill-color);\n",
              "    }\n",
              "    80% {\n",
              "      border-color: transparent;\n",
              "      border-right-color: var(--fill-color);\n",
              "      border-bottom-color: var(--fill-color);\n",
              "    }\n",
              "    90% {\n",
              "      border-color: transparent;\n",
              "      border-bottom-color: var(--fill-color);\n",
              "    }\n",
              "  }\n",
              "</style>\n",
              "\n",
              "  <script>\n",
              "    async function quickchart(key) {\n",
              "      const quickchartButtonEl =\n",
              "        document.querySelector('#' + key + ' button');\n",
              "      quickchartButtonEl.disabled = true;  // To prevent multiple clicks.\n",
              "      quickchartButtonEl.classList.add('colab-df-spinner');\n",
              "      try {\n",
              "        const charts = await google.colab.kernel.invokeFunction(\n",
              "            'suggestCharts', [key], {});\n",
              "      } catch (error) {\n",
              "        console.error('Error during call to suggestCharts:', error);\n",
              "      }\n",
              "      quickchartButtonEl.classList.remove('colab-df-spinner');\n",
              "      quickchartButtonEl.classList.add('colab-df-quickchart-complete');\n",
              "    }\n",
              "    (() => {\n",
              "      let quickchartButtonEl =\n",
              "        document.querySelector('#df-5c28f01d-7eaa-4636-9f56-5dec82e3deab button');\n",
              "      quickchartButtonEl.style.display =\n",
              "        google.colab.kernel.accessAllowed ? 'block' : 'none';\n",
              "    })();\n",
              "  </script>\n",
              "</div>\n",
              "    </div>\n",
              "  </div>\n"
            ],
            "application/vnd.google.colaboratory.intrinsic+json": {
              "type": "dataframe",
              "variable_name": "similar_df",
              "summary": "{\n  \"name\": \"similar_df\",\n  \"rows\": 2775,\n  \"fields\": [\n    {\n      \"column\": \"doc_id1\",\n      \"properties\": {\n        \"dtype\": \"number\",\n        \"std\": 403049,\n        \"min\": 13395,\n        \"max\": 1749766,\n        \"num_unique_values\": 74,\n        \"samples\": [\n          464892,\n          624623,\n          546299\n        ],\n        \"semantic_type\": \"\",\n        \"description\": \"\"\n      }\n    },\n    {\n      \"column\": \"doc_id2\",\n      \"properties\": {\n        \"dtype\": \"number\",\n        \"std\": 425543,\n        \"min\": 34993,\n        \"max\": 1750168,\n        \"num_unique_values\": 74,\n        \"samples\": [\n          584862,\n          143336,\n          1621468\n        ],\n        \"semantic_type\": \"\",\n        \"description\": \"\"\n      }\n    },\n    {\n      \"column\": \"jaccard_distance\",\n      \"properties\": {\n        \"dtype\": \"number\",\n        \"std\": 0.14151631155004965,\n        \"min\": 0.0,\n        \"max\": 0.7361111111111112,\n        \"num_unique_values\": 745,\n        \"samples\": [\n          0.5402298850574713,\n          0.48863636363636365,\n          0.2934782608695652\n        ],\n        \"semantic_type\": \"\",\n        \"description\": \"\"\n      }\n    }\n  ]\n}"
            }
          },
          "metadata": {},
          "execution_count": 84
        }
      ]
    },
    {
      "cell_type": "code",
      "source": [
        "for pair in similar_pairs[:2]:\n",
        "    doc1 = pair[0]\n",
        "    doc2 = pair[1]\n",
        "    dist = pair[2]\n",
        "\n",
        "    # Filter DataFrame to retrieve text for doc1 and doc2\n",
        "    doc1_text = df_scaled.filter(col('doc_id') == doc1).select('job_words').first()[0]\n",
        "    doc2_text = df_scaled.filter(col('doc_id') == doc2).select('job_words').first()[0]\n",
        "\n",
        "    # Display job summaries for doc1 and doc2\n",
        "    print(\"Document 1:\")\n",
        "    print(doc1_text)\n",
        "    print(\"\\nDocument 2:\")\n",
        "    print(doc2_text)\n",
        "    print(\"\\nJaccard Distance: {:.4f}\".format(dist))\n",
        "    print(\"\\n---\")\n"
      ],
      "metadata": {
        "colab": {
          "base_uri": "https://localhost:8080/"
        },
        "id": "6ZEWjHv45bs6",
        "outputId": "b1ce76e8-f61c-4c69-cd34-77a3403c00d6"
      },
      "execution_count": 86,
      "outputs": [
        {
          "output_type": "stream",
          "name": "stdout",
          "text": [
            "Document 1:\n",
            " AND possess a valid Class C California driver's license with a safe driving record or driver's license from another state with a safe driving record.\n",
            "\n",
            "Document 2:\n",
            "WIN Sport School Laval , école de management du sport, forme les passionnés de sport et sportifs de haut niveau au management, marketing, événementiel sportif, sponsoring et développement commercial. Vous pourrez également renforcer votre employabilité grâce à l’alternance. Nous recherchons pour une entreprise partenaire, un Apprenti Manager Sport H/F . Vous souhaitez vous orienter vers une formation professionnalisante ? Dès septembre 2022, profitez des avantages d’un contrat d'apprentissage pour vous former et acquérir un BAC+3 Bachelor Bachelor Marketing sportif ( Titre certifié de niveau 6, reconnu par l’Etat et validant 180 crédits ECTS) . MISSIONS Veille concurrentielle Développement et prospection Recherche de partenaires Gestion des réseaux sociaux Support dans la mise en place de stratégie de communication PROFIL Une bonne connaissance de l’univers du sport et du e-sport Aisance rédactionnelle, orthographe irréprochable Autonome, proactif, curieux, rigoureux, organisé et appréciant le travail en équipe Pré-requis BAC + 2 – Préparation Bac + 3 NB : Prévoyez d'être reçu pour l'entretien de pré-sélection + test d'admission + Dossier de candidature Show more Show less\n",
            "\n",
            "Jaccard Distance: 0.1531\n",
            "\n",
            "---\n",
            "Document 1:\n",
            " AND possess a valid Class C California driver's license with a safe driving record or driver's license from another state with a safe driving record.\n",
            "\n",
            "Document 2:\n",
            "We're looking for Registered Nurses with experience caring for patients who may be permanently disabled, recovering from major surgery, or suffering from chronic illnesses in the comfort of their own home for a 13 week contract with an area hospital. You'll fit right in at Jackson where we've been helping talented nurses like you make valuable contributions to hospitals across the U.S. since 2006. JNP nurses benefit from our exclusive partnership with NurseWallet for a secure and simplified view into their take home pay, which can be paid out to them the same day they work a shift! The app also enables you to create financial plans for their earnings and take advantage of other robust banking and investment offerings, as well as manage financials around student loans. Minimum Requirements Current state license in good standing with State License Board. 12 months HH experience within the last 3 years. Oasis experience preferred, often required. Current BLS required. Certifications vary by location. Job may require ACLS. Benefits & Perks We deeply value your commitment to improving the lives of patients, that's why we offer a comprehensive and competitive benefits package starting your first day. Full Medical Benefits & 401k Matching Plan 24/7 Recruiter: Your main point of contact available by text, phone, or email Competitive Referral Bonuses 100% Paid Housing Available Travel & License Reimbursement Free JNP exclusive access to the NurseWallet app Apply now and you'll be contacted by a recruiter who will give you more information on this or other RN vacancies in the settings and locations that matter most to you. EEO Statement Jackson Healthcare and its family of companies are an EEO/AA Employer. All qualified applicants will receive consideration for employment without regard to race, color, religion, sexual orientation, gender, gender identity and expression, national origin, age, disability or protected veteran status. We celebrate diversity and are committed to creating an inclusive environment for all of our associates. Show more Show less\n",
            "\n",
            "Jaccard Distance: 0.2121\n",
            "\n",
            "---\n"
          ]
        }
      ]
    }
  ],
  "metadata": {
    "colab": {
      "provenance": []
    },
    "kernelspec": {
      "display_name": "Python 3",
      "name": "python3"
    },
    "language_info": {
      "name": "python"
    }
  },
  "nbformat": 4,
  "nbformat_minor": 0
}